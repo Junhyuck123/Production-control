{
  "nbformat": 4,
  "nbformat_minor": 0,
  "metadata": {
    "colab": {
      "name": "Final Project.ipynb의 사본",
      "provenance": [],
      "collapsed_sections": [],
      "toc_visible": true,
      "authorship_tag": "ABX9TyPavdBksolFztBYsFX5JQIz",
      "include_colab_link": true
    },
    "kernelspec": {
      "name": "python3",
      "display_name": "Python 3"
    },
    "language_info": {
      "name": "python"
    }
  },
  "cells": [
    {
      "cell_type": "markdown",
      "metadata": {
        "id": "view-in-github",
        "colab_type": "text"
      },
      "source": [
        "<a href=\"https://colab.research.google.com/github/Junhyuck123/Production-control/blob/main/Final_Project.ipynb\" target=\"_parent\"><img src=\"https://colab.research.google.com/assets/colab-badge.svg\" alt=\"Open In Colab\"/></a>"
      ]
    },
    {
      "cell_type": "markdown",
      "source": [
        "# Import lib"
      ],
      "metadata": {
        "id": "bYcnFnMauOAc"
      }
    },
    {
      "cell_type": "code",
      "source": [
        "import numpy as np\n",
        "import pandas as pd\n",
        "from scipy.optimize import linear_sum_assignment"
      ],
      "metadata": {
        "id": "ruzqUD-huRYY"
      },
      "execution_count": null,
      "outputs": []
    },
    {
      "cell_type": "markdown",
      "source": [
        "# AP - 헝가리안 모델"
      ],
      "metadata": {
        "id": "JdAPxifpruYC"
      }
    },
    {
      "cell_type": "code",
      "source": [
        "n = int(input())"
      ],
      "metadata": {
        "id": "w625KYOvu0_R",
        "colab": {
          "base_uri": "https://localhost:8080/"
        },
        "outputId": "ff9eb9f9-0330-4769-e728-78a9dcb98a43"
      },
      "execution_count": null,
      "outputs": [
        {
          "name": "stdout",
          "output_type": "stream",
          "text": [
            "4\n"
          ]
        }
      ]
    },
    {
      "cell_type": "code",
      "source": [
        "c = np.random.randint(1, 15, size = (n, n))\n",
        "cost = pd.DataFrame(c)\n",
        "cost"
      ],
      "metadata": {
        "id": "Yi88DkxYovan",
        "colab": {
          "base_uri": "https://localhost:8080/",
          "height": 175
        },
        "outputId": "8f2a5e9c-fef7-49f5-9e25-c08ea78d64a6"
      },
      "execution_count": null,
      "outputs": [
        {
          "output_type": "execute_result",
          "data": {
            "text/plain": [
              "   0  1   2   3\n",
              "0  4  4   3   1\n",
              "1  6  1   3  13\n",
              "2  7  8  13   3\n",
              "3  5  6   6  10"
            ],
            "text/html": [
              "\n",
              "  <div id=\"df-7f66eae6-7299-47ed-954d-75e2799fbe0a\">\n",
              "    <div class=\"colab-df-container\">\n",
              "      <div>\n",
              "<style scoped>\n",
              "    .dataframe tbody tr th:only-of-type {\n",
              "        vertical-align: middle;\n",
              "    }\n",
              "\n",
              "    .dataframe tbody tr th {\n",
              "        vertical-align: top;\n",
              "    }\n",
              "\n",
              "    .dataframe thead th {\n",
              "        text-align: right;\n",
              "    }\n",
              "</style>\n",
              "<table border=\"1\" class=\"dataframe\">\n",
              "  <thead>\n",
              "    <tr style=\"text-align: right;\">\n",
              "      <th></th>\n",
              "      <th>0</th>\n",
              "      <th>1</th>\n",
              "      <th>2</th>\n",
              "      <th>3</th>\n",
              "    </tr>\n",
              "  </thead>\n",
              "  <tbody>\n",
              "    <tr>\n",
              "      <th>0</th>\n",
              "      <td>4</td>\n",
              "      <td>4</td>\n",
              "      <td>3</td>\n",
              "      <td>1</td>\n",
              "    </tr>\n",
              "    <tr>\n",
              "      <th>1</th>\n",
              "      <td>6</td>\n",
              "      <td>1</td>\n",
              "      <td>3</td>\n",
              "      <td>13</td>\n",
              "    </tr>\n",
              "    <tr>\n",
              "      <th>2</th>\n",
              "      <td>7</td>\n",
              "      <td>8</td>\n",
              "      <td>13</td>\n",
              "      <td>3</td>\n",
              "    </tr>\n",
              "    <tr>\n",
              "      <th>3</th>\n",
              "      <td>5</td>\n",
              "      <td>6</td>\n",
              "      <td>6</td>\n",
              "      <td>10</td>\n",
              "    </tr>\n",
              "  </tbody>\n",
              "</table>\n",
              "</div>\n",
              "      <button class=\"colab-df-convert\" onclick=\"convertToInteractive('df-7f66eae6-7299-47ed-954d-75e2799fbe0a')\"\n",
              "              title=\"Convert this dataframe to an interactive table.\"\n",
              "              style=\"display:none;\">\n",
              "        \n",
              "  <svg xmlns=\"http://www.w3.org/2000/svg\" height=\"24px\"viewBox=\"0 0 24 24\"\n",
              "       width=\"24px\">\n",
              "    <path d=\"M0 0h24v24H0V0z\" fill=\"none\"/>\n",
              "    <path d=\"M18.56 5.44l.94 2.06.94-2.06 2.06-.94-2.06-.94-.94-2.06-.94 2.06-2.06.94zm-11 1L8.5 8.5l.94-2.06 2.06-.94-2.06-.94L8.5 2.5l-.94 2.06-2.06.94zm10 10l.94 2.06.94-2.06 2.06-.94-2.06-.94-.94-2.06-.94 2.06-2.06.94z\"/><path d=\"M17.41 7.96l-1.37-1.37c-.4-.4-.92-.59-1.43-.59-.52 0-1.04.2-1.43.59L10.3 9.45l-7.72 7.72c-.78.78-.78 2.05 0 2.83L4 21.41c.39.39.9.59 1.41.59.51 0 1.02-.2 1.41-.59l7.78-7.78 2.81-2.81c.8-.78.8-2.07 0-2.86zM5.41 20L4 18.59l7.72-7.72 1.47 1.35L5.41 20z\"/>\n",
              "  </svg>\n",
              "      </button>\n",
              "      \n",
              "  <style>\n",
              "    .colab-df-container {\n",
              "      display:flex;\n",
              "      flex-wrap:wrap;\n",
              "      gap: 12px;\n",
              "    }\n",
              "\n",
              "    .colab-df-convert {\n",
              "      background-color: #E8F0FE;\n",
              "      border: none;\n",
              "      border-radius: 50%;\n",
              "      cursor: pointer;\n",
              "      display: none;\n",
              "      fill: #1967D2;\n",
              "      height: 32px;\n",
              "      padding: 0 0 0 0;\n",
              "      width: 32px;\n",
              "    }\n",
              "\n",
              "    .colab-df-convert:hover {\n",
              "      background-color: #E2EBFA;\n",
              "      box-shadow: 0px 1px 2px rgba(60, 64, 67, 0.3), 0px 1px 3px 1px rgba(60, 64, 67, 0.15);\n",
              "      fill: #174EA6;\n",
              "    }\n",
              "\n",
              "    [theme=dark] .colab-df-convert {\n",
              "      background-color: #3B4455;\n",
              "      fill: #D2E3FC;\n",
              "    }\n",
              "\n",
              "    [theme=dark] .colab-df-convert:hover {\n",
              "      background-color: #434B5C;\n",
              "      box-shadow: 0px 1px 3px 1px rgba(0, 0, 0, 0.15);\n",
              "      filter: drop-shadow(0px 1px 2px rgba(0, 0, 0, 0.3));\n",
              "      fill: #FFFFFF;\n",
              "    }\n",
              "  </style>\n",
              "\n",
              "      <script>\n",
              "        const buttonEl =\n",
              "          document.querySelector('#df-7f66eae6-7299-47ed-954d-75e2799fbe0a button.colab-df-convert');\n",
              "        buttonEl.style.display =\n",
              "          google.colab.kernel.accessAllowed ? 'block' : 'none';\n",
              "\n",
              "        async function convertToInteractive(key) {\n",
              "          const element = document.querySelector('#df-7f66eae6-7299-47ed-954d-75e2799fbe0a');\n",
              "          const dataTable =\n",
              "            await google.colab.kernel.invokeFunction('convertToInteractive',\n",
              "                                                     [key], {});\n",
              "          if (!dataTable) return;\n",
              "\n",
              "          const docLinkHtml = 'Like what you see? Visit the ' +\n",
              "            '<a target=\"_blank\" href=https://colab.research.google.com/notebooks/data_table.ipynb>data table notebook</a>'\n",
              "            + ' to learn more about interactive tables.';\n",
              "          element.innerHTML = '';\n",
              "          dataTable['output_type'] = 'display_data';\n",
              "          await google.colab.output.renderOutput(dataTable, element);\n",
              "          const docLink = document.createElement('div');\n",
              "          docLink.innerHTML = docLinkHtml;\n",
              "          element.appendChild(docLink);\n",
              "        }\n",
              "      </script>\n",
              "    </div>\n",
              "  </div>\n",
              "  "
            ]
          },
          "metadata": {},
          "execution_count": 145
        }
      ]
    },
    {
      "cell_type": "code",
      "source": [
        "# c_m = np.array([[9,6,3,4],\n",
        "#                 [5,8,12,10],\n",
        "#                 [2,6,7,4],\n",
        "#                 [4,11,13,7]])\n",
        "\n",
        "# cost = pd.DataFrame(c_m)\n",
        "# cost"
      ],
      "metadata": {
        "id": "plXOrqHWucZy"
      },
      "execution_count": null,
      "outputs": []
    },
    {
      "cell_type": "code",
      "source": [
        "stack_c = pd.DataFrame()\n",
        "for i in range(n):\n",
        "  col = np.array(cost[i])\n",
        "  col_min = min(col)\n",
        "  col = col - col_min\n",
        "  col = pd.DataFrame(col)\n",
        "  stack_c[i] = col\n",
        "stack_c"
      ],
      "metadata": {
        "colab": {
          "base_uri": "https://localhost:8080/",
          "height": 175
        },
        "id": "EAKXcBmYo2T8",
        "outputId": "bff5940b-89c0-4ff7-aee5-48e20f42385b"
      },
      "execution_count": null,
      "outputs": [
        {
          "output_type": "execute_result",
          "data": {
            "text/plain": [
              "   0  1   2   3\n",
              "0  0  3   0   0\n",
              "1  2  0   0  12\n",
              "2  3  7  10   2\n",
              "3  1  5   3   9"
            ],
            "text/html": [
              "\n",
              "  <div id=\"df-e4cf9f1b-8f91-4d1d-8b25-de556f48bef8\">\n",
              "    <div class=\"colab-df-container\">\n",
              "      <div>\n",
              "<style scoped>\n",
              "    .dataframe tbody tr th:only-of-type {\n",
              "        vertical-align: middle;\n",
              "    }\n",
              "\n",
              "    .dataframe tbody tr th {\n",
              "        vertical-align: top;\n",
              "    }\n",
              "\n",
              "    .dataframe thead th {\n",
              "        text-align: right;\n",
              "    }\n",
              "</style>\n",
              "<table border=\"1\" class=\"dataframe\">\n",
              "  <thead>\n",
              "    <tr style=\"text-align: right;\">\n",
              "      <th></th>\n",
              "      <th>0</th>\n",
              "      <th>1</th>\n",
              "      <th>2</th>\n",
              "      <th>3</th>\n",
              "    </tr>\n",
              "  </thead>\n",
              "  <tbody>\n",
              "    <tr>\n",
              "      <th>0</th>\n",
              "      <td>0</td>\n",
              "      <td>3</td>\n",
              "      <td>0</td>\n",
              "      <td>0</td>\n",
              "    </tr>\n",
              "    <tr>\n",
              "      <th>1</th>\n",
              "      <td>2</td>\n",
              "      <td>0</td>\n",
              "      <td>0</td>\n",
              "      <td>12</td>\n",
              "    </tr>\n",
              "    <tr>\n",
              "      <th>2</th>\n",
              "      <td>3</td>\n",
              "      <td>7</td>\n",
              "      <td>10</td>\n",
              "      <td>2</td>\n",
              "    </tr>\n",
              "    <tr>\n",
              "      <th>3</th>\n",
              "      <td>1</td>\n",
              "      <td>5</td>\n",
              "      <td>3</td>\n",
              "      <td>9</td>\n",
              "    </tr>\n",
              "  </tbody>\n",
              "</table>\n",
              "</div>\n",
              "      <button class=\"colab-df-convert\" onclick=\"convertToInteractive('df-e4cf9f1b-8f91-4d1d-8b25-de556f48bef8')\"\n",
              "              title=\"Convert this dataframe to an interactive table.\"\n",
              "              style=\"display:none;\">\n",
              "        \n",
              "  <svg xmlns=\"http://www.w3.org/2000/svg\" height=\"24px\"viewBox=\"0 0 24 24\"\n",
              "       width=\"24px\">\n",
              "    <path d=\"M0 0h24v24H0V0z\" fill=\"none\"/>\n",
              "    <path d=\"M18.56 5.44l.94 2.06.94-2.06 2.06-.94-2.06-.94-.94-2.06-.94 2.06-2.06.94zm-11 1L8.5 8.5l.94-2.06 2.06-.94-2.06-.94L8.5 2.5l-.94 2.06-2.06.94zm10 10l.94 2.06.94-2.06 2.06-.94-2.06-.94-.94-2.06-.94 2.06-2.06.94z\"/><path d=\"M17.41 7.96l-1.37-1.37c-.4-.4-.92-.59-1.43-.59-.52 0-1.04.2-1.43.59L10.3 9.45l-7.72 7.72c-.78.78-.78 2.05 0 2.83L4 21.41c.39.39.9.59 1.41.59.51 0 1.02-.2 1.41-.59l7.78-7.78 2.81-2.81c.8-.78.8-2.07 0-2.86zM5.41 20L4 18.59l7.72-7.72 1.47 1.35L5.41 20z\"/>\n",
              "  </svg>\n",
              "      </button>\n",
              "      \n",
              "  <style>\n",
              "    .colab-df-container {\n",
              "      display:flex;\n",
              "      flex-wrap:wrap;\n",
              "      gap: 12px;\n",
              "    }\n",
              "\n",
              "    .colab-df-convert {\n",
              "      background-color: #E8F0FE;\n",
              "      border: none;\n",
              "      border-radius: 50%;\n",
              "      cursor: pointer;\n",
              "      display: none;\n",
              "      fill: #1967D2;\n",
              "      height: 32px;\n",
              "      padding: 0 0 0 0;\n",
              "      width: 32px;\n",
              "    }\n",
              "\n",
              "    .colab-df-convert:hover {\n",
              "      background-color: #E2EBFA;\n",
              "      box-shadow: 0px 1px 2px rgba(60, 64, 67, 0.3), 0px 1px 3px 1px rgba(60, 64, 67, 0.15);\n",
              "      fill: #174EA6;\n",
              "    }\n",
              "\n",
              "    [theme=dark] .colab-df-convert {\n",
              "      background-color: #3B4455;\n",
              "      fill: #D2E3FC;\n",
              "    }\n",
              "\n",
              "    [theme=dark] .colab-df-convert:hover {\n",
              "      background-color: #434B5C;\n",
              "      box-shadow: 0px 1px 3px 1px rgba(0, 0, 0, 0.15);\n",
              "      filter: drop-shadow(0px 1px 2px rgba(0, 0, 0, 0.3));\n",
              "      fill: #FFFFFF;\n",
              "    }\n",
              "  </style>\n",
              "\n",
              "      <script>\n",
              "        const buttonEl =\n",
              "          document.querySelector('#df-e4cf9f1b-8f91-4d1d-8b25-de556f48bef8 button.colab-df-convert');\n",
              "        buttonEl.style.display =\n",
              "          google.colab.kernel.accessAllowed ? 'block' : 'none';\n",
              "\n",
              "        async function convertToInteractive(key) {\n",
              "          const element = document.querySelector('#df-e4cf9f1b-8f91-4d1d-8b25-de556f48bef8');\n",
              "          const dataTable =\n",
              "            await google.colab.kernel.invokeFunction('convertToInteractive',\n",
              "                                                     [key], {});\n",
              "          if (!dataTable) return;\n",
              "\n",
              "          const docLinkHtml = 'Like what you see? Visit the ' +\n",
              "            '<a target=\"_blank\" href=https://colab.research.google.com/notebooks/data_table.ipynb>data table notebook</a>'\n",
              "            + ' to learn more about interactive tables.';\n",
              "          element.innerHTML = '';\n",
              "          dataTable['output_type'] = 'display_data';\n",
              "          await google.colab.output.renderOutput(dataTable, element);\n",
              "          const docLink = document.createElement('div');\n",
              "          docLink.innerHTML = docLinkHtml;\n",
              "          element.appendChild(docLink);\n",
              "        }\n",
              "      </script>\n",
              "    </div>\n",
              "  </div>\n",
              "  "
            ]
          },
          "metadata": {},
          "execution_count": 147
        }
      ]
    },
    {
      "cell_type": "code",
      "source": [
        "pre_Data = pd.DataFrame()\n",
        "for i in range(n):\n",
        "  row = stack_c.iloc[i][:]\n",
        "  row_min = min(row)\n",
        "  row = row - row_min\n",
        "  row = pd.DataFrame(row)\n",
        "  pre_Data[i] = row\n",
        "pre_Data = pre_Data.transpose()\n",
        "pre_Data"
      ],
      "metadata": {
        "colab": {
          "base_uri": "https://localhost:8080/",
          "height": 175
        },
        "id": "RRgosg2HdBf3",
        "outputId": "7415d8fe-94d2-426c-c7eb-2d69c3c1d81e"
      },
      "execution_count": null,
      "outputs": [
        {
          "output_type": "execute_result",
          "data": {
            "text/plain": [
              "   0  1  2   3\n",
              "0  0  3  0   0\n",
              "1  2  0  0  12\n",
              "2  1  5  8   0\n",
              "3  0  4  2   8"
            ],
            "text/html": [
              "\n",
              "  <div id=\"df-e4603af2-6875-4aef-8296-ddcf24739aad\">\n",
              "    <div class=\"colab-df-container\">\n",
              "      <div>\n",
              "<style scoped>\n",
              "    .dataframe tbody tr th:only-of-type {\n",
              "        vertical-align: middle;\n",
              "    }\n",
              "\n",
              "    .dataframe tbody tr th {\n",
              "        vertical-align: top;\n",
              "    }\n",
              "\n",
              "    .dataframe thead th {\n",
              "        text-align: right;\n",
              "    }\n",
              "</style>\n",
              "<table border=\"1\" class=\"dataframe\">\n",
              "  <thead>\n",
              "    <tr style=\"text-align: right;\">\n",
              "      <th></th>\n",
              "      <th>0</th>\n",
              "      <th>1</th>\n",
              "      <th>2</th>\n",
              "      <th>3</th>\n",
              "    </tr>\n",
              "  </thead>\n",
              "  <tbody>\n",
              "    <tr>\n",
              "      <th>0</th>\n",
              "      <td>0</td>\n",
              "      <td>3</td>\n",
              "      <td>0</td>\n",
              "      <td>0</td>\n",
              "    </tr>\n",
              "    <tr>\n",
              "      <th>1</th>\n",
              "      <td>2</td>\n",
              "      <td>0</td>\n",
              "      <td>0</td>\n",
              "      <td>12</td>\n",
              "    </tr>\n",
              "    <tr>\n",
              "      <th>2</th>\n",
              "      <td>1</td>\n",
              "      <td>5</td>\n",
              "      <td>8</td>\n",
              "      <td>0</td>\n",
              "    </tr>\n",
              "    <tr>\n",
              "      <th>3</th>\n",
              "      <td>0</td>\n",
              "      <td>4</td>\n",
              "      <td>2</td>\n",
              "      <td>8</td>\n",
              "    </tr>\n",
              "  </tbody>\n",
              "</table>\n",
              "</div>\n",
              "      <button class=\"colab-df-convert\" onclick=\"convertToInteractive('df-e4603af2-6875-4aef-8296-ddcf24739aad')\"\n",
              "              title=\"Convert this dataframe to an interactive table.\"\n",
              "              style=\"display:none;\">\n",
              "        \n",
              "  <svg xmlns=\"http://www.w3.org/2000/svg\" height=\"24px\"viewBox=\"0 0 24 24\"\n",
              "       width=\"24px\">\n",
              "    <path d=\"M0 0h24v24H0V0z\" fill=\"none\"/>\n",
              "    <path d=\"M18.56 5.44l.94 2.06.94-2.06 2.06-.94-2.06-.94-.94-2.06-.94 2.06-2.06.94zm-11 1L8.5 8.5l.94-2.06 2.06-.94-2.06-.94L8.5 2.5l-.94 2.06-2.06.94zm10 10l.94 2.06.94-2.06 2.06-.94-2.06-.94-.94-2.06-.94 2.06-2.06.94z\"/><path d=\"M17.41 7.96l-1.37-1.37c-.4-.4-.92-.59-1.43-.59-.52 0-1.04.2-1.43.59L10.3 9.45l-7.72 7.72c-.78.78-.78 2.05 0 2.83L4 21.41c.39.39.9.59 1.41.59.51 0 1.02-.2 1.41-.59l7.78-7.78 2.81-2.81c.8-.78.8-2.07 0-2.86zM5.41 20L4 18.59l7.72-7.72 1.47 1.35L5.41 20z\"/>\n",
              "  </svg>\n",
              "      </button>\n",
              "      \n",
              "  <style>\n",
              "    .colab-df-container {\n",
              "      display:flex;\n",
              "      flex-wrap:wrap;\n",
              "      gap: 12px;\n",
              "    }\n",
              "\n",
              "    .colab-df-convert {\n",
              "      background-color: #E8F0FE;\n",
              "      border: none;\n",
              "      border-radius: 50%;\n",
              "      cursor: pointer;\n",
              "      display: none;\n",
              "      fill: #1967D2;\n",
              "      height: 32px;\n",
              "      padding: 0 0 0 0;\n",
              "      width: 32px;\n",
              "    }\n",
              "\n",
              "    .colab-df-convert:hover {\n",
              "      background-color: #E2EBFA;\n",
              "      box-shadow: 0px 1px 2px rgba(60, 64, 67, 0.3), 0px 1px 3px 1px rgba(60, 64, 67, 0.15);\n",
              "      fill: #174EA6;\n",
              "    }\n",
              "\n",
              "    [theme=dark] .colab-df-convert {\n",
              "      background-color: #3B4455;\n",
              "      fill: #D2E3FC;\n",
              "    }\n",
              "\n",
              "    [theme=dark] .colab-df-convert:hover {\n",
              "      background-color: #434B5C;\n",
              "      box-shadow: 0px 1px 3px 1px rgba(0, 0, 0, 0.15);\n",
              "      filter: drop-shadow(0px 1px 2px rgba(0, 0, 0, 0.3));\n",
              "      fill: #FFFFFF;\n",
              "    }\n",
              "  </style>\n",
              "\n",
              "      <script>\n",
              "        const buttonEl =\n",
              "          document.querySelector('#df-e4603af2-6875-4aef-8296-ddcf24739aad button.colab-df-convert');\n",
              "        buttonEl.style.display =\n",
              "          google.colab.kernel.accessAllowed ? 'block' : 'none';\n",
              "\n",
              "        async function convertToInteractive(key) {\n",
              "          const element = document.querySelector('#df-e4603af2-6875-4aef-8296-ddcf24739aad');\n",
              "          const dataTable =\n",
              "            await google.colab.kernel.invokeFunction('convertToInteractive',\n",
              "                                                     [key], {});\n",
              "          if (!dataTable) return;\n",
              "\n",
              "          const docLinkHtml = 'Like what you see? Visit the ' +\n",
              "            '<a target=\"_blank\" href=https://colab.research.google.com/notebooks/data_table.ipynb>data table notebook</a>'\n",
              "            + ' to learn more about interactive tables.';\n",
              "          element.innerHTML = '';\n",
              "          dataTable['output_type'] = 'display_data';\n",
              "          await google.colab.output.renderOutput(dataTable, element);\n",
              "          const docLink = document.createElement('div');\n",
              "          docLink.innerHTML = docLinkHtml;\n",
              "          element.appendChild(docLink);\n",
              "        }\n",
              "      </script>\n",
              "    </div>\n",
              "  </div>\n",
              "  "
            ]
          },
          "metadata": {},
          "execution_count": 148
        }
      ]
    },
    {
      "cell_type": "code",
      "source": [
        "pre_Data1 = pd.DataFrame()\n",
        "pre_Data1 = pre_Data.copy()\n",
        "del_row_lst = [] # 삭제한 행 목록\n",
        "del_col_lst = [] # 삭제한 열 목록\n",
        "row_cnt = 0 # 행에서 0의 갯수\n",
        "col_cnt = 0 # 열에서 0의 갯수\n",
        "cnt = 0 # For 루프 시행 횟수\n",
        "pre_Data1"
      ],
      "metadata": {
        "id": "v4kdDf_2M3rm",
        "colab": {
          "base_uri": "https://localhost:8080/",
          "height": 175
        },
        "outputId": "4571d3dc-26b3-4f3a-ad7c-b268904eaf0d"
      },
      "execution_count": null,
      "outputs": [
        {
          "output_type": "execute_result",
          "data": {
            "text/plain": [
              "   0  1  2   3\n",
              "0  0  3  0   0\n",
              "1  2  0  0  12\n",
              "2  1  5  8   0\n",
              "3  0  4  2   8"
            ],
            "text/html": [
              "\n",
              "  <div id=\"df-b3d68e5f-5aa6-41d1-a2fb-6cd10d79568f\">\n",
              "    <div class=\"colab-df-container\">\n",
              "      <div>\n",
              "<style scoped>\n",
              "    .dataframe tbody tr th:only-of-type {\n",
              "        vertical-align: middle;\n",
              "    }\n",
              "\n",
              "    .dataframe tbody tr th {\n",
              "        vertical-align: top;\n",
              "    }\n",
              "\n",
              "    .dataframe thead th {\n",
              "        text-align: right;\n",
              "    }\n",
              "</style>\n",
              "<table border=\"1\" class=\"dataframe\">\n",
              "  <thead>\n",
              "    <tr style=\"text-align: right;\">\n",
              "      <th></th>\n",
              "      <th>0</th>\n",
              "      <th>1</th>\n",
              "      <th>2</th>\n",
              "      <th>3</th>\n",
              "    </tr>\n",
              "  </thead>\n",
              "  <tbody>\n",
              "    <tr>\n",
              "      <th>0</th>\n",
              "      <td>0</td>\n",
              "      <td>3</td>\n",
              "      <td>0</td>\n",
              "      <td>0</td>\n",
              "    </tr>\n",
              "    <tr>\n",
              "      <th>1</th>\n",
              "      <td>2</td>\n",
              "      <td>0</td>\n",
              "      <td>0</td>\n",
              "      <td>12</td>\n",
              "    </tr>\n",
              "    <tr>\n",
              "      <th>2</th>\n",
              "      <td>1</td>\n",
              "      <td>5</td>\n",
              "      <td>8</td>\n",
              "      <td>0</td>\n",
              "    </tr>\n",
              "    <tr>\n",
              "      <th>3</th>\n",
              "      <td>0</td>\n",
              "      <td>4</td>\n",
              "      <td>2</td>\n",
              "      <td>8</td>\n",
              "    </tr>\n",
              "  </tbody>\n",
              "</table>\n",
              "</div>\n",
              "      <button class=\"colab-df-convert\" onclick=\"convertToInteractive('df-b3d68e5f-5aa6-41d1-a2fb-6cd10d79568f')\"\n",
              "              title=\"Convert this dataframe to an interactive table.\"\n",
              "              style=\"display:none;\">\n",
              "        \n",
              "  <svg xmlns=\"http://www.w3.org/2000/svg\" height=\"24px\"viewBox=\"0 0 24 24\"\n",
              "       width=\"24px\">\n",
              "    <path d=\"M0 0h24v24H0V0z\" fill=\"none\"/>\n",
              "    <path d=\"M18.56 5.44l.94 2.06.94-2.06 2.06-.94-2.06-.94-.94-2.06-.94 2.06-2.06.94zm-11 1L8.5 8.5l.94-2.06 2.06-.94-2.06-.94L8.5 2.5l-.94 2.06-2.06.94zm10 10l.94 2.06.94-2.06 2.06-.94-2.06-.94-.94-2.06-.94 2.06-2.06.94z\"/><path d=\"M17.41 7.96l-1.37-1.37c-.4-.4-.92-.59-1.43-.59-.52 0-1.04.2-1.43.59L10.3 9.45l-7.72 7.72c-.78.78-.78 2.05 0 2.83L4 21.41c.39.39.9.59 1.41.59.51 0 1.02-.2 1.41-.59l7.78-7.78 2.81-2.81c.8-.78.8-2.07 0-2.86zM5.41 20L4 18.59l7.72-7.72 1.47 1.35L5.41 20z\"/>\n",
              "  </svg>\n",
              "      </button>\n",
              "      \n",
              "  <style>\n",
              "    .colab-df-container {\n",
              "      display:flex;\n",
              "      flex-wrap:wrap;\n",
              "      gap: 12px;\n",
              "    }\n",
              "\n",
              "    .colab-df-convert {\n",
              "      background-color: #E8F0FE;\n",
              "      border: none;\n",
              "      border-radius: 50%;\n",
              "      cursor: pointer;\n",
              "      display: none;\n",
              "      fill: #1967D2;\n",
              "      height: 32px;\n",
              "      padding: 0 0 0 0;\n",
              "      width: 32px;\n",
              "    }\n",
              "\n",
              "    .colab-df-convert:hover {\n",
              "      background-color: #E2EBFA;\n",
              "      box-shadow: 0px 1px 2px rgba(60, 64, 67, 0.3), 0px 1px 3px 1px rgba(60, 64, 67, 0.15);\n",
              "      fill: #174EA6;\n",
              "    }\n",
              "\n",
              "    [theme=dark] .colab-df-convert {\n",
              "      background-color: #3B4455;\n",
              "      fill: #D2E3FC;\n",
              "    }\n",
              "\n",
              "    [theme=dark] .colab-df-convert:hover {\n",
              "      background-color: #434B5C;\n",
              "      box-shadow: 0px 1px 3px 1px rgba(0, 0, 0, 0.15);\n",
              "      filter: drop-shadow(0px 1px 2px rgba(0, 0, 0, 0.3));\n",
              "      fill: #FFFFFF;\n",
              "    }\n",
              "  </style>\n",
              "\n",
              "      <script>\n",
              "        const buttonEl =\n",
              "          document.querySelector('#df-b3d68e5f-5aa6-41d1-a2fb-6cd10d79568f button.colab-df-convert');\n",
              "        buttonEl.style.display =\n",
              "          google.colab.kernel.accessAllowed ? 'block' : 'none';\n",
              "\n",
              "        async function convertToInteractive(key) {\n",
              "          const element = document.querySelector('#df-b3d68e5f-5aa6-41d1-a2fb-6cd10d79568f');\n",
              "          const dataTable =\n",
              "            await google.colab.kernel.invokeFunction('convertToInteractive',\n",
              "                                                     [key], {});\n",
              "          if (!dataTable) return;\n",
              "\n",
              "          const docLinkHtml = 'Like what you see? Visit the ' +\n",
              "            '<a target=\"_blank\" href=https://colab.research.google.com/notebooks/data_table.ipynb>data table notebook</a>'\n",
              "            + ' to learn more about interactive tables.';\n",
              "          element.innerHTML = '';\n",
              "          dataTable['output_type'] = 'display_data';\n",
              "          await google.colab.output.renderOutput(dataTable, element);\n",
              "          const docLink = document.createElement('div');\n",
              "          docLink.innerHTML = docLinkHtml;\n",
              "          element.appendChild(docLink);\n",
              "        }\n",
              "      </script>\n",
              "    </div>\n",
              "  </div>\n",
              "  "
            ]
          },
          "metadata": {},
          "execution_count": 149
        }
      ]
    },
    {
      "cell_type": "code",
      "source": [
        "for d in range(n): # n matrix의 경우 n번 시행\n",
        "  print(\"---------------{}번째 시행---------------\".format(d))\n",
        "\n",
        "  #ㅡㅡㅡㅡㅡㅡㅡㅡㅡㅡㅡㅡㅡㅡㅡㅡㅡㅡㅡㅡㅡㅡㅡㅡㅡㅡㅡㅡㅡㅡㅡㅡㅡㅡㅡㅡㅡㅡㅡㅡㅡㅡㅡㅡㅡㅡㅡㅡㅡㅡㅡㅡㅡㅡㅡㅡㅡ\n",
        "  count_col = 0\n",
        "  count_col_lst = []\n",
        "  for i in range(len(pre_Data1.columns)):\n",
        "    for j in range(len(pre_Data1.index)):\n",
        "      if(pre_Data1.iloc[j][i] == 0):\n",
        "        count_col += 1\n",
        "\n",
        "    count_col_lst.append(int(count_col))\n",
        "    print('col의 0의 수 : {}'.format(count_col_lst))\n",
        "    count_col = 0\n",
        "  #ㅡㅡㅡㅡㅡㅡㅡㅡㅡㅡㅡㅡㅡㅡㅡㅡㅡㅡㅡㅡㅡㅡㅡㅡㅡㅡㅡㅡㅡㅡㅡㅡㅡㅡㅡㅡㅡㅡㅡㅡㅡㅡㅡㅡㅡㅡㅡㅡㅡㅡㅡㅡㅡㅡㅡㅡㅡ\n",
        "  count_row = 0 # col의 index별 0의갯수 초기화\n",
        "  count_row_lst = [] # 열 별 0의 갯수 저장\n",
        "  for i in range(len(pre_Data1.index)):\n",
        "    for j in range(len(pre_Data1.columns)): # 열과 행의 갯수 만큼 for 문 실행 (삭제하며 찾기 때문에 n이 아닌 len루프)\n",
        "      if(pre_Data1.iloc[i][j] == 0): \n",
        "        count_row += 1\n",
        "\n",
        "    count_row_lst.append(int(count_row))\n",
        "    print('row의 0의 수 : {}'.format(count_row_lst))\n",
        "    count_row = 0\n",
        "\n",
        "\n",
        "  #ㅡㅡㅡㅡㅡㅡㅡㅡㅡㅡㅡㅡㅡㅡㅡㅡㅡㅡㅡㅡㅡㅡㅡㅡㅡㅡㅡㅡㅡㅡㅡㅡㅡㅡㅡㅡㅡㅡㅡㅡㅡㅡㅡㅡㅡㅡㅡㅡㅡㅡㅡㅡㅡㅡㅡㅡㅡ\n",
        "\n",
        "  \n",
        "  # Zero 개수의 최대값 index를 저장하는 리스트\n",
        "  col_zero_index = [i for i, value in enumerate(count_col_lst) if value == np.max(count_col_lst)]\n",
        "  row_zero_index = [i for i, value in enumerate(count_row_lst) if value == np.max(count_row_lst)]\n",
        "\n",
        "  #ㅡㅡㅡㅡㅡㅡㅡㅡㅡㅡㅡㅡㅡㅡㅡㅡㅡㅡㅡㅡㅡㅡㅡㅡㅡㅡㅡㅡㅡㅡㅡㅡㅡㅡㅡㅡㅡㅡㅡㅡㅡㅡㅡㅡㅡㅡㅡㅡㅡㅡㅡㅡㅡㅡㅡㅡㅡ\n",
        "  # 행을 삭제할지 열을 삭제할지 결정\n",
        "  choice = []\n",
        "  choice.append(int(np.max(count_col_lst)))\n",
        "  choice.append(int(np.max(count_row_lst)))\n",
        "  choice = int(np.argmax(choice)) # 같은 숫자일 경우 행을 삭제\n",
        "  print('col의 0의 수 Max값 : {}'.format(np.max(count_col_lst)))\n",
        "  print('row의 0의 수 Max값 : {}'.format(np.max(count_row_lst)))\n",
        "  \n",
        "  print(pre_Data1)\n",
        "\n",
        "\n",
        "  if(choice == 0): #어떤 행 Or 열을 커버하는지 Print하기 위한 \n",
        "    choice_str = \"열\"\n",
        "  else:\n",
        "    choice_str = \"행\"\n",
        "  print('커버 할 행 또는 열 선택 : {0}'.format(choice_str))  # 단순 출력\n",
        "\n",
        "  if(choice == 0): # 행을 선택한 경우 삭제\n",
        "    del_col_lst.append(col_zero_index[0])\n",
        "    pre_Data1 = pre_Data1.drop(columns=col_zero_index[0])\n",
        "  else: #열을 선택한 경우\n",
        "    del_row_lst.append(row_zero_index[0])\n",
        "    pre_Data1 = pre_Data1.drop(row_zero_index[0], axis='columns')\n",
        "\n",
        "  pre_Data1= pd.DataFrame(np.array(pre_Data1)) #DataFrame형태로 재변환 (1열을 삭제할 경우 index가 0 2 3 으로 처리 --> for문에서 오류발생)\n",
        "  cnt += 1\n",
        "\n",
        "\n",
        "\n",
        "\n",
        "\n",
        "if(cnt != 4): # 커버하는 선의 수가 4개 이하인 경우 아래 셀 추가 실행\n",
        "  print(\"아래 항목을 실행하세요\")"
      ],
      "metadata": {
        "id": "b0LIOVLK3_89",
        "outputId": "8dcc83ac-4103-41f5-d6cc-89e27bb2c345",
        "colab": {
          "base_uri": "https://localhost:8080/"
        }
      },
      "execution_count": null,
      "outputs": [
        {
          "output_type": "stream",
          "name": "stdout",
          "text": [
            "---------------0번째 시행---------------\n",
            "col의 0의 수 : [2]\n",
            "col의 0의 수 : [2, 1]\n",
            "col의 0의 수 : [2, 1, 2]\n",
            "col의 0의 수 : [2, 1, 2, 2]\n",
            "row의 0의 수 : [3]\n",
            "row의 0의 수 : [3, 2]\n",
            "row의 0의 수 : [3, 2, 1]\n",
            "row의 0의 수 : [3, 2, 1, 1]\n",
            "col의 0의 수 Max값 : 2\n",
            "row의 0의 수 Max값 : 3\n",
            "   0  1  2   3\n",
            "0  0  3  0   0\n",
            "1  2  0  0  12\n",
            "2  1  5  8   0\n",
            "3  0  4  2   8\n",
            "커버 할 행 또는 열 선택 : 행\n",
            "---------------1번째 시행---------------\n",
            "col의 0의 수 : [1]\n",
            "col의 0의 수 : [1, 2]\n",
            "col의 0의 수 : [1, 2, 2]\n",
            "row의 0의 수 : [2]\n",
            "row의 0의 수 : [2, 2]\n",
            "row의 0의 수 : [2, 2, 1]\n",
            "row의 0의 수 : [2, 2, 1, 0]\n",
            "col의 0의 수 Max값 : 2\n",
            "row의 0의 수 Max값 : 2\n",
            "   0  1   2\n",
            "0  3  0   0\n",
            "1  0  0  12\n",
            "2  5  8   0\n",
            "3  4  2   8\n",
            "커버 할 행 또는 열 선택 : 열\n",
            "---------------2번째 시행---------------\n",
            "col의 0의 수 : [1]\n",
            "col의 0의 수 : [1, 2]\n",
            "row의 0의 수 : [1]\n",
            "row의 0의 수 : [1, 1]\n",
            "row의 0의 수 : [1, 1, 1]\n",
            "row의 0의 수 : [1, 1, 1, 0]\n",
            "col의 0의 수 Max값 : 2\n",
            "row의 0의 수 Max값 : 1\n",
            "   0   1\n",
            "0  3   0\n",
            "1  0  12\n",
            "2  5   0\n",
            "3  4   8\n",
            "커버 할 행 또는 열 선택 : 열\n",
            "---------------3번째 시행---------------\n",
            "col의 0의 수 : [1]\n",
            "row의 0의 수 : [0]\n",
            "row의 0의 수 : [0, 1]\n",
            "row의 0의 수 : [0, 1, 0]\n",
            "row의 0의 수 : [0, 1, 0, 0]\n",
            "col의 0의 수 Max값 : 1\n",
            "row의 0의 수 Max값 : 1\n",
            "   0\n",
            "0  3\n",
            "1  0\n",
            "2  5\n",
            "3  4\n",
            "커버 할 행 또는 열 선택 : 열\n"
          ]
        }
      ]
    },
    {
      "cell_type": "code",
      "source": [
        "# ㅡㅡㅡㅡㅡㅡㅡㅡㅡㅡㅡㅡㅡㅡㅡㅡㅡㅡㅡㅡㅡㅡㅡㅡㅡㅡㅡㅡㅡㅡㅡㅡㅡㅡㅡㅡㅡㅡㅡㅡㅡㅡㅡㅡㅡㅡㅡㅡㅡㅡㅡㅡㅡㅡㅡㅡㅡ\n",
        " \n",
        "# 커버한 열 또는 행의 index를 저장하는 문장\n",
        "num = list(range(n))\n",
        "del_row_index = []\n",
        "del_col_index = []\n",
        "\n",
        "for i in range(len(del_col_lst)): \n",
        "  del_col_index.append(num[del_col_lst[i]])\n",
        "  del num[del_col_lst[i]]\n",
        "\n",
        "num = list(range(n))\n",
        "\n",
        "for i in range(len(del_row_lst)):\n",
        "  del_row_index.append(num[del_row_lst[i]])\n",
        "  del num[del_row_lst[i]]\n",
        "# ㅡㅡㅡㅡㅡㅡㅡㅡㅡㅡㅡㅡㅡㅡㅡㅡㅡㅡㅡㅡㅡㅡㅡㅡㅡㅡㅡㅡㅡㅡㅡㅡㅡㅡㅡㅡㅡㅡㅡㅡㅡㅡㅡㅡㅡㅡㅡㅡㅡㅡㅡㅡㅡㅡㅡㅡㅡ"
      ],
      "metadata": {
        "id": "g4-36M2_fB1B"
      },
      "execution_count": null,
      "outputs": []
    },
    {
      "cell_type": "code",
      "source": [
        "del_row_index, del_col_index"
      ],
      "metadata": {
        "colab": {
          "base_uri": "https://localhost:8080/"
        },
        "id": "5Dr4SVJYB03-",
        "outputId": "43edd320-a4ab-44a0-c541-c6d5175dfb65"
      },
      "execution_count": null,
      "outputs": [
        {
          "output_type": "execute_result",
          "data": {
            "text/plain": [
              "([0], [1, 2, 0])"
            ]
          },
          "metadata": {},
          "execution_count": 152
        }
      ]
    },
    {
      "cell_type": "code",
      "source": [
        "pre_Data"
      ],
      "metadata": {
        "colab": {
          "base_uri": "https://localhost:8080/",
          "height": 175
        },
        "id": "ssbs9nU1viTR",
        "outputId": "404c9735-910a-456e-a25a-08e73503cf8e"
      },
      "execution_count": null,
      "outputs": [
        {
          "output_type": "execute_result",
          "data": {
            "text/plain": [
              "   0  1  2   3\n",
              "0  0  3  0   0\n",
              "1  2  0  0  12\n",
              "2  1  5  8   0\n",
              "3  0  4  2   8"
            ],
            "text/html": [
              "\n",
              "  <div id=\"df-c26d0755-608b-4aea-99ab-c7ce40c99e0e\">\n",
              "    <div class=\"colab-df-container\">\n",
              "      <div>\n",
              "<style scoped>\n",
              "    .dataframe tbody tr th:only-of-type {\n",
              "        vertical-align: middle;\n",
              "    }\n",
              "\n",
              "    .dataframe tbody tr th {\n",
              "        vertical-align: top;\n",
              "    }\n",
              "\n",
              "    .dataframe thead th {\n",
              "        text-align: right;\n",
              "    }\n",
              "</style>\n",
              "<table border=\"1\" class=\"dataframe\">\n",
              "  <thead>\n",
              "    <tr style=\"text-align: right;\">\n",
              "      <th></th>\n",
              "      <th>0</th>\n",
              "      <th>1</th>\n",
              "      <th>2</th>\n",
              "      <th>3</th>\n",
              "    </tr>\n",
              "  </thead>\n",
              "  <tbody>\n",
              "    <tr>\n",
              "      <th>0</th>\n",
              "      <td>0</td>\n",
              "      <td>3</td>\n",
              "      <td>0</td>\n",
              "      <td>0</td>\n",
              "    </tr>\n",
              "    <tr>\n",
              "      <th>1</th>\n",
              "      <td>2</td>\n",
              "      <td>0</td>\n",
              "      <td>0</td>\n",
              "      <td>12</td>\n",
              "    </tr>\n",
              "    <tr>\n",
              "      <th>2</th>\n",
              "      <td>1</td>\n",
              "      <td>5</td>\n",
              "      <td>8</td>\n",
              "      <td>0</td>\n",
              "    </tr>\n",
              "    <tr>\n",
              "      <th>3</th>\n",
              "      <td>0</td>\n",
              "      <td>4</td>\n",
              "      <td>2</td>\n",
              "      <td>8</td>\n",
              "    </tr>\n",
              "  </tbody>\n",
              "</table>\n",
              "</div>\n",
              "      <button class=\"colab-df-convert\" onclick=\"convertToInteractive('df-c26d0755-608b-4aea-99ab-c7ce40c99e0e')\"\n",
              "              title=\"Convert this dataframe to an interactive table.\"\n",
              "              style=\"display:none;\">\n",
              "        \n",
              "  <svg xmlns=\"http://www.w3.org/2000/svg\" height=\"24px\"viewBox=\"0 0 24 24\"\n",
              "       width=\"24px\">\n",
              "    <path d=\"M0 0h24v24H0V0z\" fill=\"none\"/>\n",
              "    <path d=\"M18.56 5.44l.94 2.06.94-2.06 2.06-.94-2.06-.94-.94-2.06-.94 2.06-2.06.94zm-11 1L8.5 8.5l.94-2.06 2.06-.94-2.06-.94L8.5 2.5l-.94 2.06-2.06.94zm10 10l.94 2.06.94-2.06 2.06-.94-2.06-.94-.94-2.06-.94 2.06-2.06.94z\"/><path d=\"M17.41 7.96l-1.37-1.37c-.4-.4-.92-.59-1.43-.59-.52 0-1.04.2-1.43.59L10.3 9.45l-7.72 7.72c-.78.78-.78 2.05 0 2.83L4 21.41c.39.39.9.59 1.41.59.51 0 1.02-.2 1.41-.59l7.78-7.78 2.81-2.81c.8-.78.8-2.07 0-2.86zM5.41 20L4 18.59l7.72-7.72 1.47 1.35L5.41 20z\"/>\n",
              "  </svg>\n",
              "      </button>\n",
              "      \n",
              "  <style>\n",
              "    .colab-df-container {\n",
              "      display:flex;\n",
              "      flex-wrap:wrap;\n",
              "      gap: 12px;\n",
              "    }\n",
              "\n",
              "    .colab-df-convert {\n",
              "      background-color: #E8F0FE;\n",
              "      border: none;\n",
              "      border-radius: 50%;\n",
              "      cursor: pointer;\n",
              "      display: none;\n",
              "      fill: #1967D2;\n",
              "      height: 32px;\n",
              "      padding: 0 0 0 0;\n",
              "      width: 32px;\n",
              "    }\n",
              "\n",
              "    .colab-df-convert:hover {\n",
              "      background-color: #E2EBFA;\n",
              "      box-shadow: 0px 1px 2px rgba(60, 64, 67, 0.3), 0px 1px 3px 1px rgba(60, 64, 67, 0.15);\n",
              "      fill: #174EA6;\n",
              "    }\n",
              "\n",
              "    [theme=dark] .colab-df-convert {\n",
              "      background-color: #3B4455;\n",
              "      fill: #D2E3FC;\n",
              "    }\n",
              "\n",
              "    [theme=dark] .colab-df-convert:hover {\n",
              "      background-color: #434B5C;\n",
              "      box-shadow: 0px 1px 3px 1px rgba(0, 0, 0, 0.15);\n",
              "      filter: drop-shadow(0px 1px 2px rgba(0, 0, 0, 0.3));\n",
              "      fill: #FFFFFF;\n",
              "    }\n",
              "  </style>\n",
              "\n",
              "      <script>\n",
              "        const buttonEl =\n",
              "          document.querySelector('#df-c26d0755-608b-4aea-99ab-c7ce40c99e0e button.colab-df-convert');\n",
              "        buttonEl.style.display =\n",
              "          google.colab.kernel.accessAllowed ? 'block' : 'none';\n",
              "\n",
              "        async function convertToInteractive(key) {\n",
              "          const element = document.querySelector('#df-c26d0755-608b-4aea-99ab-c7ce40c99e0e');\n",
              "          const dataTable =\n",
              "            await google.colab.kernel.invokeFunction('convertToInteractive',\n",
              "                                                     [key], {});\n",
              "          if (!dataTable) return;\n",
              "\n",
              "          const docLinkHtml = 'Like what you see? Visit the ' +\n",
              "            '<a target=\"_blank\" href=https://colab.research.google.com/notebooks/data_table.ipynb>data table notebook</a>'\n",
              "            + ' to learn more about interactive tables.';\n",
              "          element.innerHTML = '';\n",
              "          dataTable['output_type'] = 'display_data';\n",
              "          await google.colab.output.renderOutput(dataTable, element);\n",
              "          const docLink = document.createElement('div');\n",
              "          docLink.innerHTML = docLinkHtml;\n",
              "          element.appendChild(docLink);\n",
              "        }\n",
              "      </script>\n",
              "    </div>\n",
              "  </div>\n",
              "  "
            ]
          },
          "metadata": {},
          "execution_count": 153
        }
      ]
    },
    {
      "cell_type": "markdown",
      "source": [
        "### cnt != n\n",
        "**커버한 선의 수가 맞지 않을경우**\n",
        "**셀 실행 이후위 알고리즘 재실행**"
      ],
      "metadata": {
        "id": "nDuiqmZKe-th"
      }
    },
    {
      "cell_type": "code",
      "source": [
        "Data_Array = np.array(pre_Data)"
      ],
      "metadata": {
        "id": "psqFgdfkbThb"
      },
      "execution_count": null,
      "outputs": []
    },
    {
      "cell_type": "code",
      "source": [
        "if(cnt != n):\n",
        "  num = list(range(n))\n",
        "  plus_row = list(set(num)-set(del_row_index))\n",
        "\n",
        "#커버된 INDEX, 중복된 INDEX, 커버하지 않은 INDEX를 각각 저장 이후 계산해줌\n",
        "  Cross_matrix = np.random.randint(0, 1, size = (n, n))\n",
        "  double_Cross_matrix = np.random.randint(0, 1, size = (n, n))\n",
        "  Not_cov_matrix = np.random.randint(1, 2, size = (n, n))\n",
        "  for i in range(len(del_row_index)):\n",
        "    Not_cov_matrix[del_row_index[i]] = 0\n",
        "    for j in range(len(del_col_index)):\n",
        "      Cross_matrix[del_row_index[i]][del_col_index[j]] = 1\n",
        "      for k in range(len(plus_row)):\n",
        "        Not_cov_matrix[plus_row[k]][del_col_index[j]] = 0\n",
        "        double_Cross_matrix[plus_row[k]][del_col_index[j]] = 1\n",
        "  Not_cov_matrix_val = np.multiply(Data_Array, Not_cov_matrix)\n",
        "  min_val = np.min(Not_cov_matrix_val[Not_cov_matrix_val!=0])\n",
        "\n",
        "\n",
        "  pre_Data = pd.DataFrame(Data_Array - min_val * Not_cov_matrix + min_val*Cross_matrix + min_val * double_Cross_matrix)"
      ],
      "metadata": {
        "id": "tvdj8qPV9_OT"
      },
      "execution_count": null,
      "outputs": []
    },
    {
      "cell_type": "code",
      "source": [
        "count_col = 0\n",
        "count_col_lst = []\n",
        "for i in range(len(pre_Data.columns)):\n",
        "  for j in range(len(pre_Data.index)):\n",
        "    if(pre_Data.iloc[j][i] == 0):\n",
        "      count_col += 1\n",
        "\n",
        "  count_col_lst.append(int(count_col))\n",
        "  print('col의 0의 수 : {}'.format(count_col_lst))\n",
        "  count_col = 0\n",
        "#ㅡㅡㅡㅡㅡㅡㅡㅡㅡㅡㅡㅡㅡㅡㅡㅡㅡㅡㅡㅡㅡㅡㅡㅡㅡㅡㅡㅡㅡㅡㅡㅡㅡㅡㅡㅡㅡㅡㅡㅡㅡㅡㅡㅡㅡㅡㅡㅡㅡㅡㅡㅡㅡㅡㅡㅡㅡ\n",
        "count_row = 0 # col의 index별 0의갯수 초기화\n",
        "count_row_lst = [] # 열 별 0의 갯수 저장\n",
        "for i in range(len(pre_Data.index)):\n",
        "  for j in range(len(pre_Data.columns)): # 열과 행의 갯수 만큼 for 문 실행 (삭제하며 찾기 때문에 n이 아닌 len루프)\n",
        "    if(pre_Data.iloc[i][j] == 0): \n",
        "      count_row += 1\n",
        "\n",
        "  count_row_lst.append(int(count_row))\n",
        "  print('row의 0의 수 : {}'.format(count_row_lst))\n",
        "  count_row = 0\n"
      ],
      "metadata": {
        "colab": {
          "base_uri": "https://localhost:8080/"
        },
        "id": "mULeMO98PKM2",
        "outputId": "02f1056b-1e65-4211-ef3a-d2304d9c0975"
      },
      "execution_count": null,
      "outputs": [
        {
          "output_type": "stream",
          "name": "stdout",
          "text": [
            "col의 0의 수 : [2]\n",
            "col의 0의 수 : [2, 1]\n",
            "col의 0의 수 : [2, 1, 2]\n",
            "col의 0의 수 : [2, 1, 2, 2]\n",
            "row의 0의 수 : [3]\n",
            "row의 0의 수 : [3, 2]\n",
            "row의 0의 수 : [3, 2, 1]\n",
            "row의 0의 수 : [3, 2, 1, 1]\n"
          ]
        }
      ]
    },
    {
      "cell_type": "code",
      "source": [
        "count_col_lst , count_row_lst"
      ],
      "metadata": {
        "colab": {
          "base_uri": "https://localhost:8080/"
        },
        "id": "-7Y3Q6-wPmGy",
        "outputId": "5a48eafa-9d76-4d44-a94d-9bfc21e29924"
      },
      "execution_count": null,
      "outputs": [
        {
          "output_type": "execute_result",
          "data": {
            "text/plain": [
              "([2, 1, 2, 2], [3, 2, 1, 1])"
            ]
          },
          "metadata": {},
          "execution_count": 157
        }
      ]
    },
    {
      "cell_type": "markdown",
      "source": [
        "# 결과 뽑기 시각화"
      ],
      "metadata": {
        "id": "rYvdYXoaQ7wP"
      }
    },
    {
      "cell_type": "code",
      "source": [
        "DataArray = np.array(pre_Data)\n",
        "col = []\n",
        "for i in range(n):\n",
        "  count = 0\n",
        "  for j in range(n):\n",
        "    if(DataArray[j,i] == 0):\n",
        "      count +=1\n",
        "  col.append(count)\n",
        "\n",
        "row = []\n",
        "for i in range(n):\n",
        "  count = 0\n",
        "  for j in range(n):\n",
        "    if(DataArray[i,j] == 0):\n",
        "      count +=1\n",
        "  row.append(count)"
      ],
      "metadata": {
        "id": "cfZUXHGSQ7Pt"
      },
      "execution_count": null,
      "outputs": []
    },
    {
      "cell_type": "code",
      "source": [
        "DataArray1 = DataArray\n",
        "result = np.zeros([n,n])\n",
        "DataArray1"
      ],
      "metadata": {
        "colab": {
          "base_uri": "https://localhost:8080/"
        },
        "id": "0HmMpvcmVMVr",
        "outputId": "326f4e2a-f026-439d-cd53-941a33f52eae"
      },
      "execution_count": null,
      "outputs": [
        {
          "output_type": "execute_result",
          "data": {
            "text/plain": [
              "array([[ 0,  3,  0,  0],\n",
              "       [ 2,  0,  0, 12],\n",
              "       [ 1,  5,  8,  0],\n",
              "       [ 0,  4,  2,  8]])"
            ]
          },
          "metadata": {},
          "execution_count": 159
        }
      ]
    },
    {
      "cell_type": "code",
      "source": [
        "if(np.min(col) <= np.min(row)):\n",
        "  result[np.argmin(DataArray1[:,np.argmin(col)]),np.argmin(col)] = 1  # np.argmin(col) ==> 0~3열중 2열, np.argmin(DataArray1[:,np.argmin(col)])==> 2열중 0이 가장 작은 0행\n",
        "  # ==> 커버한 열과 행을 1로 대체 (0을 삭제)\n",
        "  DataArray1[np.argmin(DataArray1[:,np.argmin(col)]),:] = 1\n",
        "  DataArray1[:,np.argmin(col)] = 1\n",
        "else:\n",
        "  result[np.argmin(row), np.argmin(DataArray1[np.argmin(row),:])] = 1 # np.argmin(row) # 0~3행 중 1행, np.argmin(DataArray1[np.argmin(row),:]) # 1행중 1열\n",
        "\n",
        "  DataArray1[np.argmin(row),:] = 1 \n",
        "  DataArray1[:,np.argmin(DataArray1[np.argmin(row),:])] =1"
      ],
      "metadata": {
        "id": "tXLD5ydGTga2"
      },
      "execution_count": null,
      "outputs": []
    },
    {
      "cell_type": "code",
      "source": [
        "result"
      ],
      "metadata": {
        "colab": {
          "base_uri": "https://localhost:8080/"
        },
        "id": "TKMcodg4WRuh",
        "outputId": "601ce3c9-75ec-4124-880e-62e2e2cd5063"
      },
      "execution_count": null,
      "outputs": [
        {
          "output_type": "execute_result",
          "data": {
            "text/plain": [
              "array([[0., 0., 0., 0.],\n",
              "       [0., 1., 0., 0.],\n",
              "       [0., 0., 0., 0.],\n",
              "       [0., 0., 0., 0.]])"
            ]
          },
          "metadata": {},
          "execution_count": 161
        }
      ]
    },
    {
      "cell_type": "code",
      "source": [
        "col = []\n",
        "for i in range(n):\n",
        "  count = 0\n",
        "  for j in range(n):\n",
        "    if(DataArray1[j,i] == 0):\n",
        "      count +=1\n",
        "  col.append(count)\n",
        "  if(col[np.argmin(col)] == 0):\n",
        "    col[np.argmin(col)] = 100\n",
        "row = []\n",
        "for i in range(n):\n",
        "  count = 0\n",
        "  for j in range(n):\n",
        "    if(DataArray1[i,j] == 0):\n",
        "      count +=1\n",
        "  row.append(count)\n",
        "  if(row[np.argmin(row)] == 0):\n",
        "    row[np.argmin(row)] = 100"
      ],
      "metadata": {
        "id": "wilbH-pXa92N"
      },
      "execution_count": null,
      "outputs": []
    },
    {
      "cell_type": "code",
      "source": [
        "if(np.min(col) <= np.min(row)):\n",
        "  result[np.argmin(DataArray1[:,np.argmin(col)]),np.argmin(col)] = 1  # np.argmin(col) ==> 0~3열중 2열, np.argmin(DataArray1[:,np.argmin(col)])==> 2열중 0이 가장 작은 0행\n",
        "  # ==> 커버한 열과 행을 1로 대체 (0을 삭제)\n",
        "  DataArray1[np.argmin(DataArray1[:,np.argmin(col)]),:] = 1\n",
        "  DataArray1[:,np.argmin(col)] = 1\n",
        "else:\n",
        "  result[np.argmin(row), np.argmin(DataArray1[np.argmin(row),:])] = 1 # np.argmin(row) # 0~3행 중 1행, np.argmin(DataArray1[np.argmin(row),:]) # 1행중 1열\n",
        "\n",
        "  DataArray1[np.argmin(row),:] = 1 \n",
        "  DataArray1[:,np.argmin(DataArray1[np.argmin(row),:])] =1"
      ],
      "metadata": {
        "id": "1i2T-puRlG4o"
      },
      "execution_count": null,
      "outputs": []
    },
    {
      "cell_type": "code",
      "source": [
        "result"
      ],
      "metadata": {
        "colab": {
          "base_uri": "https://localhost:8080/"
        },
        "id": "4GhIoaZGhROD",
        "outputId": "9cc85a40-b494-4d03-9ca5-55ffbed1ec36"
      },
      "execution_count": null,
      "outputs": [
        {
          "output_type": "execute_result",
          "data": {
            "text/plain": [
              "array([[0., 0., 1., 0.],\n",
              "       [0., 1., 0., 0.],\n",
              "       [0., 0., 0., 0.],\n",
              "       [0., 0., 0., 0.]])"
            ]
          },
          "metadata": {},
          "execution_count": 164
        }
      ]
    },
    {
      "cell_type": "code",
      "source": [
        "col = []\n",
        "for i in range(n):\n",
        "  count = 0\n",
        "  for j in range(n):\n",
        "    if(DataArray1[j,i] == 0):\n",
        "      count +=1\n",
        "  col.append(count)\n",
        "  if(col[np.argmin(col)] == 0):\n",
        "    col[np.argmin(col)] = 100\n",
        "row = []\n",
        "for i in range(n):\n",
        "  count = 0\n",
        "  for j in range(n):\n",
        "    if(DataArray1[i,j] == 0):\n",
        "      count +=1\n",
        "  row.append(count)\n",
        "  if(row[np.argmin(row)] == 0):\n",
        "    row[np.argmin(row)] = 100"
      ],
      "metadata": {
        "id": "XQXJQXz7hnQe"
      },
      "execution_count": null,
      "outputs": []
    },
    {
      "cell_type": "code",
      "source": [
        "if(np.min(col) <= np.min(row)):\n",
        "  result[np.argmin(DataArray1[:,np.argmin(col)]),np.argmin(col)] = 1  # np.argmin(col) ==> 0~3열중 2열, np.argmin(DataArray1[:,np.argmin(col)])==> 2열중 0이 가장 작은 0행\n",
        "  # ==> 커버한 열과 행을 1로 대체 (0을 삭제)\n",
        "  DataArray1[np.argmin(DataArray1[:,np.argmin(col)]),:] = 1\n",
        "  DataArray1[:,np.argmin(col)] = 1\n",
        "else:\n",
        "  result[np.argmin(row), np.argmin(DataArray1[np.argmin(row),:])] = 1 # np.argmin(row) # 0~3행 중 1행, np.argmin(DataArray1[np.argmin(row),:]) # 1행중 1열\n",
        "\n",
        "  DataArray1[np.argmin(row),:] = 1 \n",
        "  DataArray1[:,np.argmin(DataArray1[np.argmin(row),:])] =1"
      ],
      "metadata": {
        "id": "XLBJQuU2hpll"
      },
      "execution_count": null,
      "outputs": []
    },
    {
      "cell_type": "code",
      "source": [
        "result"
      ],
      "metadata": {
        "colab": {
          "base_uri": "https://localhost:8080/"
        },
        "id": "H1hfwTxkhq_F",
        "outputId": "4eb6c84d-0278-406c-bafe-b1e1cb1fce60"
      },
      "execution_count": null,
      "outputs": [
        {
          "output_type": "execute_result",
          "data": {
            "text/plain": [
              "array([[0., 0., 1., 0.],\n",
              "       [0., 1., 0., 0.],\n",
              "       [0., 0., 0., 0.],\n",
              "       [1., 0., 0., 0.]])"
            ]
          },
          "metadata": {},
          "execution_count": 167
        }
      ]
    },
    {
      "cell_type": "code",
      "source": [
        "col = []\n",
        "for i in range(n):\n",
        "  count = 0\n",
        "  for j in range(n):\n",
        "    if(DataArray1[j,i] == 0):\n",
        "      count +=1\n",
        "  col.append(count)\n",
        "  if(col[np.argmin(col)] == 0):\n",
        "    col[np.argmin(col)] = 100\n",
        "row = []\n",
        "for i in range(n):\n",
        "  count = 0\n",
        "  for j in range(n):\n",
        "    if(DataArray1[i,j] == 0):\n",
        "      count +=1\n",
        "  row.append(count)\n",
        "  if(row[np.argmin(row)] == 0):\n",
        "    row[np.argmin(row)] = 100"
      ],
      "metadata": {
        "id": "VmTM7tJkhseV"
      },
      "execution_count": null,
      "outputs": []
    },
    {
      "cell_type": "code",
      "source": [
        "if(np.min(col) <= np.min(row)):\n",
        "  result[np.argmin(DataArray1[:,np.argmin(col)]),np.argmin(col)] = 1  # np.argmin(col) ==> 0~3열중 2열, np.argmin(DataArray1[:,np.argmin(col)])==> 2열중 0이 가장 작은 0행\n",
        "  # ==> 커버한 열과 행을 1로 대체 (0을 삭제)\n",
        "  DataArray1[np.argmin(DataArray1[:,np.argmin(col)]),:] = 1\n",
        "  DataArray1[:,np.argmin(col)] = 1\n",
        "else:\n",
        "  result[np.argmin(row), np.argmin(DataArray1[np.argmin(row),:])] = 1 # np.argmin(row) # 0~3행 중 1행, np.argmin(DataArray1[np.argmin(row),:]) # 1행중 1열\n",
        "\n",
        "  DataArray1[np.argmin(row),:] = 1 \n",
        "  DataArray1[:,np.argmin(DataArray1[np.argmin(row),:])] =1"
      ],
      "metadata": {
        "id": "WtuMKRfchugn"
      },
      "execution_count": null,
      "outputs": []
    },
    {
      "cell_type": "code",
      "source": [
        "result"
      ],
      "metadata": {
        "colab": {
          "base_uri": "https://localhost:8080/"
        },
        "id": "biI5IgoUhvAf",
        "outputId": "ec7e2446-6878-48d0-8479-cb295599dc94"
      },
      "execution_count": null,
      "outputs": [
        {
          "output_type": "execute_result",
          "data": {
            "text/plain": [
              "array([[0., 0., 1., 0.],\n",
              "       [0., 1., 0., 0.],\n",
              "       [0., 0., 0., 1.],\n",
              "       [1., 0., 0., 0.]])"
            ]
          },
          "metadata": {},
          "execution_count": 170
        }
      ]
    },
    {
      "cell_type": "code",
      "source": [
        "Total_Cost = np.multiply(np.array(cost), result).sum()\n",
        "Total_Cost"
      ],
      "metadata": {
        "colab": {
          "base_uri": "https://localhost:8080/"
        },
        "id": "BkbHF4ltlxrW",
        "outputId": "48c4497d-2c88-4783-8f5b-24eefad35d9c"
      },
      "execution_count": null,
      "outputs": [
        {
          "output_type": "execute_result",
          "data": {
            "text/plain": [
              "12.0"
            ]
          },
          "metadata": {},
          "execution_count": 171
        }
      ]
    },
    {
      "cell_type": "markdown",
      "source": [
        "# 결과 한번에 뽑기"
      ],
      "metadata": {
        "id": "URwIW4DHlQYd"
      }
    },
    {
      "cell_type": "code",
      "source": [
        "DataArray = np.array(pre_Data)\n",
        "col = []\n",
        "for i in range(n):\n",
        "  count = 0\n",
        "  for j in range(n):\n",
        "    if(DataArray[j,i] == 0):\n",
        "      count +=1\n",
        "  col.append(count)\n",
        "\n",
        "row = []\n",
        "for i in range(n):\n",
        "  count = 0\n",
        "  for j in range(n):\n",
        "    if(DataArray[i,j] == 0):\n",
        "      count +=1\n",
        "  row.append(count)"
      ],
      "metadata": {
        "id": "0_bGWYo8ld0Z"
      },
      "execution_count": null,
      "outputs": []
    },
    {
      "cell_type": "code",
      "source": [
        "DataArray1 = DataArray\n",
        "result = np.zeros([n,n])\n",
        "DataArray1"
      ],
      "metadata": {
        "colab": {
          "base_uri": "https://localhost:8080/"
        },
        "id": "utkCb8N7lhO1",
        "outputId": "b461d3ae-61f7-4e80-82ae-79a048620170"
      },
      "execution_count": null,
      "outputs": [
        {
          "output_type": "execute_result",
          "data": {
            "text/plain": [
              "array([[ 0,  3,  0,  0],\n",
              "       [ 2,  0,  0, 12],\n",
              "       [ 1,  5,  8,  0],\n",
              "       [ 0,  4,  2,  8]])"
            ]
          },
          "metadata": {},
          "execution_count": 173
        }
      ]
    },
    {
      "cell_type": "code",
      "source": [
        "if(np.min(col) <= np.min(row)):\n",
        "  result[np.argmin(DataArray1[:,np.argmin(col)]),np.argmin(col)] = 1  # np.argmin(col) ==> 0~3열중 2열, np.argmin(DataArray1[:,np.argmin(col)])==> 2열중 0이 가장 작은 0행\n",
        "  # ==> 커버한 열과 행을 1로 대체 (0을 삭제)\n",
        "  DataArray1[np.argmin(DataArray1[:,np.argmin(col)]),:] = 1\n",
        "  DataArray1[:,np.argmin(col)] = 1\n",
        "else:\n",
        "  result[np.argmin(row), np.argmin(DataArray1[np.argmin(row),:])] = 1 # np.argmin(row) # 0~3행 중 1행, np.argmin(DataArray1[np.argmin(row),:]) # 1행중 1열\n",
        "\n",
        "  DataArray1[np.argmin(row),:] = 1 \n",
        "  DataArray1[:,np.argmin(DataArray1[np.argmin(row),:])] =1"
      ],
      "metadata": {
        "id": "UgevfocTllNK"
      },
      "execution_count": null,
      "outputs": []
    },
    {
      "cell_type": "code",
      "source": [
        "for k in range(n-1):\n",
        "  col = []\n",
        "  for i in range(n):\n",
        "    count = 0\n",
        "    for j in range(n):\n",
        "      if(DataArray1[j,i] == 0):\n",
        "        count +=1\n",
        "    col.append(count)\n",
        "    if(col[np.argmin(col)] == 0):\n",
        "      col[np.argmin(col)] = 100\n",
        "  row = []\n",
        "  for i in range(n):\n",
        "    count = 0\n",
        "    for j in range(n):\n",
        "      if(DataArray1[i,j] == 0):\n",
        "        count +=1\n",
        "    row.append(count)\n",
        "    if(row[np.argmin(row)] == 0):\n",
        "      row[np.argmin(row)] = 100\n",
        "  if(np.min(col) <= np.min(row)):\n",
        "    result[np.argmin(DataArray1[:,np.argmin(col)]),np.argmin(col)] = 1  # np.argmin(col) ==> 0~3열중 2열, np.argmin(DataArray1[:,np.argmin(col)])==> 2열중 0이 가장 작은 0행\n",
        "    # ==> 커버한 열과 행을 1로 대체 (0을 삭제)\n",
        "    DataArray1[np.argmin(DataArray1[:,np.argmin(col)]),:] = 1\n",
        "    DataArray1[:,np.argmin(col)] = 1\n",
        "  else:\n",
        "    result[np.argmin(row), np.argmin(DataArray1[np.argmin(row),:])] = 1 # np.argmin(row) # 0~3행 중 1행, np.argmin(DataArray1[np.argmin(row),:]) # 1행중 1열\n",
        "\n",
        "    DataArray1[np.argmin(row),:] = 1 \n",
        "    DataArray1[:,np.argmin(DataArray1[np.argmin(row),:])] =1"
      ],
      "metadata": {
        "id": "7nwCEP7iglo8"
      },
      "execution_count": null,
      "outputs": []
    },
    {
      "cell_type": "code",
      "source": [
        "Total_Cost = np.multiply(np.array(cost), result).sum()\n",
        "Total_Cost"
      ],
      "metadata": {
        "id": "guQBY3wwglmr",
        "colab": {
          "base_uri": "https://localhost:8080/"
        },
        "outputId": "f2d611b1-b2b1-4008-e7eb-7f77c0a06291"
      },
      "execution_count": null,
      "outputs": [
        {
          "output_type": "execute_result",
          "data": {
            "text/plain": [
              "12.0"
            ]
          },
          "metadata": {},
          "execution_count": 176
        }
      ]
    },
    {
      "cell_type": "code",
      "source": [
        ""
      ],
      "metadata": {
        "id": "PxOb52d0glkW"
      },
      "execution_count": null,
      "outputs": []
    },
    {
      "cell_type": "markdown",
      "source": [
        "# AP - LP"
      ],
      "metadata": {
        "id": "TLZP0nzluHdR"
      }
    },
    {
      "cell_type": "code",
      "source": [
        "c_m = np.array(cost)\n",
        "row_ind, col_ind = linear_sum_assignment(c_m)\n",
        "opt_ass = col_ind\n",
        "tc = c_m[row_ind, col_ind].sum()\n",
        "\n",
        "\n",
        "print(c_m)\n",
        "print(opt_ass)\n",
        "print(tc)"
      ],
      "metadata": {
        "id": "NUhCRfTDuKxp",
        "outputId": "2c09860f-a738-4a6d-c56d-8e6407d8d773",
        "colab": {
          "base_uri": "https://localhost:8080/"
        }
      },
      "execution_count": null,
      "outputs": [
        {
          "output_type": "stream",
          "name": "stdout",
          "text": [
            "[[ 4  4  3  1]\n",
            " [ 6  1  3 13]\n",
            " [ 7  8 13  3]\n",
            " [ 5  6  6 10]]\n",
            "[2 1 3 0]\n",
            "12\n"
          ]
        }
      ]
    },
    {
      "cell_type": "code",
      "source": [
        ""
      ],
      "metadata": {
        "id": "_g1-ismMuKvj"
      },
      "execution_count": null,
      "outputs": []
    }
  ]
}