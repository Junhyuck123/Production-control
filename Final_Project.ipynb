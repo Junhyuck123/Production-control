{
  "nbformat": 4,
  "nbformat_minor": 0,
  "metadata": {
    "colab": {
      "name": "Final Project.ipynb",
      "provenance": [],
      "collapsed_sections": [],
      "toc_visible": true,
      "authorship_tag": "ABX9TyPN0C2iamd+znYJqlEaruzq",
      "include_colab_link": true
    },
    "kernelspec": {
      "name": "python3",
      "display_name": "Python 3"
    },
    "language_info": {
      "name": "python"
    }
  },
  "cells": [
    {
      "cell_type": "markdown",
      "metadata": {
        "id": "view-in-github",
        "colab_type": "text"
      },
      "source": [
        "<a href=\"https://colab.research.google.com/github/Junhyuck123/Production-control/blob/main/Final_Project.ipynb\" target=\"_parent\"><img src=\"https://colab.research.google.com/assets/colab-badge.svg\" alt=\"Open In Colab\"/></a>"
      ]
    },
    {
      "cell_type": "code",
      "source": [
        "import numpy as np\n",
        "from scipy.optimize import linear_sum_assignment\n",
        "\n",
        "c_m = np.array([[9,6,3,4],\n",
        "                [5,8,12,10],\n",
        "                [2,6,7,4],\n",
        "                [4,11,13,7]])\n",
        "row_ind, col_ind = linear_sum_assignment(c_m)\n",
        "opt_ass = col_ind\n",
        "tc = c_m[row_ind, col_ind].sum()\n",
        "\n",
        "\n",
        "print(c_m)\n",
        "print(opt_ass)\n",
        "print(tc)"
      ],
      "metadata": {
        "colab": {
          "base_uri": "https://localhost:8080/"
        },
        "id": "LyLC1yVU7oN_",
        "outputId": "90811d00-e7e0-434f-9bf2-e442a3d48624"
      },
      "execution_count": 1737,
      "outputs": [
        {
          "output_type": "stream",
          "name": "stdout",
          "text": [
            "[[ 9  6  3  4]\n",
            " [ 5  8 12 10]\n",
            " [ 2  6  7  4]\n",
            " [ 4 11 13  7]]\n",
            "[2 1 3 0]\n",
            "19\n"
          ]
        }
      ]
    },
    {
      "cell_type": "code",
      "execution_count": 1738,
      "metadata": {
        "id": "9ErmaUT8nk_r",
        "colab": {
          "base_uri": "https://localhost:8080/"
        },
        "outputId": "20075b01-7d41-4428-d5ae-e38da797c8f0"
      },
      "outputs": [
        {
          "output_type": "stream",
          "name": "stdout",
          "text": [
            "Looking in indexes: https://pypi.org/simple, https://us-python.pkg.dev/colab-wheels/public/simple/\n",
            "Requirement already satisfied: pulp in /usr/local/lib/python3.7/dist-packages (2.6.0)\n"
          ]
        }
      ],
      "source": [
        "import numpy as np\n",
        "import pandas as pd\n",
        "!pip install pulp\n",
        "import pulp"
      ]
    },
    {
      "cell_type": "markdown",
      "source": [
        "# V1"
      ],
      "metadata": {
        "id": "wXucRBqdw2I9"
      }
    },
    {
      "cell_type": "code",
      "source": [
        "#n = int(input())\n",
        "n =4"
      ],
      "metadata": {
        "id": "w625KYOvu0_R"
      },
      "execution_count": 1739,
      "outputs": []
    },
    {
      "cell_type": "code",
      "source": [
        "job = []\n",
        "resource = []\n",
        "for i in range(n):\n",
        "  job.append(\"J{}\".format(i))\n",
        "  resource.append(\"R{}\".format(i))\n",
        "\n",
        "for i in range(n):\n",
        "  globals()[\"Col{}\".format(i)] = []\n",
        "  globals()[\"Low{}\".format(i)] = []"
      ],
      "metadata": {
        "id": "yCtORxeKqoa1"
      },
      "execution_count": 1740,
      "outputs": []
    },
    {
      "cell_type": "code",
      "source": [
        "# c = np.random.randint(1, 15, size = (n, n))\n",
        "# cost = pd.DataFrame(c, index = job, columns = resource)\n",
        "# cost\n",
        "cost = pd.DataFrame(c_m, index = job, columns = resource)\n",
        "cost\n",
        "\n"
      ],
      "metadata": {
        "id": "Yi88DkxYovan",
        "colab": {
          "base_uri": "https://localhost:8080/",
          "height": 175
        },
        "outputId": "3d1c461d-ee08-4e30-ea1c-bf789d3f0f20"
      },
      "execution_count": 1741,
      "outputs": [
        {
          "output_type": "execute_result",
          "data": {
            "text/plain": [
              "    R0  R1  R2  R3\n",
              "J0   9   6   3   4\n",
              "J1   5   8  12  10\n",
              "J2   2   6   7   4\n",
              "J3   4  11  13   7"
            ],
            "text/html": [
              "\n",
              "  <div id=\"df-8ac94d3b-a4ae-4932-a611-ee9f1423159b\">\n",
              "    <div class=\"colab-df-container\">\n",
              "      <div>\n",
              "<style scoped>\n",
              "    .dataframe tbody tr th:only-of-type {\n",
              "        vertical-align: middle;\n",
              "    }\n",
              "\n",
              "    .dataframe tbody tr th {\n",
              "        vertical-align: top;\n",
              "    }\n",
              "\n",
              "    .dataframe thead th {\n",
              "        text-align: right;\n",
              "    }\n",
              "</style>\n",
              "<table border=\"1\" class=\"dataframe\">\n",
              "  <thead>\n",
              "    <tr style=\"text-align: right;\">\n",
              "      <th></th>\n",
              "      <th>R0</th>\n",
              "      <th>R1</th>\n",
              "      <th>R2</th>\n",
              "      <th>R3</th>\n",
              "    </tr>\n",
              "  </thead>\n",
              "  <tbody>\n",
              "    <tr>\n",
              "      <th>J0</th>\n",
              "      <td>9</td>\n",
              "      <td>6</td>\n",
              "      <td>3</td>\n",
              "      <td>4</td>\n",
              "    </tr>\n",
              "    <tr>\n",
              "      <th>J1</th>\n",
              "      <td>5</td>\n",
              "      <td>8</td>\n",
              "      <td>12</td>\n",
              "      <td>10</td>\n",
              "    </tr>\n",
              "    <tr>\n",
              "      <th>J2</th>\n",
              "      <td>2</td>\n",
              "      <td>6</td>\n",
              "      <td>7</td>\n",
              "      <td>4</td>\n",
              "    </tr>\n",
              "    <tr>\n",
              "      <th>J3</th>\n",
              "      <td>4</td>\n",
              "      <td>11</td>\n",
              "      <td>13</td>\n",
              "      <td>7</td>\n",
              "    </tr>\n",
              "  </tbody>\n",
              "</table>\n",
              "</div>\n",
              "      <button class=\"colab-df-convert\" onclick=\"convertToInteractive('df-8ac94d3b-a4ae-4932-a611-ee9f1423159b')\"\n",
              "              title=\"Convert this dataframe to an interactive table.\"\n",
              "              style=\"display:none;\">\n",
              "        \n",
              "  <svg xmlns=\"http://www.w3.org/2000/svg\" height=\"24px\"viewBox=\"0 0 24 24\"\n",
              "       width=\"24px\">\n",
              "    <path d=\"M0 0h24v24H0V0z\" fill=\"none\"/>\n",
              "    <path d=\"M18.56 5.44l.94 2.06.94-2.06 2.06-.94-2.06-.94-.94-2.06-.94 2.06-2.06.94zm-11 1L8.5 8.5l.94-2.06 2.06-.94-2.06-.94L8.5 2.5l-.94 2.06-2.06.94zm10 10l.94 2.06.94-2.06 2.06-.94-2.06-.94-.94-2.06-.94 2.06-2.06.94z\"/><path d=\"M17.41 7.96l-1.37-1.37c-.4-.4-.92-.59-1.43-.59-.52 0-1.04.2-1.43.59L10.3 9.45l-7.72 7.72c-.78.78-.78 2.05 0 2.83L4 21.41c.39.39.9.59 1.41.59.51 0 1.02-.2 1.41-.59l7.78-7.78 2.81-2.81c.8-.78.8-2.07 0-2.86zM5.41 20L4 18.59l7.72-7.72 1.47 1.35L5.41 20z\"/>\n",
              "  </svg>\n",
              "      </button>\n",
              "      \n",
              "  <style>\n",
              "    .colab-df-container {\n",
              "      display:flex;\n",
              "      flex-wrap:wrap;\n",
              "      gap: 12px;\n",
              "    }\n",
              "\n",
              "    .colab-df-convert {\n",
              "      background-color: #E8F0FE;\n",
              "      border: none;\n",
              "      border-radius: 50%;\n",
              "      cursor: pointer;\n",
              "      display: none;\n",
              "      fill: #1967D2;\n",
              "      height: 32px;\n",
              "      padding: 0 0 0 0;\n",
              "      width: 32px;\n",
              "    }\n",
              "\n",
              "    .colab-df-convert:hover {\n",
              "      background-color: #E2EBFA;\n",
              "      box-shadow: 0px 1px 2px rgba(60, 64, 67, 0.3), 0px 1px 3px 1px rgba(60, 64, 67, 0.15);\n",
              "      fill: #174EA6;\n",
              "    }\n",
              "\n",
              "    [theme=dark] .colab-df-convert {\n",
              "      background-color: #3B4455;\n",
              "      fill: #D2E3FC;\n",
              "    }\n",
              "\n",
              "    [theme=dark] .colab-df-convert:hover {\n",
              "      background-color: #434B5C;\n",
              "      box-shadow: 0px 1px 3px 1px rgba(0, 0, 0, 0.15);\n",
              "      filter: drop-shadow(0px 1px 2px rgba(0, 0, 0, 0.3));\n",
              "      fill: #FFFFFF;\n",
              "    }\n",
              "  </style>\n",
              "\n",
              "      <script>\n",
              "        const buttonEl =\n",
              "          document.querySelector('#df-8ac94d3b-a4ae-4932-a611-ee9f1423159b button.colab-df-convert');\n",
              "        buttonEl.style.display =\n",
              "          google.colab.kernel.accessAllowed ? 'block' : 'none';\n",
              "\n",
              "        async function convertToInteractive(key) {\n",
              "          const element = document.querySelector('#df-8ac94d3b-a4ae-4932-a611-ee9f1423159b');\n",
              "          const dataTable =\n",
              "            await google.colab.kernel.invokeFunction('convertToInteractive',\n",
              "                                                     [key], {});\n",
              "          if (!dataTable) return;\n",
              "\n",
              "          const docLinkHtml = 'Like what you see? Visit the ' +\n",
              "            '<a target=\"_blank\" href=https://colab.research.google.com/notebooks/data_table.ipynb>data table notebook</a>'\n",
              "            + ' to learn more about interactive tables.';\n",
              "          element.innerHTML = '';\n",
              "          dataTable['output_type'] = 'display_data';\n",
              "          await google.colab.output.renderOutput(dataTable, element);\n",
              "          const docLink = document.createElement('div');\n",
              "          docLink.innerHTML = docLinkHtml;\n",
              "          element.appendChild(docLink);\n",
              "        }\n",
              "      </script>\n",
              "    </div>\n",
              "  </div>\n",
              "  "
            ]
          },
          "metadata": {},
          "execution_count": 1741
        }
      ]
    },
    {
      "cell_type": "code",
      "source": [
        "stack_c = pd.DataFrame()\n",
        "for i in range(n):\n",
        "  col = np.array(cost['R{}'.format(i)])\n",
        "  col_min = min(col)\n",
        "  col = col - col_min\n",
        "  col = pd.DataFrame(col)\n",
        "  stack_c[i] = col\n",
        "stack_c"
      ],
      "metadata": {
        "id": "L_fEqIMIsiTV",
        "colab": {
          "base_uri": "https://localhost:8080/",
          "height": 175
        },
        "outputId": "545ee3a6-2773-480a-f9fb-e07aea73dabf"
      },
      "execution_count": 1742,
      "outputs": [
        {
          "output_type": "execute_result",
          "data": {
            "text/plain": [
              "   0  1   2  3\n",
              "0  7  0   0  0\n",
              "1  3  2   9  6\n",
              "2  0  0   4  0\n",
              "3  2  5  10  3"
            ],
            "text/html": [
              "\n",
              "  <div id=\"df-487e77f6-6818-454b-a362-ba682bc39062\">\n",
              "    <div class=\"colab-df-container\">\n",
              "      <div>\n",
              "<style scoped>\n",
              "    .dataframe tbody tr th:only-of-type {\n",
              "        vertical-align: middle;\n",
              "    }\n",
              "\n",
              "    .dataframe tbody tr th {\n",
              "        vertical-align: top;\n",
              "    }\n",
              "\n",
              "    .dataframe thead th {\n",
              "        text-align: right;\n",
              "    }\n",
              "</style>\n",
              "<table border=\"1\" class=\"dataframe\">\n",
              "  <thead>\n",
              "    <tr style=\"text-align: right;\">\n",
              "      <th></th>\n",
              "      <th>0</th>\n",
              "      <th>1</th>\n",
              "      <th>2</th>\n",
              "      <th>3</th>\n",
              "    </tr>\n",
              "  </thead>\n",
              "  <tbody>\n",
              "    <tr>\n",
              "      <th>0</th>\n",
              "      <td>7</td>\n",
              "      <td>0</td>\n",
              "      <td>0</td>\n",
              "      <td>0</td>\n",
              "    </tr>\n",
              "    <tr>\n",
              "      <th>1</th>\n",
              "      <td>3</td>\n",
              "      <td>2</td>\n",
              "      <td>9</td>\n",
              "      <td>6</td>\n",
              "    </tr>\n",
              "    <tr>\n",
              "      <th>2</th>\n",
              "      <td>0</td>\n",
              "      <td>0</td>\n",
              "      <td>4</td>\n",
              "      <td>0</td>\n",
              "    </tr>\n",
              "    <tr>\n",
              "      <th>3</th>\n",
              "      <td>2</td>\n",
              "      <td>5</td>\n",
              "      <td>10</td>\n",
              "      <td>3</td>\n",
              "    </tr>\n",
              "  </tbody>\n",
              "</table>\n",
              "</div>\n",
              "      <button class=\"colab-df-convert\" onclick=\"convertToInteractive('df-487e77f6-6818-454b-a362-ba682bc39062')\"\n",
              "              title=\"Convert this dataframe to an interactive table.\"\n",
              "              style=\"display:none;\">\n",
              "        \n",
              "  <svg xmlns=\"http://www.w3.org/2000/svg\" height=\"24px\"viewBox=\"0 0 24 24\"\n",
              "       width=\"24px\">\n",
              "    <path d=\"M0 0h24v24H0V0z\" fill=\"none\"/>\n",
              "    <path d=\"M18.56 5.44l.94 2.06.94-2.06 2.06-.94-2.06-.94-.94-2.06-.94 2.06-2.06.94zm-11 1L8.5 8.5l.94-2.06 2.06-.94-2.06-.94L8.5 2.5l-.94 2.06-2.06.94zm10 10l.94 2.06.94-2.06 2.06-.94-2.06-.94-.94-2.06-.94 2.06-2.06.94z\"/><path d=\"M17.41 7.96l-1.37-1.37c-.4-.4-.92-.59-1.43-.59-.52 0-1.04.2-1.43.59L10.3 9.45l-7.72 7.72c-.78.78-.78 2.05 0 2.83L4 21.41c.39.39.9.59 1.41.59.51 0 1.02-.2 1.41-.59l7.78-7.78 2.81-2.81c.8-.78.8-2.07 0-2.86zM5.41 20L4 18.59l7.72-7.72 1.47 1.35L5.41 20z\"/>\n",
              "  </svg>\n",
              "      </button>\n",
              "      \n",
              "  <style>\n",
              "    .colab-df-container {\n",
              "      display:flex;\n",
              "      flex-wrap:wrap;\n",
              "      gap: 12px;\n",
              "    }\n",
              "\n",
              "    .colab-df-convert {\n",
              "      background-color: #E8F0FE;\n",
              "      border: none;\n",
              "      border-radius: 50%;\n",
              "      cursor: pointer;\n",
              "      display: none;\n",
              "      fill: #1967D2;\n",
              "      height: 32px;\n",
              "      padding: 0 0 0 0;\n",
              "      width: 32px;\n",
              "    }\n",
              "\n",
              "    .colab-df-convert:hover {\n",
              "      background-color: #E2EBFA;\n",
              "      box-shadow: 0px 1px 2px rgba(60, 64, 67, 0.3), 0px 1px 3px 1px rgba(60, 64, 67, 0.15);\n",
              "      fill: #174EA6;\n",
              "    }\n",
              "\n",
              "    [theme=dark] .colab-df-convert {\n",
              "      background-color: #3B4455;\n",
              "      fill: #D2E3FC;\n",
              "    }\n",
              "\n",
              "    [theme=dark] .colab-df-convert:hover {\n",
              "      background-color: #434B5C;\n",
              "      box-shadow: 0px 1px 3px 1px rgba(0, 0, 0, 0.15);\n",
              "      filter: drop-shadow(0px 1px 2px rgba(0, 0, 0, 0.3));\n",
              "      fill: #FFFFFF;\n",
              "    }\n",
              "  </style>\n",
              "\n",
              "      <script>\n",
              "        const buttonEl =\n",
              "          document.querySelector('#df-487e77f6-6818-454b-a362-ba682bc39062 button.colab-df-convert');\n",
              "        buttonEl.style.display =\n",
              "          google.colab.kernel.accessAllowed ? 'block' : 'none';\n",
              "\n",
              "        async function convertToInteractive(key) {\n",
              "          const element = document.querySelector('#df-487e77f6-6818-454b-a362-ba682bc39062');\n",
              "          const dataTable =\n",
              "            await google.colab.kernel.invokeFunction('convertToInteractive',\n",
              "                                                     [key], {});\n",
              "          if (!dataTable) return;\n",
              "\n",
              "          const docLinkHtml = 'Like what you see? Visit the ' +\n",
              "            '<a target=\"_blank\" href=https://colab.research.google.com/notebooks/data_table.ipynb>data table notebook</a>'\n",
              "            + ' to learn more about interactive tables.';\n",
              "          element.innerHTML = '';\n",
              "          dataTable['output_type'] = 'display_data';\n",
              "          await google.colab.output.renderOutput(dataTable, element);\n",
              "          const docLink = document.createElement('div');\n",
              "          docLink.innerHTML = docLinkHtml;\n",
              "          element.appendChild(docLink);\n",
              "        }\n",
              "      </script>\n",
              "    </div>\n",
              "  </div>\n",
              "  "
            ]
          },
          "metadata": {},
          "execution_count": 1742
        }
      ]
    },
    {
      "cell_type": "code",
      "source": [
        "stack_r = pd.DataFrame()\n",
        "for i in range(n):\n",
        "  row = stack_c.iloc[i][:]\n",
        "  row_min = min(row)\n",
        "  row = row - row_min\n",
        "  row = pd.DataFrame(row)\n",
        "  stack_r[i] = row\n",
        "stack_r = stack_r.transpose()\n",
        "stack_r"
      ],
      "metadata": {
        "colab": {
          "base_uri": "https://localhost:8080/",
          "height": 175
        },
        "id": "RRgosg2HdBf3",
        "outputId": "82219a28-696b-4230-cc73-780566ee5eca"
      },
      "execution_count": 1743,
      "outputs": [
        {
          "output_type": "execute_result",
          "data": {
            "text/plain": [
              "   0  1  2  3\n",
              "0  7  0  0  0\n",
              "1  1  0  7  4\n",
              "2  0  0  4  0\n",
              "3  0  3  8  1"
            ],
            "text/html": [
              "\n",
              "  <div id=\"df-2c80001c-3e36-4c17-bb66-302d40f273a7\">\n",
              "    <div class=\"colab-df-container\">\n",
              "      <div>\n",
              "<style scoped>\n",
              "    .dataframe tbody tr th:only-of-type {\n",
              "        vertical-align: middle;\n",
              "    }\n",
              "\n",
              "    .dataframe tbody tr th {\n",
              "        vertical-align: top;\n",
              "    }\n",
              "\n",
              "    .dataframe thead th {\n",
              "        text-align: right;\n",
              "    }\n",
              "</style>\n",
              "<table border=\"1\" class=\"dataframe\">\n",
              "  <thead>\n",
              "    <tr style=\"text-align: right;\">\n",
              "      <th></th>\n",
              "      <th>0</th>\n",
              "      <th>1</th>\n",
              "      <th>2</th>\n",
              "      <th>3</th>\n",
              "    </tr>\n",
              "  </thead>\n",
              "  <tbody>\n",
              "    <tr>\n",
              "      <th>0</th>\n",
              "      <td>7</td>\n",
              "      <td>0</td>\n",
              "      <td>0</td>\n",
              "      <td>0</td>\n",
              "    </tr>\n",
              "    <tr>\n",
              "      <th>1</th>\n",
              "      <td>1</td>\n",
              "      <td>0</td>\n",
              "      <td>7</td>\n",
              "      <td>4</td>\n",
              "    </tr>\n",
              "    <tr>\n",
              "      <th>2</th>\n",
              "      <td>0</td>\n",
              "      <td>0</td>\n",
              "      <td>4</td>\n",
              "      <td>0</td>\n",
              "    </tr>\n",
              "    <tr>\n",
              "      <th>3</th>\n",
              "      <td>0</td>\n",
              "      <td>3</td>\n",
              "      <td>8</td>\n",
              "      <td>1</td>\n",
              "    </tr>\n",
              "  </tbody>\n",
              "</table>\n",
              "</div>\n",
              "      <button class=\"colab-df-convert\" onclick=\"convertToInteractive('df-2c80001c-3e36-4c17-bb66-302d40f273a7')\"\n",
              "              title=\"Convert this dataframe to an interactive table.\"\n",
              "              style=\"display:none;\">\n",
              "        \n",
              "  <svg xmlns=\"http://www.w3.org/2000/svg\" height=\"24px\"viewBox=\"0 0 24 24\"\n",
              "       width=\"24px\">\n",
              "    <path d=\"M0 0h24v24H0V0z\" fill=\"none\"/>\n",
              "    <path d=\"M18.56 5.44l.94 2.06.94-2.06 2.06-.94-2.06-.94-.94-2.06-.94 2.06-2.06.94zm-11 1L8.5 8.5l.94-2.06 2.06-.94-2.06-.94L8.5 2.5l-.94 2.06-2.06.94zm10 10l.94 2.06.94-2.06 2.06-.94-2.06-.94-.94-2.06-.94 2.06-2.06.94z\"/><path d=\"M17.41 7.96l-1.37-1.37c-.4-.4-.92-.59-1.43-.59-.52 0-1.04.2-1.43.59L10.3 9.45l-7.72 7.72c-.78.78-.78 2.05 0 2.83L4 21.41c.39.39.9.59 1.41.59.51 0 1.02-.2 1.41-.59l7.78-7.78 2.81-2.81c.8-.78.8-2.07 0-2.86zM5.41 20L4 18.59l7.72-7.72 1.47 1.35L5.41 20z\"/>\n",
              "  </svg>\n",
              "      </button>\n",
              "      \n",
              "  <style>\n",
              "    .colab-df-container {\n",
              "      display:flex;\n",
              "      flex-wrap:wrap;\n",
              "      gap: 12px;\n",
              "    }\n",
              "\n",
              "    .colab-df-convert {\n",
              "      background-color: #E8F0FE;\n",
              "      border: none;\n",
              "      border-radius: 50%;\n",
              "      cursor: pointer;\n",
              "      display: none;\n",
              "      fill: #1967D2;\n",
              "      height: 32px;\n",
              "      padding: 0 0 0 0;\n",
              "      width: 32px;\n",
              "    }\n",
              "\n",
              "    .colab-df-convert:hover {\n",
              "      background-color: #E2EBFA;\n",
              "      box-shadow: 0px 1px 2px rgba(60, 64, 67, 0.3), 0px 1px 3px 1px rgba(60, 64, 67, 0.15);\n",
              "      fill: #174EA6;\n",
              "    }\n",
              "\n",
              "    [theme=dark] .colab-df-convert {\n",
              "      background-color: #3B4455;\n",
              "      fill: #D2E3FC;\n",
              "    }\n",
              "\n",
              "    [theme=dark] .colab-df-convert:hover {\n",
              "      background-color: #434B5C;\n",
              "      box-shadow: 0px 1px 3px 1px rgba(0, 0, 0, 0.15);\n",
              "      filter: drop-shadow(0px 1px 2px rgba(0, 0, 0, 0.3));\n",
              "      fill: #FFFFFF;\n",
              "    }\n",
              "  </style>\n",
              "\n",
              "      <script>\n",
              "        const buttonEl =\n",
              "          document.querySelector('#df-2c80001c-3e36-4c17-bb66-302d40f273a7 button.colab-df-convert');\n",
              "        buttonEl.style.display =\n",
              "          google.colab.kernel.accessAllowed ? 'block' : 'none';\n",
              "\n",
              "        async function convertToInteractive(key) {\n",
              "          const element = document.querySelector('#df-2c80001c-3e36-4c17-bb66-302d40f273a7');\n",
              "          const dataTable =\n",
              "            await google.colab.kernel.invokeFunction('convertToInteractive',\n",
              "                                                     [key], {});\n",
              "          if (!dataTable) return;\n",
              "\n",
              "          const docLinkHtml = 'Like what you see? Visit the ' +\n",
              "            '<a target=\"_blank\" href=https://colab.research.google.com/notebooks/data_table.ipynb>data table notebook</a>'\n",
              "            + ' to learn more about interactive tables.';\n",
              "          element.innerHTML = '';\n",
              "          dataTable['output_type'] = 'display_data';\n",
              "          await google.colab.output.renderOutput(dataTable, element);\n",
              "          const docLink = document.createElement('div');\n",
              "          docLink.innerHTML = docLinkHtml;\n",
              "          element.appendChild(docLink);\n",
              "        }\n",
              "      </script>\n",
              "    </div>\n",
              "  </div>\n",
              "  "
            ]
          },
          "metadata": {},
          "execution_count": 1743
        }
      ]
    },
    {
      "cell_type": "code",
      "source": [
        "count_col = 0\n",
        "count_col_lst = []\n",
        "for i in range(n):\n",
        "  for j in range(n):\n",
        "    if(stack_r.iloc[i][j] == 0):\n",
        "      count_col += 1\n",
        "\n",
        "  globals()[\"Zero_cnt_col{}\".format(i)] = count_col\n",
        "  count_col_lst.append(int(count_col))\n",
        "  count_col = 0\n",
        "\n",
        "\n",
        "count_row = 0\n",
        "count_row_lst = []\n",
        "for i in range(n):\n",
        "  for j in range(n):\n",
        "    if(stack_r.iloc[j][i] == 0):\n",
        "      count_row += 1\n",
        "\n",
        "  globals()[\"Zero_cnt_row{}\".format(i)] = count_row\n",
        "  count_row_lst.append(int(count_row))\n",
        "  count_row = 0\n",
        "\n",
        "\n",
        "print('row의 0의 수 : {}'.format(count_row_lst))\n",
        "print('col의 0의 수 : {}'.format(count_col_lst))"
      ],
      "metadata": {
        "id": "iQ-ydBaKzPSE",
        "colab": {
          "base_uri": "https://localhost:8080/"
        },
        "outputId": "f03b99ad-971a-4f29-cca5-cbbee087f254"
      },
      "execution_count": 1744,
      "outputs": [
        {
          "output_type": "stream",
          "name": "stdout",
          "text": [
            "row의 0의 수 : [2, 3, 1, 2]\n",
            "col의 0의 수 : [3, 1, 3, 1]\n"
          ]
        }
      ]
    },
    {
      "cell_type": "code",
      "source": [
        "row_zero_index = [i for i, value in enumerate(count_row_lst) if value == np.max(count_row_lst)]\n",
        "col_zero_index = [i for i, value in enumerate(count_col_lst) if value == np.max(count_col_lst)]\n",
        "\n",
        "choice = []\n",
        "choice.append(int(np.max(count_row_lst)))\n",
        "choice.append(int(np.max(count_col_lst)))\n",
        "choice = int(np.argmax(choice))\n",
        "print('row의 0의 수 Max값 : {}'.format(np.max(count_row_lst)))\n",
        "print('col의 0의 수 Max값 : {}'.format(np.max(count_col_lst)))\n",
        "print('row의 0의 수 Max값 index : {}'.format(np.max(row_zero_index)))\n",
        "print('col의 0의 수 Max값 index : {}'.format(np.max(col_zero_index)))\n",
        "\n",
        "if(choice == 0):\n",
        "  choice_str = \"행\"\n",
        "else:\n",
        "  choice_str = \"열\"\n",
        "print('삭제할 곳 선택 : {}'.format(choice_str))"
      ],
      "metadata": {
        "colab": {
          "base_uri": "https://localhost:8080/"
        },
        "id": "9dzpgFg9urlo",
        "outputId": "67c5d532-322e-47a6-a968-a34f72e52003"
      },
      "execution_count": 1745,
      "outputs": [
        {
          "output_type": "stream",
          "name": "stdout",
          "text": [
            "row의 0의 수 Max값 : 3\n",
            "col의 0의 수 Max값 : 3\n",
            "row의 0의 수 Max값 index : 1\n",
            "col의 0의 수 Max값 index : 2\n",
            "삭제할 곳 선택 : 행\n"
          ]
        }
      ]
    },
    {
      "cell_type": "code",
      "source": [
        "if(choice == 0):\n",
        "  result_step1 = stack_r.drop(row_zero_index[0], axis='columns')\n",
        "else:\n",
        "  result_step1 = stack_r.drop(columns=col_zero_index[0])\n",
        "result_step1= pd.DataFrame(np.array(result_step1))\n",
        "result_step1"
      ],
      "metadata": {
        "id": "UpCW6AvB4rlB",
        "colab": {
          "base_uri": "https://localhost:8080/",
          "height": 175
        },
        "outputId": "1ee5b312-fa58-4843-de18-0a61dc5899b6"
      },
      "execution_count": 1746,
      "outputs": [
        {
          "output_type": "execute_result",
          "data": {
            "text/plain": [
              "   0  1  2\n",
              "0  7  0  0\n",
              "1  1  7  4\n",
              "2  0  4  0\n",
              "3  0  8  1"
            ],
            "text/html": [
              "\n",
              "  <div id=\"df-3a1a0e42-e3df-44c2-b7f1-a7028ce6a714\">\n",
              "    <div class=\"colab-df-container\">\n",
              "      <div>\n",
              "<style scoped>\n",
              "    .dataframe tbody tr th:only-of-type {\n",
              "        vertical-align: middle;\n",
              "    }\n",
              "\n",
              "    .dataframe tbody tr th {\n",
              "        vertical-align: top;\n",
              "    }\n",
              "\n",
              "    .dataframe thead th {\n",
              "        text-align: right;\n",
              "    }\n",
              "</style>\n",
              "<table border=\"1\" class=\"dataframe\">\n",
              "  <thead>\n",
              "    <tr style=\"text-align: right;\">\n",
              "      <th></th>\n",
              "      <th>0</th>\n",
              "      <th>1</th>\n",
              "      <th>2</th>\n",
              "    </tr>\n",
              "  </thead>\n",
              "  <tbody>\n",
              "    <tr>\n",
              "      <th>0</th>\n",
              "      <td>7</td>\n",
              "      <td>0</td>\n",
              "      <td>0</td>\n",
              "    </tr>\n",
              "    <tr>\n",
              "      <th>1</th>\n",
              "      <td>1</td>\n",
              "      <td>7</td>\n",
              "      <td>4</td>\n",
              "    </tr>\n",
              "    <tr>\n",
              "      <th>2</th>\n",
              "      <td>0</td>\n",
              "      <td>4</td>\n",
              "      <td>0</td>\n",
              "    </tr>\n",
              "    <tr>\n",
              "      <th>3</th>\n",
              "      <td>0</td>\n",
              "      <td>8</td>\n",
              "      <td>1</td>\n",
              "    </tr>\n",
              "  </tbody>\n",
              "</table>\n",
              "</div>\n",
              "      <button class=\"colab-df-convert\" onclick=\"convertToInteractive('df-3a1a0e42-e3df-44c2-b7f1-a7028ce6a714')\"\n",
              "              title=\"Convert this dataframe to an interactive table.\"\n",
              "              style=\"display:none;\">\n",
              "        \n",
              "  <svg xmlns=\"http://www.w3.org/2000/svg\" height=\"24px\"viewBox=\"0 0 24 24\"\n",
              "       width=\"24px\">\n",
              "    <path d=\"M0 0h24v24H0V0z\" fill=\"none\"/>\n",
              "    <path d=\"M18.56 5.44l.94 2.06.94-2.06 2.06-.94-2.06-.94-.94-2.06-.94 2.06-2.06.94zm-11 1L8.5 8.5l.94-2.06 2.06-.94-2.06-.94L8.5 2.5l-.94 2.06-2.06.94zm10 10l.94 2.06.94-2.06 2.06-.94-2.06-.94-.94-2.06-.94 2.06-2.06.94z\"/><path d=\"M17.41 7.96l-1.37-1.37c-.4-.4-.92-.59-1.43-.59-.52 0-1.04.2-1.43.59L10.3 9.45l-7.72 7.72c-.78.78-.78 2.05 0 2.83L4 21.41c.39.39.9.59 1.41.59.51 0 1.02-.2 1.41-.59l7.78-7.78 2.81-2.81c.8-.78.8-2.07 0-2.86zM5.41 20L4 18.59l7.72-7.72 1.47 1.35L5.41 20z\"/>\n",
              "  </svg>\n",
              "      </button>\n",
              "      \n",
              "  <style>\n",
              "    .colab-df-container {\n",
              "      display:flex;\n",
              "      flex-wrap:wrap;\n",
              "      gap: 12px;\n",
              "    }\n",
              "\n",
              "    .colab-df-convert {\n",
              "      background-color: #E8F0FE;\n",
              "      border: none;\n",
              "      border-radius: 50%;\n",
              "      cursor: pointer;\n",
              "      display: none;\n",
              "      fill: #1967D2;\n",
              "      height: 32px;\n",
              "      padding: 0 0 0 0;\n",
              "      width: 32px;\n",
              "    }\n",
              "\n",
              "    .colab-df-convert:hover {\n",
              "      background-color: #E2EBFA;\n",
              "      box-shadow: 0px 1px 2px rgba(60, 64, 67, 0.3), 0px 1px 3px 1px rgba(60, 64, 67, 0.15);\n",
              "      fill: #174EA6;\n",
              "    }\n",
              "\n",
              "    [theme=dark] .colab-df-convert {\n",
              "      background-color: #3B4455;\n",
              "      fill: #D2E3FC;\n",
              "    }\n",
              "\n",
              "    [theme=dark] .colab-df-convert:hover {\n",
              "      background-color: #434B5C;\n",
              "      box-shadow: 0px 1px 3px 1px rgba(0, 0, 0, 0.15);\n",
              "      filter: drop-shadow(0px 1px 2px rgba(0, 0, 0, 0.3));\n",
              "      fill: #FFFFFF;\n",
              "    }\n",
              "  </style>\n",
              "\n",
              "      <script>\n",
              "        const buttonEl =\n",
              "          document.querySelector('#df-3a1a0e42-e3df-44c2-b7f1-a7028ce6a714 button.colab-df-convert');\n",
              "        buttonEl.style.display =\n",
              "          google.colab.kernel.accessAllowed ? 'block' : 'none';\n",
              "\n",
              "        async function convertToInteractive(key) {\n",
              "          const element = document.querySelector('#df-3a1a0e42-e3df-44c2-b7f1-a7028ce6a714');\n",
              "          const dataTable =\n",
              "            await google.colab.kernel.invokeFunction('convertToInteractive',\n",
              "                                                     [key], {});\n",
              "          if (!dataTable) return;\n",
              "\n",
              "          const docLinkHtml = 'Like what you see? Visit the ' +\n",
              "            '<a target=\"_blank\" href=https://colab.research.google.com/notebooks/data_table.ipynb>data table notebook</a>'\n",
              "            + ' to learn more about interactive tables.';\n",
              "          element.innerHTML = '';\n",
              "          dataTable['output_type'] = 'display_data';\n",
              "          await google.colab.output.renderOutput(dataTable, element);\n",
              "          const docLink = document.createElement('div');\n",
              "          docLink.innerHTML = docLinkHtml;\n",
              "          element.appendChild(docLink);\n",
              "        }\n",
              "      </script>\n",
              "    </div>\n",
              "  </div>\n",
              "  "
            ]
          },
          "metadata": {},
          "execution_count": 1746
        }
      ]
    },
    {
      "cell_type": "code",
      "source": [
        "count_col = 0\n",
        "count_col_lst = []\n",
        "for i in range(len(result_step1.index)):\n",
        "  for j in range(len(result_step1.columns)):\n",
        "    if(int(result_step1.iloc[i][j]) == 0):\n",
        "      count_col += 1\n",
        "  globals()[\"Zero_cnt_col{}\".format(i)] = count_col\n",
        "  count_col_lst.append(int(count_col))\n",
        "  count_col = 0\n",
        "\n",
        "count_row = 0\n",
        "count_row_lst = []\n",
        "for i in range(len(result_step1.columns)):\n",
        "  for j in range(len(result_step1.index)):\n",
        "    if(int(result_step1.iloc[j][i]) == 0):\n",
        "      count_row += 1\n",
        "\n",
        "  globals()[\"Zero_cnt_row{}\".format(i)] = count_row\n",
        "  count_row_lst.append(int(count_row))\n",
        "  count_row = 0\n"
      ],
      "metadata": {
        "id": "xUm9gnA56PRT"
      },
      "execution_count": 1747,
      "outputs": []
    },
    {
      "cell_type": "code",
      "source": [
        "row_zero_index = [i for i, value in enumerate(count_row_lst) if value == np.max(count_row_lst)]\n",
        "col_zero_index = [i for i, value in enumerate(count_col_lst) if value == np.max(count_col_lst)]\n",
        "\n",
        "choice = []\n",
        "choice.append(int(np.max(count_row_lst)))\n",
        "choice.append(int(np.max(count_col_lst)))\n",
        "choice = int(np.argmax(choice))\n",
        "np.max(count_row_lst),np.max(count_col_lst), choice"
      ],
      "metadata": {
        "colab": {
          "base_uri": "https://localhost:8080/"
        },
        "id": "-3HB23Wfu4yV",
        "outputId": "7e653cde-4edd-4fa2-f88e-438f62dcd7cb"
      },
      "execution_count": 1748,
      "outputs": [
        {
          "output_type": "execute_result",
          "data": {
            "text/plain": [
              "(2, 2, 0)"
            ]
          },
          "metadata": {},
          "execution_count": 1748
        }
      ]
    },
    {
      "cell_type": "code",
      "source": [
        "count_row_lst, count_col_lst "
      ],
      "metadata": {
        "colab": {
          "base_uri": "https://localhost:8080/"
        },
        "id": "t3Dm_K_IAs0I",
        "outputId": "73e17b94-f263-4d72-b7ba-8cab9354da36"
      },
      "execution_count": 1749,
      "outputs": [
        {
          "output_type": "execute_result",
          "data": {
            "text/plain": [
              "([2, 1, 2], [2, 0, 2, 1])"
            ]
          },
          "metadata": {},
          "execution_count": 1749
        }
      ]
    },
    {
      "cell_type": "code",
      "source": [
        "choice"
      ],
      "metadata": {
        "colab": {
          "base_uri": "https://localhost:8080/"
        },
        "id": "0crN6D4ou1dV",
        "outputId": "dcf2f68a-b8fa-4b7d-da2e-2e1e5871e034"
      },
      "execution_count": 1750,
      "outputs": [
        {
          "output_type": "execute_result",
          "data": {
            "text/plain": [
              "0"
            ]
          },
          "metadata": {},
          "execution_count": 1750
        }
      ]
    },
    {
      "cell_type": "code",
      "source": [
        "if(choice == 0):\n",
        "  result_step2 = result_step1.drop(row_zero_index[0], axis='columns')\n",
        "else:\n",
        "  result_step2 = result_step1.drop(columns=col_zero_index[0])\n"
      ],
      "metadata": {
        "id": "idC6bjPfqZum"
      },
      "execution_count": 1751,
      "outputs": []
    },
    {
      "cell_type": "code",
      "source": [
        "result_step2"
      ],
      "metadata": {
        "colab": {
          "base_uri": "https://localhost:8080/",
          "height": 175
        },
        "id": "DvU9OBlsqcq5",
        "outputId": "8fb775cf-22b3-4b06-8b49-b6eeb0f10afc"
      },
      "execution_count": 1752,
      "outputs": [
        {
          "output_type": "execute_result",
          "data": {
            "text/plain": [
              "   1  2\n",
              "0  0  0\n",
              "1  7  4\n",
              "2  4  0\n",
              "3  8  1"
            ],
            "text/html": [
              "\n",
              "  <div id=\"df-49016fac-0349-4253-9082-54a855df773c\">\n",
              "    <div class=\"colab-df-container\">\n",
              "      <div>\n",
              "<style scoped>\n",
              "    .dataframe tbody tr th:only-of-type {\n",
              "        vertical-align: middle;\n",
              "    }\n",
              "\n",
              "    .dataframe tbody tr th {\n",
              "        vertical-align: top;\n",
              "    }\n",
              "\n",
              "    .dataframe thead th {\n",
              "        text-align: right;\n",
              "    }\n",
              "</style>\n",
              "<table border=\"1\" class=\"dataframe\">\n",
              "  <thead>\n",
              "    <tr style=\"text-align: right;\">\n",
              "      <th></th>\n",
              "      <th>1</th>\n",
              "      <th>2</th>\n",
              "    </tr>\n",
              "  </thead>\n",
              "  <tbody>\n",
              "    <tr>\n",
              "      <th>0</th>\n",
              "      <td>0</td>\n",
              "      <td>0</td>\n",
              "    </tr>\n",
              "    <tr>\n",
              "      <th>1</th>\n",
              "      <td>7</td>\n",
              "      <td>4</td>\n",
              "    </tr>\n",
              "    <tr>\n",
              "      <th>2</th>\n",
              "      <td>4</td>\n",
              "      <td>0</td>\n",
              "    </tr>\n",
              "    <tr>\n",
              "      <th>3</th>\n",
              "      <td>8</td>\n",
              "      <td>1</td>\n",
              "    </tr>\n",
              "  </tbody>\n",
              "</table>\n",
              "</div>\n",
              "      <button class=\"colab-df-convert\" onclick=\"convertToInteractive('df-49016fac-0349-4253-9082-54a855df773c')\"\n",
              "              title=\"Convert this dataframe to an interactive table.\"\n",
              "              style=\"display:none;\">\n",
              "        \n",
              "  <svg xmlns=\"http://www.w3.org/2000/svg\" height=\"24px\"viewBox=\"0 0 24 24\"\n",
              "       width=\"24px\">\n",
              "    <path d=\"M0 0h24v24H0V0z\" fill=\"none\"/>\n",
              "    <path d=\"M18.56 5.44l.94 2.06.94-2.06 2.06-.94-2.06-.94-.94-2.06-.94 2.06-2.06.94zm-11 1L8.5 8.5l.94-2.06 2.06-.94-2.06-.94L8.5 2.5l-.94 2.06-2.06.94zm10 10l.94 2.06.94-2.06 2.06-.94-2.06-.94-.94-2.06-.94 2.06-2.06.94z\"/><path d=\"M17.41 7.96l-1.37-1.37c-.4-.4-.92-.59-1.43-.59-.52 0-1.04.2-1.43.59L10.3 9.45l-7.72 7.72c-.78.78-.78 2.05 0 2.83L4 21.41c.39.39.9.59 1.41.59.51 0 1.02-.2 1.41-.59l7.78-7.78 2.81-2.81c.8-.78.8-2.07 0-2.86zM5.41 20L4 18.59l7.72-7.72 1.47 1.35L5.41 20z\"/>\n",
              "  </svg>\n",
              "      </button>\n",
              "      \n",
              "  <style>\n",
              "    .colab-df-container {\n",
              "      display:flex;\n",
              "      flex-wrap:wrap;\n",
              "      gap: 12px;\n",
              "    }\n",
              "\n",
              "    .colab-df-convert {\n",
              "      background-color: #E8F0FE;\n",
              "      border: none;\n",
              "      border-radius: 50%;\n",
              "      cursor: pointer;\n",
              "      display: none;\n",
              "      fill: #1967D2;\n",
              "      height: 32px;\n",
              "      padding: 0 0 0 0;\n",
              "      width: 32px;\n",
              "    }\n",
              "\n",
              "    .colab-df-convert:hover {\n",
              "      background-color: #E2EBFA;\n",
              "      box-shadow: 0px 1px 2px rgba(60, 64, 67, 0.3), 0px 1px 3px 1px rgba(60, 64, 67, 0.15);\n",
              "      fill: #174EA6;\n",
              "    }\n",
              "\n",
              "    [theme=dark] .colab-df-convert {\n",
              "      background-color: #3B4455;\n",
              "      fill: #D2E3FC;\n",
              "    }\n",
              "\n",
              "    [theme=dark] .colab-df-convert:hover {\n",
              "      background-color: #434B5C;\n",
              "      box-shadow: 0px 1px 3px 1px rgba(0, 0, 0, 0.15);\n",
              "      filter: drop-shadow(0px 1px 2px rgba(0, 0, 0, 0.3));\n",
              "      fill: #FFFFFF;\n",
              "    }\n",
              "  </style>\n",
              "\n",
              "      <script>\n",
              "        const buttonEl =\n",
              "          document.querySelector('#df-49016fac-0349-4253-9082-54a855df773c button.colab-df-convert');\n",
              "        buttonEl.style.display =\n",
              "          google.colab.kernel.accessAllowed ? 'block' : 'none';\n",
              "\n",
              "        async function convertToInteractive(key) {\n",
              "          const element = document.querySelector('#df-49016fac-0349-4253-9082-54a855df773c');\n",
              "          const dataTable =\n",
              "            await google.colab.kernel.invokeFunction('convertToInteractive',\n",
              "                                                     [key], {});\n",
              "          if (!dataTable) return;\n",
              "\n",
              "          const docLinkHtml = 'Like what you see? Visit the ' +\n",
              "            '<a target=\"_blank\" href=https://colab.research.google.com/notebooks/data_table.ipynb>data table notebook</a>'\n",
              "            + ' to learn more about interactive tables.';\n",
              "          element.innerHTML = '';\n",
              "          dataTable['output_type'] = 'display_data';\n",
              "          await google.colab.output.renderOutput(dataTable, element);\n",
              "          const docLink = document.createElement('div');\n",
              "          docLink.innerHTML = docLinkHtml;\n",
              "          element.appendChild(docLink);\n",
              "        }\n",
              "      </script>\n",
              "    </div>\n",
              "  </div>\n",
              "  "
            ]
          },
          "metadata": {},
          "execution_count": 1752
        }
      ]
    },
    {
      "cell_type": "code",
      "source": [
        "result_step2= pd.DataFrame(np.array(result_step2))"
      ],
      "metadata": {
        "id": "okySdbWqCxse"
      },
      "execution_count": 1753,
      "outputs": []
    },
    {
      "cell_type": "code",
      "source": [
        "result_step2"
      ],
      "metadata": {
        "colab": {
          "base_uri": "https://localhost:8080/",
          "height": 175
        },
        "id": "jeOI54wwvGN0",
        "outputId": "1e376c8f-02f5-4d74-e236-f2e75f6f282d"
      },
      "execution_count": 1754,
      "outputs": [
        {
          "output_type": "execute_result",
          "data": {
            "text/plain": [
              "   0  1\n",
              "0  0  0\n",
              "1  7  4\n",
              "2  4  0\n",
              "3  8  1"
            ],
            "text/html": [
              "\n",
              "  <div id=\"df-bc836bf2-1cf9-4722-8895-3cd1c386ee17\">\n",
              "    <div class=\"colab-df-container\">\n",
              "      <div>\n",
              "<style scoped>\n",
              "    .dataframe tbody tr th:only-of-type {\n",
              "        vertical-align: middle;\n",
              "    }\n",
              "\n",
              "    .dataframe tbody tr th {\n",
              "        vertical-align: top;\n",
              "    }\n",
              "\n",
              "    .dataframe thead th {\n",
              "        text-align: right;\n",
              "    }\n",
              "</style>\n",
              "<table border=\"1\" class=\"dataframe\">\n",
              "  <thead>\n",
              "    <tr style=\"text-align: right;\">\n",
              "      <th></th>\n",
              "      <th>0</th>\n",
              "      <th>1</th>\n",
              "    </tr>\n",
              "  </thead>\n",
              "  <tbody>\n",
              "    <tr>\n",
              "      <th>0</th>\n",
              "      <td>0</td>\n",
              "      <td>0</td>\n",
              "    </tr>\n",
              "    <tr>\n",
              "      <th>1</th>\n",
              "      <td>7</td>\n",
              "      <td>4</td>\n",
              "    </tr>\n",
              "    <tr>\n",
              "      <th>2</th>\n",
              "      <td>4</td>\n",
              "      <td>0</td>\n",
              "    </tr>\n",
              "    <tr>\n",
              "      <th>3</th>\n",
              "      <td>8</td>\n",
              "      <td>1</td>\n",
              "    </tr>\n",
              "  </tbody>\n",
              "</table>\n",
              "</div>\n",
              "      <button class=\"colab-df-convert\" onclick=\"convertToInteractive('df-bc836bf2-1cf9-4722-8895-3cd1c386ee17')\"\n",
              "              title=\"Convert this dataframe to an interactive table.\"\n",
              "              style=\"display:none;\">\n",
              "        \n",
              "  <svg xmlns=\"http://www.w3.org/2000/svg\" height=\"24px\"viewBox=\"0 0 24 24\"\n",
              "       width=\"24px\">\n",
              "    <path d=\"M0 0h24v24H0V0z\" fill=\"none\"/>\n",
              "    <path d=\"M18.56 5.44l.94 2.06.94-2.06 2.06-.94-2.06-.94-.94-2.06-.94 2.06-2.06.94zm-11 1L8.5 8.5l.94-2.06 2.06-.94-2.06-.94L8.5 2.5l-.94 2.06-2.06.94zm10 10l.94 2.06.94-2.06 2.06-.94-2.06-.94-.94-2.06-.94 2.06-2.06.94z\"/><path d=\"M17.41 7.96l-1.37-1.37c-.4-.4-.92-.59-1.43-.59-.52 0-1.04.2-1.43.59L10.3 9.45l-7.72 7.72c-.78.78-.78 2.05 0 2.83L4 21.41c.39.39.9.59 1.41.59.51 0 1.02-.2 1.41-.59l7.78-7.78 2.81-2.81c.8-.78.8-2.07 0-2.86zM5.41 20L4 18.59l7.72-7.72 1.47 1.35L5.41 20z\"/>\n",
              "  </svg>\n",
              "      </button>\n",
              "      \n",
              "  <style>\n",
              "    .colab-df-container {\n",
              "      display:flex;\n",
              "      flex-wrap:wrap;\n",
              "      gap: 12px;\n",
              "    }\n",
              "\n",
              "    .colab-df-convert {\n",
              "      background-color: #E8F0FE;\n",
              "      border: none;\n",
              "      border-radius: 50%;\n",
              "      cursor: pointer;\n",
              "      display: none;\n",
              "      fill: #1967D2;\n",
              "      height: 32px;\n",
              "      padding: 0 0 0 0;\n",
              "      width: 32px;\n",
              "    }\n",
              "\n",
              "    .colab-df-convert:hover {\n",
              "      background-color: #E2EBFA;\n",
              "      box-shadow: 0px 1px 2px rgba(60, 64, 67, 0.3), 0px 1px 3px 1px rgba(60, 64, 67, 0.15);\n",
              "      fill: #174EA6;\n",
              "    }\n",
              "\n",
              "    [theme=dark] .colab-df-convert {\n",
              "      background-color: #3B4455;\n",
              "      fill: #D2E3FC;\n",
              "    }\n",
              "\n",
              "    [theme=dark] .colab-df-convert:hover {\n",
              "      background-color: #434B5C;\n",
              "      box-shadow: 0px 1px 3px 1px rgba(0, 0, 0, 0.15);\n",
              "      filter: drop-shadow(0px 1px 2px rgba(0, 0, 0, 0.3));\n",
              "      fill: #FFFFFF;\n",
              "    }\n",
              "  </style>\n",
              "\n",
              "      <script>\n",
              "        const buttonEl =\n",
              "          document.querySelector('#df-bc836bf2-1cf9-4722-8895-3cd1c386ee17 button.colab-df-convert');\n",
              "        buttonEl.style.display =\n",
              "          google.colab.kernel.accessAllowed ? 'block' : 'none';\n",
              "\n",
              "        async function convertToInteractive(key) {\n",
              "          const element = document.querySelector('#df-bc836bf2-1cf9-4722-8895-3cd1c386ee17');\n",
              "          const dataTable =\n",
              "            await google.colab.kernel.invokeFunction('convertToInteractive',\n",
              "                                                     [key], {});\n",
              "          if (!dataTable) return;\n",
              "\n",
              "          const docLinkHtml = 'Like what you see? Visit the ' +\n",
              "            '<a target=\"_blank\" href=https://colab.research.google.com/notebooks/data_table.ipynb>data table notebook</a>'\n",
              "            + ' to learn more about interactive tables.';\n",
              "          element.innerHTML = '';\n",
              "          dataTable['output_type'] = 'display_data';\n",
              "          await google.colab.output.renderOutput(dataTable, element);\n",
              "          const docLink = document.createElement('div');\n",
              "          docLink.innerHTML = docLinkHtml;\n",
              "          element.appendChild(docLink);\n",
              "        }\n",
              "      </script>\n",
              "    </div>\n",
              "  </div>\n",
              "  "
            ]
          },
          "metadata": {},
          "execution_count": 1754
        }
      ]
    },
    {
      "cell_type": "code",
      "source": [
        "count_col = 0\n",
        "count_col_lst = []\n",
        "for i in range(len(result_step2.index)):\n",
        "  for j in range(len(result_step2.columns)):\n",
        "    if(int(result_step2.iloc[i][j]) == 0):\n",
        "      count_col += 1\n",
        "  globals()[\"Zero_cnt_col{}\".format(i)] = count_col\n",
        "  count_col_lst.append(int(count_col))\n",
        "  count_col = 0\n",
        "\n",
        "count_row = 0\n",
        "count_row_lst = []\n",
        "for i in range(len(result_step2.columns)):\n",
        "  for j in range(len(result_step2.index)):\n",
        "    if(int(result_step2.iloc[j][i]) == 0):\n",
        "      count_row += 1\n",
        "\n",
        "  globals()[\"Zero_cnt_row{}\".format(i)] = count_row\n",
        "  count_row_lst.append(int(count_row))\n",
        "  count_row = 0\n"
      ],
      "metadata": {
        "id": "egMZ1d1XvYI7"
      },
      "execution_count": 1755,
      "outputs": []
    },
    {
      "cell_type": "code",
      "source": [
        "row_zero_index = [i for i, value in enumerate(count_row_lst) if value == np.max(count_row_lst)]\n",
        "col_zero_index = [i for i, value in enumerate(count_col_lst) if value == np.max(count_col_lst)]\n",
        "\n",
        "choice = []\n",
        "choice.append(int(np.max(count_row_lst)))\n",
        "choice.append(int(np.max(count_col_lst)))\n",
        "choice = int(np.argmax(choice))\n",
        "np.max(count_row_lst),np.max(count_col_lst), choice"
      ],
      "metadata": {
        "colab": {
          "base_uri": "https://localhost:8080/"
        },
        "id": "YrRH2iUqvZbh",
        "outputId": "c248249c-91a2-4bee-d365-6ab1e10cad45"
      },
      "execution_count": 1756,
      "outputs": [
        {
          "output_type": "execute_result",
          "data": {
            "text/plain": [
              "(2, 2, 0)"
            ]
          },
          "metadata": {},
          "execution_count": 1756
        }
      ]
    },
    {
      "cell_type": "code",
      "source": [
        "count_row_lst, count_col_lst "
      ],
      "metadata": {
        "colab": {
          "base_uri": "https://localhost:8080/"
        },
        "id": "uyZPbrazvbn7",
        "outputId": "ed0bb2e1-5851-476b-d1e4-61af1f813991"
      },
      "execution_count": 1757,
      "outputs": [
        {
          "output_type": "execute_result",
          "data": {
            "text/plain": [
              "([1, 2], [2, 0, 1, 0])"
            ]
          },
          "metadata": {},
          "execution_count": 1757
        }
      ]
    },
    {
      "cell_type": "code",
      "source": [
        "choice"
      ],
      "metadata": {
        "colab": {
          "base_uri": "https://localhost:8080/"
        },
        "id": "9UZN1oACvcoN",
        "outputId": "2e3f9e13-2d1e-47e4-ef58-78c1d94c65e6"
      },
      "execution_count": 1758,
      "outputs": [
        {
          "output_type": "execute_result",
          "data": {
            "text/plain": [
              "0"
            ]
          },
          "metadata": {},
          "execution_count": 1758
        }
      ]
    },
    {
      "cell_type": "code",
      "source": [
        "if(choice == 0):\n",
        "  result_step3 = result_step2.drop(row_zero_index[0], axis='columns')\n",
        "else:\n",
        "  result_step3 = result_step2.drop(columns=col_zero_index[0])\n"
      ],
      "metadata": {
        "id": "RNyK-V-rvdy7"
      },
      "execution_count": 1759,
      "outputs": []
    },
    {
      "cell_type": "code",
      "source": [
        "result_step3"
      ],
      "metadata": {
        "colab": {
          "base_uri": "https://localhost:8080/",
          "height": 175
        },
        "id": "MBlSGFuqvfNF",
        "outputId": "64c24f76-b8e9-477b-f363-9f72b56f28d8"
      },
      "execution_count": 1760,
      "outputs": [
        {
          "output_type": "execute_result",
          "data": {
            "text/plain": [
              "   0\n",
              "0  0\n",
              "1  7\n",
              "2  4\n",
              "3  8"
            ],
            "text/html": [
              "\n",
              "  <div id=\"df-355fd7e3-3720-4fc8-a595-fecb7fab3fe8\">\n",
              "    <div class=\"colab-df-container\">\n",
              "      <div>\n",
              "<style scoped>\n",
              "    .dataframe tbody tr th:only-of-type {\n",
              "        vertical-align: middle;\n",
              "    }\n",
              "\n",
              "    .dataframe tbody tr th {\n",
              "        vertical-align: top;\n",
              "    }\n",
              "\n",
              "    .dataframe thead th {\n",
              "        text-align: right;\n",
              "    }\n",
              "</style>\n",
              "<table border=\"1\" class=\"dataframe\">\n",
              "  <thead>\n",
              "    <tr style=\"text-align: right;\">\n",
              "      <th></th>\n",
              "      <th>0</th>\n",
              "    </tr>\n",
              "  </thead>\n",
              "  <tbody>\n",
              "    <tr>\n",
              "      <th>0</th>\n",
              "      <td>0</td>\n",
              "    </tr>\n",
              "    <tr>\n",
              "      <th>1</th>\n",
              "      <td>7</td>\n",
              "    </tr>\n",
              "    <tr>\n",
              "      <th>2</th>\n",
              "      <td>4</td>\n",
              "    </tr>\n",
              "    <tr>\n",
              "      <th>3</th>\n",
              "      <td>8</td>\n",
              "    </tr>\n",
              "  </tbody>\n",
              "</table>\n",
              "</div>\n",
              "      <button class=\"colab-df-convert\" onclick=\"convertToInteractive('df-355fd7e3-3720-4fc8-a595-fecb7fab3fe8')\"\n",
              "              title=\"Convert this dataframe to an interactive table.\"\n",
              "              style=\"display:none;\">\n",
              "        \n",
              "  <svg xmlns=\"http://www.w3.org/2000/svg\" height=\"24px\"viewBox=\"0 0 24 24\"\n",
              "       width=\"24px\">\n",
              "    <path d=\"M0 0h24v24H0V0z\" fill=\"none\"/>\n",
              "    <path d=\"M18.56 5.44l.94 2.06.94-2.06 2.06-.94-2.06-.94-.94-2.06-.94 2.06-2.06.94zm-11 1L8.5 8.5l.94-2.06 2.06-.94-2.06-.94L8.5 2.5l-.94 2.06-2.06.94zm10 10l.94 2.06.94-2.06 2.06-.94-2.06-.94-.94-2.06-.94 2.06-2.06.94z\"/><path d=\"M17.41 7.96l-1.37-1.37c-.4-.4-.92-.59-1.43-.59-.52 0-1.04.2-1.43.59L10.3 9.45l-7.72 7.72c-.78.78-.78 2.05 0 2.83L4 21.41c.39.39.9.59 1.41.59.51 0 1.02-.2 1.41-.59l7.78-7.78 2.81-2.81c.8-.78.8-2.07 0-2.86zM5.41 20L4 18.59l7.72-7.72 1.47 1.35L5.41 20z\"/>\n",
              "  </svg>\n",
              "      </button>\n",
              "      \n",
              "  <style>\n",
              "    .colab-df-container {\n",
              "      display:flex;\n",
              "      flex-wrap:wrap;\n",
              "      gap: 12px;\n",
              "    }\n",
              "\n",
              "    .colab-df-convert {\n",
              "      background-color: #E8F0FE;\n",
              "      border: none;\n",
              "      border-radius: 50%;\n",
              "      cursor: pointer;\n",
              "      display: none;\n",
              "      fill: #1967D2;\n",
              "      height: 32px;\n",
              "      padding: 0 0 0 0;\n",
              "      width: 32px;\n",
              "    }\n",
              "\n",
              "    .colab-df-convert:hover {\n",
              "      background-color: #E2EBFA;\n",
              "      box-shadow: 0px 1px 2px rgba(60, 64, 67, 0.3), 0px 1px 3px 1px rgba(60, 64, 67, 0.15);\n",
              "      fill: #174EA6;\n",
              "    }\n",
              "\n",
              "    [theme=dark] .colab-df-convert {\n",
              "      background-color: #3B4455;\n",
              "      fill: #D2E3FC;\n",
              "    }\n",
              "\n",
              "    [theme=dark] .colab-df-convert:hover {\n",
              "      background-color: #434B5C;\n",
              "      box-shadow: 0px 1px 3px 1px rgba(0, 0, 0, 0.15);\n",
              "      filter: drop-shadow(0px 1px 2px rgba(0, 0, 0, 0.3));\n",
              "      fill: #FFFFFF;\n",
              "    }\n",
              "  </style>\n",
              "\n",
              "      <script>\n",
              "        const buttonEl =\n",
              "          document.querySelector('#df-355fd7e3-3720-4fc8-a595-fecb7fab3fe8 button.colab-df-convert');\n",
              "        buttonEl.style.display =\n",
              "          google.colab.kernel.accessAllowed ? 'block' : 'none';\n",
              "\n",
              "        async function convertToInteractive(key) {\n",
              "          const element = document.querySelector('#df-355fd7e3-3720-4fc8-a595-fecb7fab3fe8');\n",
              "          const dataTable =\n",
              "            await google.colab.kernel.invokeFunction('convertToInteractive',\n",
              "                                                     [key], {});\n",
              "          if (!dataTable) return;\n",
              "\n",
              "          const docLinkHtml = 'Like what you see? Visit the ' +\n",
              "            '<a target=\"_blank\" href=https://colab.research.google.com/notebooks/data_table.ipynb>data table notebook</a>'\n",
              "            + ' to learn more about interactive tables.';\n",
              "          element.innerHTML = '';\n",
              "          dataTable['output_type'] = 'display_data';\n",
              "          await google.colab.output.renderOutput(dataTable, element);\n",
              "          const docLink = document.createElement('div');\n",
              "          docLink.innerHTML = docLinkHtml;\n",
              "          element.appendChild(docLink);\n",
              "        }\n",
              "      </script>\n",
              "    </div>\n",
              "  </div>\n",
              "  "
            ]
          },
          "metadata": {},
          "execution_count": 1760
        }
      ]
    },
    {
      "cell_type": "markdown",
      "source": [
        "## 3"
      ],
      "metadata": {
        "id": "_0tD-ROtvz-O"
      }
    },
    {
      "cell_type": "code",
      "source": [
        "count_col = 0\n",
        "count_col_lst = []\n",
        "for i in range(len(result_step3.index)):\n",
        "  for j in range(len(result_step3.columns)):\n",
        "    if(int(result_step3.iloc[i][j]) == 0):\n",
        "      count_col += 1\n",
        "  globals()[\"Zero_cnt_col{}\".format(i)] = count_col\n",
        "  count_col_lst.append(int(count_col))\n",
        "  count_col = 0\n",
        "\n",
        "count_row = 0\n",
        "count_row_lst = []\n",
        "for i in range(len(result_step3.columns)):\n",
        "  for j in range(len(result_step3.index)):\n",
        "    if(int(result_step3.iloc[j][i]) == 0):\n",
        "      count_row += 1\n",
        "\n",
        "  globals()[\"Zero_cnt_row{}\".format(i)] = count_row\n",
        "  count_row_lst.append(int(count_row))\n",
        "  count_row = 0\n"
      ],
      "metadata": {
        "id": "_Oq7VMgqvzja"
      },
      "execution_count": 1761,
      "outputs": []
    },
    {
      "cell_type": "code",
      "source": [
        "row_zero_index = [i for i, value in enumerate(count_row_lst) if value == np.max(count_row_lst)]\n",
        "col_zero_index = [i for i, value in enumerate(count_col_lst) if value == np.max(count_col_lst)]\n",
        "\n",
        "choice = []\n",
        "choice.append(int(np.max(count_row_lst)))\n",
        "choice.append(int(np.max(count_col_lst)))\n",
        "choice = int(np.argmax(choice))\n",
        "np.max(count_row_lst),np.max(count_col_lst), choice"
      ],
      "metadata": {
        "colab": {
          "base_uri": "https://localhost:8080/"
        },
        "id": "jb6UsJMKv37S",
        "outputId": "3ecd446c-f7e7-4fb3-ae7a-d29eddf027fb"
      },
      "execution_count": 1762,
      "outputs": [
        {
          "output_type": "execute_result",
          "data": {
            "text/plain": [
              "(1, 1, 0)"
            ]
          },
          "metadata": {},
          "execution_count": 1762
        }
      ]
    },
    {
      "cell_type": "code",
      "source": [
        "count_row_lst, count_col_lst "
      ],
      "metadata": {
        "colab": {
          "base_uri": "https://localhost:8080/"
        },
        "id": "DKP2mzrVv5A6",
        "outputId": "ea19eeba-7226-4f74-c7ba-825a8f045c77"
      },
      "execution_count": 1763,
      "outputs": [
        {
          "output_type": "execute_result",
          "data": {
            "text/plain": [
              "([1], [1, 0, 0, 0])"
            ]
          },
          "metadata": {},
          "execution_count": 1763
        }
      ]
    },
    {
      "cell_type": "code",
      "source": [
        "choice"
      ],
      "metadata": {
        "colab": {
          "base_uri": "https://localhost:8080/"
        },
        "id": "6Wj0Nhzjv56M",
        "outputId": "9c4e3eb0-3f1c-42c7-f830-a69fc1e1ba6f"
      },
      "execution_count": 1764,
      "outputs": [
        {
          "output_type": "execute_result",
          "data": {
            "text/plain": [
              "0"
            ]
          },
          "metadata": {},
          "execution_count": 1764
        }
      ]
    },
    {
      "cell_type": "code",
      "source": [
        "if(choice == 0):\n",
        "  result_step4 = result_step3.drop(row_zero_index[0], axis='columns')\n",
        "else:\n",
        "  result_step4 = result_step3.drop(columns=col_zero_index[0])\n"
      ],
      "metadata": {
        "id": "j8_JqgQNv6yX"
      },
      "execution_count": 1765,
      "outputs": []
    },
    {
      "cell_type": "code",
      "source": [
        "result_step4"
      ],
      "metadata": {
        "colab": {
          "base_uri": "https://localhost:8080/",
          "height": 157
        },
        "id": "BpNxWXxDwQS3",
        "outputId": "a38722a5-bd6e-4c1f-b360-068ddde86715"
      },
      "execution_count": 1766,
      "outputs": [
        {
          "output_type": "execute_result",
          "data": {
            "text/plain": [
              "Empty DataFrame\n",
              "Columns: []\n",
              "Index: [0, 1, 2, 3]"
            ],
            "text/html": [
              "\n",
              "  <div id=\"df-6d04a271-4ea2-48b2-a9a0-4c895f982e7f\">\n",
              "    <div class=\"colab-df-container\">\n",
              "      <div>\n",
              "<style scoped>\n",
              "    .dataframe tbody tr th:only-of-type {\n",
              "        vertical-align: middle;\n",
              "    }\n",
              "\n",
              "    .dataframe tbody tr th {\n",
              "        vertical-align: top;\n",
              "    }\n",
              "\n",
              "    .dataframe thead th {\n",
              "        text-align: right;\n",
              "    }\n",
              "</style>\n",
              "<table border=\"1\" class=\"dataframe\">\n",
              "  <thead>\n",
              "    <tr style=\"text-align: right;\">\n",
              "      <th></th>\n",
              "    </tr>\n",
              "  </thead>\n",
              "  <tbody>\n",
              "    <tr>\n",
              "      <th>0</th>\n",
              "    </tr>\n",
              "    <tr>\n",
              "      <th>1</th>\n",
              "    </tr>\n",
              "    <tr>\n",
              "      <th>2</th>\n",
              "    </tr>\n",
              "    <tr>\n",
              "      <th>3</th>\n",
              "    </tr>\n",
              "  </tbody>\n",
              "</table>\n",
              "</div>\n",
              "      <button class=\"colab-df-convert\" onclick=\"convertToInteractive('df-6d04a271-4ea2-48b2-a9a0-4c895f982e7f')\"\n",
              "              title=\"Convert this dataframe to an interactive table.\"\n",
              "              style=\"display:none;\">\n",
              "        \n",
              "  <svg xmlns=\"http://www.w3.org/2000/svg\" height=\"24px\"viewBox=\"0 0 24 24\"\n",
              "       width=\"24px\">\n",
              "    <path d=\"M0 0h24v24H0V0z\" fill=\"none\"/>\n",
              "    <path d=\"M18.56 5.44l.94 2.06.94-2.06 2.06-.94-2.06-.94-.94-2.06-.94 2.06-2.06.94zm-11 1L8.5 8.5l.94-2.06 2.06-.94-2.06-.94L8.5 2.5l-.94 2.06-2.06.94zm10 10l.94 2.06.94-2.06 2.06-.94-2.06-.94-.94-2.06-.94 2.06-2.06.94z\"/><path d=\"M17.41 7.96l-1.37-1.37c-.4-.4-.92-.59-1.43-.59-.52 0-1.04.2-1.43.59L10.3 9.45l-7.72 7.72c-.78.78-.78 2.05 0 2.83L4 21.41c.39.39.9.59 1.41.59.51 0 1.02-.2 1.41-.59l7.78-7.78 2.81-2.81c.8-.78.8-2.07 0-2.86zM5.41 20L4 18.59l7.72-7.72 1.47 1.35L5.41 20z\"/>\n",
              "  </svg>\n",
              "      </button>\n",
              "      \n",
              "  <style>\n",
              "    .colab-df-container {\n",
              "      display:flex;\n",
              "      flex-wrap:wrap;\n",
              "      gap: 12px;\n",
              "    }\n",
              "\n",
              "    .colab-df-convert {\n",
              "      background-color: #E8F0FE;\n",
              "      border: none;\n",
              "      border-radius: 50%;\n",
              "      cursor: pointer;\n",
              "      display: none;\n",
              "      fill: #1967D2;\n",
              "      height: 32px;\n",
              "      padding: 0 0 0 0;\n",
              "      width: 32px;\n",
              "    }\n",
              "\n",
              "    .colab-df-convert:hover {\n",
              "      background-color: #E2EBFA;\n",
              "      box-shadow: 0px 1px 2px rgba(60, 64, 67, 0.3), 0px 1px 3px 1px rgba(60, 64, 67, 0.15);\n",
              "      fill: #174EA6;\n",
              "    }\n",
              "\n",
              "    [theme=dark] .colab-df-convert {\n",
              "      background-color: #3B4455;\n",
              "      fill: #D2E3FC;\n",
              "    }\n",
              "\n",
              "    [theme=dark] .colab-df-convert:hover {\n",
              "      background-color: #434B5C;\n",
              "      box-shadow: 0px 1px 3px 1px rgba(0, 0, 0, 0.15);\n",
              "      filter: drop-shadow(0px 1px 2px rgba(0, 0, 0, 0.3));\n",
              "      fill: #FFFFFF;\n",
              "    }\n",
              "  </style>\n",
              "\n",
              "      <script>\n",
              "        const buttonEl =\n",
              "          document.querySelector('#df-6d04a271-4ea2-48b2-a9a0-4c895f982e7f button.colab-df-convert');\n",
              "        buttonEl.style.display =\n",
              "          google.colab.kernel.accessAllowed ? 'block' : 'none';\n",
              "\n",
              "        async function convertToInteractive(key) {\n",
              "          const element = document.querySelector('#df-6d04a271-4ea2-48b2-a9a0-4c895f982e7f');\n",
              "          const dataTable =\n",
              "            await google.colab.kernel.invokeFunction('convertToInteractive',\n",
              "                                                     [key], {});\n",
              "          if (!dataTable) return;\n",
              "\n",
              "          const docLinkHtml = 'Like what you see? Visit the ' +\n",
              "            '<a target=\"_blank\" href=https://colab.research.google.com/notebooks/data_table.ipynb>data table notebook</a>'\n",
              "            + ' to learn more about interactive tables.';\n",
              "          element.innerHTML = '';\n",
              "          dataTable['output_type'] = 'display_data';\n",
              "          await google.colab.output.renderOutput(dataTable, element);\n",
              "          const docLink = document.createElement('div');\n",
              "          docLink.innerHTML = docLinkHtml;\n",
              "          element.appendChild(docLink);\n",
              "        }\n",
              "      </script>\n",
              "    </div>\n",
              "  </div>\n",
              "  "
            ]
          },
          "metadata": {},
          "execution_count": 1766
        }
      ]
    },
    {
      "cell_type": "markdown",
      "source": [
        "# V2"
      ],
      "metadata": {
        "id": "QHIl8LR5w8G9"
      }
    },
    {
      "cell_type": "code",
      "source": [
        "stack_r1 = pd.DataFrame()\n",
        "stack_r1 = stack_r.copy()\n",
        "del_row_lst = []\n",
        "del_col_lst = []\n",
        "row_cnt = 0\n",
        "col_cnt = 0\n",
        "cnt = 0"
      ],
      "metadata": {
        "id": "v4kdDf_2M3rm"
      },
      "execution_count": 1767,
      "outputs": []
    },
    {
      "cell_type": "code",
      "source": [
        "try:\n",
        "  # for i in range(n):\n",
        "  #   for j in range(n):\n",
        "  #     if(stack_r1[i][j] == 0):\n",
        "  #       cnt +=1\n",
        "  #while(len(del_row_lst)+len(del_col_lst) < n):\n",
        "  for d in range(n):\n",
        "    count_col = 0\n",
        "    count_col_lst = []\n",
        "    for i in range(len(stack_r1.index)):\n",
        "      for j in range(len(stack_r1.columns)):\n",
        "        if(stack_r1.iloc[i][j] == 0):\n",
        "          count_col += 1\n",
        "\n",
        "      # globals()[\"Zero_cnt_col{}\".format(i)] = count_col\n",
        "      count_col_lst.append(int(count_col))\n",
        "      count_col = 0\n",
        "\n",
        "\n",
        "    count_row = 0\n",
        "    count_row_lst = []\n",
        "    for i in range(len(stack_r1.columns)):\n",
        "      for j in range(len(stack_r1.index)):\n",
        "        if(stack_r1.iloc[j][i] == 0):\n",
        "          count_row += 1\n",
        "\n",
        "      # globals()[\"Zero_cnt_row{}\".format(i)] = count_row\n",
        "      count_row_lst.append(int(count_row))\n",
        "      count_row = 0\n",
        "\n",
        "\n",
        "    # print('row의 0의 수 : {}'.format(count_row_lst))\n",
        "    # print('col의 0의 수 : {}'.format(count_col_lst))\n",
        "    row_zero_index = [i for i, value in enumerate(count_row_lst) if value == np.max(count_row_lst)]\n",
        "    col_zero_index = [i for i, value in enumerate(count_col_lst) if value == np.max(count_col_lst)]\n",
        "\n",
        "    choice = []\n",
        "    choice.append(int(np.max(count_row_lst)))\n",
        "    choice.append(int(np.max(count_col_lst)))\n",
        "    choice = int(np.argmax(choice))\n",
        "    # print('row의 0의 수 Max값 : {}'.format(np.max(count_row_lst)))\n",
        "    # print('col의 0의 수 Max값 : {}'.format(np.max(count_col_lst)))\n",
        "    # print('row의 0의 수 Max값 index : {}'.format(np.max(row_zero_index)))\n",
        "    # print('col의 0의 수 Max값 index : {}'.format(np.max(col_zero_index)))\n",
        "\n",
        "    if(choice == 0):\n",
        "      choice_str = \"행\"\n",
        "    else:\n",
        "      choice_str = \"열\"\n",
        "    # print('삭제할 곳 선택 : {}'.format(choice_str))\n",
        "    if(choice == 0):\n",
        "      del_row_lst.append(row_zero_index[0])\n",
        "      stack_r1 = stack_r1.drop(row_zero_index[0], axis='columns')\n",
        "    else:\n",
        "      del_col_lst.append(col_zero_index[0])\n",
        "      stack_r1 = stack_r1.drop(columns=col_zero_index[0])\n",
        "    stack_r1= pd.DataFrame(np.array(stack_r1))\n",
        "    cnt += 1\n",
        "except:\n",
        "  print(\"\")\n",
        "  # stack_r[2][2] = 0\n",
        "  # a = [0,1,2,3]\n",
        "  # del_row_index = []\n",
        "  # del_col_index = []\n",
        "  # for i in range(len(del_row_lst)):\n",
        "  #   del_row_index.append(a[del_row_lst[i]])\n",
        "  #   del a[del_row_lst[i]]\n",
        "  # a = [0,1,2,3]\n",
        "  # for i in range(len(del_col_lst)):\n",
        "  #   del_col_index.append(a[del_col_lst[i]])\n",
        "  #   del a[del_col_lst[i]]\n",
        "\n",
        "    \n",
        "  # del_row_index, del_col_index    \n",
        "  # for i in range(len(del_row_index)):\n",
        "  #   if(len(del_col_index) >= 1):\n",
        "  #     for j in range(len(del_col_index)):\n",
        "  #       if(stack_r[del_row_index[i]][del_col_index[j]] == 0):\n",
        "  #         stack_r[del_row_index[i]][del_col_index[j]] += 1\n",
        "  # stack_r1 = stack_r.copy()"
      ],
      "metadata": {
        "id": "b0LIOVLK3_89"
      },
      "execution_count": 1768,
      "outputs": []
    },
    {
      "cell_type": "code",
      "source": [
        "stack_r1"
      ],
      "metadata": {
        "colab": {
          "base_uri": "https://localhost:8080/",
          "height": 157
        },
        "id": "psqFgdfkbThb",
        "outputId": "8b469768-0ba7-41d5-8b80-1a1e104710df"
      },
      "execution_count": 1769,
      "outputs": [
        {
          "output_type": "execute_result",
          "data": {
            "text/plain": [
              "Empty DataFrame\n",
              "Columns: []\n",
              "Index: [0, 1, 2, 3]"
            ],
            "text/html": [
              "\n",
              "  <div id=\"df-4201d143-7642-4ab7-b7c5-7abe852e7b74\">\n",
              "    <div class=\"colab-df-container\">\n",
              "      <div>\n",
              "<style scoped>\n",
              "    .dataframe tbody tr th:only-of-type {\n",
              "        vertical-align: middle;\n",
              "    }\n",
              "\n",
              "    .dataframe tbody tr th {\n",
              "        vertical-align: top;\n",
              "    }\n",
              "\n",
              "    .dataframe thead th {\n",
              "        text-align: right;\n",
              "    }\n",
              "</style>\n",
              "<table border=\"1\" class=\"dataframe\">\n",
              "  <thead>\n",
              "    <tr style=\"text-align: right;\">\n",
              "      <th></th>\n",
              "    </tr>\n",
              "  </thead>\n",
              "  <tbody>\n",
              "    <tr>\n",
              "      <th>0</th>\n",
              "    </tr>\n",
              "    <tr>\n",
              "      <th>1</th>\n",
              "    </tr>\n",
              "    <tr>\n",
              "      <th>2</th>\n",
              "    </tr>\n",
              "    <tr>\n",
              "      <th>3</th>\n",
              "    </tr>\n",
              "  </tbody>\n",
              "</table>\n",
              "</div>\n",
              "      <button class=\"colab-df-convert\" onclick=\"convertToInteractive('df-4201d143-7642-4ab7-b7c5-7abe852e7b74')\"\n",
              "              title=\"Convert this dataframe to an interactive table.\"\n",
              "              style=\"display:none;\">\n",
              "        \n",
              "  <svg xmlns=\"http://www.w3.org/2000/svg\" height=\"24px\"viewBox=\"0 0 24 24\"\n",
              "       width=\"24px\">\n",
              "    <path d=\"M0 0h24v24H0V0z\" fill=\"none\"/>\n",
              "    <path d=\"M18.56 5.44l.94 2.06.94-2.06 2.06-.94-2.06-.94-.94-2.06-.94 2.06-2.06.94zm-11 1L8.5 8.5l.94-2.06 2.06-.94-2.06-.94L8.5 2.5l-.94 2.06-2.06.94zm10 10l.94 2.06.94-2.06 2.06-.94-2.06-.94-.94-2.06-.94 2.06-2.06.94z\"/><path d=\"M17.41 7.96l-1.37-1.37c-.4-.4-.92-.59-1.43-.59-.52 0-1.04.2-1.43.59L10.3 9.45l-7.72 7.72c-.78.78-.78 2.05 0 2.83L4 21.41c.39.39.9.59 1.41.59.51 0 1.02-.2 1.41-.59l7.78-7.78 2.81-2.81c.8-.78.8-2.07 0-2.86zM5.41 20L4 18.59l7.72-7.72 1.47 1.35L5.41 20z\"/>\n",
              "  </svg>\n",
              "      </button>\n",
              "      \n",
              "  <style>\n",
              "    .colab-df-container {\n",
              "      display:flex;\n",
              "      flex-wrap:wrap;\n",
              "      gap: 12px;\n",
              "    }\n",
              "\n",
              "    .colab-df-convert {\n",
              "      background-color: #E8F0FE;\n",
              "      border: none;\n",
              "      border-radius: 50%;\n",
              "      cursor: pointer;\n",
              "      display: none;\n",
              "      fill: #1967D2;\n",
              "      height: 32px;\n",
              "      padding: 0 0 0 0;\n",
              "      width: 32px;\n",
              "    }\n",
              "\n",
              "    .colab-df-convert:hover {\n",
              "      background-color: #E2EBFA;\n",
              "      box-shadow: 0px 1px 2px rgba(60, 64, 67, 0.3), 0px 1px 3px 1px rgba(60, 64, 67, 0.15);\n",
              "      fill: #174EA6;\n",
              "    }\n",
              "\n",
              "    [theme=dark] .colab-df-convert {\n",
              "      background-color: #3B4455;\n",
              "      fill: #D2E3FC;\n",
              "    }\n",
              "\n",
              "    [theme=dark] .colab-df-convert:hover {\n",
              "      background-color: #434B5C;\n",
              "      box-shadow: 0px 1px 3px 1px rgba(0, 0, 0, 0.15);\n",
              "      filter: drop-shadow(0px 1px 2px rgba(0, 0, 0, 0.3));\n",
              "      fill: #FFFFFF;\n",
              "    }\n",
              "  </style>\n",
              "\n",
              "      <script>\n",
              "        const buttonEl =\n",
              "          document.querySelector('#df-4201d143-7642-4ab7-b7c5-7abe852e7b74 button.colab-df-convert');\n",
              "        buttonEl.style.display =\n",
              "          google.colab.kernel.accessAllowed ? 'block' : 'none';\n",
              "\n",
              "        async function convertToInteractive(key) {\n",
              "          const element = document.querySelector('#df-4201d143-7642-4ab7-b7c5-7abe852e7b74');\n",
              "          const dataTable =\n",
              "            await google.colab.kernel.invokeFunction('convertToInteractive',\n",
              "                                                     [key], {});\n",
              "          if (!dataTable) return;\n",
              "\n",
              "          const docLinkHtml = 'Like what you see? Visit the ' +\n",
              "            '<a target=\"_blank\" href=https://colab.research.google.com/notebooks/data_table.ipynb>data table notebook</a>'\n",
              "            + ' to learn more about interactive tables.';\n",
              "          element.innerHTML = '';\n",
              "          dataTable['output_type'] = 'display_data';\n",
              "          await google.colab.output.renderOutput(dataTable, element);\n",
              "          const docLink = document.createElement('div');\n",
              "          docLink.innerHTML = docLinkHtml;\n",
              "          element.appendChild(docLink);\n",
              "        }\n",
              "      </script>\n",
              "    </div>\n",
              "  </div>\n",
              "  "
            ]
          },
          "metadata": {},
          "execution_count": 1769
        }
      ]
    },
    {
      "cell_type": "code",
      "source": [
        "cnt"
      ],
      "metadata": {
        "colab": {
          "base_uri": "https://localhost:8080/"
        },
        "id": "tvdj8qPV9_OT",
        "outputId": "80d69ae5-8bc2-4da6-9017-b86b2940a3aa"
      },
      "execution_count": 1770,
      "outputs": [
        {
          "output_type": "execute_result",
          "data": {
            "text/plain": [
              "4"
            ]
          },
          "metadata": {},
          "execution_count": 1770
        }
      ]
    },
    {
      "cell_type": "code",
      "source": [
        "del_row_lst, del_col_lst"
      ],
      "metadata": {
        "colab": {
          "base_uri": "https://localhost:8080/"
        },
        "id": "gYZQLbw446SW",
        "outputId": "51e96ae4-1b5f-49de-aa71-20cb668dedff"
      },
      "execution_count": 1771,
      "outputs": [
        {
          "output_type": "execute_result",
          "data": {
            "text/plain": [
              "([1, 0, 1, 0], [])"
            ]
          },
          "metadata": {},
          "execution_count": 1771
        }
      ]
    },
    {
      "cell_type": "code",
      "source": [
        "a = [0,1,2,3]\n",
        "del_row_index = []\n",
        "del_col_index = []\n",
        "for i in range(len(del_row_lst)):\n",
        "  del_row_index.append(a[del_row_lst[i]])\n",
        "  del a[del_row_lst[i]]\n",
        "a = [0,1,2,3]\n",
        "for i in range(len(del_col_lst)):\n",
        "  del_col_index.append(a[del_col_lst[i]])\n",
        "  del a[del_col_lst[i]]\n",
        "\n",
        "\n",
        "print(del_row_index, del_col_index)\n",
        "\n",
        "c = np.random.randint(1, 2, size = (n, n))\n",
        "\n",
        "for i in range(len(del_row_index)):\n",
        "  c[del_row_index[i]] = 0\n",
        "for j in range(len(del_col_index)):\n",
        "  c.loc[del_col_index[j]] = 0"
      ],
      "metadata": {
        "colab": {
          "base_uri": "https://localhost:8080/"
        },
        "id": "jmbdoMpZ_scM",
        "outputId": "082e6fa1-ef33-44fe-816e-833111cd1b46"
      },
      "execution_count": 1778,
      "outputs": [
        {
          "output_type": "stream",
          "name": "stdout",
          "text": [
            "[1, 0, 3, 2] []\n"
          ]
        }
      ]
    },
    {
      "cell_type": "code",
      "source": [
        "plus = pd.DataFrame(c)"
      ],
      "metadata": {
        "id": "c0Z5oUwjglw_"
      },
      "execution_count": 1779,
      "outputs": []
    },
    {
      "cell_type": "code",
      "source": [
        "stack_r1 = stack_r + plus"
      ],
      "metadata": {
        "id": "1aSVVYj8gpiu"
      },
      "execution_count": 1780,
      "outputs": []
    },
    {
      "cell_type": "code",
      "source": [
        "try:\n",
        "  # for i in range(n):\n",
        "  #   for j in range(n):\n",
        "  #     if(stack_r1[i][j] == 0):\n",
        "  #       cnt +=1\n",
        "  #while(len(del_row_lst)+len(del_col_lst) < n):\n",
        "  for d in range(n):\n",
        "    count_col = 0\n",
        "    count_col_lst = []\n",
        "    for i in range(len(stack_r1.index)):\n",
        "      for j in range(len(stack_r1.columns)):\n",
        "        if(stack_r1.iloc[i][j] == 0):\n",
        "          count_col += 1\n",
        "\n",
        "      # globals()[\"Zero_cnt_col{}\".format(i)] = count_col\n",
        "      count_col_lst.append(int(count_col))\n",
        "      count_col = 0\n",
        "\n",
        "\n",
        "    count_row = 0\n",
        "    count_row_lst = []\n",
        "    for i in range(len(stack_r1.columns)):\n",
        "      for j in range(len(stack_r1.index)):\n",
        "        if(stack_r1.iloc[j][i] == 0):\n",
        "          count_row += 1\n",
        "\n",
        "      # globals()[\"Zero_cnt_row{}\".format(i)] = count_row\n",
        "      count_row_lst.append(int(count_row))\n",
        "      count_row = 0\n",
        "\n",
        "\n",
        "    # print('row의 0의 수 : {}'.format(count_row_lst))\n",
        "    # print('col의 0의 수 : {}'.format(count_col_lst))\n",
        "    row_zero_index = [i for i, value in enumerate(count_row_lst) if value == np.max(count_row_lst)]\n",
        "    col_zero_index = [i for i, value in enumerate(count_col_lst) if value == np.max(count_col_lst)]\n",
        "\n",
        "    choice = []\n",
        "    choice.append(int(np.max(count_row_lst)))\n",
        "    choice.append(int(np.max(count_col_lst)))\n",
        "    choice = int(np.argmax(choice))\n",
        "    # print('row의 0의 수 Max값 : {}'.format(np.max(count_row_lst)))\n",
        "    # print('col의 0의 수 Max값 : {}'.format(np.max(count_col_lst)))\n",
        "    # print('row의 0의 수 Max값 index : {}'.format(np.max(row_zero_index)))\n",
        "    # print('col의 0의 수 Max값 index : {}'.format(np.max(col_zero_index)))\n",
        "\n",
        "    if(choice == 0):\n",
        "      choice_str = \"행\"\n",
        "    else:\n",
        "      choice_str = \"열\"\n",
        "    # print('삭제할 곳 선택 : {}'.format(choice_str))\n",
        "    if(choice == 0):\n",
        "      del_row_lst.append(row_zero_index[0])\n",
        "      stack_r1 = stack_r1.drop(row_zero_index[0], axis='columns')\n",
        "    else:\n",
        "      del_col_lst.append(col_zero_index[0])\n",
        "      stack_r1 = stack_r1.drop(columns=col_zero_index[0])\n",
        "    stack_r1= pd.DataFrame(np.array(stack_r1))\n",
        "    cnt += 1\n",
        "except:\n",
        "  print(\"\")\n",
        "  # stack_r[2][2] = 0\n",
        "  # a = [0,1,2,3]\n",
        "  # del_row_index = []\n",
        "  # del_col_index = []\n",
        "  # for i in range(len(del_row_lst)):\n",
        "  #   del_row_index.append(a[del_row_lst[i]])\n",
        "  #   del a[del_row_lst[i]]\n",
        "  # a = [0,1,2,3]\n",
        "  # for i in range(len(del_col_lst)):\n",
        "  #   del_col_index.append(a[del_col_lst[i]])\n",
        "  #   del a[del_col_lst[i]]\n",
        "\n",
        "    \n",
        "  # del_row_index, del_col_index    \n",
        "  # for i in range(len(del_row_index)):\n",
        "  #   if(len(del_col_index) >= 1):\n",
        "  #     for j in range(len(del_col_index)):\n",
        "  #       if(stack_r[del_row_index[i]][del_col_index[j]] == 0):\n",
        "  #         stack_r[del_row_index[i]][del_col_index[j]] += 1\n",
        "  # stack_r1 = stack_r.copy()"
      ],
      "metadata": {
        "id": "iDMdnXdgjV6Z"
      },
      "execution_count": 1781,
      "outputs": []
    },
    {
      "cell_type": "code",
      "source": [
        "len(del_row_lst)"
      ],
      "metadata": {
        "colab": {
          "base_uri": "https://localhost:8080/"
        },
        "id": "Wv99FuhfkBKc",
        "outputId": "eed75678-3780-4a19-af28-b0f538793906"
      },
      "execution_count": 1783,
      "outputs": [
        {
          "output_type": "execute_result",
          "data": {
            "text/plain": [
              "8"
            ]
          },
          "metadata": {},
          "execution_count": 1783
        }
      ]
    },
    {
      "cell_type": "code",
      "source": [
        "a = [0,1,2,3]\n",
        "del_row_index = []\n",
        "del_col_index = []\n",
        "for i in range(len(del_row_lst)):\n",
        "  del_row_index.append(a[del_row_lst[i]])\n",
        "  del a[del_row_lst[i]]\n",
        "a = [0,1,2,3]\n",
        "for i in range(len(del_col_lst)):\n",
        "  del_col_index.append(a[del_col_lst[i]])\n",
        "  del a[del_col_lst[i]]\n",
        "\n",
        "\n",
        "print(del_row_index, del_col_index)"
      ],
      "metadata": {
        "colab": {
          "base_uri": "https://localhost:8080/",
          "height": 248
        },
        "id": "83-sTOwygltJ",
        "outputId": "6989ee63-a926-469f-fa4e-fa635ceae68d"
      },
      "execution_count": 1782,
      "outputs": [
        {
          "output_type": "error",
          "ename": "IndexError",
          "evalue": "ignored",
          "traceback": [
            "\u001b[0;31m---------------------------------------------------------------------------\u001b[0m",
            "\u001b[0;31mIndexError\u001b[0m                                Traceback (most recent call last)",
            "\u001b[0;32m<ipython-input-1782-6b251f1a0b40>\u001b[0m in \u001b[0;36m<module>\u001b[0;34m()\u001b[0m\n\u001b[1;32m      3\u001b[0m \u001b[0mdel_col_index\u001b[0m \u001b[0;34m=\u001b[0m \u001b[0;34m[\u001b[0m\u001b[0;34m]\u001b[0m\u001b[0;34m\u001b[0m\u001b[0;34m\u001b[0m\u001b[0m\n\u001b[1;32m      4\u001b[0m \u001b[0;32mfor\u001b[0m \u001b[0mi\u001b[0m \u001b[0;32min\u001b[0m \u001b[0mrange\u001b[0m\u001b[0;34m(\u001b[0m\u001b[0mlen\u001b[0m\u001b[0;34m(\u001b[0m\u001b[0mdel_row_lst\u001b[0m\u001b[0;34m)\u001b[0m\u001b[0;34m)\u001b[0m\u001b[0;34m:\u001b[0m\u001b[0;34m\u001b[0m\u001b[0;34m\u001b[0m\u001b[0m\n\u001b[0;32m----> 5\u001b[0;31m   \u001b[0mdel_row_index\u001b[0m\u001b[0;34m.\u001b[0m\u001b[0mappend\u001b[0m\u001b[0;34m(\u001b[0m\u001b[0ma\u001b[0m\u001b[0;34m[\u001b[0m\u001b[0mdel_row_lst\u001b[0m\u001b[0;34m[\u001b[0m\u001b[0mi\u001b[0m\u001b[0;34m]\u001b[0m\u001b[0;34m]\u001b[0m\u001b[0;34m)\u001b[0m\u001b[0;34m\u001b[0m\u001b[0;34m\u001b[0m\u001b[0m\n\u001b[0m\u001b[1;32m      6\u001b[0m   \u001b[0;32mdel\u001b[0m \u001b[0ma\u001b[0m\u001b[0;34m[\u001b[0m\u001b[0mdel_row_lst\u001b[0m\u001b[0;34m[\u001b[0m\u001b[0mi\u001b[0m\u001b[0;34m]\u001b[0m\u001b[0;34m]\u001b[0m\u001b[0;34m\u001b[0m\u001b[0;34m\u001b[0m\u001b[0m\n\u001b[1;32m      7\u001b[0m \u001b[0ma\u001b[0m \u001b[0;34m=\u001b[0m \u001b[0;34m[\u001b[0m\u001b[0;36m0\u001b[0m\u001b[0;34m,\u001b[0m\u001b[0;36m1\u001b[0m\u001b[0;34m,\u001b[0m\u001b[0;36m2\u001b[0m\u001b[0;34m,\u001b[0m\u001b[0;36m3\u001b[0m\u001b[0;34m]\u001b[0m\u001b[0;34m\u001b[0m\u001b[0;34m\u001b[0m\u001b[0m\n",
            "\u001b[0;31mIndexError\u001b[0m: list index out of range"
          ]
        }
      ]
    },
    {
      "cell_type": "code",
      "source": [
        ""
      ],
      "metadata": {
        "id": "YtC41hfqglrJ"
      },
      "execution_count": 1775,
      "outputs": []
    },
    {
      "cell_type": "code",
      "source": [
        ""
      ],
      "metadata": {
        "id": "7nwCEP7iglo8"
      },
      "execution_count": 1775,
      "outputs": []
    },
    {
      "cell_type": "code",
      "source": [
        ""
      ],
      "metadata": {
        "id": "guQBY3wwglmr"
      },
      "execution_count": 1775,
      "outputs": []
    },
    {
      "cell_type": "code",
      "source": [
        ""
      ],
      "metadata": {
        "id": "PxOb52d0glkW"
      },
      "execution_count": 1775,
      "outputs": []
    }
  ]
}