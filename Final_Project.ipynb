{
  "nbformat": 4,
  "nbformat_minor": 0,
  "metadata": {
    "colab": {
      "name": "Final Project.ipynb의 사본",
      "provenance": [],
      "collapsed_sections": [],
      "toc_visible": true,
      "authorship_tag": "ABX9TyOvvQjCeliuuIgZ+rEat4ys",
      "include_colab_link": true
    },
    "kernelspec": {
      "name": "python3",
      "display_name": "Python 3"
    },
    "language_info": {
      "name": "python"
    }
  },
  "cells": [
    {
      "cell_type": "markdown",
      "metadata": {
        "id": "view-in-github",
        "colab_type": "text"
      },
      "source": [
        "<a href=\"https://colab.research.google.com/github/Junhyuck123/Production-control/blob/main/Final_Project.ipynb\" target=\"_parent\"><img src=\"https://colab.research.google.com/assets/colab-badge.svg\" alt=\"Open In Colab\"/></a>"
      ]
    },
    {
      "cell_type": "markdown",
      "source": [
        "# AP - LP 모델"
      ],
      "metadata": {
        "id": "Yvx0GXo2rqpA"
      }
    },
    {
      "cell_type": "code",
      "source": [
        "import numpy as np\n",
        "import pandas as pd\n",
        "from scipy.optimize import linear_sum_assignment\n",
        "\n",
        "c_m = np.array([[9,6,3,4],\n",
        "                [5,8,12,10],\n",
        "                [2,6,7,4],\n",
        "                [4,11,13,7]])\n",
        "row_ind, col_ind = linear_sum_assignment(c_m)\n",
        "opt_ass = col_ind\n",
        "tc = c_m[row_ind, col_ind].sum()\n",
        "\n",
        "\n",
        "print(c_m)\n",
        "print(opt_ass)\n",
        "print(tc)"
      ],
      "metadata": {
        "colab": {
          "base_uri": "https://localhost:8080/"
        },
        "id": "LyLC1yVU7oN_",
        "outputId": "8b2030bc-6267-403c-dec7-b761e562bb4a"
      },
      "execution_count": 1,
      "outputs": [
        {
          "output_type": "stream",
          "name": "stdout",
          "text": [
            "[[ 9  6  3  4]\n",
            " [ 5  8 12 10]\n",
            " [ 2  6  7  4]\n",
            " [ 4 11 13  7]]\n",
            "[2 1 3 0]\n",
            "19\n"
          ]
        }
      ]
    },
    {
      "cell_type": "markdown",
      "source": [
        "# AP - 헝가리안 모델"
      ],
      "metadata": {
        "id": "JdAPxifpruYC"
      }
    },
    {
      "cell_type": "code",
      "source": [
        "n = int(input())"
      ],
      "metadata": {
        "id": "w625KYOvu0_R",
        "colab": {
          "base_uri": "https://localhost:8080/"
        },
        "outputId": "676299b1-8b59-4ce4-976f-b66ee0c2a9d4"
      },
      "execution_count": 2,
      "outputs": [
        {
          "name": "stdout",
          "output_type": "stream",
          "text": [
            "4\n"
          ]
        }
      ]
    },
    {
      "cell_type": "code",
      "source": [
        "# c = np.random.randint(1, 15, size = (n, n))\n",
        "# cost = pd.DataFrame(c)\n",
        "# cost\n",
        "cost = pd.DataFrame(c_m)\n",
        "cost\n",
        "\n"
      ],
      "metadata": {
        "id": "Yi88DkxYovan",
        "colab": {
          "base_uri": "https://localhost:8080/",
          "height": 175
        },
        "outputId": "a2d7cc05-1828-4d1e-c649-3a947b9df99d"
      },
      "execution_count": 3,
      "outputs": [
        {
          "output_type": "execute_result",
          "data": {
            "text/plain": [
              "   0   1   2   3\n",
              "0  9   6   3   4\n",
              "1  5   8  12  10\n",
              "2  2   6   7   4\n",
              "3  4  11  13   7"
            ],
            "text/html": [
              "\n",
              "  <div id=\"df-6afd914e-0e98-4cbb-b938-bd28c6d6495c\">\n",
              "    <div class=\"colab-df-container\">\n",
              "      <div>\n",
              "<style scoped>\n",
              "    .dataframe tbody tr th:only-of-type {\n",
              "        vertical-align: middle;\n",
              "    }\n",
              "\n",
              "    .dataframe tbody tr th {\n",
              "        vertical-align: top;\n",
              "    }\n",
              "\n",
              "    .dataframe thead th {\n",
              "        text-align: right;\n",
              "    }\n",
              "</style>\n",
              "<table border=\"1\" class=\"dataframe\">\n",
              "  <thead>\n",
              "    <tr style=\"text-align: right;\">\n",
              "      <th></th>\n",
              "      <th>0</th>\n",
              "      <th>1</th>\n",
              "      <th>2</th>\n",
              "      <th>3</th>\n",
              "    </tr>\n",
              "  </thead>\n",
              "  <tbody>\n",
              "    <tr>\n",
              "      <th>0</th>\n",
              "      <td>9</td>\n",
              "      <td>6</td>\n",
              "      <td>3</td>\n",
              "      <td>4</td>\n",
              "    </tr>\n",
              "    <tr>\n",
              "      <th>1</th>\n",
              "      <td>5</td>\n",
              "      <td>8</td>\n",
              "      <td>12</td>\n",
              "      <td>10</td>\n",
              "    </tr>\n",
              "    <tr>\n",
              "      <th>2</th>\n",
              "      <td>2</td>\n",
              "      <td>6</td>\n",
              "      <td>7</td>\n",
              "      <td>4</td>\n",
              "    </tr>\n",
              "    <tr>\n",
              "      <th>3</th>\n",
              "      <td>4</td>\n",
              "      <td>11</td>\n",
              "      <td>13</td>\n",
              "      <td>7</td>\n",
              "    </tr>\n",
              "  </tbody>\n",
              "</table>\n",
              "</div>\n",
              "      <button class=\"colab-df-convert\" onclick=\"convertToInteractive('df-6afd914e-0e98-4cbb-b938-bd28c6d6495c')\"\n",
              "              title=\"Convert this dataframe to an interactive table.\"\n",
              "              style=\"display:none;\">\n",
              "        \n",
              "  <svg xmlns=\"http://www.w3.org/2000/svg\" height=\"24px\"viewBox=\"0 0 24 24\"\n",
              "       width=\"24px\">\n",
              "    <path d=\"M0 0h24v24H0V0z\" fill=\"none\"/>\n",
              "    <path d=\"M18.56 5.44l.94 2.06.94-2.06 2.06-.94-2.06-.94-.94-2.06-.94 2.06-2.06.94zm-11 1L8.5 8.5l.94-2.06 2.06-.94-2.06-.94L8.5 2.5l-.94 2.06-2.06.94zm10 10l.94 2.06.94-2.06 2.06-.94-2.06-.94-.94-2.06-.94 2.06-2.06.94z\"/><path d=\"M17.41 7.96l-1.37-1.37c-.4-.4-.92-.59-1.43-.59-.52 0-1.04.2-1.43.59L10.3 9.45l-7.72 7.72c-.78.78-.78 2.05 0 2.83L4 21.41c.39.39.9.59 1.41.59.51 0 1.02-.2 1.41-.59l7.78-7.78 2.81-2.81c.8-.78.8-2.07 0-2.86zM5.41 20L4 18.59l7.72-7.72 1.47 1.35L5.41 20z\"/>\n",
              "  </svg>\n",
              "      </button>\n",
              "      \n",
              "  <style>\n",
              "    .colab-df-container {\n",
              "      display:flex;\n",
              "      flex-wrap:wrap;\n",
              "      gap: 12px;\n",
              "    }\n",
              "\n",
              "    .colab-df-convert {\n",
              "      background-color: #E8F0FE;\n",
              "      border: none;\n",
              "      border-radius: 50%;\n",
              "      cursor: pointer;\n",
              "      display: none;\n",
              "      fill: #1967D2;\n",
              "      height: 32px;\n",
              "      padding: 0 0 0 0;\n",
              "      width: 32px;\n",
              "    }\n",
              "\n",
              "    .colab-df-convert:hover {\n",
              "      background-color: #E2EBFA;\n",
              "      box-shadow: 0px 1px 2px rgba(60, 64, 67, 0.3), 0px 1px 3px 1px rgba(60, 64, 67, 0.15);\n",
              "      fill: #174EA6;\n",
              "    }\n",
              "\n",
              "    [theme=dark] .colab-df-convert {\n",
              "      background-color: #3B4455;\n",
              "      fill: #D2E3FC;\n",
              "    }\n",
              "\n",
              "    [theme=dark] .colab-df-convert:hover {\n",
              "      background-color: #434B5C;\n",
              "      box-shadow: 0px 1px 3px 1px rgba(0, 0, 0, 0.15);\n",
              "      filter: drop-shadow(0px 1px 2px rgba(0, 0, 0, 0.3));\n",
              "      fill: #FFFFFF;\n",
              "    }\n",
              "  </style>\n",
              "\n",
              "      <script>\n",
              "        const buttonEl =\n",
              "          document.querySelector('#df-6afd914e-0e98-4cbb-b938-bd28c6d6495c button.colab-df-convert');\n",
              "        buttonEl.style.display =\n",
              "          google.colab.kernel.accessAllowed ? 'block' : 'none';\n",
              "\n",
              "        async function convertToInteractive(key) {\n",
              "          const element = document.querySelector('#df-6afd914e-0e98-4cbb-b938-bd28c6d6495c');\n",
              "          const dataTable =\n",
              "            await google.colab.kernel.invokeFunction('convertToInteractive',\n",
              "                                                     [key], {});\n",
              "          if (!dataTable) return;\n",
              "\n",
              "          const docLinkHtml = 'Like what you see? Visit the ' +\n",
              "            '<a target=\"_blank\" href=https://colab.research.google.com/notebooks/data_table.ipynb>data table notebook</a>'\n",
              "            + ' to learn more about interactive tables.';\n",
              "          element.innerHTML = '';\n",
              "          dataTable['output_type'] = 'display_data';\n",
              "          await google.colab.output.renderOutput(dataTable, element);\n",
              "          const docLink = document.createElement('div');\n",
              "          docLink.innerHTML = docLinkHtml;\n",
              "          element.appendChild(docLink);\n",
              "        }\n",
              "      </script>\n",
              "    </div>\n",
              "  </div>\n",
              "  "
            ]
          },
          "metadata": {},
          "execution_count": 3
        }
      ]
    },
    {
      "cell_type": "code",
      "source": [
        "stack_c = pd.DataFrame()\n",
        "for i in range(n):\n",
        "  col = np.array(cost[i])\n",
        "  col_min = min(col)\n",
        "  col = col - col_min\n",
        "  col = pd.DataFrame(col)\n",
        "  stack_c[i] = col\n",
        "stack_c"
      ],
      "metadata": {
        "colab": {
          "base_uri": "https://localhost:8080/",
          "height": 175
        },
        "id": "EAKXcBmYo2T8",
        "outputId": "69cb7a60-198d-44e4-fbf0-f68445e0bfba"
      },
      "execution_count": 4,
      "outputs": [
        {
          "output_type": "execute_result",
          "data": {
            "text/plain": [
              "   0  1   2  3\n",
              "0  7  0   0  0\n",
              "1  3  2   9  6\n",
              "2  0  0   4  0\n",
              "3  2  5  10  3"
            ],
            "text/html": [
              "\n",
              "  <div id=\"df-354673cb-22c9-4fdd-8be3-a87c81644d91\">\n",
              "    <div class=\"colab-df-container\">\n",
              "      <div>\n",
              "<style scoped>\n",
              "    .dataframe tbody tr th:only-of-type {\n",
              "        vertical-align: middle;\n",
              "    }\n",
              "\n",
              "    .dataframe tbody tr th {\n",
              "        vertical-align: top;\n",
              "    }\n",
              "\n",
              "    .dataframe thead th {\n",
              "        text-align: right;\n",
              "    }\n",
              "</style>\n",
              "<table border=\"1\" class=\"dataframe\">\n",
              "  <thead>\n",
              "    <tr style=\"text-align: right;\">\n",
              "      <th></th>\n",
              "      <th>0</th>\n",
              "      <th>1</th>\n",
              "      <th>2</th>\n",
              "      <th>3</th>\n",
              "    </tr>\n",
              "  </thead>\n",
              "  <tbody>\n",
              "    <tr>\n",
              "      <th>0</th>\n",
              "      <td>7</td>\n",
              "      <td>0</td>\n",
              "      <td>0</td>\n",
              "      <td>0</td>\n",
              "    </tr>\n",
              "    <tr>\n",
              "      <th>1</th>\n",
              "      <td>3</td>\n",
              "      <td>2</td>\n",
              "      <td>9</td>\n",
              "      <td>6</td>\n",
              "    </tr>\n",
              "    <tr>\n",
              "      <th>2</th>\n",
              "      <td>0</td>\n",
              "      <td>0</td>\n",
              "      <td>4</td>\n",
              "      <td>0</td>\n",
              "    </tr>\n",
              "    <tr>\n",
              "      <th>3</th>\n",
              "      <td>2</td>\n",
              "      <td>5</td>\n",
              "      <td>10</td>\n",
              "      <td>3</td>\n",
              "    </tr>\n",
              "  </tbody>\n",
              "</table>\n",
              "</div>\n",
              "      <button class=\"colab-df-convert\" onclick=\"convertToInteractive('df-354673cb-22c9-4fdd-8be3-a87c81644d91')\"\n",
              "              title=\"Convert this dataframe to an interactive table.\"\n",
              "              style=\"display:none;\">\n",
              "        \n",
              "  <svg xmlns=\"http://www.w3.org/2000/svg\" height=\"24px\"viewBox=\"0 0 24 24\"\n",
              "       width=\"24px\">\n",
              "    <path d=\"M0 0h24v24H0V0z\" fill=\"none\"/>\n",
              "    <path d=\"M18.56 5.44l.94 2.06.94-2.06 2.06-.94-2.06-.94-.94-2.06-.94 2.06-2.06.94zm-11 1L8.5 8.5l.94-2.06 2.06-.94-2.06-.94L8.5 2.5l-.94 2.06-2.06.94zm10 10l.94 2.06.94-2.06 2.06-.94-2.06-.94-.94-2.06-.94 2.06-2.06.94z\"/><path d=\"M17.41 7.96l-1.37-1.37c-.4-.4-.92-.59-1.43-.59-.52 0-1.04.2-1.43.59L10.3 9.45l-7.72 7.72c-.78.78-.78 2.05 0 2.83L4 21.41c.39.39.9.59 1.41.59.51 0 1.02-.2 1.41-.59l7.78-7.78 2.81-2.81c.8-.78.8-2.07 0-2.86zM5.41 20L4 18.59l7.72-7.72 1.47 1.35L5.41 20z\"/>\n",
              "  </svg>\n",
              "      </button>\n",
              "      \n",
              "  <style>\n",
              "    .colab-df-container {\n",
              "      display:flex;\n",
              "      flex-wrap:wrap;\n",
              "      gap: 12px;\n",
              "    }\n",
              "\n",
              "    .colab-df-convert {\n",
              "      background-color: #E8F0FE;\n",
              "      border: none;\n",
              "      border-radius: 50%;\n",
              "      cursor: pointer;\n",
              "      display: none;\n",
              "      fill: #1967D2;\n",
              "      height: 32px;\n",
              "      padding: 0 0 0 0;\n",
              "      width: 32px;\n",
              "    }\n",
              "\n",
              "    .colab-df-convert:hover {\n",
              "      background-color: #E2EBFA;\n",
              "      box-shadow: 0px 1px 2px rgba(60, 64, 67, 0.3), 0px 1px 3px 1px rgba(60, 64, 67, 0.15);\n",
              "      fill: #174EA6;\n",
              "    }\n",
              "\n",
              "    [theme=dark] .colab-df-convert {\n",
              "      background-color: #3B4455;\n",
              "      fill: #D2E3FC;\n",
              "    }\n",
              "\n",
              "    [theme=dark] .colab-df-convert:hover {\n",
              "      background-color: #434B5C;\n",
              "      box-shadow: 0px 1px 3px 1px rgba(0, 0, 0, 0.15);\n",
              "      filter: drop-shadow(0px 1px 2px rgba(0, 0, 0, 0.3));\n",
              "      fill: #FFFFFF;\n",
              "    }\n",
              "  </style>\n",
              "\n",
              "      <script>\n",
              "        const buttonEl =\n",
              "          document.querySelector('#df-354673cb-22c9-4fdd-8be3-a87c81644d91 button.colab-df-convert');\n",
              "        buttonEl.style.display =\n",
              "          google.colab.kernel.accessAllowed ? 'block' : 'none';\n",
              "\n",
              "        async function convertToInteractive(key) {\n",
              "          const element = document.querySelector('#df-354673cb-22c9-4fdd-8be3-a87c81644d91');\n",
              "          const dataTable =\n",
              "            await google.colab.kernel.invokeFunction('convertToInteractive',\n",
              "                                                     [key], {});\n",
              "          if (!dataTable) return;\n",
              "\n",
              "          const docLinkHtml = 'Like what you see? Visit the ' +\n",
              "            '<a target=\"_blank\" href=https://colab.research.google.com/notebooks/data_table.ipynb>data table notebook</a>'\n",
              "            + ' to learn more about interactive tables.';\n",
              "          element.innerHTML = '';\n",
              "          dataTable['output_type'] = 'display_data';\n",
              "          await google.colab.output.renderOutput(dataTable, element);\n",
              "          const docLink = document.createElement('div');\n",
              "          docLink.innerHTML = docLinkHtml;\n",
              "          element.appendChild(docLink);\n",
              "        }\n",
              "      </script>\n",
              "    </div>\n",
              "  </div>\n",
              "  "
            ]
          },
          "metadata": {},
          "execution_count": 4
        }
      ]
    },
    {
      "cell_type": "code",
      "source": [
        "pre_Data = pd.DataFrame()\n",
        "for i in range(n):\n",
        "  row = stack_c.iloc[i][:]\n",
        "  row_min = min(row)\n",
        "  row = row - row_min\n",
        "  row = pd.DataFrame(row)\n",
        "  pre_Data[i] = row\n",
        "pre_Data = pre_Data.transpose()\n",
        "pre_Data"
      ],
      "metadata": {
        "colab": {
          "base_uri": "https://localhost:8080/",
          "height": 175
        },
        "id": "RRgosg2HdBf3",
        "outputId": "b5becddc-6d8a-43f4-d02b-19502dc57e80"
      },
      "execution_count": 5,
      "outputs": [
        {
          "output_type": "execute_result",
          "data": {
            "text/plain": [
              "   0  1  2  3\n",
              "0  7  0  0  0\n",
              "1  1  0  7  4\n",
              "2  0  0  4  0\n",
              "3  0  3  8  1"
            ],
            "text/html": [
              "\n",
              "  <div id=\"df-e6627654-b4f3-4bfc-8151-dab0b4ee9d7c\">\n",
              "    <div class=\"colab-df-container\">\n",
              "      <div>\n",
              "<style scoped>\n",
              "    .dataframe tbody tr th:only-of-type {\n",
              "        vertical-align: middle;\n",
              "    }\n",
              "\n",
              "    .dataframe tbody tr th {\n",
              "        vertical-align: top;\n",
              "    }\n",
              "\n",
              "    .dataframe thead th {\n",
              "        text-align: right;\n",
              "    }\n",
              "</style>\n",
              "<table border=\"1\" class=\"dataframe\">\n",
              "  <thead>\n",
              "    <tr style=\"text-align: right;\">\n",
              "      <th></th>\n",
              "      <th>0</th>\n",
              "      <th>1</th>\n",
              "      <th>2</th>\n",
              "      <th>3</th>\n",
              "    </tr>\n",
              "  </thead>\n",
              "  <tbody>\n",
              "    <tr>\n",
              "      <th>0</th>\n",
              "      <td>7</td>\n",
              "      <td>0</td>\n",
              "      <td>0</td>\n",
              "      <td>0</td>\n",
              "    </tr>\n",
              "    <tr>\n",
              "      <th>1</th>\n",
              "      <td>1</td>\n",
              "      <td>0</td>\n",
              "      <td>7</td>\n",
              "      <td>4</td>\n",
              "    </tr>\n",
              "    <tr>\n",
              "      <th>2</th>\n",
              "      <td>0</td>\n",
              "      <td>0</td>\n",
              "      <td>4</td>\n",
              "      <td>0</td>\n",
              "    </tr>\n",
              "    <tr>\n",
              "      <th>3</th>\n",
              "      <td>0</td>\n",
              "      <td>3</td>\n",
              "      <td>8</td>\n",
              "      <td>1</td>\n",
              "    </tr>\n",
              "  </tbody>\n",
              "</table>\n",
              "</div>\n",
              "      <button class=\"colab-df-convert\" onclick=\"convertToInteractive('df-e6627654-b4f3-4bfc-8151-dab0b4ee9d7c')\"\n",
              "              title=\"Convert this dataframe to an interactive table.\"\n",
              "              style=\"display:none;\">\n",
              "        \n",
              "  <svg xmlns=\"http://www.w3.org/2000/svg\" height=\"24px\"viewBox=\"0 0 24 24\"\n",
              "       width=\"24px\">\n",
              "    <path d=\"M0 0h24v24H0V0z\" fill=\"none\"/>\n",
              "    <path d=\"M18.56 5.44l.94 2.06.94-2.06 2.06-.94-2.06-.94-.94-2.06-.94 2.06-2.06.94zm-11 1L8.5 8.5l.94-2.06 2.06-.94-2.06-.94L8.5 2.5l-.94 2.06-2.06.94zm10 10l.94 2.06.94-2.06 2.06-.94-2.06-.94-.94-2.06-.94 2.06-2.06.94z\"/><path d=\"M17.41 7.96l-1.37-1.37c-.4-.4-.92-.59-1.43-.59-.52 0-1.04.2-1.43.59L10.3 9.45l-7.72 7.72c-.78.78-.78 2.05 0 2.83L4 21.41c.39.39.9.59 1.41.59.51 0 1.02-.2 1.41-.59l7.78-7.78 2.81-2.81c.8-.78.8-2.07 0-2.86zM5.41 20L4 18.59l7.72-7.72 1.47 1.35L5.41 20z\"/>\n",
              "  </svg>\n",
              "      </button>\n",
              "      \n",
              "  <style>\n",
              "    .colab-df-container {\n",
              "      display:flex;\n",
              "      flex-wrap:wrap;\n",
              "      gap: 12px;\n",
              "    }\n",
              "\n",
              "    .colab-df-convert {\n",
              "      background-color: #E8F0FE;\n",
              "      border: none;\n",
              "      border-radius: 50%;\n",
              "      cursor: pointer;\n",
              "      display: none;\n",
              "      fill: #1967D2;\n",
              "      height: 32px;\n",
              "      padding: 0 0 0 0;\n",
              "      width: 32px;\n",
              "    }\n",
              "\n",
              "    .colab-df-convert:hover {\n",
              "      background-color: #E2EBFA;\n",
              "      box-shadow: 0px 1px 2px rgba(60, 64, 67, 0.3), 0px 1px 3px 1px rgba(60, 64, 67, 0.15);\n",
              "      fill: #174EA6;\n",
              "    }\n",
              "\n",
              "    [theme=dark] .colab-df-convert {\n",
              "      background-color: #3B4455;\n",
              "      fill: #D2E3FC;\n",
              "    }\n",
              "\n",
              "    [theme=dark] .colab-df-convert:hover {\n",
              "      background-color: #434B5C;\n",
              "      box-shadow: 0px 1px 3px 1px rgba(0, 0, 0, 0.15);\n",
              "      filter: drop-shadow(0px 1px 2px rgba(0, 0, 0, 0.3));\n",
              "      fill: #FFFFFF;\n",
              "    }\n",
              "  </style>\n",
              "\n",
              "      <script>\n",
              "        const buttonEl =\n",
              "          document.querySelector('#df-e6627654-b4f3-4bfc-8151-dab0b4ee9d7c button.colab-df-convert');\n",
              "        buttonEl.style.display =\n",
              "          google.colab.kernel.accessAllowed ? 'block' : 'none';\n",
              "\n",
              "        async function convertToInteractive(key) {\n",
              "          const element = document.querySelector('#df-e6627654-b4f3-4bfc-8151-dab0b4ee9d7c');\n",
              "          const dataTable =\n",
              "            await google.colab.kernel.invokeFunction('convertToInteractive',\n",
              "                                                     [key], {});\n",
              "          if (!dataTable) return;\n",
              "\n",
              "          const docLinkHtml = 'Like what you see? Visit the ' +\n",
              "            '<a target=\"_blank\" href=https://colab.research.google.com/notebooks/data_table.ipynb>data table notebook</a>'\n",
              "            + ' to learn more about interactive tables.';\n",
              "          element.innerHTML = '';\n",
              "          dataTable['output_type'] = 'display_data';\n",
              "          await google.colab.output.renderOutput(dataTable, element);\n",
              "          const docLink = document.createElement('div');\n",
              "          docLink.innerHTML = docLinkHtml;\n",
              "          element.appendChild(docLink);\n",
              "        }\n",
              "      </script>\n",
              "    </div>\n",
              "  </div>\n",
              "  "
            ]
          },
          "metadata": {},
          "execution_count": 5
        }
      ]
    },
    {
      "cell_type": "code",
      "source": [
        "pre_Data1 = pd.DataFrame()\n",
        "pre_Data1 = pre_Data.copy()\n",
        "del_row_lst = [] # 삭제한 행 목록\n",
        "del_col_lst = [] # 삭제한 열 목록\n",
        "row_cnt = 0 # 행에서 0의 갯수\n",
        "col_cnt = 0 # 열에서 0의 갯수\n",
        "cnt = 0 # For 루프 시행 횟수\n",
        "pre_Data1"
      ],
      "metadata": {
        "id": "v4kdDf_2M3rm",
        "colab": {
          "base_uri": "https://localhost:8080/",
          "height": 175
        },
        "outputId": "d065f2de-83ce-4440-b6f9-d467ef300ee9"
      },
      "execution_count": 6,
      "outputs": [
        {
          "output_type": "execute_result",
          "data": {
            "text/plain": [
              "   0  1  2  3\n",
              "0  7  0  0  0\n",
              "1  1  0  7  4\n",
              "2  0  0  4  0\n",
              "3  0  3  8  1"
            ],
            "text/html": [
              "\n",
              "  <div id=\"df-841ef8aa-b280-47d0-aa83-fcc146b78bae\">\n",
              "    <div class=\"colab-df-container\">\n",
              "      <div>\n",
              "<style scoped>\n",
              "    .dataframe tbody tr th:only-of-type {\n",
              "        vertical-align: middle;\n",
              "    }\n",
              "\n",
              "    .dataframe tbody tr th {\n",
              "        vertical-align: top;\n",
              "    }\n",
              "\n",
              "    .dataframe thead th {\n",
              "        text-align: right;\n",
              "    }\n",
              "</style>\n",
              "<table border=\"1\" class=\"dataframe\">\n",
              "  <thead>\n",
              "    <tr style=\"text-align: right;\">\n",
              "      <th></th>\n",
              "      <th>0</th>\n",
              "      <th>1</th>\n",
              "      <th>2</th>\n",
              "      <th>3</th>\n",
              "    </tr>\n",
              "  </thead>\n",
              "  <tbody>\n",
              "    <tr>\n",
              "      <th>0</th>\n",
              "      <td>7</td>\n",
              "      <td>0</td>\n",
              "      <td>0</td>\n",
              "      <td>0</td>\n",
              "    </tr>\n",
              "    <tr>\n",
              "      <th>1</th>\n",
              "      <td>1</td>\n",
              "      <td>0</td>\n",
              "      <td>7</td>\n",
              "      <td>4</td>\n",
              "    </tr>\n",
              "    <tr>\n",
              "      <th>2</th>\n",
              "      <td>0</td>\n",
              "      <td>0</td>\n",
              "      <td>4</td>\n",
              "      <td>0</td>\n",
              "    </tr>\n",
              "    <tr>\n",
              "      <th>3</th>\n",
              "      <td>0</td>\n",
              "      <td>3</td>\n",
              "      <td>8</td>\n",
              "      <td>1</td>\n",
              "    </tr>\n",
              "  </tbody>\n",
              "</table>\n",
              "</div>\n",
              "      <button class=\"colab-df-convert\" onclick=\"convertToInteractive('df-841ef8aa-b280-47d0-aa83-fcc146b78bae')\"\n",
              "              title=\"Convert this dataframe to an interactive table.\"\n",
              "              style=\"display:none;\">\n",
              "        \n",
              "  <svg xmlns=\"http://www.w3.org/2000/svg\" height=\"24px\"viewBox=\"0 0 24 24\"\n",
              "       width=\"24px\">\n",
              "    <path d=\"M0 0h24v24H0V0z\" fill=\"none\"/>\n",
              "    <path d=\"M18.56 5.44l.94 2.06.94-2.06 2.06-.94-2.06-.94-.94-2.06-.94 2.06-2.06.94zm-11 1L8.5 8.5l.94-2.06 2.06-.94-2.06-.94L8.5 2.5l-.94 2.06-2.06.94zm10 10l.94 2.06.94-2.06 2.06-.94-2.06-.94-.94-2.06-.94 2.06-2.06.94z\"/><path d=\"M17.41 7.96l-1.37-1.37c-.4-.4-.92-.59-1.43-.59-.52 0-1.04.2-1.43.59L10.3 9.45l-7.72 7.72c-.78.78-.78 2.05 0 2.83L4 21.41c.39.39.9.59 1.41.59.51 0 1.02-.2 1.41-.59l7.78-7.78 2.81-2.81c.8-.78.8-2.07 0-2.86zM5.41 20L4 18.59l7.72-7.72 1.47 1.35L5.41 20z\"/>\n",
              "  </svg>\n",
              "      </button>\n",
              "      \n",
              "  <style>\n",
              "    .colab-df-container {\n",
              "      display:flex;\n",
              "      flex-wrap:wrap;\n",
              "      gap: 12px;\n",
              "    }\n",
              "\n",
              "    .colab-df-convert {\n",
              "      background-color: #E8F0FE;\n",
              "      border: none;\n",
              "      border-radius: 50%;\n",
              "      cursor: pointer;\n",
              "      display: none;\n",
              "      fill: #1967D2;\n",
              "      height: 32px;\n",
              "      padding: 0 0 0 0;\n",
              "      width: 32px;\n",
              "    }\n",
              "\n",
              "    .colab-df-convert:hover {\n",
              "      background-color: #E2EBFA;\n",
              "      box-shadow: 0px 1px 2px rgba(60, 64, 67, 0.3), 0px 1px 3px 1px rgba(60, 64, 67, 0.15);\n",
              "      fill: #174EA6;\n",
              "    }\n",
              "\n",
              "    [theme=dark] .colab-df-convert {\n",
              "      background-color: #3B4455;\n",
              "      fill: #D2E3FC;\n",
              "    }\n",
              "\n",
              "    [theme=dark] .colab-df-convert:hover {\n",
              "      background-color: #434B5C;\n",
              "      box-shadow: 0px 1px 3px 1px rgba(0, 0, 0, 0.15);\n",
              "      filter: drop-shadow(0px 1px 2px rgba(0, 0, 0, 0.3));\n",
              "      fill: #FFFFFF;\n",
              "    }\n",
              "  </style>\n",
              "\n",
              "      <script>\n",
              "        const buttonEl =\n",
              "          document.querySelector('#df-841ef8aa-b280-47d0-aa83-fcc146b78bae button.colab-df-convert');\n",
              "        buttonEl.style.display =\n",
              "          google.colab.kernel.accessAllowed ? 'block' : 'none';\n",
              "\n",
              "        async function convertToInteractive(key) {\n",
              "          const element = document.querySelector('#df-841ef8aa-b280-47d0-aa83-fcc146b78bae');\n",
              "          const dataTable =\n",
              "            await google.colab.kernel.invokeFunction('convertToInteractive',\n",
              "                                                     [key], {});\n",
              "          if (!dataTable) return;\n",
              "\n",
              "          const docLinkHtml = 'Like what you see? Visit the ' +\n",
              "            '<a target=\"_blank\" href=https://colab.research.google.com/notebooks/data_table.ipynb>data table notebook</a>'\n",
              "            + ' to learn more about interactive tables.';\n",
              "          element.innerHTML = '';\n",
              "          dataTable['output_type'] = 'display_data';\n",
              "          await google.colab.output.renderOutput(dataTable, element);\n",
              "          const docLink = document.createElement('div');\n",
              "          docLink.innerHTML = docLinkHtml;\n",
              "          element.appendChild(docLink);\n",
              "        }\n",
              "      </script>\n",
              "    </div>\n",
              "  </div>\n",
              "  "
            ]
          },
          "metadata": {},
          "execution_count": 6
        }
      ]
    },
    {
      "cell_type": "code",
      "source": [
        "for d in range(n): # n matrix의 경우 n번 시행\n",
        "  print(\"---------------{}번째 시행---------------\".format(d))\n",
        "\n",
        "  #ㅡㅡㅡㅡㅡㅡㅡㅡㅡㅡㅡㅡㅡㅡㅡㅡㅡㅡㅡㅡㅡㅡㅡㅡㅡㅡㅡㅡㅡㅡㅡㅡㅡㅡㅡㅡㅡㅡㅡㅡㅡㅡㅡㅡㅡㅡㅡㅡㅡㅡㅡㅡㅡㅡㅡㅡㅡ\n",
        "  count_col = 0\n",
        "  count_col_lst = []\n",
        "  for i in range(len(pre_Data1.columns)):\n",
        "    for j in range(len(pre_Data1.index)):\n",
        "      if(pre_Data1.iloc[j][i] == 0):\n",
        "        count_col += 1\n",
        "\n",
        "    count_col_lst.append(int(count_col))\n",
        "    print('col의 0의 수 : {}'.format(count_col_lst))\n",
        "    count_col = 0\n",
        "  #ㅡㅡㅡㅡㅡㅡㅡㅡㅡㅡㅡㅡㅡㅡㅡㅡㅡㅡㅡㅡㅡㅡㅡㅡㅡㅡㅡㅡㅡㅡㅡㅡㅡㅡㅡㅡㅡㅡㅡㅡㅡㅡㅡㅡㅡㅡㅡㅡㅡㅡㅡㅡㅡㅡㅡㅡㅡ\n",
        "  count_row = 0 # col의 index별 0의갯수 초기화\n",
        "  count_row_lst = [] # 열 별 0의 갯수 저장\n",
        "  for i in range(len(pre_Data1.index)):\n",
        "    for j in range(len(pre_Data1.columns)): # 열과 행의 갯수 만큼 for 문 실행 (삭제하며 찾기 때문에 n이 아닌 len루프)\n",
        "      if(pre_Data1.iloc[i][j] == 0): \n",
        "        count_row += 1\n",
        "\n",
        "    count_row_lst.append(int(count_row))\n",
        "    print('row의 0의 수 : {}'.format(count_row_lst))\n",
        "    count_row = 0\n",
        "\n",
        "\n",
        "  #ㅡㅡㅡㅡㅡㅡㅡㅡㅡㅡㅡㅡㅡㅡㅡㅡㅡㅡㅡㅡㅡㅡㅡㅡㅡㅡㅡㅡㅡㅡㅡㅡㅡㅡㅡㅡㅡㅡㅡㅡㅡㅡㅡㅡㅡㅡㅡㅡㅡㅡㅡㅡㅡㅡㅡㅡㅡ\n",
        "\n",
        "  \n",
        "  # Zero 개수의 최대값 index를 저장하는 리스트\n",
        "  col_zero_index = [i for i, value in enumerate(count_col_lst) if value == np.max(count_col_lst)]\n",
        "  row_zero_index = [i for i, value in enumerate(count_row_lst) if value == np.max(count_row_lst)]\n",
        "\n",
        "  #ㅡㅡㅡㅡㅡㅡㅡㅡㅡㅡㅡㅡㅡㅡㅡㅡㅡㅡㅡㅡㅡㅡㅡㅡㅡㅡㅡㅡㅡㅡㅡㅡㅡㅡㅡㅡㅡㅡㅡㅡㅡㅡㅡㅡㅡㅡㅡㅡㅡㅡㅡㅡㅡㅡㅡㅡㅡ\n",
        "  # 행을 삭제할지 열을 삭제할지 결정\n",
        "  choice = []\n",
        "  choice.append(int(np.max(count_col_lst)))\n",
        "  choice.append(int(np.max(count_row_lst)))\n",
        "  choice = int(np.argmax(choice)) # 같은 숫자일 경우 행을 삭제\n",
        "  print('col의 0의 수 Max값 : {}'.format(np.max(count_col_lst)))\n",
        "  print('row의 0의 수 Max값 : {}'.format(np.max(count_row_lst)))\n",
        "  \n",
        "  print(pre_Data1)\n",
        "\n",
        "\n",
        "  if(choice == 0): #어떤 행 Or 열을 커버하는지 Print하기 위한 \n",
        "    choice_str = \"열\"\n",
        "  else:\n",
        "    choice_str = \"행\"\n",
        "  print('커버 할 행 또는 열 선택 : {0}'.format(choice_str))  # 단순 출력\n",
        "\n",
        "  if(choice == 0): # 행을 선택한 경우 삭제\n",
        "    del_col_lst.append(col_zero_index[0])\n",
        "    pre_Data1 = pre_Data1.drop(columns=col_zero_index[0])\n",
        "  else: #열을 선택한 경우\n",
        "    del_row_lst.append(row_zero_index[0])\n",
        "    pre_Data1 = pre_Data1.drop(row_zero_index[0], axis='columns')\n",
        "\n",
        "  pre_Data1= pd.DataFrame(np.array(pre_Data1)) #DataFrame형태로 재변환 (1열을 삭제할 경우 index가 0 2 3 으로 처리 --> for문에서 오류발생)\n",
        "  cnt += 1\n",
        "\n",
        "\n",
        "\n",
        "\n",
        "\n",
        "if(cnt != 4): # 커버하는 선의 수가 4개 이하인 경우 아래 셀 추가 실행\n",
        "  print(\"아래 항목을 실행하세요\")"
      ],
      "metadata": {
        "id": "b0LIOVLK3_89",
        "outputId": "90e7d78d-72d3-4892-a19a-a14b97a4084e",
        "colab": {
          "base_uri": "https://localhost:8080/"
        }
      },
      "execution_count": 7,
      "outputs": [
        {
          "output_type": "stream",
          "name": "stdout",
          "text": [
            "---------------0번째 시행---------------\n",
            "col의 0의 수 : [2]\n",
            "col의 0의 수 : [2, 3]\n",
            "col의 0의 수 : [2, 3, 1]\n",
            "col의 0의 수 : [2, 3, 1, 2]\n",
            "row의 0의 수 : [3]\n",
            "row의 0의 수 : [3, 1]\n",
            "row의 0의 수 : [3, 1, 3]\n",
            "row의 0의 수 : [3, 1, 3, 1]\n",
            "col의 0의 수 Max값 : 3\n",
            "row의 0의 수 Max값 : 3\n",
            "   0  1  2  3\n",
            "0  7  0  0  0\n",
            "1  1  0  7  4\n",
            "2  0  0  4  0\n",
            "3  0  3  8  1\n",
            "커버 할 행 또는 열 선택 : 열\n",
            "---------------1번째 시행---------------\n",
            "col의 0의 수 : [2]\n",
            "col의 0의 수 : [2, 1]\n",
            "col의 0의 수 : [2, 1, 2]\n",
            "row의 0의 수 : [2]\n",
            "row의 0의 수 : [2, 0]\n",
            "row의 0의 수 : [2, 0, 2]\n",
            "row의 0의 수 : [2, 0, 2, 1]\n",
            "col의 0의 수 Max값 : 2\n",
            "row의 0의 수 Max값 : 2\n",
            "   0  1  2\n",
            "0  7  0  0\n",
            "1  1  7  4\n",
            "2  0  4  0\n",
            "3  0  8  1\n",
            "커버 할 행 또는 열 선택 : 열\n",
            "---------------2번째 시행---------------\n",
            "col의 0의 수 : [1]\n",
            "col의 0의 수 : [1, 2]\n",
            "row의 0의 수 : [2]\n",
            "row의 0의 수 : [2, 0]\n",
            "row의 0의 수 : [2, 0, 1]\n",
            "row의 0의 수 : [2, 0, 1, 0]\n",
            "col의 0의 수 Max값 : 2\n",
            "row의 0의 수 Max값 : 2\n",
            "   0  1\n",
            "0  0  0\n",
            "1  7  4\n",
            "2  4  0\n",
            "3  8  1\n",
            "커버 할 행 또는 열 선택 : 열\n",
            "---------------3번째 시행---------------\n",
            "col의 0의 수 : [1]\n",
            "row의 0의 수 : [1]\n",
            "row의 0의 수 : [1, 0]\n",
            "row의 0의 수 : [1, 0, 0]\n",
            "row의 0의 수 : [1, 0, 0, 0]\n",
            "col의 0의 수 Max값 : 1\n",
            "row의 0의 수 Max값 : 1\n",
            "   0\n",
            "0  0\n",
            "1  7\n",
            "2  4\n",
            "3  8\n",
            "커버 할 행 또는 열 선택 : 열\n"
          ]
        }
      ]
    },
    {
      "cell_type": "code",
      "source": [
        "# ㅡㅡㅡㅡㅡㅡㅡㅡㅡㅡㅡㅡㅡㅡㅡㅡㅡㅡㅡㅡㅡㅡㅡㅡㅡㅡㅡㅡㅡㅡㅡㅡㅡㅡㅡㅡㅡㅡㅡㅡㅡㅡㅡㅡㅡㅡㅡㅡㅡㅡㅡㅡㅡㅡㅡㅡㅡ\n",
        " \n",
        "# 커버한 열 또는 행의 index를 저장하는 문장\n",
        "num = list(range(n))\n",
        "del_row_index = []\n",
        "del_col_index = []\n",
        "\n",
        "for i in range(len(del_col_lst)): \n",
        "  del_col_index.append(num[del_col_lst[i]])\n",
        "  del num[del_col_lst[i]]\n",
        "\n",
        "num = list(range(n))\n",
        "\n",
        "for i in range(len(del_row_lst)):\n",
        "  del_row_index.append(num[del_row_lst[i]])\n",
        "  del num[del_row_lst[i]]\n",
        "# ㅡㅡㅡㅡㅡㅡㅡㅡㅡㅡㅡㅡㅡㅡㅡㅡㅡㅡㅡㅡㅡㅡㅡㅡㅡㅡㅡㅡㅡㅡㅡㅡㅡㅡㅡㅡㅡㅡㅡㅡㅡㅡㅡㅡㅡㅡㅡㅡㅡㅡㅡㅡㅡㅡㅡㅡㅡ"
      ],
      "metadata": {
        "id": "g4-36M2_fB1B"
      },
      "execution_count": 8,
      "outputs": []
    },
    {
      "cell_type": "code",
      "source": [
        "del_row_index, del_col_index"
      ],
      "metadata": {
        "colab": {
          "base_uri": "https://localhost:8080/"
        },
        "id": "5Dr4SVJYB03-",
        "outputId": "a33fcbc5-ccda-41bc-df03-03935a5c08df"
      },
      "execution_count": 9,
      "outputs": [
        {
          "output_type": "execute_result",
          "data": {
            "text/plain": [
              "([], [1, 0, 3, 2])"
            ]
          },
          "metadata": {},
          "execution_count": 9
        }
      ]
    },
    {
      "cell_type": "code",
      "source": [
        "pre_Data"
      ],
      "metadata": {
        "colab": {
          "base_uri": "https://localhost:8080/",
          "height": 175
        },
        "id": "ssbs9nU1viTR",
        "outputId": "f2d36fae-6820-42be-f248-827fb497e987"
      },
      "execution_count": 10,
      "outputs": [
        {
          "output_type": "execute_result",
          "data": {
            "text/plain": [
              "   0  1  2  3\n",
              "0  7  0  0  0\n",
              "1  1  0  7  4\n",
              "2  0  0  4  0\n",
              "3  0  3  8  1"
            ],
            "text/html": [
              "\n",
              "  <div id=\"df-46f1bdda-784b-47c5-9c62-1f5969db1080\">\n",
              "    <div class=\"colab-df-container\">\n",
              "      <div>\n",
              "<style scoped>\n",
              "    .dataframe tbody tr th:only-of-type {\n",
              "        vertical-align: middle;\n",
              "    }\n",
              "\n",
              "    .dataframe tbody tr th {\n",
              "        vertical-align: top;\n",
              "    }\n",
              "\n",
              "    .dataframe thead th {\n",
              "        text-align: right;\n",
              "    }\n",
              "</style>\n",
              "<table border=\"1\" class=\"dataframe\">\n",
              "  <thead>\n",
              "    <tr style=\"text-align: right;\">\n",
              "      <th></th>\n",
              "      <th>0</th>\n",
              "      <th>1</th>\n",
              "      <th>2</th>\n",
              "      <th>3</th>\n",
              "    </tr>\n",
              "  </thead>\n",
              "  <tbody>\n",
              "    <tr>\n",
              "      <th>0</th>\n",
              "      <td>7</td>\n",
              "      <td>0</td>\n",
              "      <td>0</td>\n",
              "      <td>0</td>\n",
              "    </tr>\n",
              "    <tr>\n",
              "      <th>1</th>\n",
              "      <td>1</td>\n",
              "      <td>0</td>\n",
              "      <td>7</td>\n",
              "      <td>4</td>\n",
              "    </tr>\n",
              "    <tr>\n",
              "      <th>2</th>\n",
              "      <td>0</td>\n",
              "      <td>0</td>\n",
              "      <td>4</td>\n",
              "      <td>0</td>\n",
              "    </tr>\n",
              "    <tr>\n",
              "      <th>3</th>\n",
              "      <td>0</td>\n",
              "      <td>3</td>\n",
              "      <td>8</td>\n",
              "      <td>1</td>\n",
              "    </tr>\n",
              "  </tbody>\n",
              "</table>\n",
              "</div>\n",
              "      <button class=\"colab-df-convert\" onclick=\"convertToInteractive('df-46f1bdda-784b-47c5-9c62-1f5969db1080')\"\n",
              "              title=\"Convert this dataframe to an interactive table.\"\n",
              "              style=\"display:none;\">\n",
              "        \n",
              "  <svg xmlns=\"http://www.w3.org/2000/svg\" height=\"24px\"viewBox=\"0 0 24 24\"\n",
              "       width=\"24px\">\n",
              "    <path d=\"M0 0h24v24H0V0z\" fill=\"none\"/>\n",
              "    <path d=\"M18.56 5.44l.94 2.06.94-2.06 2.06-.94-2.06-.94-.94-2.06-.94 2.06-2.06.94zm-11 1L8.5 8.5l.94-2.06 2.06-.94-2.06-.94L8.5 2.5l-.94 2.06-2.06.94zm10 10l.94 2.06.94-2.06 2.06-.94-2.06-.94-.94-2.06-.94 2.06-2.06.94z\"/><path d=\"M17.41 7.96l-1.37-1.37c-.4-.4-.92-.59-1.43-.59-.52 0-1.04.2-1.43.59L10.3 9.45l-7.72 7.72c-.78.78-.78 2.05 0 2.83L4 21.41c.39.39.9.59 1.41.59.51 0 1.02-.2 1.41-.59l7.78-7.78 2.81-2.81c.8-.78.8-2.07 0-2.86zM5.41 20L4 18.59l7.72-7.72 1.47 1.35L5.41 20z\"/>\n",
              "  </svg>\n",
              "      </button>\n",
              "      \n",
              "  <style>\n",
              "    .colab-df-container {\n",
              "      display:flex;\n",
              "      flex-wrap:wrap;\n",
              "      gap: 12px;\n",
              "    }\n",
              "\n",
              "    .colab-df-convert {\n",
              "      background-color: #E8F0FE;\n",
              "      border: none;\n",
              "      border-radius: 50%;\n",
              "      cursor: pointer;\n",
              "      display: none;\n",
              "      fill: #1967D2;\n",
              "      height: 32px;\n",
              "      padding: 0 0 0 0;\n",
              "      width: 32px;\n",
              "    }\n",
              "\n",
              "    .colab-df-convert:hover {\n",
              "      background-color: #E2EBFA;\n",
              "      box-shadow: 0px 1px 2px rgba(60, 64, 67, 0.3), 0px 1px 3px 1px rgba(60, 64, 67, 0.15);\n",
              "      fill: #174EA6;\n",
              "    }\n",
              "\n",
              "    [theme=dark] .colab-df-convert {\n",
              "      background-color: #3B4455;\n",
              "      fill: #D2E3FC;\n",
              "    }\n",
              "\n",
              "    [theme=dark] .colab-df-convert:hover {\n",
              "      background-color: #434B5C;\n",
              "      box-shadow: 0px 1px 3px 1px rgba(0, 0, 0, 0.15);\n",
              "      filter: drop-shadow(0px 1px 2px rgba(0, 0, 0, 0.3));\n",
              "      fill: #FFFFFF;\n",
              "    }\n",
              "  </style>\n",
              "\n",
              "      <script>\n",
              "        const buttonEl =\n",
              "          document.querySelector('#df-46f1bdda-784b-47c5-9c62-1f5969db1080 button.colab-df-convert');\n",
              "        buttonEl.style.display =\n",
              "          google.colab.kernel.accessAllowed ? 'block' : 'none';\n",
              "\n",
              "        async function convertToInteractive(key) {\n",
              "          const element = document.querySelector('#df-46f1bdda-784b-47c5-9c62-1f5969db1080');\n",
              "          const dataTable =\n",
              "            await google.colab.kernel.invokeFunction('convertToInteractive',\n",
              "                                                     [key], {});\n",
              "          if (!dataTable) return;\n",
              "\n",
              "          const docLinkHtml = 'Like what you see? Visit the ' +\n",
              "            '<a target=\"_blank\" href=https://colab.research.google.com/notebooks/data_table.ipynb>data table notebook</a>'\n",
              "            + ' to learn more about interactive tables.';\n",
              "          element.innerHTML = '';\n",
              "          dataTable['output_type'] = 'display_data';\n",
              "          await google.colab.output.renderOutput(dataTable, element);\n",
              "          const docLink = document.createElement('div');\n",
              "          docLink.innerHTML = docLinkHtml;\n",
              "          element.appendChild(docLink);\n",
              "        }\n",
              "      </script>\n",
              "    </div>\n",
              "  </div>\n",
              "  "
            ]
          },
          "metadata": {},
          "execution_count": 10
        }
      ]
    },
    {
      "cell_type": "markdown",
      "source": [
        "### cnt != n\n"
      ],
      "metadata": {
        "id": "nDuiqmZKe-th"
      }
    },
    {
      "cell_type": "code",
      "source": [
        "Data_Array = np.array(pre_Data)"
      ],
      "metadata": {
        "id": "psqFgdfkbThb"
      },
      "execution_count": 11,
      "outputs": []
    },
    {
      "cell_type": "code",
      "source": [
        "if(cnt != n):\n",
        "  num = list(range(n))\n",
        "  plus_row = list(set(num)-set(del_row_index))\n",
        "\n",
        "\n",
        "  Cross_matrix = np.random.randint(0, 1, size = (n, n))\n",
        "  double_Cross_matrix = np.random.randint(0, 1, size = (n, n))\n",
        "  Not_cov_matrix = np.random.randint(1, 2, size = (n, n))\n",
        "  for i in range(len(del_row_index)):\n",
        "    Not_cov_matrix[del_row_index[i]] = 0\n",
        "    for j in range(len(del_col_index)):\n",
        "      Cross_matrix[del_row_index[i]][del_col_index[j]] = 1\n",
        "      for k in range(len(plus_row)):\n",
        "        Not_cov_matrix[plus_row[k]][del_col_index[j]] = 0\n",
        "        double_Cross_matrix[plus_row[k]][del_col_index[j]] = 1\n",
        "  Not_cov_matrix_val = np.multiply(Data_Array, Not_cov_matrix)\n",
        "  min_val = np.min(Not_cov_matrix_val[Not_cov_matrix_val!=0])\n",
        "\n",
        "\n",
        "  pre_Data = pd.DataFrame(Data_Array - min_val * Not_cov_matrix + min_val*Cross_matrix + min_val * double_Cross_matrix)"
      ],
      "metadata": {
        "id": "tvdj8qPV9_OT"
      },
      "execution_count": 12,
      "outputs": []
    },
    {
      "cell_type": "code",
      "source": [
        "count_col = 0\n",
        "count_col_lst = []\n",
        "for i in range(len(pre_Data.columns)):\n",
        "  for j in range(len(pre_Data.index)):\n",
        "    if(pre_Data.iloc[j][i] == 0):\n",
        "      count_col += 1\n",
        "\n",
        "  count_col_lst.append(int(count_col))\n",
        "  print('col의 0의 수 : {}'.format(count_col_lst))\n",
        "  count_col = 0\n",
        "#ㅡㅡㅡㅡㅡㅡㅡㅡㅡㅡㅡㅡㅡㅡㅡㅡㅡㅡㅡㅡㅡㅡㅡㅡㅡㅡㅡㅡㅡㅡㅡㅡㅡㅡㅡㅡㅡㅡㅡㅡㅡㅡㅡㅡㅡㅡㅡㅡㅡㅡㅡㅡㅡㅡㅡㅡㅡ\n",
        "count_row = 0 # col의 index별 0의갯수 초기화\n",
        "count_row_lst = [] # 열 별 0의 갯수 저장\n",
        "for i in range(len(pre_Data.index)):\n",
        "  for j in range(len(pre_Data.columns)): # 열과 행의 갯수 만큼 for 문 실행 (삭제하며 찾기 때문에 n이 아닌 len루프)\n",
        "    if(pre_Data.iloc[i][j] == 0): \n",
        "      count_row += 1\n",
        "\n",
        "  count_row_lst.append(int(count_row))\n",
        "  print('row의 0의 수 : {}'.format(count_row_lst))\n",
        "  count_row = 0\n"
      ],
      "metadata": {
        "colab": {
          "base_uri": "https://localhost:8080/"
        },
        "id": "mULeMO98PKM2",
        "outputId": "20d49b31-7196-4d67-cf44-868a4be98db9"
      },
      "execution_count": 13,
      "outputs": [
        {
          "output_type": "stream",
          "name": "stdout",
          "text": [
            "col의 0의 수 : [2]\n",
            "col의 0의 수 : [2, 3]\n",
            "col의 0의 수 : [2, 3, 1]\n",
            "col의 0의 수 : [2, 3, 1, 2]\n",
            "row의 0의 수 : [3]\n",
            "row의 0의 수 : [3, 1]\n",
            "row의 0의 수 : [3, 1, 3]\n",
            "row의 0의 수 : [3, 1, 3, 1]\n"
          ]
        }
      ]
    },
    {
      "cell_type": "code",
      "source": [
        "count_col_lst , count_row_lst"
      ],
      "metadata": {
        "colab": {
          "base_uri": "https://localhost:8080/"
        },
        "id": "-7Y3Q6-wPmGy",
        "outputId": "a0b6bd67-9033-49b4-f5cb-699d3f438b8f"
      },
      "execution_count": 14,
      "outputs": [
        {
          "output_type": "execute_result",
          "data": {
            "text/plain": [
              "([2, 3, 1, 2], [3, 1, 3, 1])"
            ]
          },
          "metadata": {},
          "execution_count": 14
        }
      ]
    },
    {
      "cell_type": "markdown",
      "source": [
        "# 결과 뽑기 시각화"
      ],
      "metadata": {
        "id": "rYvdYXoaQ7wP"
      }
    },
    {
      "cell_type": "code",
      "source": [
        "DataArray = np.array(pre_Data)\n",
        "col = []\n",
        "for i in range(n):\n",
        "  count = 0\n",
        "  for j in range(n):\n",
        "    if(DataArray[j,i] == 0):\n",
        "      count +=1\n",
        "  col.append(count)\n",
        "\n",
        "row = []\n",
        "for i in range(n):\n",
        "  count = 0\n",
        "  for j in range(n):\n",
        "    if(DataArray[i,j] == 0):\n",
        "      count +=1\n",
        "  row.append(count)"
      ],
      "metadata": {
        "id": "cfZUXHGSQ7Pt"
      },
      "execution_count": 15,
      "outputs": []
    },
    {
      "cell_type": "code",
      "source": [
        "DataArray1 = DataArray\n",
        "result = np.zeros([n,n])\n",
        "DataArray1"
      ],
      "metadata": {
        "colab": {
          "base_uri": "https://localhost:8080/"
        },
        "id": "0HmMpvcmVMVr",
        "outputId": "5db8686a-c3b8-4579-e4f8-7757e5dafbe5"
      },
      "execution_count": 16,
      "outputs": [
        {
          "output_type": "execute_result",
          "data": {
            "text/plain": [
              "array([[7, 0, 0, 0],\n",
              "       [1, 0, 7, 4],\n",
              "       [0, 0, 4, 0],\n",
              "       [0, 3, 8, 1]])"
            ]
          },
          "metadata": {},
          "execution_count": 16
        }
      ]
    },
    {
      "cell_type": "code",
      "source": [
        "if(np.min(col) <= np.min(row)):\n",
        "  result[np.argmin(DataArray1[:,np.argmin(col)]),np.argmin(col)] = 1  # np.argmin(col) ==> 0~3열중 2열, np.argmin(DataArray1[:,np.argmin(col)])==> 2열중 0이 가장 작은 0행\n",
        "  # ==> 커버한 열과 행을 1로 대체 (0을 삭제)\n",
        "  DataArray1[np.argmin(DataArray1[:,np.argmin(col)]),:] = 1\n",
        "  DataArray1[:,np.argmin(col)] = 1\n",
        "else:\n",
        "  result[np.argmin(row), np.argmin(DataArray1[np.argmin(row),:])] = 1 # np.argmin(row) # 0~3행 중 1행, np.argmin(DataArray1[np.argmin(row),:]) # 1행중 1열\n",
        "\n",
        "  DataArray1[np.argmin(row),:] = 1 \n",
        "  DataArray1[:,np.argmin(DataArray1[np.argmin(row),:])] =1"
      ],
      "metadata": {
        "id": "tXLD5ydGTga2"
      },
      "execution_count": 17,
      "outputs": []
    },
    {
      "cell_type": "code",
      "source": [
        "result"
      ],
      "metadata": {
        "colab": {
          "base_uri": "https://localhost:8080/"
        },
        "id": "TKMcodg4WRuh",
        "outputId": "cdd53475-937d-40a5-eed0-1af93876f810"
      },
      "execution_count": 18,
      "outputs": [
        {
          "output_type": "execute_result",
          "data": {
            "text/plain": [
              "array([[0., 0., 1., 0.],\n",
              "       [0., 0., 0., 0.],\n",
              "       [0., 0., 0., 0.],\n",
              "       [0., 0., 0., 0.]])"
            ]
          },
          "metadata": {},
          "execution_count": 18
        }
      ]
    },
    {
      "cell_type": "code",
      "source": [
        "col = []\n",
        "for i in range(n):\n",
        "  count = 0\n",
        "  for j in range(n):\n",
        "    if(DataArray1[j,i] == 0):\n",
        "      count +=1\n",
        "  col.append(count)\n",
        "  if(col[np.argmin(col)] == 0):\n",
        "    col[np.argmin(col)] = 100\n",
        "row = []\n",
        "for i in range(n):\n",
        "  count = 0\n",
        "  for j in range(n):\n",
        "    if(DataArray1[i,j] == 0):\n",
        "      count +=1\n",
        "  row.append(count)\n",
        "  if(row[np.argmin(row)] == 0):\n",
        "    row[np.argmin(row)] = 100"
      ],
      "metadata": {
        "id": "wilbH-pXa92N"
      },
      "execution_count": 19,
      "outputs": []
    },
    {
      "cell_type": "code",
      "source": [
        "if(np.min(col) <= np.min(row)):\n",
        "  result[np.argmin(DataArray1[:,np.argmin(col)]),np.argmin(col)] = 1  # np.argmin(col) ==> 0~3열중 2열, np.argmin(DataArray1[:,np.argmin(col)])==> 2열중 0이 가장 작은 0행\n",
        "  # ==> 커버한 열과 행을 1로 대체 (0을 삭제)\n",
        "  DataArray1[np.argmin(DataArray1[:,np.argmin(col)]),:] = 1\n",
        "  DataArray1[:,np.argmin(col)] = 1\n",
        "else:\n",
        "  result[np.argmin(row), np.argmin(DataArray1[np.argmin(row),:])] = 1 # np.argmin(row) # 0~3행 중 1행, np.argmin(DataArray1[np.argmin(row),:]) # 1행중 1열\n",
        "\n",
        "  DataArray1[np.argmin(row),:] = 1 \n",
        "  DataArray1[:,np.argmin(DataArray1[np.argmin(row),:])] =1"
      ],
      "metadata": {
        "id": "1i2T-puRlG4o"
      },
      "execution_count": 20,
      "outputs": []
    },
    {
      "cell_type": "code",
      "source": [
        "result"
      ],
      "metadata": {
        "colab": {
          "base_uri": "https://localhost:8080/"
        },
        "id": "4GhIoaZGhROD",
        "outputId": "d7d99729-a3a8-465d-f537-cdec1976d589"
      },
      "execution_count": 21,
      "outputs": [
        {
          "output_type": "execute_result",
          "data": {
            "text/plain": [
              "array([[0., 0., 1., 0.],\n",
              "       [0., 0., 0., 0.],\n",
              "       [0., 0., 0., 1.],\n",
              "       [0., 0., 0., 0.]])"
            ]
          },
          "metadata": {},
          "execution_count": 21
        }
      ]
    },
    {
      "cell_type": "code",
      "source": [
        "col = []\n",
        "for i in range(n):\n",
        "  count = 0\n",
        "  for j in range(n):\n",
        "    if(DataArray1[j,i] == 0):\n",
        "      count +=1\n",
        "  col.append(count)\n",
        "  if(col[np.argmin(col)] == 0):\n",
        "    col[np.argmin(col)] = 100\n",
        "row = []\n",
        "for i in range(n):\n",
        "  count = 0\n",
        "  for j in range(n):\n",
        "    if(DataArray1[i,j] == 0):\n",
        "      count +=1\n",
        "  row.append(count)\n",
        "  if(row[np.argmin(row)] == 0):\n",
        "    row[np.argmin(row)] = 100"
      ],
      "metadata": {
        "id": "XQXJQXz7hnQe"
      },
      "execution_count": 22,
      "outputs": []
    },
    {
      "cell_type": "code",
      "source": [
        "if(np.min(col) <= np.min(row)):\n",
        "  result[np.argmin(DataArray1[:,np.argmin(col)]),np.argmin(col)] = 1  # np.argmin(col) ==> 0~3열중 2열, np.argmin(DataArray1[:,np.argmin(col)])==> 2열중 0이 가장 작은 0행\n",
        "  # ==> 커버한 열과 행을 1로 대체 (0을 삭제)\n",
        "  DataArray1[np.argmin(DataArray1[:,np.argmin(col)]),:] = 1\n",
        "  DataArray1[:,np.argmin(col)] = 1\n",
        "else:\n",
        "  result[np.argmin(row), np.argmin(DataArray1[np.argmin(row),:])] = 1 # np.argmin(row) # 0~3행 중 1행, np.argmin(DataArray1[np.argmin(row),:]) # 1행중 1열\n",
        "\n",
        "  DataArray1[np.argmin(row),:] = 1 \n",
        "  DataArray1[:,np.argmin(DataArray1[np.argmin(row),:])] =1"
      ],
      "metadata": {
        "id": "XLBJQuU2hpll"
      },
      "execution_count": 23,
      "outputs": []
    },
    {
      "cell_type": "code",
      "source": [
        "result"
      ],
      "metadata": {
        "colab": {
          "base_uri": "https://localhost:8080/"
        },
        "id": "H1hfwTxkhq_F",
        "outputId": "cefb1c60-2cbf-4720-e4ae-0441c19a5717"
      },
      "execution_count": 24,
      "outputs": [
        {
          "output_type": "execute_result",
          "data": {
            "text/plain": [
              "array([[0., 0., 1., 0.],\n",
              "       [0., 0., 0., 0.],\n",
              "       [0., 0., 0., 1.],\n",
              "       [1., 0., 0., 0.]])"
            ]
          },
          "metadata": {},
          "execution_count": 24
        }
      ]
    },
    {
      "cell_type": "code",
      "source": [
        "col = []\n",
        "for i in range(n):\n",
        "  count = 0\n",
        "  for j in range(n):\n",
        "    if(DataArray1[j,i] == 0):\n",
        "      count +=1\n",
        "  col.append(count)\n",
        "  if(col[np.argmin(col)] == 0):\n",
        "    col[np.argmin(col)] = 100\n",
        "row = []\n",
        "for i in range(n):\n",
        "  count = 0\n",
        "  for j in range(n):\n",
        "    if(DataArray1[i,j] == 0):\n",
        "      count +=1\n",
        "  row.append(count)\n",
        "  if(row[np.argmin(row)] == 0):\n",
        "    row[np.argmin(row)] = 100"
      ],
      "metadata": {
        "id": "VmTM7tJkhseV"
      },
      "execution_count": 25,
      "outputs": []
    },
    {
      "cell_type": "code",
      "source": [
        "if(np.min(col) <= np.min(row)):\n",
        "  result[np.argmin(DataArray1[:,np.argmin(col)]),np.argmin(col)] = 1  # np.argmin(col) ==> 0~3열중 2열, np.argmin(DataArray1[:,np.argmin(col)])==> 2열중 0이 가장 작은 0행\n",
        "  # ==> 커버한 열과 행을 1로 대체 (0을 삭제)\n",
        "  DataArray1[np.argmin(DataArray1[:,np.argmin(col)]),:] = 1\n",
        "  DataArray1[:,np.argmin(col)] = 1\n",
        "else:\n",
        "  result[np.argmin(row), np.argmin(DataArray1[np.argmin(row),:])] = 1 # np.argmin(row) # 0~3행 중 1행, np.argmin(DataArray1[np.argmin(row),:]) # 1행중 1열\n",
        "\n",
        "  DataArray1[np.argmin(row),:] = 1 \n",
        "  DataArray1[:,np.argmin(DataArray1[np.argmin(row),:])] =1"
      ],
      "metadata": {
        "id": "WtuMKRfchugn"
      },
      "execution_count": 26,
      "outputs": []
    },
    {
      "cell_type": "code",
      "source": [
        "result"
      ],
      "metadata": {
        "colab": {
          "base_uri": "https://localhost:8080/"
        },
        "id": "biI5IgoUhvAf",
        "outputId": "4442bf66-3a3f-4519-8dc3-5e945bf63fda"
      },
      "execution_count": 27,
      "outputs": [
        {
          "output_type": "execute_result",
          "data": {
            "text/plain": [
              "array([[0., 0., 1., 0.],\n",
              "       [0., 1., 0., 0.],\n",
              "       [0., 0., 0., 1.],\n",
              "       [1., 0., 0., 0.]])"
            ]
          },
          "metadata": {},
          "execution_count": 27
        }
      ]
    },
    {
      "cell_type": "code",
      "source": [
        "Total_Cost = np.multiply(c_m, result).sum()\n",
        "Total_Cost"
      ],
      "metadata": {
        "colab": {
          "base_uri": "https://localhost:8080/"
        },
        "id": "BkbHF4ltlxrW",
        "outputId": "7ba9322a-a5a3-4fa8-efbc-a46d83a61038"
      },
      "execution_count": 28,
      "outputs": [
        {
          "output_type": "execute_result",
          "data": {
            "text/plain": [
              "19.0"
            ]
          },
          "metadata": {},
          "execution_count": 28
        }
      ]
    },
    {
      "cell_type": "markdown",
      "source": [
        "# 결과 한번에 뽑기"
      ],
      "metadata": {
        "id": "URwIW4DHlQYd"
      }
    },
    {
      "cell_type": "code",
      "source": [
        "DataArray = np.array(pre_Data)\n",
        "col = []\n",
        "for i in range(n):\n",
        "  count = 0\n",
        "  for j in range(n):\n",
        "    if(DataArray[j,i] == 0):\n",
        "      count +=1\n",
        "  col.append(count)\n",
        "\n",
        "row = []\n",
        "for i in range(n):\n",
        "  count = 0\n",
        "  for j in range(n):\n",
        "    if(DataArray[i,j] == 0):\n",
        "      count +=1\n",
        "  row.append(count)"
      ],
      "metadata": {
        "id": "0_bGWYo8ld0Z"
      },
      "execution_count": 29,
      "outputs": []
    },
    {
      "cell_type": "code",
      "source": [
        "DataArray1 = DataArray\n",
        "result = np.zeros([n,n])\n",
        "DataArray1"
      ],
      "metadata": {
        "colab": {
          "base_uri": "https://localhost:8080/"
        },
        "id": "utkCb8N7lhO1",
        "outputId": "2f20edaa-02eb-46a6-c33f-f38fff6d627c"
      },
      "execution_count": 30,
      "outputs": [
        {
          "output_type": "execute_result",
          "data": {
            "text/plain": [
              "array([[7, 0, 0, 0],\n",
              "       [1, 0, 7, 4],\n",
              "       [0, 0, 4, 0],\n",
              "       [0, 3, 8, 1]])"
            ]
          },
          "metadata": {},
          "execution_count": 30
        }
      ]
    },
    {
      "cell_type": "code",
      "source": [
        "if(np.min(col) <= np.min(row)):\n",
        "  result[np.argmin(DataArray1[:,np.argmin(col)]),np.argmin(col)] = 1  # np.argmin(col) ==> 0~3열중 2열, np.argmin(DataArray1[:,np.argmin(col)])==> 2열중 0이 가장 작은 0행\n",
        "  # ==> 커버한 열과 행을 1로 대체 (0을 삭제)\n",
        "  DataArray1[np.argmin(DataArray1[:,np.argmin(col)]),:] = 1\n",
        "  DataArray1[:,np.argmin(col)] = 1\n",
        "else:\n",
        "  result[np.argmin(row), np.argmin(DataArray1[np.argmin(row),:])] = 1 # np.argmin(row) # 0~3행 중 1행, np.argmin(DataArray1[np.argmin(row),:]) # 1행중 1열\n",
        "\n",
        "  DataArray1[np.argmin(row),:] = 1 \n",
        "  DataArray1[:,np.argmin(DataArray1[np.argmin(row),:])] =1"
      ],
      "metadata": {
        "id": "UgevfocTllNK"
      },
      "execution_count": 31,
      "outputs": []
    },
    {
      "cell_type": "code",
      "source": [
        "for k in range(n-1):\n",
        "  col = []\n",
        "  for i in range(n):\n",
        "    count = 0\n",
        "    for j in range(n):\n",
        "      if(DataArray1[j,i] == 0):\n",
        "        count +=1\n",
        "    col.append(count)\n",
        "    if(col[np.argmin(col)] == 0):\n",
        "      col[np.argmin(col)] = 100\n",
        "  row = []\n",
        "  for i in range(n):\n",
        "    count = 0\n",
        "    for j in range(n):\n",
        "      if(DataArray1[i,j] == 0):\n",
        "        count +=1\n",
        "    row.append(count)\n",
        "    if(row[np.argmin(row)] == 0):\n",
        "      row[np.argmin(row)] = 100\n",
        "  if(np.min(col) <= np.min(row)):\n",
        "    result[np.argmin(DataArray1[:,np.argmin(col)]),np.argmin(col)] = 1  # np.argmin(col) ==> 0~3열중 2열, np.argmin(DataArray1[:,np.argmin(col)])==> 2열중 0이 가장 작은 0행\n",
        "    # ==> 커버한 열과 행을 1로 대체 (0을 삭제)\n",
        "    DataArray1[np.argmin(DataArray1[:,np.argmin(col)]),:] = 1\n",
        "    DataArray1[:,np.argmin(col)] = 1\n",
        "  else:\n",
        "    result[np.argmin(row), np.argmin(DataArray1[np.argmin(row),:])] = 1 # np.argmin(row) # 0~3행 중 1행, np.argmin(DataArray1[np.argmin(row),:]) # 1행중 1열\n",
        "\n",
        "    DataArray1[np.argmin(row),:] = 1 \n",
        "    DataArray1[:,np.argmin(DataArray1[np.argmin(row),:])] =1"
      ],
      "metadata": {
        "id": "7nwCEP7iglo8"
      },
      "execution_count": 32,
      "outputs": []
    },
    {
      "cell_type": "code",
      "source": [
        "Total_Cost = np.multiply(c_m, result).sum()\n",
        "Total_Cost"
      ],
      "metadata": {
        "id": "guQBY3wwglmr",
        "colab": {
          "base_uri": "https://localhost:8080/"
        },
        "outputId": "4efb0bdf-e9e0-4c6c-b0c6-d3acb8f22adb"
      },
      "execution_count": 33,
      "outputs": [
        {
          "output_type": "execute_result",
          "data": {
            "text/plain": [
              "19.0"
            ]
          },
          "metadata": {},
          "execution_count": 33
        }
      ]
    },
    {
      "cell_type": "code",
      "source": [
        ""
      ],
      "metadata": {
        "id": "PxOb52d0glkW"
      },
      "execution_count": 33,
      "outputs": []
    }
  ]
}