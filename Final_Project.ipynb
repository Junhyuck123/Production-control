{
  "nbformat": 4,
  "nbformat_minor": 0,
  "metadata": {
    "colab": {
      "name": "Final Project.ipynb의 사본",
      "provenance": [],
      "collapsed_sections": [],
      "toc_visible": true,
      "authorship_tag": "ABX9TyM01aDlyaoBSi9e2cThZe4K",
      "include_colab_link": true
    },
    "kernelspec": {
      "name": "python3",
      "display_name": "Python 3"
    },
    "language_info": {
      "name": "python"
    }
  },
  "cells": [
    {
      "cell_type": "markdown",
      "metadata": {
        "id": "view-in-github",
        "colab_type": "text"
      },
      "source": [
        "<a href=\"https://colab.research.google.com/github/Junhyuck123/Production-control/blob/main/Final_Project.ipynb\" target=\"_parent\"><img src=\"https://colab.research.google.com/assets/colab-badge.svg\" alt=\"Open In Colab\"/></a>"
      ]
    },
    {
      "cell_type": "code",
      "source": [
        "import numpy as np\n",
        "from scipy.optimize import linear_sum_assignment\n",
        "\n",
        "c_m = np.array([[9,6,3,4],\n",
        "                [5,8,12,10],\n",
        "                [2,6,7,4],\n",
        "                [4,11,13,7]])\n",
        "row_ind, col_ind = linear_sum_assignment(c_m)\n",
        "opt_ass = col_ind\n",
        "tc = c_m[row_ind, col_ind].sum()\n",
        "\n",
        "\n",
        "print(c_m)\n",
        "print(opt_ass)\n",
        "print(tc)"
      ],
      "metadata": {
        "colab": {
          "base_uri": "https://localhost:8080/"
        },
        "id": "LyLC1yVU7oN_",
        "outputId": "31a23015-2361-4d14-ce55-f48c5d7a08af"
      },
      "execution_count": null,
      "outputs": [
        {
          "output_type": "stream",
          "name": "stdout",
          "text": [
            "[[ 9  6  3  4]\n",
            " [ 5  8 12 10]\n",
            " [ 2  6  7  4]\n",
            " [ 4 11 13  7]]\n",
            "[2 1 3 0]\n",
            "19\n"
          ]
        }
      ]
    },
    {
      "cell_type": "code",
      "execution_count": null,
      "metadata": {
        "id": "9ErmaUT8nk_r",
        "colab": {
          "base_uri": "https://localhost:8080/"
        },
        "outputId": "0dd2839b-a2df-4985-9a2e-24056caa1127"
      },
      "outputs": [
        {
          "output_type": "stream",
          "name": "stdout",
          "text": [
            "Looking in indexes: https://pypi.org/simple, https://us-python.pkg.dev/colab-wheels/public/simple/\n",
            "Requirement already satisfied: pulp in /usr/local/lib/python3.7/dist-packages (2.6.0)\n"
          ]
        }
      ],
      "source": [
        "import numpy as np\n",
        "import pandas as pd\n",
        "!pip install pulp\n",
        "import pulp"
      ]
    },
    {
      "cell_type": "markdown",
      "source": [
        "# V1"
      ],
      "metadata": {
        "id": "wXucRBqdw2I9"
      }
    },
    {
      "cell_type": "code",
      "source": [
        "#n = int(input())\n",
        "n =4"
      ],
      "metadata": {
        "id": "w625KYOvu0_R"
      },
      "execution_count": null,
      "outputs": []
    },
    {
      "cell_type": "code",
      "source": [
        "job = []\n",
        "resource = []\n",
        "for i in range(n):\n",
        "  job.append(\"J{}\".format(i))\n",
        "  resource.append(\"R{}\".format(i))\n",
        "\n",
        "for i in range(n):\n",
        "  globals()[\"Col{}\".format(i)] = []\n",
        "  globals()[\"Low{}\".format(i)] = []"
      ],
      "metadata": {
        "id": "yCtORxeKqoa1"
      },
      "execution_count": null,
      "outputs": []
    },
    {
      "cell_type": "code",
      "source": [
        "# c = np.random.randint(1, 15, size = (n, n))\n",
        "# cost = pd.DataFrame(c, index = job, columns = resource)\n",
        "# cost\n",
        "cost = pd.DataFrame(c_m, index = job, columns = resource)\n",
        "cost\n",
        "\n"
      ],
      "metadata": {
        "id": "Yi88DkxYovan",
        "colab": {
          "base_uri": "https://localhost:8080/",
          "height": 175
        },
        "outputId": "f9e1302b-fbcc-4ada-f7d6-c0dc09e3d4f0"
      },
      "execution_count": null,
      "outputs": [
        {
          "output_type": "execute_result",
          "data": {
            "text/plain": [
              "    R0  R1  R2  R3\n",
              "J0   9   6   3   4\n",
              "J1   5   8  12  10\n",
              "J2   2   6   7   4\n",
              "J3   4  11  13   7"
            ],
            "text/html": [
              "\n",
              "  <div id=\"df-1bad2094-f0f5-4214-9681-302b4cc8e859\">\n",
              "    <div class=\"colab-df-container\">\n",
              "      <div>\n",
              "<style scoped>\n",
              "    .dataframe tbody tr th:only-of-type {\n",
              "        vertical-align: middle;\n",
              "    }\n",
              "\n",
              "    .dataframe tbody tr th {\n",
              "        vertical-align: top;\n",
              "    }\n",
              "\n",
              "    .dataframe thead th {\n",
              "        text-align: right;\n",
              "    }\n",
              "</style>\n",
              "<table border=\"1\" class=\"dataframe\">\n",
              "  <thead>\n",
              "    <tr style=\"text-align: right;\">\n",
              "      <th></th>\n",
              "      <th>R0</th>\n",
              "      <th>R1</th>\n",
              "      <th>R2</th>\n",
              "      <th>R3</th>\n",
              "    </tr>\n",
              "  </thead>\n",
              "  <tbody>\n",
              "    <tr>\n",
              "      <th>J0</th>\n",
              "      <td>9</td>\n",
              "      <td>6</td>\n",
              "      <td>3</td>\n",
              "      <td>4</td>\n",
              "    </tr>\n",
              "    <tr>\n",
              "      <th>J1</th>\n",
              "      <td>5</td>\n",
              "      <td>8</td>\n",
              "      <td>12</td>\n",
              "      <td>10</td>\n",
              "    </tr>\n",
              "    <tr>\n",
              "      <th>J2</th>\n",
              "      <td>2</td>\n",
              "      <td>6</td>\n",
              "      <td>7</td>\n",
              "      <td>4</td>\n",
              "    </tr>\n",
              "    <tr>\n",
              "      <th>J3</th>\n",
              "      <td>4</td>\n",
              "      <td>11</td>\n",
              "      <td>13</td>\n",
              "      <td>7</td>\n",
              "    </tr>\n",
              "  </tbody>\n",
              "</table>\n",
              "</div>\n",
              "      <button class=\"colab-df-convert\" onclick=\"convertToInteractive('df-1bad2094-f0f5-4214-9681-302b4cc8e859')\"\n",
              "              title=\"Convert this dataframe to an interactive table.\"\n",
              "              style=\"display:none;\">\n",
              "        \n",
              "  <svg xmlns=\"http://www.w3.org/2000/svg\" height=\"24px\"viewBox=\"0 0 24 24\"\n",
              "       width=\"24px\">\n",
              "    <path d=\"M0 0h24v24H0V0z\" fill=\"none\"/>\n",
              "    <path d=\"M18.56 5.44l.94 2.06.94-2.06 2.06-.94-2.06-.94-.94-2.06-.94 2.06-2.06.94zm-11 1L8.5 8.5l.94-2.06 2.06-.94-2.06-.94L8.5 2.5l-.94 2.06-2.06.94zm10 10l.94 2.06.94-2.06 2.06-.94-2.06-.94-.94-2.06-.94 2.06-2.06.94z\"/><path d=\"M17.41 7.96l-1.37-1.37c-.4-.4-.92-.59-1.43-.59-.52 0-1.04.2-1.43.59L10.3 9.45l-7.72 7.72c-.78.78-.78 2.05 0 2.83L4 21.41c.39.39.9.59 1.41.59.51 0 1.02-.2 1.41-.59l7.78-7.78 2.81-2.81c.8-.78.8-2.07 0-2.86zM5.41 20L4 18.59l7.72-7.72 1.47 1.35L5.41 20z\"/>\n",
              "  </svg>\n",
              "      </button>\n",
              "      \n",
              "  <style>\n",
              "    .colab-df-container {\n",
              "      display:flex;\n",
              "      flex-wrap:wrap;\n",
              "      gap: 12px;\n",
              "    }\n",
              "\n",
              "    .colab-df-convert {\n",
              "      background-color: #E8F0FE;\n",
              "      border: none;\n",
              "      border-radius: 50%;\n",
              "      cursor: pointer;\n",
              "      display: none;\n",
              "      fill: #1967D2;\n",
              "      height: 32px;\n",
              "      padding: 0 0 0 0;\n",
              "      width: 32px;\n",
              "    }\n",
              "\n",
              "    .colab-df-convert:hover {\n",
              "      background-color: #E2EBFA;\n",
              "      box-shadow: 0px 1px 2px rgba(60, 64, 67, 0.3), 0px 1px 3px 1px rgba(60, 64, 67, 0.15);\n",
              "      fill: #174EA6;\n",
              "    }\n",
              "\n",
              "    [theme=dark] .colab-df-convert {\n",
              "      background-color: #3B4455;\n",
              "      fill: #D2E3FC;\n",
              "    }\n",
              "\n",
              "    [theme=dark] .colab-df-convert:hover {\n",
              "      background-color: #434B5C;\n",
              "      box-shadow: 0px 1px 3px 1px rgba(0, 0, 0, 0.15);\n",
              "      filter: drop-shadow(0px 1px 2px rgba(0, 0, 0, 0.3));\n",
              "      fill: #FFFFFF;\n",
              "    }\n",
              "  </style>\n",
              "\n",
              "      <script>\n",
              "        const buttonEl =\n",
              "          document.querySelector('#df-1bad2094-f0f5-4214-9681-302b4cc8e859 button.colab-df-convert');\n",
              "        buttonEl.style.display =\n",
              "          google.colab.kernel.accessAllowed ? 'block' : 'none';\n",
              "\n",
              "        async function convertToInteractive(key) {\n",
              "          const element = document.querySelector('#df-1bad2094-f0f5-4214-9681-302b4cc8e859');\n",
              "          const dataTable =\n",
              "            await google.colab.kernel.invokeFunction('convertToInteractive',\n",
              "                                                     [key], {});\n",
              "          if (!dataTable) return;\n",
              "\n",
              "          const docLinkHtml = 'Like what you see? Visit the ' +\n",
              "            '<a target=\"_blank\" href=https://colab.research.google.com/notebooks/data_table.ipynb>data table notebook</a>'\n",
              "            + ' to learn more about interactive tables.';\n",
              "          element.innerHTML = '';\n",
              "          dataTable['output_type'] = 'display_data';\n",
              "          await google.colab.output.renderOutput(dataTable, element);\n",
              "          const docLink = document.createElement('div');\n",
              "          docLink.innerHTML = docLinkHtml;\n",
              "          element.appendChild(docLink);\n",
              "        }\n",
              "      </script>\n",
              "    </div>\n",
              "  </div>\n",
              "  "
            ]
          },
          "metadata": {},
          "execution_count": 325
        }
      ]
    },
    {
      "cell_type": "code",
      "source": [
        "stack_c = pd.DataFrame()\n",
        "for i in range(n):\n",
        "  col = np.array(cost['R{}'.format(i)])\n",
        "  col_min = min(col)\n",
        "  col = col - col_min\n",
        "  col = pd.DataFrame(col)\n",
        "  stack_c[i] = col\n",
        "stack_c"
      ],
      "metadata": {
        "id": "L_fEqIMIsiTV",
        "colab": {
          "base_uri": "https://localhost:8080/",
          "height": 175
        },
        "outputId": "b180f111-ea91-43d2-f0f9-d86abdeb08e3"
      },
      "execution_count": null,
      "outputs": [
        {
          "output_type": "execute_result",
          "data": {
            "text/plain": [
              "   0  1   2  3\n",
              "0  7  0   0  0\n",
              "1  3  2   9  6\n",
              "2  0  0   4  0\n",
              "3  2  5  10  3"
            ],
            "text/html": [
              "\n",
              "  <div id=\"df-182b5380-e66f-48fa-9a3b-4216b2b93d82\">\n",
              "    <div class=\"colab-df-container\">\n",
              "      <div>\n",
              "<style scoped>\n",
              "    .dataframe tbody tr th:only-of-type {\n",
              "        vertical-align: middle;\n",
              "    }\n",
              "\n",
              "    .dataframe tbody tr th {\n",
              "        vertical-align: top;\n",
              "    }\n",
              "\n",
              "    .dataframe thead th {\n",
              "        text-align: right;\n",
              "    }\n",
              "</style>\n",
              "<table border=\"1\" class=\"dataframe\">\n",
              "  <thead>\n",
              "    <tr style=\"text-align: right;\">\n",
              "      <th></th>\n",
              "      <th>0</th>\n",
              "      <th>1</th>\n",
              "      <th>2</th>\n",
              "      <th>3</th>\n",
              "    </tr>\n",
              "  </thead>\n",
              "  <tbody>\n",
              "    <tr>\n",
              "      <th>0</th>\n",
              "      <td>7</td>\n",
              "      <td>0</td>\n",
              "      <td>0</td>\n",
              "      <td>0</td>\n",
              "    </tr>\n",
              "    <tr>\n",
              "      <th>1</th>\n",
              "      <td>3</td>\n",
              "      <td>2</td>\n",
              "      <td>9</td>\n",
              "      <td>6</td>\n",
              "    </tr>\n",
              "    <tr>\n",
              "      <th>2</th>\n",
              "      <td>0</td>\n",
              "      <td>0</td>\n",
              "      <td>4</td>\n",
              "      <td>0</td>\n",
              "    </tr>\n",
              "    <tr>\n",
              "      <th>3</th>\n",
              "      <td>2</td>\n",
              "      <td>5</td>\n",
              "      <td>10</td>\n",
              "      <td>3</td>\n",
              "    </tr>\n",
              "  </tbody>\n",
              "</table>\n",
              "</div>\n",
              "      <button class=\"colab-df-convert\" onclick=\"convertToInteractive('df-182b5380-e66f-48fa-9a3b-4216b2b93d82')\"\n",
              "              title=\"Convert this dataframe to an interactive table.\"\n",
              "              style=\"display:none;\">\n",
              "        \n",
              "  <svg xmlns=\"http://www.w3.org/2000/svg\" height=\"24px\"viewBox=\"0 0 24 24\"\n",
              "       width=\"24px\">\n",
              "    <path d=\"M0 0h24v24H0V0z\" fill=\"none\"/>\n",
              "    <path d=\"M18.56 5.44l.94 2.06.94-2.06 2.06-.94-2.06-.94-.94-2.06-.94 2.06-2.06.94zm-11 1L8.5 8.5l.94-2.06 2.06-.94-2.06-.94L8.5 2.5l-.94 2.06-2.06.94zm10 10l.94 2.06.94-2.06 2.06-.94-2.06-.94-.94-2.06-.94 2.06-2.06.94z\"/><path d=\"M17.41 7.96l-1.37-1.37c-.4-.4-.92-.59-1.43-.59-.52 0-1.04.2-1.43.59L10.3 9.45l-7.72 7.72c-.78.78-.78 2.05 0 2.83L4 21.41c.39.39.9.59 1.41.59.51 0 1.02-.2 1.41-.59l7.78-7.78 2.81-2.81c.8-.78.8-2.07 0-2.86zM5.41 20L4 18.59l7.72-7.72 1.47 1.35L5.41 20z\"/>\n",
              "  </svg>\n",
              "      </button>\n",
              "      \n",
              "  <style>\n",
              "    .colab-df-container {\n",
              "      display:flex;\n",
              "      flex-wrap:wrap;\n",
              "      gap: 12px;\n",
              "    }\n",
              "\n",
              "    .colab-df-convert {\n",
              "      background-color: #E8F0FE;\n",
              "      border: none;\n",
              "      border-radius: 50%;\n",
              "      cursor: pointer;\n",
              "      display: none;\n",
              "      fill: #1967D2;\n",
              "      height: 32px;\n",
              "      padding: 0 0 0 0;\n",
              "      width: 32px;\n",
              "    }\n",
              "\n",
              "    .colab-df-convert:hover {\n",
              "      background-color: #E2EBFA;\n",
              "      box-shadow: 0px 1px 2px rgba(60, 64, 67, 0.3), 0px 1px 3px 1px rgba(60, 64, 67, 0.15);\n",
              "      fill: #174EA6;\n",
              "    }\n",
              "\n",
              "    [theme=dark] .colab-df-convert {\n",
              "      background-color: #3B4455;\n",
              "      fill: #D2E3FC;\n",
              "    }\n",
              "\n",
              "    [theme=dark] .colab-df-convert:hover {\n",
              "      background-color: #434B5C;\n",
              "      box-shadow: 0px 1px 3px 1px rgba(0, 0, 0, 0.15);\n",
              "      filter: drop-shadow(0px 1px 2px rgba(0, 0, 0, 0.3));\n",
              "      fill: #FFFFFF;\n",
              "    }\n",
              "  </style>\n",
              "\n",
              "      <script>\n",
              "        const buttonEl =\n",
              "          document.querySelector('#df-182b5380-e66f-48fa-9a3b-4216b2b93d82 button.colab-df-convert');\n",
              "        buttonEl.style.display =\n",
              "          google.colab.kernel.accessAllowed ? 'block' : 'none';\n",
              "\n",
              "        async function convertToInteractive(key) {\n",
              "          const element = document.querySelector('#df-182b5380-e66f-48fa-9a3b-4216b2b93d82');\n",
              "          const dataTable =\n",
              "            await google.colab.kernel.invokeFunction('convertToInteractive',\n",
              "                                                     [key], {});\n",
              "          if (!dataTable) return;\n",
              "\n",
              "          const docLinkHtml = 'Like what you see? Visit the ' +\n",
              "            '<a target=\"_blank\" href=https://colab.research.google.com/notebooks/data_table.ipynb>data table notebook</a>'\n",
              "            + ' to learn more about interactive tables.';\n",
              "          element.innerHTML = '';\n",
              "          dataTable['output_type'] = 'display_data';\n",
              "          await google.colab.output.renderOutput(dataTable, element);\n",
              "          const docLink = document.createElement('div');\n",
              "          docLink.innerHTML = docLinkHtml;\n",
              "          element.appendChild(docLink);\n",
              "        }\n",
              "      </script>\n",
              "    </div>\n",
              "  </div>\n",
              "  "
            ]
          },
          "metadata": {},
          "execution_count": 326
        }
      ]
    },
    {
      "cell_type": "code",
      "source": [
        "stack_r = pd.DataFrame()\n",
        "for i in range(n):\n",
        "  row = stack_c.iloc[i][:]\n",
        "  row_min = min(row)\n",
        "  row = row - row_min\n",
        "  row = pd.DataFrame(row)\n",
        "  stack_r[i] = row\n",
        "stack_r = stack_r.transpose()\n",
        "stack_r"
      ],
      "metadata": {
        "colab": {
          "base_uri": "https://localhost:8080/",
          "height": 175
        },
        "id": "RRgosg2HdBf3",
        "outputId": "732dfa0b-b262-422c-e4b2-9f78d451f5d8"
      },
      "execution_count": null,
      "outputs": [
        {
          "output_type": "execute_result",
          "data": {
            "text/plain": [
              "   0  1  2  3\n",
              "0  7  0  0  0\n",
              "1  1  0  7  4\n",
              "2  0  0  4  0\n",
              "3  0  3  8  1"
            ],
            "text/html": [
              "\n",
              "  <div id=\"df-43781ac9-7af7-484e-8009-b7db9271d7b6\">\n",
              "    <div class=\"colab-df-container\">\n",
              "      <div>\n",
              "<style scoped>\n",
              "    .dataframe tbody tr th:only-of-type {\n",
              "        vertical-align: middle;\n",
              "    }\n",
              "\n",
              "    .dataframe tbody tr th {\n",
              "        vertical-align: top;\n",
              "    }\n",
              "\n",
              "    .dataframe thead th {\n",
              "        text-align: right;\n",
              "    }\n",
              "</style>\n",
              "<table border=\"1\" class=\"dataframe\">\n",
              "  <thead>\n",
              "    <tr style=\"text-align: right;\">\n",
              "      <th></th>\n",
              "      <th>0</th>\n",
              "      <th>1</th>\n",
              "      <th>2</th>\n",
              "      <th>3</th>\n",
              "    </tr>\n",
              "  </thead>\n",
              "  <tbody>\n",
              "    <tr>\n",
              "      <th>0</th>\n",
              "      <td>7</td>\n",
              "      <td>0</td>\n",
              "      <td>0</td>\n",
              "      <td>0</td>\n",
              "    </tr>\n",
              "    <tr>\n",
              "      <th>1</th>\n",
              "      <td>1</td>\n",
              "      <td>0</td>\n",
              "      <td>7</td>\n",
              "      <td>4</td>\n",
              "    </tr>\n",
              "    <tr>\n",
              "      <th>2</th>\n",
              "      <td>0</td>\n",
              "      <td>0</td>\n",
              "      <td>4</td>\n",
              "      <td>0</td>\n",
              "    </tr>\n",
              "    <tr>\n",
              "      <th>3</th>\n",
              "      <td>0</td>\n",
              "      <td>3</td>\n",
              "      <td>8</td>\n",
              "      <td>1</td>\n",
              "    </tr>\n",
              "  </tbody>\n",
              "</table>\n",
              "</div>\n",
              "      <button class=\"colab-df-convert\" onclick=\"convertToInteractive('df-43781ac9-7af7-484e-8009-b7db9271d7b6')\"\n",
              "              title=\"Convert this dataframe to an interactive table.\"\n",
              "              style=\"display:none;\">\n",
              "        \n",
              "  <svg xmlns=\"http://www.w3.org/2000/svg\" height=\"24px\"viewBox=\"0 0 24 24\"\n",
              "       width=\"24px\">\n",
              "    <path d=\"M0 0h24v24H0V0z\" fill=\"none\"/>\n",
              "    <path d=\"M18.56 5.44l.94 2.06.94-2.06 2.06-.94-2.06-.94-.94-2.06-.94 2.06-2.06.94zm-11 1L8.5 8.5l.94-2.06 2.06-.94-2.06-.94L8.5 2.5l-.94 2.06-2.06.94zm10 10l.94 2.06.94-2.06 2.06-.94-2.06-.94-.94-2.06-.94 2.06-2.06.94z\"/><path d=\"M17.41 7.96l-1.37-1.37c-.4-.4-.92-.59-1.43-.59-.52 0-1.04.2-1.43.59L10.3 9.45l-7.72 7.72c-.78.78-.78 2.05 0 2.83L4 21.41c.39.39.9.59 1.41.59.51 0 1.02-.2 1.41-.59l7.78-7.78 2.81-2.81c.8-.78.8-2.07 0-2.86zM5.41 20L4 18.59l7.72-7.72 1.47 1.35L5.41 20z\"/>\n",
              "  </svg>\n",
              "      </button>\n",
              "      \n",
              "  <style>\n",
              "    .colab-df-container {\n",
              "      display:flex;\n",
              "      flex-wrap:wrap;\n",
              "      gap: 12px;\n",
              "    }\n",
              "\n",
              "    .colab-df-convert {\n",
              "      background-color: #E8F0FE;\n",
              "      border: none;\n",
              "      border-radius: 50%;\n",
              "      cursor: pointer;\n",
              "      display: none;\n",
              "      fill: #1967D2;\n",
              "      height: 32px;\n",
              "      padding: 0 0 0 0;\n",
              "      width: 32px;\n",
              "    }\n",
              "\n",
              "    .colab-df-convert:hover {\n",
              "      background-color: #E2EBFA;\n",
              "      box-shadow: 0px 1px 2px rgba(60, 64, 67, 0.3), 0px 1px 3px 1px rgba(60, 64, 67, 0.15);\n",
              "      fill: #174EA6;\n",
              "    }\n",
              "\n",
              "    [theme=dark] .colab-df-convert {\n",
              "      background-color: #3B4455;\n",
              "      fill: #D2E3FC;\n",
              "    }\n",
              "\n",
              "    [theme=dark] .colab-df-convert:hover {\n",
              "      background-color: #434B5C;\n",
              "      box-shadow: 0px 1px 3px 1px rgba(0, 0, 0, 0.15);\n",
              "      filter: drop-shadow(0px 1px 2px rgba(0, 0, 0, 0.3));\n",
              "      fill: #FFFFFF;\n",
              "    }\n",
              "  </style>\n",
              "\n",
              "      <script>\n",
              "        const buttonEl =\n",
              "          document.querySelector('#df-43781ac9-7af7-484e-8009-b7db9271d7b6 button.colab-df-convert');\n",
              "        buttonEl.style.display =\n",
              "          google.colab.kernel.accessAllowed ? 'block' : 'none';\n",
              "\n",
              "        async function convertToInteractive(key) {\n",
              "          const element = document.querySelector('#df-43781ac9-7af7-484e-8009-b7db9271d7b6');\n",
              "          const dataTable =\n",
              "            await google.colab.kernel.invokeFunction('convertToInteractive',\n",
              "                                                     [key], {});\n",
              "          if (!dataTable) return;\n",
              "\n",
              "          const docLinkHtml = 'Like what you see? Visit the ' +\n",
              "            '<a target=\"_blank\" href=https://colab.research.google.com/notebooks/data_table.ipynb>data table notebook</a>'\n",
              "            + ' to learn more about interactive tables.';\n",
              "          element.innerHTML = '';\n",
              "          dataTable['output_type'] = 'display_data';\n",
              "          await google.colab.output.renderOutput(dataTable, element);\n",
              "          const docLink = document.createElement('div');\n",
              "          docLink.innerHTML = docLinkHtml;\n",
              "          element.appendChild(docLink);\n",
              "        }\n",
              "      </script>\n",
              "    </div>\n",
              "  </div>\n",
              "  "
            ]
          },
          "metadata": {},
          "execution_count": 327
        }
      ]
    },
    {
      "cell_type": "code",
      "source": [
        "count_col = 0\n",
        "count_col_lst = []\n",
        "for i in range(n):\n",
        "  for j in range(n):\n",
        "    if(stack_r.iloc[i][j] == 0):\n",
        "      count_col += 1\n",
        "\n",
        "  globals()[\"Zero_cnt_col{}\".format(i)] = count_col\n",
        "  count_col_lst.append(int(count_col))\n",
        "  count_col = 0\n",
        "\n",
        "\n",
        "count_row = 0\n",
        "count_row_lst = []\n",
        "for i in range(n):\n",
        "  for j in range(n):\n",
        "    if(stack_r.iloc[j][i] == 0):\n",
        "      count_row += 1\n",
        "\n",
        "  globals()[\"Zero_cnt_row{}\".format(i)] = count_row\n",
        "  count_row_lst.append(int(count_row))\n",
        "  count_row = 0\n",
        "\n",
        "\n",
        "print('row의 0의 수 : {}'.format(count_row_lst))\n",
        "print('col의 0의 수 : {}'.format(count_col_lst))"
      ],
      "metadata": {
        "id": "iQ-ydBaKzPSE",
        "colab": {
          "base_uri": "https://localhost:8080/"
        },
        "outputId": "6665ca18-371e-4f6c-b2d1-bf01a535c5b2"
      },
      "execution_count": null,
      "outputs": [
        {
          "output_type": "stream",
          "name": "stdout",
          "text": [
            "row의 0의 수 : [2, 3, 1, 2]\n",
            "col의 0의 수 : [3, 1, 3, 1]\n"
          ]
        }
      ]
    },
    {
      "cell_type": "code",
      "source": [
        "row_zero_index = [i for i, value in enumerate(count_row_lst) if value == np.max(count_row_lst)]\n",
        "col_zero_index = [i for i, value in enumerate(count_col_lst) if value == np.max(count_col_lst)]\n",
        "\n",
        "choice = []\n",
        "choice.append(int(np.max(count_row_lst)))\n",
        "choice.append(int(np.max(count_col_lst)))\n",
        "choice = int(np.argmax(choice))\n",
        "print('row의 0의 수 Max값 : {}'.format(np.max(count_row_lst)))\n",
        "print('col의 0의 수 Max값 : {}'.format(np.max(count_col_lst)))\n",
        "print('row의 0의 수 Max값 index : {}'.format(np.max(row_zero_index)))\n",
        "print('col의 0의 수 Max값 index : {}'.format(np.max(col_zero_index)))\n",
        "\n",
        "if(choice == 0):\n",
        "  choice_str = \"행\"\n",
        "else:\n",
        "  choice_str = \"열\"\n",
        "print('삭제할 곳 선택 : {}'.format(choice_str))"
      ],
      "metadata": {
        "colab": {
          "base_uri": "https://localhost:8080/"
        },
        "id": "9dzpgFg9urlo",
        "outputId": "e40b20c0-0055-476f-cdcc-dc63ab7e3343"
      },
      "execution_count": null,
      "outputs": [
        {
          "output_type": "stream",
          "name": "stdout",
          "text": [
            "row의 0의 수 Max값 : 3\n",
            "col의 0의 수 Max값 : 3\n",
            "row의 0의 수 Max값 index : 1\n",
            "col의 0의 수 Max값 index : 2\n",
            "삭제할 곳 선택 : 행\n"
          ]
        }
      ]
    },
    {
      "cell_type": "code",
      "source": [
        "if(choice == 0):\n",
        "  result_step1 = stack_r.drop(row_zero_index[0], axis='columns')\n",
        "else:\n",
        "  result_step1 = stack_r.drop(columns=col_zero_index[0])\n",
        "result_step1= pd.DataFrame(np.array(result_step1))\n",
        "result_step1"
      ],
      "metadata": {
        "id": "UpCW6AvB4rlB",
        "colab": {
          "base_uri": "https://localhost:8080/",
          "height": 175
        },
        "outputId": "a87a8e3b-d05b-417d-d136-85ab8b4d22f5"
      },
      "execution_count": null,
      "outputs": [
        {
          "output_type": "execute_result",
          "data": {
            "text/plain": [
              "   0  1  2\n",
              "0  7  0  0\n",
              "1  1  7  4\n",
              "2  0  4  0\n",
              "3  0  8  1"
            ],
            "text/html": [
              "\n",
              "  <div id=\"df-ced6431d-e03e-4a8a-8676-3194308591ca\">\n",
              "    <div class=\"colab-df-container\">\n",
              "      <div>\n",
              "<style scoped>\n",
              "    .dataframe tbody tr th:only-of-type {\n",
              "        vertical-align: middle;\n",
              "    }\n",
              "\n",
              "    .dataframe tbody tr th {\n",
              "        vertical-align: top;\n",
              "    }\n",
              "\n",
              "    .dataframe thead th {\n",
              "        text-align: right;\n",
              "    }\n",
              "</style>\n",
              "<table border=\"1\" class=\"dataframe\">\n",
              "  <thead>\n",
              "    <tr style=\"text-align: right;\">\n",
              "      <th></th>\n",
              "      <th>0</th>\n",
              "      <th>1</th>\n",
              "      <th>2</th>\n",
              "    </tr>\n",
              "  </thead>\n",
              "  <tbody>\n",
              "    <tr>\n",
              "      <th>0</th>\n",
              "      <td>7</td>\n",
              "      <td>0</td>\n",
              "      <td>0</td>\n",
              "    </tr>\n",
              "    <tr>\n",
              "      <th>1</th>\n",
              "      <td>1</td>\n",
              "      <td>7</td>\n",
              "      <td>4</td>\n",
              "    </tr>\n",
              "    <tr>\n",
              "      <th>2</th>\n",
              "      <td>0</td>\n",
              "      <td>4</td>\n",
              "      <td>0</td>\n",
              "    </tr>\n",
              "    <tr>\n",
              "      <th>3</th>\n",
              "      <td>0</td>\n",
              "      <td>8</td>\n",
              "      <td>1</td>\n",
              "    </tr>\n",
              "  </tbody>\n",
              "</table>\n",
              "</div>\n",
              "      <button class=\"colab-df-convert\" onclick=\"convertToInteractive('df-ced6431d-e03e-4a8a-8676-3194308591ca')\"\n",
              "              title=\"Convert this dataframe to an interactive table.\"\n",
              "              style=\"display:none;\">\n",
              "        \n",
              "  <svg xmlns=\"http://www.w3.org/2000/svg\" height=\"24px\"viewBox=\"0 0 24 24\"\n",
              "       width=\"24px\">\n",
              "    <path d=\"M0 0h24v24H0V0z\" fill=\"none\"/>\n",
              "    <path d=\"M18.56 5.44l.94 2.06.94-2.06 2.06-.94-2.06-.94-.94-2.06-.94 2.06-2.06.94zm-11 1L8.5 8.5l.94-2.06 2.06-.94-2.06-.94L8.5 2.5l-.94 2.06-2.06.94zm10 10l.94 2.06.94-2.06 2.06-.94-2.06-.94-.94-2.06-.94 2.06-2.06.94z\"/><path d=\"M17.41 7.96l-1.37-1.37c-.4-.4-.92-.59-1.43-.59-.52 0-1.04.2-1.43.59L10.3 9.45l-7.72 7.72c-.78.78-.78 2.05 0 2.83L4 21.41c.39.39.9.59 1.41.59.51 0 1.02-.2 1.41-.59l7.78-7.78 2.81-2.81c.8-.78.8-2.07 0-2.86zM5.41 20L4 18.59l7.72-7.72 1.47 1.35L5.41 20z\"/>\n",
              "  </svg>\n",
              "      </button>\n",
              "      \n",
              "  <style>\n",
              "    .colab-df-container {\n",
              "      display:flex;\n",
              "      flex-wrap:wrap;\n",
              "      gap: 12px;\n",
              "    }\n",
              "\n",
              "    .colab-df-convert {\n",
              "      background-color: #E8F0FE;\n",
              "      border: none;\n",
              "      border-radius: 50%;\n",
              "      cursor: pointer;\n",
              "      display: none;\n",
              "      fill: #1967D2;\n",
              "      height: 32px;\n",
              "      padding: 0 0 0 0;\n",
              "      width: 32px;\n",
              "    }\n",
              "\n",
              "    .colab-df-convert:hover {\n",
              "      background-color: #E2EBFA;\n",
              "      box-shadow: 0px 1px 2px rgba(60, 64, 67, 0.3), 0px 1px 3px 1px rgba(60, 64, 67, 0.15);\n",
              "      fill: #174EA6;\n",
              "    }\n",
              "\n",
              "    [theme=dark] .colab-df-convert {\n",
              "      background-color: #3B4455;\n",
              "      fill: #D2E3FC;\n",
              "    }\n",
              "\n",
              "    [theme=dark] .colab-df-convert:hover {\n",
              "      background-color: #434B5C;\n",
              "      box-shadow: 0px 1px 3px 1px rgba(0, 0, 0, 0.15);\n",
              "      filter: drop-shadow(0px 1px 2px rgba(0, 0, 0, 0.3));\n",
              "      fill: #FFFFFF;\n",
              "    }\n",
              "  </style>\n",
              "\n",
              "      <script>\n",
              "        const buttonEl =\n",
              "          document.querySelector('#df-ced6431d-e03e-4a8a-8676-3194308591ca button.colab-df-convert');\n",
              "        buttonEl.style.display =\n",
              "          google.colab.kernel.accessAllowed ? 'block' : 'none';\n",
              "\n",
              "        async function convertToInteractive(key) {\n",
              "          const element = document.querySelector('#df-ced6431d-e03e-4a8a-8676-3194308591ca');\n",
              "          const dataTable =\n",
              "            await google.colab.kernel.invokeFunction('convertToInteractive',\n",
              "                                                     [key], {});\n",
              "          if (!dataTable) return;\n",
              "\n",
              "          const docLinkHtml = 'Like what you see? Visit the ' +\n",
              "            '<a target=\"_blank\" href=https://colab.research.google.com/notebooks/data_table.ipynb>data table notebook</a>'\n",
              "            + ' to learn more about interactive tables.';\n",
              "          element.innerHTML = '';\n",
              "          dataTable['output_type'] = 'display_data';\n",
              "          await google.colab.output.renderOutput(dataTable, element);\n",
              "          const docLink = document.createElement('div');\n",
              "          docLink.innerHTML = docLinkHtml;\n",
              "          element.appendChild(docLink);\n",
              "        }\n",
              "      </script>\n",
              "    </div>\n",
              "  </div>\n",
              "  "
            ]
          },
          "metadata": {},
          "execution_count": 330
        }
      ]
    },
    {
      "cell_type": "code",
      "source": [
        "count_col = 0\n",
        "count_col_lst = []\n",
        "for i in range(len(result_step1.index)):\n",
        "  for j in range(len(result_step1.columns)):\n",
        "    if(int(result_step1.iloc[i][j]) == 0):\n",
        "      count_col += 1\n",
        "  globals()[\"Zero_cnt_col{}\".format(i)] = count_col\n",
        "  count_col_lst.append(int(count_col))\n",
        "  count_col = 0\n",
        "\n",
        "count_row = 0\n",
        "count_row_lst = []\n",
        "for i in range(len(result_step1.columns)):\n",
        "  for j in range(len(result_step1.index)):\n",
        "    if(int(result_step1.iloc[j][i]) == 0):\n",
        "      count_row += 1\n",
        "\n",
        "  globals()[\"Zero_cnt_row{}\".format(i)] = count_row\n",
        "  count_row_lst.append(int(count_row))\n",
        "  count_row = 0\n"
      ],
      "metadata": {
        "id": "xUm9gnA56PRT"
      },
      "execution_count": null,
      "outputs": []
    },
    {
      "cell_type": "code",
      "source": [
        "row_zero_index = [i for i, value in enumerate(count_row_lst) if value == np.max(count_row_lst)]\n",
        "col_zero_index = [i for i, value in enumerate(count_col_lst) if value == np.max(count_col_lst)]\n",
        "\n",
        "choice = []\n",
        "choice.append(int(np.max(count_row_lst)))\n",
        "choice.append(int(np.max(count_col_lst)))\n",
        "choice = int(np.argmax(choice))\n",
        "np.max(count_row_lst),np.max(count_col_lst), choice"
      ],
      "metadata": {
        "colab": {
          "base_uri": "https://localhost:8080/"
        },
        "id": "-3HB23Wfu4yV",
        "outputId": "d07cf17e-7c16-44f3-ada8-096e4fbff4f0"
      },
      "execution_count": null,
      "outputs": [
        {
          "output_type": "execute_result",
          "data": {
            "text/plain": [
              "(2, 2, 0)"
            ]
          },
          "metadata": {},
          "execution_count": 332
        }
      ]
    },
    {
      "cell_type": "code",
      "source": [
        "count_row_lst, count_col_lst "
      ],
      "metadata": {
        "colab": {
          "base_uri": "https://localhost:8080/"
        },
        "id": "t3Dm_K_IAs0I",
        "outputId": "359224ba-2ac0-4ce1-8bbf-5fd3017376ca"
      },
      "execution_count": null,
      "outputs": [
        {
          "output_type": "execute_result",
          "data": {
            "text/plain": [
              "([2, 1, 2], [2, 0, 2, 1])"
            ]
          },
          "metadata": {},
          "execution_count": 333
        }
      ]
    },
    {
      "cell_type": "code",
      "source": [
        "choice"
      ],
      "metadata": {
        "colab": {
          "base_uri": "https://localhost:8080/"
        },
        "id": "0crN6D4ou1dV",
        "outputId": "a226a9a5-bed0-42ab-c0b6-3d1fe173b3bf"
      },
      "execution_count": null,
      "outputs": [
        {
          "output_type": "execute_result",
          "data": {
            "text/plain": [
              "0"
            ]
          },
          "metadata": {},
          "execution_count": 334
        }
      ]
    },
    {
      "cell_type": "code",
      "source": [
        "if(choice == 0):\n",
        "  result_step2 = result_step1.drop(row_zero_index[0], axis='columns')\n",
        "else:\n",
        "  result_step2 = result_step1.drop(columns=col_zero_index[0])\n"
      ],
      "metadata": {
        "id": "idC6bjPfqZum"
      },
      "execution_count": null,
      "outputs": []
    },
    {
      "cell_type": "code",
      "source": [
        "result_step2"
      ],
      "metadata": {
        "colab": {
          "base_uri": "https://localhost:8080/",
          "height": 175
        },
        "id": "DvU9OBlsqcq5",
        "outputId": "0ab3f421-08af-48cb-ddf4-70932d342119"
      },
      "execution_count": null,
      "outputs": [
        {
          "output_type": "execute_result",
          "data": {
            "text/plain": [
              "   1  2\n",
              "0  0  0\n",
              "1  7  4\n",
              "2  4  0\n",
              "3  8  1"
            ],
            "text/html": [
              "\n",
              "  <div id=\"df-47bc6f75-f995-403d-89bb-eeb44cb6c408\">\n",
              "    <div class=\"colab-df-container\">\n",
              "      <div>\n",
              "<style scoped>\n",
              "    .dataframe tbody tr th:only-of-type {\n",
              "        vertical-align: middle;\n",
              "    }\n",
              "\n",
              "    .dataframe tbody tr th {\n",
              "        vertical-align: top;\n",
              "    }\n",
              "\n",
              "    .dataframe thead th {\n",
              "        text-align: right;\n",
              "    }\n",
              "</style>\n",
              "<table border=\"1\" class=\"dataframe\">\n",
              "  <thead>\n",
              "    <tr style=\"text-align: right;\">\n",
              "      <th></th>\n",
              "      <th>1</th>\n",
              "      <th>2</th>\n",
              "    </tr>\n",
              "  </thead>\n",
              "  <tbody>\n",
              "    <tr>\n",
              "      <th>0</th>\n",
              "      <td>0</td>\n",
              "      <td>0</td>\n",
              "    </tr>\n",
              "    <tr>\n",
              "      <th>1</th>\n",
              "      <td>7</td>\n",
              "      <td>4</td>\n",
              "    </tr>\n",
              "    <tr>\n",
              "      <th>2</th>\n",
              "      <td>4</td>\n",
              "      <td>0</td>\n",
              "    </tr>\n",
              "    <tr>\n",
              "      <th>3</th>\n",
              "      <td>8</td>\n",
              "      <td>1</td>\n",
              "    </tr>\n",
              "  </tbody>\n",
              "</table>\n",
              "</div>\n",
              "      <button class=\"colab-df-convert\" onclick=\"convertToInteractive('df-47bc6f75-f995-403d-89bb-eeb44cb6c408')\"\n",
              "              title=\"Convert this dataframe to an interactive table.\"\n",
              "              style=\"display:none;\">\n",
              "        \n",
              "  <svg xmlns=\"http://www.w3.org/2000/svg\" height=\"24px\"viewBox=\"0 0 24 24\"\n",
              "       width=\"24px\">\n",
              "    <path d=\"M0 0h24v24H0V0z\" fill=\"none\"/>\n",
              "    <path d=\"M18.56 5.44l.94 2.06.94-2.06 2.06-.94-2.06-.94-.94-2.06-.94 2.06-2.06.94zm-11 1L8.5 8.5l.94-2.06 2.06-.94-2.06-.94L8.5 2.5l-.94 2.06-2.06.94zm10 10l.94 2.06.94-2.06 2.06-.94-2.06-.94-.94-2.06-.94 2.06-2.06.94z\"/><path d=\"M17.41 7.96l-1.37-1.37c-.4-.4-.92-.59-1.43-.59-.52 0-1.04.2-1.43.59L10.3 9.45l-7.72 7.72c-.78.78-.78 2.05 0 2.83L4 21.41c.39.39.9.59 1.41.59.51 0 1.02-.2 1.41-.59l7.78-7.78 2.81-2.81c.8-.78.8-2.07 0-2.86zM5.41 20L4 18.59l7.72-7.72 1.47 1.35L5.41 20z\"/>\n",
              "  </svg>\n",
              "      </button>\n",
              "      \n",
              "  <style>\n",
              "    .colab-df-container {\n",
              "      display:flex;\n",
              "      flex-wrap:wrap;\n",
              "      gap: 12px;\n",
              "    }\n",
              "\n",
              "    .colab-df-convert {\n",
              "      background-color: #E8F0FE;\n",
              "      border: none;\n",
              "      border-radius: 50%;\n",
              "      cursor: pointer;\n",
              "      display: none;\n",
              "      fill: #1967D2;\n",
              "      height: 32px;\n",
              "      padding: 0 0 0 0;\n",
              "      width: 32px;\n",
              "    }\n",
              "\n",
              "    .colab-df-convert:hover {\n",
              "      background-color: #E2EBFA;\n",
              "      box-shadow: 0px 1px 2px rgba(60, 64, 67, 0.3), 0px 1px 3px 1px rgba(60, 64, 67, 0.15);\n",
              "      fill: #174EA6;\n",
              "    }\n",
              "\n",
              "    [theme=dark] .colab-df-convert {\n",
              "      background-color: #3B4455;\n",
              "      fill: #D2E3FC;\n",
              "    }\n",
              "\n",
              "    [theme=dark] .colab-df-convert:hover {\n",
              "      background-color: #434B5C;\n",
              "      box-shadow: 0px 1px 3px 1px rgba(0, 0, 0, 0.15);\n",
              "      filter: drop-shadow(0px 1px 2px rgba(0, 0, 0, 0.3));\n",
              "      fill: #FFFFFF;\n",
              "    }\n",
              "  </style>\n",
              "\n",
              "      <script>\n",
              "        const buttonEl =\n",
              "          document.querySelector('#df-47bc6f75-f995-403d-89bb-eeb44cb6c408 button.colab-df-convert');\n",
              "        buttonEl.style.display =\n",
              "          google.colab.kernel.accessAllowed ? 'block' : 'none';\n",
              "\n",
              "        async function convertToInteractive(key) {\n",
              "          const element = document.querySelector('#df-47bc6f75-f995-403d-89bb-eeb44cb6c408');\n",
              "          const dataTable =\n",
              "            await google.colab.kernel.invokeFunction('convertToInteractive',\n",
              "                                                     [key], {});\n",
              "          if (!dataTable) return;\n",
              "\n",
              "          const docLinkHtml = 'Like what you see? Visit the ' +\n",
              "            '<a target=\"_blank\" href=https://colab.research.google.com/notebooks/data_table.ipynb>data table notebook</a>'\n",
              "            + ' to learn more about interactive tables.';\n",
              "          element.innerHTML = '';\n",
              "          dataTable['output_type'] = 'display_data';\n",
              "          await google.colab.output.renderOutput(dataTable, element);\n",
              "          const docLink = document.createElement('div');\n",
              "          docLink.innerHTML = docLinkHtml;\n",
              "          element.appendChild(docLink);\n",
              "        }\n",
              "      </script>\n",
              "    </div>\n",
              "  </div>\n",
              "  "
            ]
          },
          "metadata": {},
          "execution_count": 336
        }
      ]
    },
    {
      "cell_type": "code",
      "source": [
        "result_step2= pd.DataFrame(np.array(result_step2))"
      ],
      "metadata": {
        "id": "okySdbWqCxse"
      },
      "execution_count": null,
      "outputs": []
    },
    {
      "cell_type": "code",
      "source": [
        "result_step2"
      ],
      "metadata": {
        "colab": {
          "base_uri": "https://localhost:8080/",
          "height": 175
        },
        "id": "jeOI54wwvGN0",
        "outputId": "56cbf6f3-d6b6-44ca-d23c-3dded257f283"
      },
      "execution_count": null,
      "outputs": [
        {
          "output_type": "execute_result",
          "data": {
            "text/plain": [
              "   0  1\n",
              "0  0  0\n",
              "1  7  4\n",
              "2  4  0\n",
              "3  8  1"
            ],
            "text/html": [
              "\n",
              "  <div id=\"df-793c3875-9ca5-4368-acba-61eee29e8e94\">\n",
              "    <div class=\"colab-df-container\">\n",
              "      <div>\n",
              "<style scoped>\n",
              "    .dataframe tbody tr th:only-of-type {\n",
              "        vertical-align: middle;\n",
              "    }\n",
              "\n",
              "    .dataframe tbody tr th {\n",
              "        vertical-align: top;\n",
              "    }\n",
              "\n",
              "    .dataframe thead th {\n",
              "        text-align: right;\n",
              "    }\n",
              "</style>\n",
              "<table border=\"1\" class=\"dataframe\">\n",
              "  <thead>\n",
              "    <tr style=\"text-align: right;\">\n",
              "      <th></th>\n",
              "      <th>0</th>\n",
              "      <th>1</th>\n",
              "    </tr>\n",
              "  </thead>\n",
              "  <tbody>\n",
              "    <tr>\n",
              "      <th>0</th>\n",
              "      <td>0</td>\n",
              "      <td>0</td>\n",
              "    </tr>\n",
              "    <tr>\n",
              "      <th>1</th>\n",
              "      <td>7</td>\n",
              "      <td>4</td>\n",
              "    </tr>\n",
              "    <tr>\n",
              "      <th>2</th>\n",
              "      <td>4</td>\n",
              "      <td>0</td>\n",
              "    </tr>\n",
              "    <tr>\n",
              "      <th>3</th>\n",
              "      <td>8</td>\n",
              "      <td>1</td>\n",
              "    </tr>\n",
              "  </tbody>\n",
              "</table>\n",
              "</div>\n",
              "      <button class=\"colab-df-convert\" onclick=\"convertToInteractive('df-793c3875-9ca5-4368-acba-61eee29e8e94')\"\n",
              "              title=\"Convert this dataframe to an interactive table.\"\n",
              "              style=\"display:none;\">\n",
              "        \n",
              "  <svg xmlns=\"http://www.w3.org/2000/svg\" height=\"24px\"viewBox=\"0 0 24 24\"\n",
              "       width=\"24px\">\n",
              "    <path d=\"M0 0h24v24H0V0z\" fill=\"none\"/>\n",
              "    <path d=\"M18.56 5.44l.94 2.06.94-2.06 2.06-.94-2.06-.94-.94-2.06-.94 2.06-2.06.94zm-11 1L8.5 8.5l.94-2.06 2.06-.94-2.06-.94L8.5 2.5l-.94 2.06-2.06.94zm10 10l.94 2.06.94-2.06 2.06-.94-2.06-.94-.94-2.06-.94 2.06-2.06.94z\"/><path d=\"M17.41 7.96l-1.37-1.37c-.4-.4-.92-.59-1.43-.59-.52 0-1.04.2-1.43.59L10.3 9.45l-7.72 7.72c-.78.78-.78 2.05 0 2.83L4 21.41c.39.39.9.59 1.41.59.51 0 1.02-.2 1.41-.59l7.78-7.78 2.81-2.81c.8-.78.8-2.07 0-2.86zM5.41 20L4 18.59l7.72-7.72 1.47 1.35L5.41 20z\"/>\n",
              "  </svg>\n",
              "      </button>\n",
              "      \n",
              "  <style>\n",
              "    .colab-df-container {\n",
              "      display:flex;\n",
              "      flex-wrap:wrap;\n",
              "      gap: 12px;\n",
              "    }\n",
              "\n",
              "    .colab-df-convert {\n",
              "      background-color: #E8F0FE;\n",
              "      border: none;\n",
              "      border-radius: 50%;\n",
              "      cursor: pointer;\n",
              "      display: none;\n",
              "      fill: #1967D2;\n",
              "      height: 32px;\n",
              "      padding: 0 0 0 0;\n",
              "      width: 32px;\n",
              "    }\n",
              "\n",
              "    .colab-df-convert:hover {\n",
              "      background-color: #E2EBFA;\n",
              "      box-shadow: 0px 1px 2px rgba(60, 64, 67, 0.3), 0px 1px 3px 1px rgba(60, 64, 67, 0.15);\n",
              "      fill: #174EA6;\n",
              "    }\n",
              "\n",
              "    [theme=dark] .colab-df-convert {\n",
              "      background-color: #3B4455;\n",
              "      fill: #D2E3FC;\n",
              "    }\n",
              "\n",
              "    [theme=dark] .colab-df-convert:hover {\n",
              "      background-color: #434B5C;\n",
              "      box-shadow: 0px 1px 3px 1px rgba(0, 0, 0, 0.15);\n",
              "      filter: drop-shadow(0px 1px 2px rgba(0, 0, 0, 0.3));\n",
              "      fill: #FFFFFF;\n",
              "    }\n",
              "  </style>\n",
              "\n",
              "      <script>\n",
              "        const buttonEl =\n",
              "          document.querySelector('#df-793c3875-9ca5-4368-acba-61eee29e8e94 button.colab-df-convert');\n",
              "        buttonEl.style.display =\n",
              "          google.colab.kernel.accessAllowed ? 'block' : 'none';\n",
              "\n",
              "        async function convertToInteractive(key) {\n",
              "          const element = document.querySelector('#df-793c3875-9ca5-4368-acba-61eee29e8e94');\n",
              "          const dataTable =\n",
              "            await google.colab.kernel.invokeFunction('convertToInteractive',\n",
              "                                                     [key], {});\n",
              "          if (!dataTable) return;\n",
              "\n",
              "          const docLinkHtml = 'Like what you see? Visit the ' +\n",
              "            '<a target=\"_blank\" href=https://colab.research.google.com/notebooks/data_table.ipynb>data table notebook</a>'\n",
              "            + ' to learn more about interactive tables.';\n",
              "          element.innerHTML = '';\n",
              "          dataTable['output_type'] = 'display_data';\n",
              "          await google.colab.output.renderOutput(dataTable, element);\n",
              "          const docLink = document.createElement('div');\n",
              "          docLink.innerHTML = docLinkHtml;\n",
              "          element.appendChild(docLink);\n",
              "        }\n",
              "      </script>\n",
              "    </div>\n",
              "  </div>\n",
              "  "
            ]
          },
          "metadata": {},
          "execution_count": 338
        }
      ]
    },
    {
      "cell_type": "code",
      "source": [
        "count_col = 0\n",
        "count_col_lst = []\n",
        "for i in range(len(result_step2.index)):\n",
        "  for j in range(len(result_step2.columns)):\n",
        "    if(int(result_step2.iloc[i][j]) == 0):\n",
        "      count_col += 1\n",
        "  globals()[\"Zero_cnt_col{}\".format(i)] = count_col\n",
        "  count_col_lst.append(int(count_col))\n",
        "  count_col = 0\n",
        "\n",
        "count_row = 0\n",
        "count_row_lst = []\n",
        "for i in range(len(result_step2.columns)):\n",
        "  for j in range(len(result_step2.index)):\n",
        "    if(int(result_step2.iloc[j][i]) == 0):\n",
        "      count_row += 1\n",
        "\n",
        "  globals()[\"Zero_cnt_row{}\".format(i)] = count_row\n",
        "  count_row_lst.append(int(count_row))\n",
        "  count_row = 0\n"
      ],
      "metadata": {
        "id": "egMZ1d1XvYI7"
      },
      "execution_count": null,
      "outputs": []
    },
    {
      "cell_type": "code",
      "source": [
        "row_zero_index = [i for i, value in enumerate(count_row_lst) if value == np.max(count_row_lst)]\n",
        "col_zero_index = [i for i, value in enumerate(count_col_lst) if value == np.max(count_col_lst)]\n",
        "\n",
        "choice = []\n",
        "choice.append(int(np.max(count_row_lst)))\n",
        "choice.append(int(np.max(count_col_lst)))\n",
        "choice = int(np.argmax(choice))\n",
        "np.max(count_row_lst),np.max(count_col_lst), choice"
      ],
      "metadata": {
        "colab": {
          "base_uri": "https://localhost:8080/"
        },
        "id": "YrRH2iUqvZbh",
        "outputId": "7306fc88-6a0f-4778-8de9-670a032f22e3"
      },
      "execution_count": null,
      "outputs": [
        {
          "output_type": "execute_result",
          "data": {
            "text/plain": [
              "(2, 2, 0)"
            ]
          },
          "metadata": {},
          "execution_count": 340
        }
      ]
    },
    {
      "cell_type": "code",
      "source": [
        "count_row_lst, count_col_lst "
      ],
      "metadata": {
        "colab": {
          "base_uri": "https://localhost:8080/"
        },
        "id": "uyZPbrazvbn7",
        "outputId": "d2a246fb-4b40-4b14-b7ca-7af8f2c75d13"
      },
      "execution_count": null,
      "outputs": [
        {
          "output_type": "execute_result",
          "data": {
            "text/plain": [
              "([1, 2], [2, 0, 1, 0])"
            ]
          },
          "metadata": {},
          "execution_count": 341
        }
      ]
    },
    {
      "cell_type": "code",
      "source": [
        "choice"
      ],
      "metadata": {
        "colab": {
          "base_uri": "https://localhost:8080/"
        },
        "id": "9UZN1oACvcoN",
        "outputId": "b3000857-bc78-4574-a6c3-d4ead0346486"
      },
      "execution_count": null,
      "outputs": [
        {
          "output_type": "execute_result",
          "data": {
            "text/plain": [
              "0"
            ]
          },
          "metadata": {},
          "execution_count": 342
        }
      ]
    },
    {
      "cell_type": "code",
      "source": [
        "if(choice == 0):\n",
        "  result_step3 = result_step2.drop(row_zero_index[0], axis='columns')\n",
        "else:\n",
        "  result_step3 = result_step2.drop(columns=col_zero_index[0])\n"
      ],
      "metadata": {
        "id": "RNyK-V-rvdy7"
      },
      "execution_count": null,
      "outputs": []
    },
    {
      "cell_type": "code",
      "source": [
        "result_step3"
      ],
      "metadata": {
        "colab": {
          "base_uri": "https://localhost:8080/",
          "height": 175
        },
        "id": "MBlSGFuqvfNF",
        "outputId": "c5ff0bad-1086-4112-f877-852d537e55d2"
      },
      "execution_count": null,
      "outputs": [
        {
          "output_type": "execute_result",
          "data": {
            "text/plain": [
              "   0\n",
              "0  0\n",
              "1  7\n",
              "2  4\n",
              "3  8"
            ],
            "text/html": [
              "\n",
              "  <div id=\"df-d6726b0c-9edb-44b0-bc36-dc43db3b1436\">\n",
              "    <div class=\"colab-df-container\">\n",
              "      <div>\n",
              "<style scoped>\n",
              "    .dataframe tbody tr th:only-of-type {\n",
              "        vertical-align: middle;\n",
              "    }\n",
              "\n",
              "    .dataframe tbody tr th {\n",
              "        vertical-align: top;\n",
              "    }\n",
              "\n",
              "    .dataframe thead th {\n",
              "        text-align: right;\n",
              "    }\n",
              "</style>\n",
              "<table border=\"1\" class=\"dataframe\">\n",
              "  <thead>\n",
              "    <tr style=\"text-align: right;\">\n",
              "      <th></th>\n",
              "      <th>0</th>\n",
              "    </tr>\n",
              "  </thead>\n",
              "  <tbody>\n",
              "    <tr>\n",
              "      <th>0</th>\n",
              "      <td>0</td>\n",
              "    </tr>\n",
              "    <tr>\n",
              "      <th>1</th>\n",
              "      <td>7</td>\n",
              "    </tr>\n",
              "    <tr>\n",
              "      <th>2</th>\n",
              "      <td>4</td>\n",
              "    </tr>\n",
              "    <tr>\n",
              "      <th>3</th>\n",
              "      <td>8</td>\n",
              "    </tr>\n",
              "  </tbody>\n",
              "</table>\n",
              "</div>\n",
              "      <button class=\"colab-df-convert\" onclick=\"convertToInteractive('df-d6726b0c-9edb-44b0-bc36-dc43db3b1436')\"\n",
              "              title=\"Convert this dataframe to an interactive table.\"\n",
              "              style=\"display:none;\">\n",
              "        \n",
              "  <svg xmlns=\"http://www.w3.org/2000/svg\" height=\"24px\"viewBox=\"0 0 24 24\"\n",
              "       width=\"24px\">\n",
              "    <path d=\"M0 0h24v24H0V0z\" fill=\"none\"/>\n",
              "    <path d=\"M18.56 5.44l.94 2.06.94-2.06 2.06-.94-2.06-.94-.94-2.06-.94 2.06-2.06.94zm-11 1L8.5 8.5l.94-2.06 2.06-.94-2.06-.94L8.5 2.5l-.94 2.06-2.06.94zm10 10l.94 2.06.94-2.06 2.06-.94-2.06-.94-.94-2.06-.94 2.06-2.06.94z\"/><path d=\"M17.41 7.96l-1.37-1.37c-.4-.4-.92-.59-1.43-.59-.52 0-1.04.2-1.43.59L10.3 9.45l-7.72 7.72c-.78.78-.78 2.05 0 2.83L4 21.41c.39.39.9.59 1.41.59.51 0 1.02-.2 1.41-.59l7.78-7.78 2.81-2.81c.8-.78.8-2.07 0-2.86zM5.41 20L4 18.59l7.72-7.72 1.47 1.35L5.41 20z\"/>\n",
              "  </svg>\n",
              "      </button>\n",
              "      \n",
              "  <style>\n",
              "    .colab-df-container {\n",
              "      display:flex;\n",
              "      flex-wrap:wrap;\n",
              "      gap: 12px;\n",
              "    }\n",
              "\n",
              "    .colab-df-convert {\n",
              "      background-color: #E8F0FE;\n",
              "      border: none;\n",
              "      border-radius: 50%;\n",
              "      cursor: pointer;\n",
              "      display: none;\n",
              "      fill: #1967D2;\n",
              "      height: 32px;\n",
              "      padding: 0 0 0 0;\n",
              "      width: 32px;\n",
              "    }\n",
              "\n",
              "    .colab-df-convert:hover {\n",
              "      background-color: #E2EBFA;\n",
              "      box-shadow: 0px 1px 2px rgba(60, 64, 67, 0.3), 0px 1px 3px 1px rgba(60, 64, 67, 0.15);\n",
              "      fill: #174EA6;\n",
              "    }\n",
              "\n",
              "    [theme=dark] .colab-df-convert {\n",
              "      background-color: #3B4455;\n",
              "      fill: #D2E3FC;\n",
              "    }\n",
              "\n",
              "    [theme=dark] .colab-df-convert:hover {\n",
              "      background-color: #434B5C;\n",
              "      box-shadow: 0px 1px 3px 1px rgba(0, 0, 0, 0.15);\n",
              "      filter: drop-shadow(0px 1px 2px rgba(0, 0, 0, 0.3));\n",
              "      fill: #FFFFFF;\n",
              "    }\n",
              "  </style>\n",
              "\n",
              "      <script>\n",
              "        const buttonEl =\n",
              "          document.querySelector('#df-d6726b0c-9edb-44b0-bc36-dc43db3b1436 button.colab-df-convert');\n",
              "        buttonEl.style.display =\n",
              "          google.colab.kernel.accessAllowed ? 'block' : 'none';\n",
              "\n",
              "        async function convertToInteractive(key) {\n",
              "          const element = document.querySelector('#df-d6726b0c-9edb-44b0-bc36-dc43db3b1436');\n",
              "          const dataTable =\n",
              "            await google.colab.kernel.invokeFunction('convertToInteractive',\n",
              "                                                     [key], {});\n",
              "          if (!dataTable) return;\n",
              "\n",
              "          const docLinkHtml = 'Like what you see? Visit the ' +\n",
              "            '<a target=\"_blank\" href=https://colab.research.google.com/notebooks/data_table.ipynb>data table notebook</a>'\n",
              "            + ' to learn more about interactive tables.';\n",
              "          element.innerHTML = '';\n",
              "          dataTable['output_type'] = 'display_data';\n",
              "          await google.colab.output.renderOutput(dataTable, element);\n",
              "          const docLink = document.createElement('div');\n",
              "          docLink.innerHTML = docLinkHtml;\n",
              "          element.appendChild(docLink);\n",
              "        }\n",
              "      </script>\n",
              "    </div>\n",
              "  </div>\n",
              "  "
            ]
          },
          "metadata": {},
          "execution_count": 344
        }
      ]
    },
    {
      "cell_type": "markdown",
      "source": [
        "## 3"
      ],
      "metadata": {
        "id": "_0tD-ROtvz-O"
      }
    },
    {
      "cell_type": "code",
      "source": [
        "count_col = 0\n",
        "count_col_lst = []\n",
        "for i in range(len(result_step3.index)):\n",
        "  for j in range(len(result_step3.columns)):\n",
        "    if(int(result_step3.iloc[i][j]) == 0):\n",
        "      count_col += 1\n",
        "  globals()[\"Zero_cnt_col{}\".format(i)] = count_col\n",
        "  count_col_lst.append(int(count_col))\n",
        "  count_col = 0\n",
        "\n",
        "count_row = 0\n",
        "count_row_lst = []\n",
        "for i in range(len(result_step3.columns)):\n",
        "  for j in range(len(result_step3.index)):\n",
        "    if(int(result_step3.iloc[j][i]) == 0):\n",
        "      count_row += 1\n",
        "\n",
        "  globals()[\"Zero_cnt_row{}\".format(i)] = count_row\n",
        "  count_row_lst.append(int(count_row))\n",
        "  count_row = 0\n"
      ],
      "metadata": {
        "id": "_Oq7VMgqvzja"
      },
      "execution_count": null,
      "outputs": []
    },
    {
      "cell_type": "code",
      "source": [
        "row_zero_index = [i for i, value in enumerate(count_row_lst) if value == np.max(count_row_lst)]\n",
        "col_zero_index = [i for i, value in enumerate(count_col_lst) if value == np.max(count_col_lst)]\n",
        "\n",
        "choice = []\n",
        "choice.append(int(np.max(count_row_lst)))\n",
        "choice.append(int(np.max(count_col_lst)))\n",
        "choice = int(np.argmax(choice))\n",
        "np.max(count_row_lst),np.max(count_col_lst), choice"
      ],
      "metadata": {
        "colab": {
          "base_uri": "https://localhost:8080/"
        },
        "id": "jb6UsJMKv37S",
        "outputId": "8e6fbc30-134a-44f3-a412-acedbc3c8351"
      },
      "execution_count": null,
      "outputs": [
        {
          "output_type": "execute_result",
          "data": {
            "text/plain": [
              "(1, 1, 0)"
            ]
          },
          "metadata": {},
          "execution_count": 346
        }
      ]
    },
    {
      "cell_type": "code",
      "source": [
        "count_row_lst, count_col_lst "
      ],
      "metadata": {
        "colab": {
          "base_uri": "https://localhost:8080/"
        },
        "id": "DKP2mzrVv5A6",
        "outputId": "868f4daa-79ef-427c-c650-bda9152b44fa"
      },
      "execution_count": null,
      "outputs": [
        {
          "output_type": "execute_result",
          "data": {
            "text/plain": [
              "([1], [1, 0, 0, 0])"
            ]
          },
          "metadata": {},
          "execution_count": 347
        }
      ]
    },
    {
      "cell_type": "code",
      "source": [
        "choice"
      ],
      "metadata": {
        "colab": {
          "base_uri": "https://localhost:8080/"
        },
        "id": "6Wj0Nhzjv56M",
        "outputId": "f2848a58-a05e-49db-f83c-f84faee010bd"
      },
      "execution_count": null,
      "outputs": [
        {
          "output_type": "execute_result",
          "data": {
            "text/plain": [
              "0"
            ]
          },
          "metadata": {},
          "execution_count": 348
        }
      ]
    },
    {
      "cell_type": "code",
      "source": [
        "if(choice == 0):\n",
        "  result_step4 = result_step3.drop(row_zero_index[0], axis='columns')\n",
        "else:\n",
        "  result_step4 = result_step3.drop(columns=col_zero_index[0])\n"
      ],
      "metadata": {
        "id": "j8_JqgQNv6yX"
      },
      "execution_count": null,
      "outputs": []
    },
    {
      "cell_type": "code",
      "source": [
        "result_step4"
      ],
      "metadata": {
        "colab": {
          "base_uri": "https://localhost:8080/",
          "height": 157
        },
        "id": "BpNxWXxDwQS3",
        "outputId": "f53ecb27-68a7-415d-99c9-3fa42d384ce4"
      },
      "execution_count": null,
      "outputs": [
        {
          "output_type": "execute_result",
          "data": {
            "text/plain": [
              "Empty DataFrame\n",
              "Columns: []\n",
              "Index: [0, 1, 2, 3]"
            ],
            "text/html": [
              "\n",
              "  <div id=\"df-bf302303-3507-42a8-81cf-66f7d8fb8331\">\n",
              "    <div class=\"colab-df-container\">\n",
              "      <div>\n",
              "<style scoped>\n",
              "    .dataframe tbody tr th:only-of-type {\n",
              "        vertical-align: middle;\n",
              "    }\n",
              "\n",
              "    .dataframe tbody tr th {\n",
              "        vertical-align: top;\n",
              "    }\n",
              "\n",
              "    .dataframe thead th {\n",
              "        text-align: right;\n",
              "    }\n",
              "</style>\n",
              "<table border=\"1\" class=\"dataframe\">\n",
              "  <thead>\n",
              "    <tr style=\"text-align: right;\">\n",
              "      <th></th>\n",
              "    </tr>\n",
              "  </thead>\n",
              "  <tbody>\n",
              "    <tr>\n",
              "      <th>0</th>\n",
              "    </tr>\n",
              "    <tr>\n",
              "      <th>1</th>\n",
              "    </tr>\n",
              "    <tr>\n",
              "      <th>2</th>\n",
              "    </tr>\n",
              "    <tr>\n",
              "      <th>3</th>\n",
              "    </tr>\n",
              "  </tbody>\n",
              "</table>\n",
              "</div>\n",
              "      <button class=\"colab-df-convert\" onclick=\"convertToInteractive('df-bf302303-3507-42a8-81cf-66f7d8fb8331')\"\n",
              "              title=\"Convert this dataframe to an interactive table.\"\n",
              "              style=\"display:none;\">\n",
              "        \n",
              "  <svg xmlns=\"http://www.w3.org/2000/svg\" height=\"24px\"viewBox=\"0 0 24 24\"\n",
              "       width=\"24px\">\n",
              "    <path d=\"M0 0h24v24H0V0z\" fill=\"none\"/>\n",
              "    <path d=\"M18.56 5.44l.94 2.06.94-2.06 2.06-.94-2.06-.94-.94-2.06-.94 2.06-2.06.94zm-11 1L8.5 8.5l.94-2.06 2.06-.94-2.06-.94L8.5 2.5l-.94 2.06-2.06.94zm10 10l.94 2.06.94-2.06 2.06-.94-2.06-.94-.94-2.06-.94 2.06-2.06.94z\"/><path d=\"M17.41 7.96l-1.37-1.37c-.4-.4-.92-.59-1.43-.59-.52 0-1.04.2-1.43.59L10.3 9.45l-7.72 7.72c-.78.78-.78 2.05 0 2.83L4 21.41c.39.39.9.59 1.41.59.51 0 1.02-.2 1.41-.59l7.78-7.78 2.81-2.81c.8-.78.8-2.07 0-2.86zM5.41 20L4 18.59l7.72-7.72 1.47 1.35L5.41 20z\"/>\n",
              "  </svg>\n",
              "      </button>\n",
              "      \n",
              "  <style>\n",
              "    .colab-df-container {\n",
              "      display:flex;\n",
              "      flex-wrap:wrap;\n",
              "      gap: 12px;\n",
              "    }\n",
              "\n",
              "    .colab-df-convert {\n",
              "      background-color: #E8F0FE;\n",
              "      border: none;\n",
              "      border-radius: 50%;\n",
              "      cursor: pointer;\n",
              "      display: none;\n",
              "      fill: #1967D2;\n",
              "      height: 32px;\n",
              "      padding: 0 0 0 0;\n",
              "      width: 32px;\n",
              "    }\n",
              "\n",
              "    .colab-df-convert:hover {\n",
              "      background-color: #E2EBFA;\n",
              "      box-shadow: 0px 1px 2px rgba(60, 64, 67, 0.3), 0px 1px 3px 1px rgba(60, 64, 67, 0.15);\n",
              "      fill: #174EA6;\n",
              "    }\n",
              "\n",
              "    [theme=dark] .colab-df-convert {\n",
              "      background-color: #3B4455;\n",
              "      fill: #D2E3FC;\n",
              "    }\n",
              "\n",
              "    [theme=dark] .colab-df-convert:hover {\n",
              "      background-color: #434B5C;\n",
              "      box-shadow: 0px 1px 3px 1px rgba(0, 0, 0, 0.15);\n",
              "      filter: drop-shadow(0px 1px 2px rgba(0, 0, 0, 0.3));\n",
              "      fill: #FFFFFF;\n",
              "    }\n",
              "  </style>\n",
              "\n",
              "      <script>\n",
              "        const buttonEl =\n",
              "          document.querySelector('#df-bf302303-3507-42a8-81cf-66f7d8fb8331 button.colab-df-convert');\n",
              "        buttonEl.style.display =\n",
              "          google.colab.kernel.accessAllowed ? 'block' : 'none';\n",
              "\n",
              "        async function convertToInteractive(key) {\n",
              "          const element = document.querySelector('#df-bf302303-3507-42a8-81cf-66f7d8fb8331');\n",
              "          const dataTable =\n",
              "            await google.colab.kernel.invokeFunction('convertToInteractive',\n",
              "                                                     [key], {});\n",
              "          if (!dataTable) return;\n",
              "\n",
              "          const docLinkHtml = 'Like what you see? Visit the ' +\n",
              "            '<a target=\"_blank\" href=https://colab.research.google.com/notebooks/data_table.ipynb>data table notebook</a>'\n",
              "            + ' to learn more about interactive tables.';\n",
              "          element.innerHTML = '';\n",
              "          dataTable['output_type'] = 'display_data';\n",
              "          await google.colab.output.renderOutput(dataTable, element);\n",
              "          const docLink = document.createElement('div');\n",
              "          docLink.innerHTML = docLinkHtml;\n",
              "          element.appendChild(docLink);\n",
              "        }\n",
              "      </script>\n",
              "    </div>\n",
              "  </div>\n",
              "  "
            ]
          },
          "metadata": {},
          "execution_count": 350
        }
      ]
    },
    {
      "cell_type": "markdown",
      "source": [
        "# V2"
      ],
      "metadata": {
        "id": "QHIl8LR5w8G9"
      }
    },
    {
      "cell_type": "code",
      "source": [
        "stack_r1 = pd.DataFrame()\n",
        "stack_r1 = stack_r.copy()\n",
        "del_row_lst = [] # 삭제한 행 목록\n",
        "del_col_lst = [] # 삭제한 열 목록\n",
        "row_cnt = 0 # 행에서 0의 갯수\n",
        "col_cnt = 0 # 열에서 0의 갯수\n",
        "cnt = 0 # For 루프 시행 횟수"
      ],
      "metadata": {
        "id": "v4kdDf_2M3rm"
      },
      "execution_count": null,
      "outputs": []
    },
    {
      "cell_type": "code",
      "source": [
        "try: # n번의 시행중 시행횟수가 일치하지 않을 시 오류취급 for 루프 중단\n",
        "  for d in range(n): # n matrix의 경우 n번 시행\n",
        "    count_col = 0 # col의 index별 0의갯수 초기화\n",
        "    count_col_lst = [] # 열 별 0의 갯수 저장\n",
        "    for i in range(len(stack_r1.index)):\n",
        "      for j in range(len(stack_r1.columns)): # 열과 행의 갯수 만큼 for 문 실행 (삭제하며 찾기 때문에 n이 아닌 len루프)\n",
        "        if(stack_r1.iloc[i][j] == 0): \n",
        "          count_col += 1\n",
        "\n",
        "      count_col_lst.append(int(count_col))\n",
        "      print('col의 0의 수 : {}'.format(count_col_lst))\n",
        "      count_col = 0\n",
        "\n",
        "    # 행에 대해서 위와 동일한 루프 (수정 필요)\n",
        "    count_row = 0\n",
        "    count_row_lst = []\n",
        "    for i in range(len(stack_r1.columns)):\n",
        "      for j in range(len(stack_r1.index)):\n",
        "        if(stack_r1.iloc[j][i] == 0):\n",
        "          count_row += 1\n",
        "\n",
        "      count_row_lst.append(int(count_row))\n",
        "      print('row의 0의 수 : {}'.format(count_row_lst))\n",
        "      count_row = 0\n",
        "\n",
        "\n",
        "    \n",
        "    # Zero 개수의 최대값 index를 저장하는 리스트\n",
        "    row_zero_index = [i for i, value in enumerate(count_row_lst) if value == np.max(count_row_lst)]\n",
        "    col_zero_index = [i for i, value in enumerate(count_col_lst) if value == np.max(count_col_lst)]\n",
        "\n",
        "    # 행을 삭제할지 열을 삭제할지 결정\n",
        "    choice = []\n",
        "    choice.append(int(np.max(count_row_lst)))\n",
        "    choice.append(int(np.max(count_col_lst)))\n",
        "    choice = int(np.argmax(choice)) # 같은 숫자일 경우 행을 삭제\n",
        "    print('row의 0의 수 Max값 : {}'.format(np.max(count_row_lst)))\n",
        "    print('col의 0의 수 Max값 : {}'.format(np.max(count_col_lst)))\n",
        "    print('row의 0의 수 Max값 index : {}'.format(np.max(row_zero_index)))\n",
        "    print('col의 0의 수 Max값 index : {}'.format(np.max(col_zero_index)))\n",
        "\n",
        "    if(choice == 0):\n",
        "      choice_str = \"행\"\n",
        "    else:\n",
        "      choice_str = \"열\"\n",
        "    print('삭제할 곳 선택 : {0} {1}'.format(choice_str, np.max(row_zero_index)))  # 단순 출력\n",
        "\n",
        "\n",
        "    if(choice == 0): # 행을 선택한 경우 삭제\n",
        "      del_row_lst.append(row_zero_index[0])\n",
        "      stack_r1 = stack_r1.drop(row_zero_index[0], axis='columns')\n",
        "    else:\n",
        "      del_col_lst.append(col_zero_index[0])\n",
        "      stack_r1 = stack_r1.drop(columns=col_zero_index[0])\n",
        "\n",
        "    stack_r1= pd.DataFrame(np.array(stack_r1)) #DataFrame형태로 재변환 (1열을 삭제할 경우 index가 0 2 3 으로 처리 --> for문에서 오류발생)\n",
        "    cnt += 1\n",
        "\n",
        "  if(cnt != 4):\n",
        "    print(\"아래 항목을 실행하세요\")\n",
        "\n",
        "except:\n",
        "  print(\"아래 항목을 실행하세요\")\n",
        "  # num = list(range(n))\n",
        "  # del_row_index = []\n",
        "  # del_col_index = []\n",
        "  # for i in range(len(del_row_lst)):\n",
        "  #   del_row_index.append(num[del_row_lst[i]])\n",
        "  #   del num[del_row_lst[i]]\n",
        "  # num = list(range(n))\n",
        "  # for i in range(len(del_col_lst)):\n",
        "  #   del_col_index.append(num[del_col_lst[i]])\n",
        "  #   del num[del_col_lst[i]]\n",
        "\n",
        "  # del_row_index, del_col_index    \n",
        "  # for i in range(len(del_row_index)):\n",
        "  #   if(len(del_col_index) >= 1):\n",
        "  #     for j in range(len(del_col_index)):\n",
        "  #       if(stack_r[del_row_index[i]][del_col_index[j]] == 0):\n",
        "  #         stack_r[del_row_index[i]][del_col_index[j]] += 1\n",
        "  # stack_r1 = stack_r.copy()"
      ],
      "metadata": {
        "id": "b0LIOVLK3_89",
        "outputId": "0b1c2d4c-30c7-4210-f94b-6fed94218fde",
        "colab": {
          "base_uri": "https://localhost:8080/"
        }
      },
      "execution_count": null,
      "outputs": [
        {
          "output_type": "stream",
          "name": "stdout",
          "text": [
            "col의 0의 수 : [3]\n",
            "col의 0의 수 : [3, 1]\n",
            "col의 0의 수 : [3, 1, 3]\n",
            "col의 0의 수 : [3, 1, 3, 1]\n",
            "row의 0의 수 : [2]\n",
            "row의 0의 수 : [2, 3]\n",
            "row의 0의 수 : [2, 3, 1]\n",
            "row의 0의 수 : [2, 3, 1, 2]\n",
            "row의 0의 수 Max값 : 3\n",
            "col의 0의 수 Max값 : 3\n",
            "row의 0의 수 Max값 index : 1\n",
            "col의 0의 수 Max값 index : 2\n",
            "삭제할 곳 선택 : 행 1\n",
            "col의 0의 수 : [2]\n",
            "col의 0의 수 : [2, 0]\n",
            "col의 0의 수 : [2, 0, 2]\n",
            "col의 0의 수 : [2, 0, 2, 1]\n",
            "row의 0의 수 : [2]\n",
            "row의 0의 수 : [2, 1]\n",
            "row의 0의 수 : [2, 1, 2]\n",
            "row의 0의 수 Max값 : 2\n",
            "col의 0의 수 Max값 : 2\n",
            "row의 0의 수 Max값 index : 2\n",
            "col의 0의 수 Max값 index : 2\n",
            "삭제할 곳 선택 : 행 2\n",
            "col의 0의 수 : [2]\n",
            "col의 0의 수 : [2, 0]\n",
            "col의 0의 수 : [2, 0, 1]\n",
            "col의 0의 수 : [2, 0, 1, 0]\n",
            "row의 0의 수 : [1]\n",
            "row의 0의 수 : [1, 2]\n",
            "row의 0의 수 Max값 : 2\n",
            "col의 0의 수 Max값 : 2\n",
            "row의 0의 수 Max값 index : 1\n",
            "col의 0의 수 Max값 index : 0\n",
            "삭제할 곳 선택 : 행 1\n",
            "col의 0의 수 : [1]\n",
            "col의 0의 수 : [1, 0]\n",
            "col의 0의 수 : [1, 0, 0]\n",
            "col의 0의 수 : [1, 0, 0, 0]\n",
            "row의 0의 수 : [1]\n",
            "row의 0의 수 Max값 : 1\n",
            "col의 0의 수 Max값 : 1\n",
            "row의 0의 수 Max값 index : 0\n",
            "col의 0의 수 Max값 index : 0\n",
            "삭제할 곳 선택 : 행 0\n"
          ]
        }
      ]
    },
    {
      "cell_type": "code",
      "source": [
        "f = np.array(stack_r)"
      ],
      "metadata": {
        "id": "psqFgdfkbThb"
      },
      "execution_count": null,
      "outputs": []
    },
    {
      "cell_type": "code",
      "source": [
        "del_row_index = [0,1,3]\n",
        "del_col_index = [1]"
      ],
      "metadata": {
        "id": "laOrXh_KJ93_"
      },
      "execution_count": null,
      "outputs": []
    },
    {
      "cell_type": "code",
      "source": [
        "if(cnt != 3):\n",
        "  num = list(range(n))\n",
        "  plus_row = list(set(num)-set(del_row_index))\n",
        "\n",
        "\n",
        "  matrix_1 = np.random.randint(0, 1, size = (n, n))\n",
        "  matrix_2 = np.random.randint(0, 1, size = (n, n))\n",
        "  matrix = np.random.randint(1, 2, size = (n, n))\n",
        "  for i in range(len(del_row_index)):\n",
        "    matrix[del_row_index[i]] = 0\n",
        "    for j in range(len(del_col_index)):\n",
        "      matrix_1[del_row_index[i]][del_col_index[j]] = 1\n",
        "      for k in range(len(plus_row)):\n",
        "        matrix[plus_row[k]][del_col_index[j]] = 0\n",
        "        matrix_2[plus_row[k]][del_col_index[j]] = 2"
      ],
      "metadata": {
        "id": "tvdj8qPV9_OT"
      },
      "execution_count": null,
      "outputs": []
    },
    {
      "cell_type": "code",
      "source": [
        "f"
      ],
      "metadata": {
        "id": "2fbG4x7VVEVv",
        "outputId": "e132c9ee-310d-48c6-ba79-df14738d36bd",
        "colab": {
          "base_uri": "https://localhost:8080/"
        }
      },
      "execution_count": null,
      "outputs": [
        {
          "output_type": "execute_result",
          "data": {
            "text/plain": [
              "array([[7, 0, 0, 0],\n",
              "       [1, 0, 7, 4],\n",
              "       [0, 0, 4, 0],\n",
              "       [0, 3, 8, 1]])"
            ]
          },
          "metadata": {},
          "execution_count": 466
        }
      ]
    },
    {
      "cell_type": "code",
      "source": [
        "g = np.multiply(f, matrix)"
      ],
      "metadata": {
        "id": "CnP4yPUmVXTW",
        "outputId": "ee4716fe-3055-42b6-bbe4-d1d7c052a1f4",
        "colab": {
          "base_uri": "https://localhost:8080/"
        }
      },
      "execution_count": null,
      "outputs": [
        {
          "output_type": "execute_result",
          "data": {
            "text/plain": [
              "array([[0, 0, 0, 0],\n",
              "       [0, 0, 0, 0],\n",
              "       [0, 0, 4, 0],\n",
              "       [0, 0, 0, 0]])"
            ]
          },
          "metadata": {},
          "execution_count": 467
        }
      ]
    },
    {
      "cell_type": "code",
      "source": [
        "matrix_1"
      ],
      "metadata": {
        "id": "amNTefcCKzLu",
        "outputId": "ab5ac35e-ad74-4522-e265-8734c4900b1d",
        "colab": {
          "base_uri": "https://localhost:8080/"
        }
      },
      "execution_count": null,
      "outputs": [
        {
          "output_type": "execute_result",
          "data": {
            "text/plain": [
              "array([[0, 1, 0, 0],\n",
              "       [0, 1, 0, 0],\n",
              "       [0, 0, 0, 0],\n",
              "       [0, 1, 0, 0]])"
            ]
          },
          "metadata": {},
          "execution_count": 451
        }
      ]
    },
    {
      "cell_type": "code",
      "source": [
        "matrix"
      ],
      "metadata": {
        "id": "w15A8gCbJ0fP",
        "outputId": "80f1c88c-7dd4-43d6-93fb-b34cd5787eda",
        "colab": {
          "base_uri": "https://localhost:8080/"
        }
      },
      "execution_count": null,
      "outputs": [
        {
          "output_type": "execute_result",
          "data": {
            "text/plain": [
              "array([[0, 0, 0, 0],\n",
              "       [0, 0, 0, 0],\n",
              "       [1, 0, 1, 1],\n",
              "       [0, 0, 0, 0]])"
            ]
          },
          "metadata": {},
          "execution_count": 452
        }
      ]
    },
    {
      "cell_type": "code",
      "source": [
        "matrix_2"
      ],
      "metadata": {
        "id": "_n7dcgulLsXX",
        "outputId": "5572bc07-0761-426c-c851-15effc7ca68b",
        "colab": {
          "base_uri": "https://localhost:8080/"
        }
      },
      "execution_count": null,
      "outputs": [
        {
          "output_type": "execute_result",
          "data": {
            "text/plain": [
              "array([[0, 0, 0, 0],\n",
              "       [0, 0, 0, 0],\n",
              "       [0, 2, 0, 0],\n",
              "       [0, 0, 0, 0]])"
            ]
          },
          "metadata": {},
          "execution_count": 453
        }
      ]
    },
    {
      "cell_type": "code",
      "source": [
        ""
      ],
      "metadata": {
        "id": "K_QTWm2SItSP"
      },
      "execution_count": null,
      "outputs": []
    },
    {
      "cell_type": "code",
      "source": [
        "a = [0,1,2,3]\n",
        "del_row_index = []\n",
        "del_col_index = []\n",
        "for i in range(len(del_row_lst)):\n",
        "  del_row_index.append(a[del_row_lst[i]])\n",
        "  del a[del_row_lst[i]]\n",
        "a = [0,1,2,3]\n",
        "for i in range(len(del_col_lst)):\n",
        "  del_col_index.append(a[del_col_lst[i]])\n",
        "  del a[del_col_lst[i]]\n",
        "\n"
      ],
      "metadata": {
        "id": "jmbdoMpZ_scM"
      },
      "execution_count": null,
      "outputs": []
    },
    {
      "cell_type": "code",
      "source": [
        "del_row_index = []\n",
        "del_col_index = []\n",
        "\n",
        "del_row_index = [0,1,3]\n",
        "del_col_index = [1]"
      ],
      "metadata": {
        "id": "r23ls_nm7AK3"
      },
      "execution_count": null,
      "outputs": []
    },
    {
      "cell_type": "code",
      "source": [
        "d = [0,1,2,3]"
      ],
      "metadata": {
        "id": "9nOMhRk_8IpR"
      },
      "execution_count": null,
      "outputs": []
    },
    {
      "cell_type": "code",
      "source": [
        "plus_row = list(set(d)-set(del_row_index))"
      ],
      "metadata": {
        "id": "SIqhqUS0-ZhH"
      },
      "execution_count": null,
      "outputs": []
    },
    {
      "cell_type": "code",
      "source": [
        "\n",
        "print(del_row_index, del_col_index)\n",
        "\n",
        "c = np.random.randint(1, 2, size = (n, n))\n",
        "\n",
        "for i in range(len(del_row_index)):\n",
        "  c[del_row_index[i]] = 0\n",
        "  for j in range(len(del_col_index)):\n",
        "    for k in range(len(plus_row)):\n",
        "      c[plus_row[k]][del_col_index[j]] = 0\n"
      ],
      "metadata": {
        "id": "q1yD-i1m641v",
        "outputId": "160a71da-a8f7-4ea0-f2cb-302075f627bf",
        "colab": {
          "base_uri": "https://localhost:8080/"
        }
      },
      "execution_count": null,
      "outputs": [
        {
          "output_type": "stream",
          "name": "stdout",
          "text": [
            "[0, 1, 3] [1]\n"
          ]
        }
      ]
    },
    {
      "cell_type": "code",
      "source": [
        "e = np.random.randint(1, 2, size = (n, n))"
      ],
      "metadata": {
        "id": "2335N5MMALRf"
      },
      "execution_count": null,
      "outputs": []
    },
    {
      "cell_type": "code",
      "source": [
        "# try:\n",
        "#   # for i in range(n):\n",
        "#   #   for j in range(n):\n",
        "#   #     if(stack_r1[i][j] == 0):\n",
        "#   #       cnt +=1\n",
        "#   #while(len(del_row_lst)+len(del_col_lst) < n):\n",
        "#   for d in range(n):\n",
        "#     count_col = 0\n",
        "#     count_col_lst = []\n",
        "#     for i in range(len(stack_r1.index)):\n",
        "#       for j in range(len(stack_r1.columns)):\n",
        "#         if(stack_r1.iloc[i][j] == 0):\n",
        "#           count_col += 1\n",
        "\n",
        "#       # globals()[\"Zero_cnt_col{}\".format(i)] = count_col\n",
        "#       count_col_lst.append(int(count_col))\n",
        "#       count_col = 0\n",
        "\n",
        "\n",
        "#     count_row = 0\n",
        "#     count_row_lst = []\n",
        "#     for i in range(len(stack_r1.columns)):\n",
        "#       for j in range(len(stack_r1.index)):\n",
        "#         if(stack_r1.iloc[j][i] == 0):\n",
        "#           count_row += 1\n",
        "\n",
        "#       # globals()[\"Zero_cnt_row{}\".format(i)] = count_row\n",
        "#       count_row_lst.append(int(count_row))\n",
        "#       count_row = 0\n",
        "\n",
        "\n",
        "#     # print('row의 0의 수 : {}'.format(count_row_lst))\n",
        "#     # print('col의 0의 수 : {}'.format(count_col_lst))\n",
        "#     row_zero_index = [i for i, value in enumerate(count_row_lst) if value == np.max(count_row_lst)]\n",
        "#     col_zero_index = [i for i, value in enumerate(count_col_lst) if value == np.max(count_col_lst)]\n",
        "\n",
        "#     choice = []\n",
        "#     choice.append(int(np.max(count_row_lst)))\n",
        "#     choice.append(int(np.max(count_col_lst)))\n",
        "#     choice = int(np.argmax(choice))\n",
        "#     # print('row의 0의 수 Max값 : {}'.format(np.max(count_row_lst)))\n",
        "#     # print('col의 0의 수 Max값 : {}'.format(np.max(count_col_lst)))\n",
        "#     # print('row의 0의 수 Max값 index : {}'.format(np.max(row_zero_index)))\n",
        "#     # print('col의 0의 수 Max값 index : {}'.format(np.max(col_zero_index)))\n",
        "\n",
        "#     if(choice == 0):\n",
        "#       choice_str = \"행\"\n",
        "#     else:\n",
        "#       choice_str = \"열\"\n",
        "#     # print('삭제할 곳 선택 : {}'.format(choice_str))\n",
        "#     if(choice == 0):\n",
        "#       del_row_lst.append(row_zero_index[0])\n",
        "#       stack_r1 = stack_r1.drop(row_zero_index[0], axis='columns')\n",
        "#     else:\n",
        "#       del_col_lst.append(col_zero_index[0])\n",
        "#       stack_r1 = stack_r1.drop(columns=col_zero_index[0])\n",
        "#     stack_r1= pd.DataFrame(np.array(stack_r1))\n",
        "#     cnt += 1\n",
        "# except:\n",
        "#   print(\"\")\n",
        "#   # stack_r[2][2] = 0\n",
        "#   # a = [0,1,2,3]\n",
        "#   # del_row_index = []\n",
        "#   # del_col_index = []\n",
        "#   # for i in range(len(del_row_lst)):\n",
        "#   #   del_row_index.append(a[del_row_lst[i]])\n",
        "#   #   del a[del_row_lst[i]]\n",
        "#   # a = [0,1,2,3]\n",
        "#   # for i in range(len(del_col_lst)):\n",
        "#   #   del_col_index.append(a[del_col_lst[i]])\n",
        "#   #   del a[del_col_lst[i]]\n",
        "\n",
        "    \n",
        "#   # del_row_index, del_col_index    \n",
        "#   # for i in range(len(del_row_index)):\n",
        "#   #   if(len(del_col_index) >= 1):\n",
        "#   #     for j in range(len(del_col_index)):\n",
        "#   #       if(stack_r[del_row_index[i]][del_col_index[j]] == 0):\n",
        "#   #         stack_r[del_row_index[i]][del_col_index[j]] += 1\n",
        "#   # stack_r1 = stack_r.copy()"
      ],
      "metadata": {
        "id": "iDMdnXdgjV6Z"
      },
      "execution_count": null,
      "outputs": []
    },
    {
      "cell_type": "code",
      "source": [
        "# len(del_row_lst)"
      ],
      "metadata": {
        "id": "Wv99FuhfkBKc"
      },
      "execution_count": null,
      "outputs": []
    },
    {
      "cell_type": "code",
      "source": [
        "# a = [0,1,2,3]\n",
        "# del_row_index = []\n",
        "# del_col_index = []\n",
        "# for i in range(len(del_row_lst)):\n",
        "#   del_row_index.append(a[del_row_lst[i]])\n",
        "#   del a[del_row_lst[i]]\n",
        "# a = [0,1,2,3]\n",
        "# for i in range(len(del_col_lst)):\n",
        "#   del_col_index.append(a[del_col_lst[i]])\n",
        "#   del a[del_col_lst[i]]\n",
        "\n",
        "\n",
        "# print(del_row_index, del_col_index)"
      ],
      "metadata": {
        "id": "83-sTOwygltJ"
      },
      "execution_count": null,
      "outputs": []
    },
    {
      "cell_type": "code",
      "source": [
        ""
      ],
      "metadata": {
        "id": "YtC41hfqglrJ"
      },
      "execution_count": null,
      "outputs": []
    },
    {
      "cell_type": "code",
      "source": [
        ""
      ],
      "metadata": {
        "id": "7nwCEP7iglo8"
      },
      "execution_count": null,
      "outputs": []
    },
    {
      "cell_type": "code",
      "source": [
        ""
      ],
      "metadata": {
        "id": "guQBY3wwglmr"
      },
      "execution_count": null,
      "outputs": []
    },
    {
      "cell_type": "code",
      "source": [
        ""
      ],
      "metadata": {
        "id": "PxOb52d0glkW"
      },
      "execution_count": null,
      "outputs": []
    }
  ]
}