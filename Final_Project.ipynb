{
  "nbformat": 4,
  "nbformat_minor": 0,
  "metadata": {
    "colab": {
      "name": "Final Project.ipynb의 사본",
      "provenance": [],
      "collapsed_sections": [],
      "authorship_tag": "ABX9TyNVa7nDIEPdRRRMlIYAKt9K",
      "include_colab_link": true
    },
    "kernelspec": {
      "name": "python3",
      "display_name": "Python 3"
    },
    "language_info": {
      "name": "python"
    }
  },
  "cells": [
    {
      "cell_type": "markdown",
      "metadata": {
        "id": "view-in-github",
        "colab_type": "text"
      },
      "source": [
        "<a href=\"https://colab.research.google.com/github/Junhyuck123/Production-control/blob/main/Final_Project.ipynb\" target=\"_parent\"><img src=\"https://colab.research.google.com/assets/colab-badge.svg\" alt=\"Open In Colab\"/></a>"
      ]
    },
    {
      "cell_type": "code",
      "source": [
        "import numpy as np\n",
        "import pandas as pd\n",
        "from scipy.optimize import linear_sum_assignment\n",
        "\n",
        "c_m = np.array([[9,6,3,4],\n",
        "                [5,8,12,10],\n",
        "                [2,6,7,4],\n",
        "                [4,11,13,7]])\n",
        "row_ind, col_ind = linear_sum_assignment(c_m)\n",
        "opt_ass = col_ind\n",
        "tc = c_m[row_ind, col_ind].sum()\n",
        "\n",
        "\n",
        "print(c_m)\n",
        "print(opt_ass)\n",
        "print(tc)"
      ],
      "metadata": {
        "colab": {
          "base_uri": "https://localhost:8080/"
        },
        "id": "LyLC1yVU7oN_",
        "outputId": "8e3ca977-f2bb-46c1-e327-aeb66d41e8ca"
      },
      "execution_count": 3225,
      "outputs": [
        {
          "output_type": "stream",
          "name": "stdout",
          "text": [
            "[[ 9  6  3  4]\n",
            " [ 5  8 12 10]\n",
            " [ 2  6  7  4]\n",
            " [ 4 11 13  7]]\n",
            "[2 1 3 0]\n",
            "19\n"
          ]
        }
      ]
    },
    {
      "cell_type": "code",
      "source": [
        "#n = int(input())\n",
        "n =4"
      ],
      "metadata": {
        "id": "w625KYOvu0_R"
      },
      "execution_count": 3149,
      "outputs": []
    },
    {
      "cell_type": "code",
      "source": [
        "# c = np.random.randint(1, 15, size = (n, n))\n",
        "# cost = pd.DataFrame(c)\n",
        "# cost\n",
        "cost = pd.DataFrame(c_m)\n",
        "cost\n",
        "\n"
      ],
      "metadata": {
        "id": "Yi88DkxYovan",
        "colab": {
          "base_uri": "https://localhost:8080/",
          "height": 175
        },
        "outputId": "3694ba5f-a1a8-4870-d5d5-f9e635657b4d"
      },
      "execution_count": 3226,
      "outputs": [
        {
          "output_type": "execute_result",
          "data": {
            "text/plain": [
              "   0   1   2   3\n",
              "0  9   6   3   4\n",
              "1  5   8  12  10\n",
              "2  2   6   7   4\n",
              "3  4  11  13   7"
            ],
            "text/html": [
              "\n",
              "  <div id=\"df-4dff8ab5-7a10-4253-a86c-bf8e8e9dceb7\">\n",
              "    <div class=\"colab-df-container\">\n",
              "      <div>\n",
              "<style scoped>\n",
              "    .dataframe tbody tr th:only-of-type {\n",
              "        vertical-align: middle;\n",
              "    }\n",
              "\n",
              "    .dataframe tbody tr th {\n",
              "        vertical-align: top;\n",
              "    }\n",
              "\n",
              "    .dataframe thead th {\n",
              "        text-align: right;\n",
              "    }\n",
              "</style>\n",
              "<table border=\"1\" class=\"dataframe\">\n",
              "  <thead>\n",
              "    <tr style=\"text-align: right;\">\n",
              "      <th></th>\n",
              "      <th>0</th>\n",
              "      <th>1</th>\n",
              "      <th>2</th>\n",
              "      <th>3</th>\n",
              "    </tr>\n",
              "  </thead>\n",
              "  <tbody>\n",
              "    <tr>\n",
              "      <th>0</th>\n",
              "      <td>9</td>\n",
              "      <td>6</td>\n",
              "      <td>3</td>\n",
              "      <td>4</td>\n",
              "    </tr>\n",
              "    <tr>\n",
              "      <th>1</th>\n",
              "      <td>5</td>\n",
              "      <td>8</td>\n",
              "      <td>12</td>\n",
              "      <td>10</td>\n",
              "    </tr>\n",
              "    <tr>\n",
              "      <th>2</th>\n",
              "      <td>2</td>\n",
              "      <td>6</td>\n",
              "      <td>7</td>\n",
              "      <td>4</td>\n",
              "    </tr>\n",
              "    <tr>\n",
              "      <th>3</th>\n",
              "      <td>4</td>\n",
              "      <td>11</td>\n",
              "      <td>13</td>\n",
              "      <td>7</td>\n",
              "    </tr>\n",
              "  </tbody>\n",
              "</table>\n",
              "</div>\n",
              "      <button class=\"colab-df-convert\" onclick=\"convertToInteractive('df-4dff8ab5-7a10-4253-a86c-bf8e8e9dceb7')\"\n",
              "              title=\"Convert this dataframe to an interactive table.\"\n",
              "              style=\"display:none;\">\n",
              "        \n",
              "  <svg xmlns=\"http://www.w3.org/2000/svg\" height=\"24px\"viewBox=\"0 0 24 24\"\n",
              "       width=\"24px\">\n",
              "    <path d=\"M0 0h24v24H0V0z\" fill=\"none\"/>\n",
              "    <path d=\"M18.56 5.44l.94 2.06.94-2.06 2.06-.94-2.06-.94-.94-2.06-.94 2.06-2.06.94zm-11 1L8.5 8.5l.94-2.06 2.06-.94-2.06-.94L8.5 2.5l-.94 2.06-2.06.94zm10 10l.94 2.06.94-2.06 2.06-.94-2.06-.94-.94-2.06-.94 2.06-2.06.94z\"/><path d=\"M17.41 7.96l-1.37-1.37c-.4-.4-.92-.59-1.43-.59-.52 0-1.04.2-1.43.59L10.3 9.45l-7.72 7.72c-.78.78-.78 2.05 0 2.83L4 21.41c.39.39.9.59 1.41.59.51 0 1.02-.2 1.41-.59l7.78-7.78 2.81-2.81c.8-.78.8-2.07 0-2.86zM5.41 20L4 18.59l7.72-7.72 1.47 1.35L5.41 20z\"/>\n",
              "  </svg>\n",
              "      </button>\n",
              "      \n",
              "  <style>\n",
              "    .colab-df-container {\n",
              "      display:flex;\n",
              "      flex-wrap:wrap;\n",
              "      gap: 12px;\n",
              "    }\n",
              "\n",
              "    .colab-df-convert {\n",
              "      background-color: #E8F0FE;\n",
              "      border: none;\n",
              "      border-radius: 50%;\n",
              "      cursor: pointer;\n",
              "      display: none;\n",
              "      fill: #1967D2;\n",
              "      height: 32px;\n",
              "      padding: 0 0 0 0;\n",
              "      width: 32px;\n",
              "    }\n",
              "\n",
              "    .colab-df-convert:hover {\n",
              "      background-color: #E2EBFA;\n",
              "      box-shadow: 0px 1px 2px rgba(60, 64, 67, 0.3), 0px 1px 3px 1px rgba(60, 64, 67, 0.15);\n",
              "      fill: #174EA6;\n",
              "    }\n",
              "\n",
              "    [theme=dark] .colab-df-convert {\n",
              "      background-color: #3B4455;\n",
              "      fill: #D2E3FC;\n",
              "    }\n",
              "\n",
              "    [theme=dark] .colab-df-convert:hover {\n",
              "      background-color: #434B5C;\n",
              "      box-shadow: 0px 1px 3px 1px rgba(0, 0, 0, 0.15);\n",
              "      filter: drop-shadow(0px 1px 2px rgba(0, 0, 0, 0.3));\n",
              "      fill: #FFFFFF;\n",
              "    }\n",
              "  </style>\n",
              "\n",
              "      <script>\n",
              "        const buttonEl =\n",
              "          document.querySelector('#df-4dff8ab5-7a10-4253-a86c-bf8e8e9dceb7 button.colab-df-convert');\n",
              "        buttonEl.style.display =\n",
              "          google.colab.kernel.accessAllowed ? 'block' : 'none';\n",
              "\n",
              "        async function convertToInteractive(key) {\n",
              "          const element = document.querySelector('#df-4dff8ab5-7a10-4253-a86c-bf8e8e9dceb7');\n",
              "          const dataTable =\n",
              "            await google.colab.kernel.invokeFunction('convertToInteractive',\n",
              "                                                     [key], {});\n",
              "          if (!dataTable) return;\n",
              "\n",
              "          const docLinkHtml = 'Like what you see? Visit the ' +\n",
              "            '<a target=\"_blank\" href=https://colab.research.google.com/notebooks/data_table.ipynb>data table notebook</a>'\n",
              "            + ' to learn more about interactive tables.';\n",
              "          element.innerHTML = '';\n",
              "          dataTable['output_type'] = 'display_data';\n",
              "          await google.colab.output.renderOutput(dataTable, element);\n",
              "          const docLink = document.createElement('div');\n",
              "          docLink.innerHTML = docLinkHtml;\n",
              "          element.appendChild(docLink);\n",
              "        }\n",
              "      </script>\n",
              "    </div>\n",
              "  </div>\n",
              "  "
            ]
          },
          "metadata": {},
          "execution_count": 3226
        }
      ]
    },
    {
      "cell_type": "code",
      "source": [
        "stack_c = pd.DataFrame()\n",
        "for i in range(n):\n",
        "  col = np.array(cost['R{}'.format(i)])\n",
        "  col_min = min(col)\n",
        "  col = col - col_min\n",
        "  col = pd.DataFrame(col)\n",
        "  stack_c[i] = col\n",
        "stack_c"
      ],
      "metadata": {
        "id": "L_fEqIMIsiTV",
        "colab": {
          "base_uri": "https://localhost:8080/",
          "height": 175
        },
        "outputId": "243a71f0-75ef-4583-f0d1-0f29aedc3d43"
      },
      "execution_count": 3152,
      "outputs": [
        {
          "output_type": "execute_result",
          "data": {
            "text/plain": [
              "   0  1   2  3\n",
              "0  7  0   0  0\n",
              "1  3  2   9  6\n",
              "2  0  0   4  0\n",
              "3  2  5  10  3"
            ],
            "text/html": [
              "\n",
              "  <div id=\"df-b55ecec7-1c86-4f90-ab87-ec8e6ce16b18\">\n",
              "    <div class=\"colab-df-container\">\n",
              "      <div>\n",
              "<style scoped>\n",
              "    .dataframe tbody tr th:only-of-type {\n",
              "        vertical-align: middle;\n",
              "    }\n",
              "\n",
              "    .dataframe tbody tr th {\n",
              "        vertical-align: top;\n",
              "    }\n",
              "\n",
              "    .dataframe thead th {\n",
              "        text-align: right;\n",
              "    }\n",
              "</style>\n",
              "<table border=\"1\" class=\"dataframe\">\n",
              "  <thead>\n",
              "    <tr style=\"text-align: right;\">\n",
              "      <th></th>\n",
              "      <th>0</th>\n",
              "      <th>1</th>\n",
              "      <th>2</th>\n",
              "      <th>3</th>\n",
              "    </tr>\n",
              "  </thead>\n",
              "  <tbody>\n",
              "    <tr>\n",
              "      <th>0</th>\n",
              "      <td>7</td>\n",
              "      <td>0</td>\n",
              "      <td>0</td>\n",
              "      <td>0</td>\n",
              "    </tr>\n",
              "    <tr>\n",
              "      <th>1</th>\n",
              "      <td>3</td>\n",
              "      <td>2</td>\n",
              "      <td>9</td>\n",
              "      <td>6</td>\n",
              "    </tr>\n",
              "    <tr>\n",
              "      <th>2</th>\n",
              "      <td>0</td>\n",
              "      <td>0</td>\n",
              "      <td>4</td>\n",
              "      <td>0</td>\n",
              "    </tr>\n",
              "    <tr>\n",
              "      <th>3</th>\n",
              "      <td>2</td>\n",
              "      <td>5</td>\n",
              "      <td>10</td>\n",
              "      <td>3</td>\n",
              "    </tr>\n",
              "  </tbody>\n",
              "</table>\n",
              "</div>\n",
              "      <button class=\"colab-df-convert\" onclick=\"convertToInteractive('df-b55ecec7-1c86-4f90-ab87-ec8e6ce16b18')\"\n",
              "              title=\"Convert this dataframe to an interactive table.\"\n",
              "              style=\"display:none;\">\n",
              "        \n",
              "  <svg xmlns=\"http://www.w3.org/2000/svg\" height=\"24px\"viewBox=\"0 0 24 24\"\n",
              "       width=\"24px\">\n",
              "    <path d=\"M0 0h24v24H0V0z\" fill=\"none\"/>\n",
              "    <path d=\"M18.56 5.44l.94 2.06.94-2.06 2.06-.94-2.06-.94-.94-2.06-.94 2.06-2.06.94zm-11 1L8.5 8.5l.94-2.06 2.06-.94-2.06-.94L8.5 2.5l-.94 2.06-2.06.94zm10 10l.94 2.06.94-2.06 2.06-.94-2.06-.94-.94-2.06-.94 2.06-2.06.94z\"/><path d=\"M17.41 7.96l-1.37-1.37c-.4-.4-.92-.59-1.43-.59-.52 0-1.04.2-1.43.59L10.3 9.45l-7.72 7.72c-.78.78-.78 2.05 0 2.83L4 21.41c.39.39.9.59 1.41.59.51 0 1.02-.2 1.41-.59l7.78-7.78 2.81-2.81c.8-.78.8-2.07 0-2.86zM5.41 20L4 18.59l7.72-7.72 1.47 1.35L5.41 20z\"/>\n",
              "  </svg>\n",
              "      </button>\n",
              "      \n",
              "  <style>\n",
              "    .colab-df-container {\n",
              "      display:flex;\n",
              "      flex-wrap:wrap;\n",
              "      gap: 12px;\n",
              "    }\n",
              "\n",
              "    .colab-df-convert {\n",
              "      background-color: #E8F0FE;\n",
              "      border: none;\n",
              "      border-radius: 50%;\n",
              "      cursor: pointer;\n",
              "      display: none;\n",
              "      fill: #1967D2;\n",
              "      height: 32px;\n",
              "      padding: 0 0 0 0;\n",
              "      width: 32px;\n",
              "    }\n",
              "\n",
              "    .colab-df-convert:hover {\n",
              "      background-color: #E2EBFA;\n",
              "      box-shadow: 0px 1px 2px rgba(60, 64, 67, 0.3), 0px 1px 3px 1px rgba(60, 64, 67, 0.15);\n",
              "      fill: #174EA6;\n",
              "    }\n",
              "\n",
              "    [theme=dark] .colab-df-convert {\n",
              "      background-color: #3B4455;\n",
              "      fill: #D2E3FC;\n",
              "    }\n",
              "\n",
              "    [theme=dark] .colab-df-convert:hover {\n",
              "      background-color: #434B5C;\n",
              "      box-shadow: 0px 1px 3px 1px rgba(0, 0, 0, 0.15);\n",
              "      filter: drop-shadow(0px 1px 2px rgba(0, 0, 0, 0.3));\n",
              "      fill: #FFFFFF;\n",
              "    }\n",
              "  </style>\n",
              "\n",
              "      <script>\n",
              "        const buttonEl =\n",
              "          document.querySelector('#df-b55ecec7-1c86-4f90-ab87-ec8e6ce16b18 button.colab-df-convert');\n",
              "        buttonEl.style.display =\n",
              "          google.colab.kernel.accessAllowed ? 'block' : 'none';\n",
              "\n",
              "        async function convertToInteractive(key) {\n",
              "          const element = document.querySelector('#df-b55ecec7-1c86-4f90-ab87-ec8e6ce16b18');\n",
              "          const dataTable =\n",
              "            await google.colab.kernel.invokeFunction('convertToInteractive',\n",
              "                                                     [key], {});\n",
              "          if (!dataTable) return;\n",
              "\n",
              "          const docLinkHtml = 'Like what you see? Visit the ' +\n",
              "            '<a target=\"_blank\" href=https://colab.research.google.com/notebooks/data_table.ipynb>data table notebook</a>'\n",
              "            + ' to learn more about interactive tables.';\n",
              "          element.innerHTML = '';\n",
              "          dataTable['output_type'] = 'display_data';\n",
              "          await google.colab.output.renderOutput(dataTable, element);\n",
              "          const docLink = document.createElement('div');\n",
              "          docLink.innerHTML = docLinkHtml;\n",
              "          element.appendChild(docLink);\n",
              "        }\n",
              "      </script>\n",
              "    </div>\n",
              "  </div>\n",
              "  "
            ]
          },
          "metadata": {},
          "execution_count": 3152
        }
      ]
    },
    {
      "cell_type": "code",
      "source": [
        "pre_Data = pd.DataFrame()\n",
        "for i in range(n):\n",
        "  row = stack_c.iloc[i][:]\n",
        "  row_min = min(row)\n",
        "  row = row - row_min\n",
        "  row = pd.DataFrame(row)\n",
        "  pre_Data[i] = row\n",
        "pre_Data = pre_Data.transpose()\n",
        "pre_Data"
      ],
      "metadata": {
        "colab": {
          "base_uri": "https://localhost:8080/",
          "height": 175
        },
        "id": "RRgosg2HdBf3",
        "outputId": "6ffff92d-970d-4f31-de8d-34d5d5a0cb97"
      },
      "execution_count": 3153,
      "outputs": [
        {
          "output_type": "execute_result",
          "data": {
            "text/plain": [
              "   0  1  2  3\n",
              "0  7  0  0  0\n",
              "1  1  0  7  4\n",
              "2  0  0  4  0\n",
              "3  0  3  8  1"
            ],
            "text/html": [
              "\n",
              "  <div id=\"df-28751ef3-6c1d-4451-8cf5-851e2f50ae10\">\n",
              "    <div class=\"colab-df-container\">\n",
              "      <div>\n",
              "<style scoped>\n",
              "    .dataframe tbody tr th:only-of-type {\n",
              "        vertical-align: middle;\n",
              "    }\n",
              "\n",
              "    .dataframe tbody tr th {\n",
              "        vertical-align: top;\n",
              "    }\n",
              "\n",
              "    .dataframe thead th {\n",
              "        text-align: right;\n",
              "    }\n",
              "</style>\n",
              "<table border=\"1\" class=\"dataframe\">\n",
              "  <thead>\n",
              "    <tr style=\"text-align: right;\">\n",
              "      <th></th>\n",
              "      <th>0</th>\n",
              "      <th>1</th>\n",
              "      <th>2</th>\n",
              "      <th>3</th>\n",
              "    </tr>\n",
              "  </thead>\n",
              "  <tbody>\n",
              "    <tr>\n",
              "      <th>0</th>\n",
              "      <td>7</td>\n",
              "      <td>0</td>\n",
              "      <td>0</td>\n",
              "      <td>0</td>\n",
              "    </tr>\n",
              "    <tr>\n",
              "      <th>1</th>\n",
              "      <td>1</td>\n",
              "      <td>0</td>\n",
              "      <td>7</td>\n",
              "      <td>4</td>\n",
              "    </tr>\n",
              "    <tr>\n",
              "      <th>2</th>\n",
              "      <td>0</td>\n",
              "      <td>0</td>\n",
              "      <td>4</td>\n",
              "      <td>0</td>\n",
              "    </tr>\n",
              "    <tr>\n",
              "      <th>3</th>\n",
              "      <td>0</td>\n",
              "      <td>3</td>\n",
              "      <td>8</td>\n",
              "      <td>1</td>\n",
              "    </tr>\n",
              "  </tbody>\n",
              "</table>\n",
              "</div>\n",
              "      <button class=\"colab-df-convert\" onclick=\"convertToInteractive('df-28751ef3-6c1d-4451-8cf5-851e2f50ae10')\"\n",
              "              title=\"Convert this dataframe to an interactive table.\"\n",
              "              style=\"display:none;\">\n",
              "        \n",
              "  <svg xmlns=\"http://www.w3.org/2000/svg\" height=\"24px\"viewBox=\"0 0 24 24\"\n",
              "       width=\"24px\">\n",
              "    <path d=\"M0 0h24v24H0V0z\" fill=\"none\"/>\n",
              "    <path d=\"M18.56 5.44l.94 2.06.94-2.06 2.06-.94-2.06-.94-.94-2.06-.94 2.06-2.06.94zm-11 1L8.5 8.5l.94-2.06 2.06-.94-2.06-.94L8.5 2.5l-.94 2.06-2.06.94zm10 10l.94 2.06.94-2.06 2.06-.94-2.06-.94-.94-2.06-.94 2.06-2.06.94z\"/><path d=\"M17.41 7.96l-1.37-1.37c-.4-.4-.92-.59-1.43-.59-.52 0-1.04.2-1.43.59L10.3 9.45l-7.72 7.72c-.78.78-.78 2.05 0 2.83L4 21.41c.39.39.9.59 1.41.59.51 0 1.02-.2 1.41-.59l7.78-7.78 2.81-2.81c.8-.78.8-2.07 0-2.86zM5.41 20L4 18.59l7.72-7.72 1.47 1.35L5.41 20z\"/>\n",
              "  </svg>\n",
              "      </button>\n",
              "      \n",
              "  <style>\n",
              "    .colab-df-container {\n",
              "      display:flex;\n",
              "      flex-wrap:wrap;\n",
              "      gap: 12px;\n",
              "    }\n",
              "\n",
              "    .colab-df-convert {\n",
              "      background-color: #E8F0FE;\n",
              "      border: none;\n",
              "      border-radius: 50%;\n",
              "      cursor: pointer;\n",
              "      display: none;\n",
              "      fill: #1967D2;\n",
              "      height: 32px;\n",
              "      padding: 0 0 0 0;\n",
              "      width: 32px;\n",
              "    }\n",
              "\n",
              "    .colab-df-convert:hover {\n",
              "      background-color: #E2EBFA;\n",
              "      box-shadow: 0px 1px 2px rgba(60, 64, 67, 0.3), 0px 1px 3px 1px rgba(60, 64, 67, 0.15);\n",
              "      fill: #174EA6;\n",
              "    }\n",
              "\n",
              "    [theme=dark] .colab-df-convert {\n",
              "      background-color: #3B4455;\n",
              "      fill: #D2E3FC;\n",
              "    }\n",
              "\n",
              "    [theme=dark] .colab-df-convert:hover {\n",
              "      background-color: #434B5C;\n",
              "      box-shadow: 0px 1px 3px 1px rgba(0, 0, 0, 0.15);\n",
              "      filter: drop-shadow(0px 1px 2px rgba(0, 0, 0, 0.3));\n",
              "      fill: #FFFFFF;\n",
              "    }\n",
              "  </style>\n",
              "\n",
              "      <script>\n",
              "        const buttonEl =\n",
              "          document.querySelector('#df-28751ef3-6c1d-4451-8cf5-851e2f50ae10 button.colab-df-convert');\n",
              "        buttonEl.style.display =\n",
              "          google.colab.kernel.accessAllowed ? 'block' : 'none';\n",
              "\n",
              "        async function convertToInteractive(key) {\n",
              "          const element = document.querySelector('#df-28751ef3-6c1d-4451-8cf5-851e2f50ae10');\n",
              "          const dataTable =\n",
              "            await google.colab.kernel.invokeFunction('convertToInteractive',\n",
              "                                                     [key], {});\n",
              "          if (!dataTable) return;\n",
              "\n",
              "          const docLinkHtml = 'Like what you see? Visit the ' +\n",
              "            '<a target=\"_blank\" href=https://colab.research.google.com/notebooks/data_table.ipynb>data table notebook</a>'\n",
              "            + ' to learn more about interactive tables.';\n",
              "          element.innerHTML = '';\n",
              "          dataTable['output_type'] = 'display_data';\n",
              "          await google.colab.output.renderOutput(dataTable, element);\n",
              "          const docLink = document.createElement('div');\n",
              "          docLink.innerHTML = docLinkHtml;\n",
              "          element.appendChild(docLink);\n",
              "        }\n",
              "      </script>\n",
              "    </div>\n",
              "  </div>\n",
              "  "
            ]
          },
          "metadata": {},
          "execution_count": 3153
        }
      ]
    },
    {
      "cell_type": "code",
      "source": [
        "count_col = 0\n",
        "count_col_lst = []\n",
        "for i in range(n):\n",
        "  for j in range(n):\n",
        "    if(pre_Data.iloc[i][j] == 0):\n",
        "      count_col += 1\n",
        "\n",
        "  globals()[\"Zero_cnt_col{}\".format(i)] = count_col\n",
        "  count_col_lst.append(int(count_col))\n",
        "  count_col = 0\n",
        "\n",
        "\n",
        "count_row = 0\n",
        "count_row_lst = []\n",
        "for i in range(n):\n",
        "  for j in range(n):\n",
        "    if(pre_Data.iloc[j][i] == 0):\n",
        "      count_row += 1\n",
        "\n",
        "  globals()[\"Zero_cnt_row{}\".format(i)] = count_row\n",
        "  count_row_lst.append(int(count_row))\n",
        "  count_row = 0\n",
        "\n",
        "\n",
        "print('row의 0의 수 : {}'.format(count_row_lst))\n",
        "print('col의 0의 수 : {}'.format(count_col_lst))"
      ],
      "metadata": {
        "id": "iQ-ydBaKzPSE",
        "colab": {
          "base_uri": "https://localhost:8080/"
        },
        "outputId": "a6c9100a-4869-4b4b-9495-9f80eb5c30fa"
      },
      "execution_count": 3154,
      "outputs": [
        {
          "output_type": "stream",
          "name": "stdout",
          "text": [
            "row의 0의 수 : [2, 3, 1, 2]\n",
            "col의 0의 수 : [3, 1, 3, 1]\n"
          ]
        }
      ]
    },
    {
      "cell_type": "code",
      "source": [
        "row_zero_index = [i for i, value in enumerate(count_row_lst) if value == np.max(count_row_lst)]\n",
        "col_zero_index = [i for i, value in enumerate(count_col_lst) if value == np.max(count_col_lst)]\n",
        "\n",
        "choice = []\n",
        "choice.append(int(np.max(count_row_lst)))\n",
        "choice.append(int(np.max(count_col_lst)))\n",
        "choice = int(np.argmax(choice))\n",
        "print('row의 0의 수 Max값 : {}'.format(np.max(count_row_lst)))\n",
        "print('col의 0의 수 Max값 : {}'.format(np.max(count_col_lst)))\n",
        "print('row의 0의 수 Max값 index : {}'.format(np.max(row_zero_index)))\n",
        "print('col의 0의 수 Max값 index : {}'.format(np.max(col_zero_index)))\n",
        "\n",
        "if(choice == 0):\n",
        "  choice_str = \"행\"\n",
        "else:\n",
        "  choice_str = \"열\"\n",
        "print('삭제할 곳 선택 : {}'.format(choice_str))"
      ],
      "metadata": {
        "colab": {
          "base_uri": "https://localhost:8080/"
        },
        "id": "9dzpgFg9urlo",
        "outputId": "cdf4cac6-bbdf-4211-b3cf-81dd75b341e4"
      },
      "execution_count": 3155,
      "outputs": [
        {
          "output_type": "stream",
          "name": "stdout",
          "text": [
            "row의 0의 수 Max값 : 3\n",
            "col의 0의 수 Max값 : 3\n",
            "row의 0의 수 Max값 index : 1\n",
            "col의 0의 수 Max값 index : 2\n",
            "삭제할 곳 선택 : 행\n"
          ]
        }
      ]
    },
    {
      "cell_type": "code",
      "source": [
        "if(choice == 0):\n",
        "  result_step1 = pre_Data.drop(row_zero_index[0], axis='columns')\n",
        "else:\n",
        "  result_step1 = pre_Data.drop(columns=col_zero_index[0])\n",
        "result_step1= pd.DataFrame(np.array(result_step1))\n",
        "result_step1"
      ],
      "metadata": {
        "id": "UpCW6AvB4rlB",
        "colab": {
          "base_uri": "https://localhost:8080/",
          "height": 175
        },
        "outputId": "0951caa4-07a7-4690-f069-2218bb4a8ee8"
      },
      "execution_count": 3156,
      "outputs": [
        {
          "output_type": "execute_result",
          "data": {
            "text/plain": [
              "   0  1  2\n",
              "0  7  0  0\n",
              "1  1  7  4\n",
              "2  0  4  0\n",
              "3  0  8  1"
            ],
            "text/html": [
              "\n",
              "  <div id=\"df-59484ff0-ae92-4dbb-950d-102f610bf510\">\n",
              "    <div class=\"colab-df-container\">\n",
              "      <div>\n",
              "<style scoped>\n",
              "    .dataframe tbody tr th:only-of-type {\n",
              "        vertical-align: middle;\n",
              "    }\n",
              "\n",
              "    .dataframe tbody tr th {\n",
              "        vertical-align: top;\n",
              "    }\n",
              "\n",
              "    .dataframe thead th {\n",
              "        text-align: right;\n",
              "    }\n",
              "</style>\n",
              "<table border=\"1\" class=\"dataframe\">\n",
              "  <thead>\n",
              "    <tr style=\"text-align: right;\">\n",
              "      <th></th>\n",
              "      <th>0</th>\n",
              "      <th>1</th>\n",
              "      <th>2</th>\n",
              "    </tr>\n",
              "  </thead>\n",
              "  <tbody>\n",
              "    <tr>\n",
              "      <th>0</th>\n",
              "      <td>7</td>\n",
              "      <td>0</td>\n",
              "      <td>0</td>\n",
              "    </tr>\n",
              "    <tr>\n",
              "      <th>1</th>\n",
              "      <td>1</td>\n",
              "      <td>7</td>\n",
              "      <td>4</td>\n",
              "    </tr>\n",
              "    <tr>\n",
              "      <th>2</th>\n",
              "      <td>0</td>\n",
              "      <td>4</td>\n",
              "      <td>0</td>\n",
              "    </tr>\n",
              "    <tr>\n",
              "      <th>3</th>\n",
              "      <td>0</td>\n",
              "      <td>8</td>\n",
              "      <td>1</td>\n",
              "    </tr>\n",
              "  </tbody>\n",
              "</table>\n",
              "</div>\n",
              "      <button class=\"colab-df-convert\" onclick=\"convertToInteractive('df-59484ff0-ae92-4dbb-950d-102f610bf510')\"\n",
              "              title=\"Convert this dataframe to an interactive table.\"\n",
              "              style=\"display:none;\">\n",
              "        \n",
              "  <svg xmlns=\"http://www.w3.org/2000/svg\" height=\"24px\"viewBox=\"0 0 24 24\"\n",
              "       width=\"24px\">\n",
              "    <path d=\"M0 0h24v24H0V0z\" fill=\"none\"/>\n",
              "    <path d=\"M18.56 5.44l.94 2.06.94-2.06 2.06-.94-2.06-.94-.94-2.06-.94 2.06-2.06.94zm-11 1L8.5 8.5l.94-2.06 2.06-.94-2.06-.94L8.5 2.5l-.94 2.06-2.06.94zm10 10l.94 2.06.94-2.06 2.06-.94-2.06-.94-.94-2.06-.94 2.06-2.06.94z\"/><path d=\"M17.41 7.96l-1.37-1.37c-.4-.4-.92-.59-1.43-.59-.52 0-1.04.2-1.43.59L10.3 9.45l-7.72 7.72c-.78.78-.78 2.05 0 2.83L4 21.41c.39.39.9.59 1.41.59.51 0 1.02-.2 1.41-.59l7.78-7.78 2.81-2.81c.8-.78.8-2.07 0-2.86zM5.41 20L4 18.59l7.72-7.72 1.47 1.35L5.41 20z\"/>\n",
              "  </svg>\n",
              "      </button>\n",
              "      \n",
              "  <style>\n",
              "    .colab-df-container {\n",
              "      display:flex;\n",
              "      flex-wrap:wrap;\n",
              "      gap: 12px;\n",
              "    }\n",
              "\n",
              "    .colab-df-convert {\n",
              "      background-color: #E8F0FE;\n",
              "      border: none;\n",
              "      border-radius: 50%;\n",
              "      cursor: pointer;\n",
              "      display: none;\n",
              "      fill: #1967D2;\n",
              "      height: 32px;\n",
              "      padding: 0 0 0 0;\n",
              "      width: 32px;\n",
              "    }\n",
              "\n",
              "    .colab-df-convert:hover {\n",
              "      background-color: #E2EBFA;\n",
              "      box-shadow: 0px 1px 2px rgba(60, 64, 67, 0.3), 0px 1px 3px 1px rgba(60, 64, 67, 0.15);\n",
              "      fill: #174EA6;\n",
              "    }\n",
              "\n",
              "    [theme=dark] .colab-df-convert {\n",
              "      background-color: #3B4455;\n",
              "      fill: #D2E3FC;\n",
              "    }\n",
              "\n",
              "    [theme=dark] .colab-df-convert:hover {\n",
              "      background-color: #434B5C;\n",
              "      box-shadow: 0px 1px 3px 1px rgba(0, 0, 0, 0.15);\n",
              "      filter: drop-shadow(0px 1px 2px rgba(0, 0, 0, 0.3));\n",
              "      fill: #FFFFFF;\n",
              "    }\n",
              "  </style>\n",
              "\n",
              "      <script>\n",
              "        const buttonEl =\n",
              "          document.querySelector('#df-59484ff0-ae92-4dbb-950d-102f610bf510 button.colab-df-convert');\n",
              "        buttonEl.style.display =\n",
              "          google.colab.kernel.accessAllowed ? 'block' : 'none';\n",
              "\n",
              "        async function convertToInteractive(key) {\n",
              "          const element = document.querySelector('#df-59484ff0-ae92-4dbb-950d-102f610bf510');\n",
              "          const dataTable =\n",
              "            await google.colab.kernel.invokeFunction('convertToInteractive',\n",
              "                                                     [key], {});\n",
              "          if (!dataTable) return;\n",
              "\n",
              "          const docLinkHtml = 'Like what you see? Visit the ' +\n",
              "            '<a target=\"_blank\" href=https://colab.research.google.com/notebooks/data_table.ipynb>data table notebook</a>'\n",
              "            + ' to learn more about interactive tables.';\n",
              "          element.innerHTML = '';\n",
              "          dataTable['output_type'] = 'display_data';\n",
              "          await google.colab.output.renderOutput(dataTable, element);\n",
              "          const docLink = document.createElement('div');\n",
              "          docLink.innerHTML = docLinkHtml;\n",
              "          element.appendChild(docLink);\n",
              "        }\n",
              "      </script>\n",
              "    </div>\n",
              "  </div>\n",
              "  "
            ]
          },
          "metadata": {},
          "execution_count": 3156
        }
      ]
    },
    {
      "cell_type": "code",
      "source": [
        "count_col = 0\n",
        "count_col_lst = []\n",
        "for i in range(len(result_step1.index)):\n",
        "  for j in range(len(result_step1.columns)):\n",
        "    if(int(result_step1.iloc[i][j]) == 0):\n",
        "      count_col += 1\n",
        "  globals()[\"Zero_cnt_col{}\".format(i)] = count_col\n",
        "  count_col_lst.append(int(count_col))\n",
        "  count_col = 0\n",
        "\n",
        "count_row = 0\n",
        "count_row_lst = []\n",
        "for i in range(len(result_step1.columns)):\n",
        "  for j in range(len(result_step1.index)):\n",
        "    if(int(result_step1.iloc[j][i]) == 0):\n",
        "      count_row += 1\n",
        "\n",
        "  globals()[\"Zero_cnt_row{}\".format(i)] = count_row\n",
        "  count_row_lst.append(int(count_row))\n",
        "  count_row = 0\n"
      ],
      "metadata": {
        "id": "xUm9gnA56PRT"
      },
      "execution_count": 3157,
      "outputs": []
    },
    {
      "cell_type": "code",
      "source": [
        "row_zero_index = [i for i, value in enumerate(count_row_lst) if value == np.max(count_row_lst)]\n",
        "col_zero_index = [i for i, value in enumerate(count_col_lst) if value == np.max(count_col_lst)]\n",
        "\n",
        "choice = []\n",
        "choice.append(int(np.max(count_row_lst)))\n",
        "choice.append(int(np.max(count_col_lst)))\n",
        "choice = int(np.argmax(choice))\n",
        "np.max(count_row_lst),np.max(count_col_lst), choice"
      ],
      "metadata": {
        "colab": {
          "base_uri": "https://localhost:8080/"
        },
        "id": "-3HB23Wfu4yV",
        "outputId": "54d57e03-7032-41b5-e401-c40dcec7ee89"
      },
      "execution_count": 3158,
      "outputs": [
        {
          "output_type": "execute_result",
          "data": {
            "text/plain": [
              "(2, 2, 0)"
            ]
          },
          "metadata": {},
          "execution_count": 3158
        }
      ]
    },
    {
      "cell_type": "code",
      "source": [
        "count_row_lst, count_col_lst "
      ],
      "metadata": {
        "colab": {
          "base_uri": "https://localhost:8080/"
        },
        "id": "t3Dm_K_IAs0I",
        "outputId": "2d6fad84-7306-45ca-aff2-24a4634fadfb"
      },
      "execution_count": 3159,
      "outputs": [
        {
          "output_type": "execute_result",
          "data": {
            "text/plain": [
              "([2, 1, 2], [2, 0, 2, 1])"
            ]
          },
          "metadata": {},
          "execution_count": 3159
        }
      ]
    },
    {
      "cell_type": "code",
      "source": [
        "choice"
      ],
      "metadata": {
        "colab": {
          "base_uri": "https://localhost:8080/"
        },
        "id": "0crN6D4ou1dV",
        "outputId": "12fef35c-b6ae-4c52-aa1e-30b4bbdb92cd"
      },
      "execution_count": 3160,
      "outputs": [
        {
          "output_type": "execute_result",
          "data": {
            "text/plain": [
              "0"
            ]
          },
          "metadata": {},
          "execution_count": 3160
        }
      ]
    },
    {
      "cell_type": "code",
      "source": [
        "if(choice == 0):\n",
        "  result_step2 = result_step1.drop(row_zero_index[0], axis='columns')\n",
        "else:\n",
        "  result_step2 = result_step1.drop(columns=col_zero_index[0])\n"
      ],
      "metadata": {
        "id": "idC6bjPfqZum"
      },
      "execution_count": 3161,
      "outputs": []
    },
    {
      "cell_type": "code",
      "source": [
        "result_step2"
      ],
      "metadata": {
        "colab": {
          "base_uri": "https://localhost:8080/",
          "height": 175
        },
        "id": "DvU9OBlsqcq5",
        "outputId": "fce8746d-62b5-4ab8-a10f-ac396979653e"
      },
      "execution_count": 3162,
      "outputs": [
        {
          "output_type": "execute_result",
          "data": {
            "text/plain": [
              "   1  2\n",
              "0  0  0\n",
              "1  7  4\n",
              "2  4  0\n",
              "3  8  1"
            ],
            "text/html": [
              "\n",
              "  <div id=\"df-694107f7-e313-4a93-b2a7-375e90bad046\">\n",
              "    <div class=\"colab-df-container\">\n",
              "      <div>\n",
              "<style scoped>\n",
              "    .dataframe tbody tr th:only-of-type {\n",
              "        vertical-align: middle;\n",
              "    }\n",
              "\n",
              "    .dataframe tbody tr th {\n",
              "        vertical-align: top;\n",
              "    }\n",
              "\n",
              "    .dataframe thead th {\n",
              "        text-align: right;\n",
              "    }\n",
              "</style>\n",
              "<table border=\"1\" class=\"dataframe\">\n",
              "  <thead>\n",
              "    <tr style=\"text-align: right;\">\n",
              "      <th></th>\n",
              "      <th>1</th>\n",
              "      <th>2</th>\n",
              "    </tr>\n",
              "  </thead>\n",
              "  <tbody>\n",
              "    <tr>\n",
              "      <th>0</th>\n",
              "      <td>0</td>\n",
              "      <td>0</td>\n",
              "    </tr>\n",
              "    <tr>\n",
              "      <th>1</th>\n",
              "      <td>7</td>\n",
              "      <td>4</td>\n",
              "    </tr>\n",
              "    <tr>\n",
              "      <th>2</th>\n",
              "      <td>4</td>\n",
              "      <td>0</td>\n",
              "    </tr>\n",
              "    <tr>\n",
              "      <th>3</th>\n",
              "      <td>8</td>\n",
              "      <td>1</td>\n",
              "    </tr>\n",
              "  </tbody>\n",
              "</table>\n",
              "</div>\n",
              "      <button class=\"colab-df-convert\" onclick=\"convertToInteractive('df-694107f7-e313-4a93-b2a7-375e90bad046')\"\n",
              "              title=\"Convert this dataframe to an interactive table.\"\n",
              "              style=\"display:none;\">\n",
              "        \n",
              "  <svg xmlns=\"http://www.w3.org/2000/svg\" height=\"24px\"viewBox=\"0 0 24 24\"\n",
              "       width=\"24px\">\n",
              "    <path d=\"M0 0h24v24H0V0z\" fill=\"none\"/>\n",
              "    <path d=\"M18.56 5.44l.94 2.06.94-2.06 2.06-.94-2.06-.94-.94-2.06-.94 2.06-2.06.94zm-11 1L8.5 8.5l.94-2.06 2.06-.94-2.06-.94L8.5 2.5l-.94 2.06-2.06.94zm10 10l.94 2.06.94-2.06 2.06-.94-2.06-.94-.94-2.06-.94 2.06-2.06.94z\"/><path d=\"M17.41 7.96l-1.37-1.37c-.4-.4-.92-.59-1.43-.59-.52 0-1.04.2-1.43.59L10.3 9.45l-7.72 7.72c-.78.78-.78 2.05 0 2.83L4 21.41c.39.39.9.59 1.41.59.51 0 1.02-.2 1.41-.59l7.78-7.78 2.81-2.81c.8-.78.8-2.07 0-2.86zM5.41 20L4 18.59l7.72-7.72 1.47 1.35L5.41 20z\"/>\n",
              "  </svg>\n",
              "      </button>\n",
              "      \n",
              "  <style>\n",
              "    .colab-df-container {\n",
              "      display:flex;\n",
              "      flex-wrap:wrap;\n",
              "      gap: 12px;\n",
              "    }\n",
              "\n",
              "    .colab-df-convert {\n",
              "      background-color: #E8F0FE;\n",
              "      border: none;\n",
              "      border-radius: 50%;\n",
              "      cursor: pointer;\n",
              "      display: none;\n",
              "      fill: #1967D2;\n",
              "      height: 32px;\n",
              "      padding: 0 0 0 0;\n",
              "      width: 32px;\n",
              "    }\n",
              "\n",
              "    .colab-df-convert:hover {\n",
              "      background-color: #E2EBFA;\n",
              "      box-shadow: 0px 1px 2px rgba(60, 64, 67, 0.3), 0px 1px 3px 1px rgba(60, 64, 67, 0.15);\n",
              "      fill: #174EA6;\n",
              "    }\n",
              "\n",
              "    [theme=dark] .colab-df-convert {\n",
              "      background-color: #3B4455;\n",
              "      fill: #D2E3FC;\n",
              "    }\n",
              "\n",
              "    [theme=dark] .colab-df-convert:hover {\n",
              "      background-color: #434B5C;\n",
              "      box-shadow: 0px 1px 3px 1px rgba(0, 0, 0, 0.15);\n",
              "      filter: drop-shadow(0px 1px 2px rgba(0, 0, 0, 0.3));\n",
              "      fill: #FFFFFF;\n",
              "    }\n",
              "  </style>\n",
              "\n",
              "      <script>\n",
              "        const buttonEl =\n",
              "          document.querySelector('#df-694107f7-e313-4a93-b2a7-375e90bad046 button.colab-df-convert');\n",
              "        buttonEl.style.display =\n",
              "          google.colab.kernel.accessAllowed ? 'block' : 'none';\n",
              "\n",
              "        async function convertToInteractive(key) {\n",
              "          const element = document.querySelector('#df-694107f7-e313-4a93-b2a7-375e90bad046');\n",
              "          const dataTable =\n",
              "            await google.colab.kernel.invokeFunction('convertToInteractive',\n",
              "                                                     [key], {});\n",
              "          if (!dataTable) return;\n",
              "\n",
              "          const docLinkHtml = 'Like what you see? Visit the ' +\n",
              "            '<a target=\"_blank\" href=https://colab.research.google.com/notebooks/data_table.ipynb>data table notebook</a>'\n",
              "            + ' to learn more about interactive tables.';\n",
              "          element.innerHTML = '';\n",
              "          dataTable['output_type'] = 'display_data';\n",
              "          await google.colab.output.renderOutput(dataTable, element);\n",
              "          const docLink = document.createElement('div');\n",
              "          docLink.innerHTML = docLinkHtml;\n",
              "          element.appendChild(docLink);\n",
              "        }\n",
              "      </script>\n",
              "    </div>\n",
              "  </div>\n",
              "  "
            ]
          },
          "metadata": {},
          "execution_count": 3162
        }
      ]
    },
    {
      "cell_type": "code",
      "source": [
        "result_step2= pd.DataFrame(np.array(result_step2))"
      ],
      "metadata": {
        "id": "okySdbWqCxse"
      },
      "execution_count": 3163,
      "outputs": []
    },
    {
      "cell_type": "code",
      "source": [
        "result_step2"
      ],
      "metadata": {
        "colab": {
          "base_uri": "https://localhost:8080/",
          "height": 175
        },
        "id": "jeOI54wwvGN0",
        "outputId": "f7375ebf-2b7e-4c10-af47-915b8d5d6def"
      },
      "execution_count": 3164,
      "outputs": [
        {
          "output_type": "execute_result",
          "data": {
            "text/plain": [
              "   0  1\n",
              "0  0  0\n",
              "1  7  4\n",
              "2  4  0\n",
              "3  8  1"
            ],
            "text/html": [
              "\n",
              "  <div id=\"df-fb2b66b9-b702-41ca-a494-c0b7a29b11a7\">\n",
              "    <div class=\"colab-df-container\">\n",
              "      <div>\n",
              "<style scoped>\n",
              "    .dataframe tbody tr th:only-of-type {\n",
              "        vertical-align: middle;\n",
              "    }\n",
              "\n",
              "    .dataframe tbody tr th {\n",
              "        vertical-align: top;\n",
              "    }\n",
              "\n",
              "    .dataframe thead th {\n",
              "        text-align: right;\n",
              "    }\n",
              "</style>\n",
              "<table border=\"1\" class=\"dataframe\">\n",
              "  <thead>\n",
              "    <tr style=\"text-align: right;\">\n",
              "      <th></th>\n",
              "      <th>0</th>\n",
              "      <th>1</th>\n",
              "    </tr>\n",
              "  </thead>\n",
              "  <tbody>\n",
              "    <tr>\n",
              "      <th>0</th>\n",
              "      <td>0</td>\n",
              "      <td>0</td>\n",
              "    </tr>\n",
              "    <tr>\n",
              "      <th>1</th>\n",
              "      <td>7</td>\n",
              "      <td>4</td>\n",
              "    </tr>\n",
              "    <tr>\n",
              "      <th>2</th>\n",
              "      <td>4</td>\n",
              "      <td>0</td>\n",
              "    </tr>\n",
              "    <tr>\n",
              "      <th>3</th>\n",
              "      <td>8</td>\n",
              "      <td>1</td>\n",
              "    </tr>\n",
              "  </tbody>\n",
              "</table>\n",
              "</div>\n",
              "      <button class=\"colab-df-convert\" onclick=\"convertToInteractive('df-fb2b66b9-b702-41ca-a494-c0b7a29b11a7')\"\n",
              "              title=\"Convert this dataframe to an interactive table.\"\n",
              "              style=\"display:none;\">\n",
              "        \n",
              "  <svg xmlns=\"http://www.w3.org/2000/svg\" height=\"24px\"viewBox=\"0 0 24 24\"\n",
              "       width=\"24px\">\n",
              "    <path d=\"M0 0h24v24H0V0z\" fill=\"none\"/>\n",
              "    <path d=\"M18.56 5.44l.94 2.06.94-2.06 2.06-.94-2.06-.94-.94-2.06-.94 2.06-2.06.94zm-11 1L8.5 8.5l.94-2.06 2.06-.94-2.06-.94L8.5 2.5l-.94 2.06-2.06.94zm10 10l.94 2.06.94-2.06 2.06-.94-2.06-.94-.94-2.06-.94 2.06-2.06.94z\"/><path d=\"M17.41 7.96l-1.37-1.37c-.4-.4-.92-.59-1.43-.59-.52 0-1.04.2-1.43.59L10.3 9.45l-7.72 7.72c-.78.78-.78 2.05 0 2.83L4 21.41c.39.39.9.59 1.41.59.51 0 1.02-.2 1.41-.59l7.78-7.78 2.81-2.81c.8-.78.8-2.07 0-2.86zM5.41 20L4 18.59l7.72-7.72 1.47 1.35L5.41 20z\"/>\n",
              "  </svg>\n",
              "      </button>\n",
              "      \n",
              "  <style>\n",
              "    .colab-df-container {\n",
              "      display:flex;\n",
              "      flex-wrap:wrap;\n",
              "      gap: 12px;\n",
              "    }\n",
              "\n",
              "    .colab-df-convert {\n",
              "      background-color: #E8F0FE;\n",
              "      border: none;\n",
              "      border-radius: 50%;\n",
              "      cursor: pointer;\n",
              "      display: none;\n",
              "      fill: #1967D2;\n",
              "      height: 32px;\n",
              "      padding: 0 0 0 0;\n",
              "      width: 32px;\n",
              "    }\n",
              "\n",
              "    .colab-df-convert:hover {\n",
              "      background-color: #E2EBFA;\n",
              "      box-shadow: 0px 1px 2px rgba(60, 64, 67, 0.3), 0px 1px 3px 1px rgba(60, 64, 67, 0.15);\n",
              "      fill: #174EA6;\n",
              "    }\n",
              "\n",
              "    [theme=dark] .colab-df-convert {\n",
              "      background-color: #3B4455;\n",
              "      fill: #D2E3FC;\n",
              "    }\n",
              "\n",
              "    [theme=dark] .colab-df-convert:hover {\n",
              "      background-color: #434B5C;\n",
              "      box-shadow: 0px 1px 3px 1px rgba(0, 0, 0, 0.15);\n",
              "      filter: drop-shadow(0px 1px 2px rgba(0, 0, 0, 0.3));\n",
              "      fill: #FFFFFF;\n",
              "    }\n",
              "  </style>\n",
              "\n",
              "      <script>\n",
              "        const buttonEl =\n",
              "          document.querySelector('#df-fb2b66b9-b702-41ca-a494-c0b7a29b11a7 button.colab-df-convert');\n",
              "        buttonEl.style.display =\n",
              "          google.colab.kernel.accessAllowed ? 'block' : 'none';\n",
              "\n",
              "        async function convertToInteractive(key) {\n",
              "          const element = document.querySelector('#df-fb2b66b9-b702-41ca-a494-c0b7a29b11a7');\n",
              "          const dataTable =\n",
              "            await google.colab.kernel.invokeFunction('convertToInteractive',\n",
              "                                                     [key], {});\n",
              "          if (!dataTable) return;\n",
              "\n",
              "          const docLinkHtml = 'Like what you see? Visit the ' +\n",
              "            '<a target=\"_blank\" href=https://colab.research.google.com/notebooks/data_table.ipynb>data table notebook</a>'\n",
              "            + ' to learn more about interactive tables.';\n",
              "          element.innerHTML = '';\n",
              "          dataTable['output_type'] = 'display_data';\n",
              "          await google.colab.output.renderOutput(dataTable, element);\n",
              "          const docLink = document.createElement('div');\n",
              "          docLink.innerHTML = docLinkHtml;\n",
              "          element.appendChild(docLink);\n",
              "        }\n",
              "      </script>\n",
              "    </div>\n",
              "  </div>\n",
              "  "
            ]
          },
          "metadata": {},
          "execution_count": 3164
        }
      ]
    },
    {
      "cell_type": "code",
      "source": [
        "count_col = 0\n",
        "count_col_lst = []\n",
        "for i in range(len(result_step2.index)):\n",
        "  for j in range(len(result_step2.columns)):\n",
        "    if(int(result_step2.iloc[i][j]) == 0):\n",
        "      count_col += 1\n",
        "  globals()[\"Zero_cnt_col{}\".format(i)] = count_col\n",
        "  count_col_lst.append(int(count_col))\n",
        "  count_col = 0\n",
        "\n",
        "count_row = 0\n",
        "count_row_lst = []\n",
        "for i in range(len(result_step2.columns)):\n",
        "  for j in range(len(result_step2.index)):\n",
        "    if(int(result_step2.iloc[j][i]) == 0):\n",
        "      count_row += 1\n",
        "\n",
        "  globals()[\"Zero_cnt_row{}\".format(i)] = count_row\n",
        "  count_row_lst.append(int(count_row))\n",
        "  count_row = 0\n"
      ],
      "metadata": {
        "id": "egMZ1d1XvYI7"
      },
      "execution_count": 3165,
      "outputs": []
    },
    {
      "cell_type": "code",
      "source": [
        "row_zero_index = [i for i, value in enumerate(count_row_lst) if value == np.max(count_row_lst)]\n",
        "col_zero_index = [i for i, value in enumerate(count_col_lst) if value == np.max(count_col_lst)]\n",
        "\n",
        "choice = []\n",
        "choice.append(int(np.max(count_row_lst)))\n",
        "choice.append(int(np.max(count_col_lst)))\n",
        "choice = int(np.argmax(choice))\n",
        "np.max(count_row_lst),np.max(count_col_lst), choice"
      ],
      "metadata": {
        "colab": {
          "base_uri": "https://localhost:8080/"
        },
        "id": "YrRH2iUqvZbh",
        "outputId": "a4197f61-f33f-41b2-caa8-78dc39d8e4c2"
      },
      "execution_count": 3166,
      "outputs": [
        {
          "output_type": "execute_result",
          "data": {
            "text/plain": [
              "(2, 2, 0)"
            ]
          },
          "metadata": {},
          "execution_count": 3166
        }
      ]
    },
    {
      "cell_type": "code",
      "source": [
        "count_row_lst, count_col_lst "
      ],
      "metadata": {
        "colab": {
          "base_uri": "https://localhost:8080/"
        },
        "id": "uyZPbrazvbn7",
        "outputId": "cee24df1-6f4f-41df-8041-cbe544b82519"
      },
      "execution_count": 3167,
      "outputs": [
        {
          "output_type": "execute_result",
          "data": {
            "text/plain": [
              "([1, 2], [2, 0, 1, 0])"
            ]
          },
          "metadata": {},
          "execution_count": 3167
        }
      ]
    },
    {
      "cell_type": "code",
      "source": [
        "choice"
      ],
      "metadata": {
        "colab": {
          "base_uri": "https://localhost:8080/"
        },
        "id": "9UZN1oACvcoN",
        "outputId": "c315f726-ae2d-48c1-c1b0-e5dbbdde6564"
      },
      "execution_count": 3168,
      "outputs": [
        {
          "output_type": "execute_result",
          "data": {
            "text/plain": [
              "0"
            ]
          },
          "metadata": {},
          "execution_count": 3168
        }
      ]
    },
    {
      "cell_type": "code",
      "source": [
        "if(choice == 0):\n",
        "  result_step3 = result_step2.drop(row_zero_index[0], axis='columns')\n",
        "else:\n",
        "  result_step3 = result_step2.drop(columns=col_zero_index[0])\n"
      ],
      "metadata": {
        "id": "RNyK-V-rvdy7"
      },
      "execution_count": 3169,
      "outputs": []
    },
    {
      "cell_type": "code",
      "source": [
        "result_step3"
      ],
      "metadata": {
        "colab": {
          "base_uri": "https://localhost:8080/",
          "height": 175
        },
        "id": "MBlSGFuqvfNF",
        "outputId": "12c36ada-9b1b-4e28-df6f-b987ef4e9994"
      },
      "execution_count": 3170,
      "outputs": [
        {
          "output_type": "execute_result",
          "data": {
            "text/plain": [
              "   0\n",
              "0  0\n",
              "1  7\n",
              "2  4\n",
              "3  8"
            ],
            "text/html": [
              "\n",
              "  <div id=\"df-7e1378fe-eee7-4dfa-9147-1a4c4feaf388\">\n",
              "    <div class=\"colab-df-container\">\n",
              "      <div>\n",
              "<style scoped>\n",
              "    .dataframe tbody tr th:only-of-type {\n",
              "        vertical-align: middle;\n",
              "    }\n",
              "\n",
              "    .dataframe tbody tr th {\n",
              "        vertical-align: top;\n",
              "    }\n",
              "\n",
              "    .dataframe thead th {\n",
              "        text-align: right;\n",
              "    }\n",
              "</style>\n",
              "<table border=\"1\" class=\"dataframe\">\n",
              "  <thead>\n",
              "    <tr style=\"text-align: right;\">\n",
              "      <th></th>\n",
              "      <th>0</th>\n",
              "    </tr>\n",
              "  </thead>\n",
              "  <tbody>\n",
              "    <tr>\n",
              "      <th>0</th>\n",
              "      <td>0</td>\n",
              "    </tr>\n",
              "    <tr>\n",
              "      <th>1</th>\n",
              "      <td>7</td>\n",
              "    </tr>\n",
              "    <tr>\n",
              "      <th>2</th>\n",
              "      <td>4</td>\n",
              "    </tr>\n",
              "    <tr>\n",
              "      <th>3</th>\n",
              "      <td>8</td>\n",
              "    </tr>\n",
              "  </tbody>\n",
              "</table>\n",
              "</div>\n",
              "      <button class=\"colab-df-convert\" onclick=\"convertToInteractive('df-7e1378fe-eee7-4dfa-9147-1a4c4feaf388')\"\n",
              "              title=\"Convert this dataframe to an interactive table.\"\n",
              "              style=\"display:none;\">\n",
              "        \n",
              "  <svg xmlns=\"http://www.w3.org/2000/svg\" height=\"24px\"viewBox=\"0 0 24 24\"\n",
              "       width=\"24px\">\n",
              "    <path d=\"M0 0h24v24H0V0z\" fill=\"none\"/>\n",
              "    <path d=\"M18.56 5.44l.94 2.06.94-2.06 2.06-.94-2.06-.94-.94-2.06-.94 2.06-2.06.94zm-11 1L8.5 8.5l.94-2.06 2.06-.94-2.06-.94L8.5 2.5l-.94 2.06-2.06.94zm10 10l.94 2.06.94-2.06 2.06-.94-2.06-.94-.94-2.06-.94 2.06-2.06.94z\"/><path d=\"M17.41 7.96l-1.37-1.37c-.4-.4-.92-.59-1.43-.59-.52 0-1.04.2-1.43.59L10.3 9.45l-7.72 7.72c-.78.78-.78 2.05 0 2.83L4 21.41c.39.39.9.59 1.41.59.51 0 1.02-.2 1.41-.59l7.78-7.78 2.81-2.81c.8-.78.8-2.07 0-2.86zM5.41 20L4 18.59l7.72-7.72 1.47 1.35L5.41 20z\"/>\n",
              "  </svg>\n",
              "      </button>\n",
              "      \n",
              "  <style>\n",
              "    .colab-df-container {\n",
              "      display:flex;\n",
              "      flex-wrap:wrap;\n",
              "      gap: 12px;\n",
              "    }\n",
              "\n",
              "    .colab-df-convert {\n",
              "      background-color: #E8F0FE;\n",
              "      border: none;\n",
              "      border-radius: 50%;\n",
              "      cursor: pointer;\n",
              "      display: none;\n",
              "      fill: #1967D2;\n",
              "      height: 32px;\n",
              "      padding: 0 0 0 0;\n",
              "      width: 32px;\n",
              "    }\n",
              "\n",
              "    .colab-df-convert:hover {\n",
              "      background-color: #E2EBFA;\n",
              "      box-shadow: 0px 1px 2px rgba(60, 64, 67, 0.3), 0px 1px 3px 1px rgba(60, 64, 67, 0.15);\n",
              "      fill: #174EA6;\n",
              "    }\n",
              "\n",
              "    [theme=dark] .colab-df-convert {\n",
              "      background-color: #3B4455;\n",
              "      fill: #D2E3FC;\n",
              "    }\n",
              "\n",
              "    [theme=dark] .colab-df-convert:hover {\n",
              "      background-color: #434B5C;\n",
              "      box-shadow: 0px 1px 3px 1px rgba(0, 0, 0, 0.15);\n",
              "      filter: drop-shadow(0px 1px 2px rgba(0, 0, 0, 0.3));\n",
              "      fill: #FFFFFF;\n",
              "    }\n",
              "  </style>\n",
              "\n",
              "      <script>\n",
              "        const buttonEl =\n",
              "          document.querySelector('#df-7e1378fe-eee7-4dfa-9147-1a4c4feaf388 button.colab-df-convert');\n",
              "        buttonEl.style.display =\n",
              "          google.colab.kernel.accessAllowed ? 'block' : 'none';\n",
              "\n",
              "        async function convertToInteractive(key) {\n",
              "          const element = document.querySelector('#df-7e1378fe-eee7-4dfa-9147-1a4c4feaf388');\n",
              "          const dataTable =\n",
              "            await google.colab.kernel.invokeFunction('convertToInteractive',\n",
              "                                                     [key], {});\n",
              "          if (!dataTable) return;\n",
              "\n",
              "          const docLinkHtml = 'Like what you see? Visit the ' +\n",
              "            '<a target=\"_blank\" href=https://colab.research.google.com/notebooks/data_table.ipynb>data table notebook</a>'\n",
              "            + ' to learn more about interactive tables.';\n",
              "          element.innerHTML = '';\n",
              "          dataTable['output_type'] = 'display_data';\n",
              "          await google.colab.output.renderOutput(dataTable, element);\n",
              "          const docLink = document.createElement('div');\n",
              "          docLink.innerHTML = docLinkHtml;\n",
              "          element.appendChild(docLink);\n",
              "        }\n",
              "      </script>\n",
              "    </div>\n",
              "  </div>\n",
              "  "
            ]
          },
          "metadata": {},
          "execution_count": 3170
        }
      ]
    },
    {
      "cell_type": "markdown",
      "source": [
        "## 3"
      ],
      "metadata": {
        "id": "_0tD-ROtvz-O"
      }
    },
    {
      "cell_type": "code",
      "source": [
        "count_col = 0\n",
        "count_col_lst = []\n",
        "for i in range(len(result_step3.index)):\n",
        "  for j in range(len(result_step3.columns)):\n",
        "    if(int(result_step3.iloc[i][j]) == 0):\n",
        "      count_col += 1\n",
        "  globals()[\"Zero_cnt_col{}\".format(i)] = count_col\n",
        "  count_col_lst.append(int(count_col))\n",
        "  count_col = 0\n",
        "\n",
        "count_row = 0\n",
        "count_row_lst = []\n",
        "for i in range(len(result_step3.columns)):\n",
        "  for j in range(len(result_step3.index)):\n",
        "    if(int(result_step3.iloc[j][i]) == 0):\n",
        "      count_row += 1\n",
        "\n",
        "  globals()[\"Zero_cnt_row{}\".format(i)] = count_row\n",
        "  count_row_lst.append(int(count_row))\n",
        "  count_row = 0\n"
      ],
      "metadata": {
        "id": "_Oq7VMgqvzja"
      },
      "execution_count": 3171,
      "outputs": []
    },
    {
      "cell_type": "code",
      "source": [
        "row_zero_index = [i for i, value in enumerate(count_row_lst) if value == np.max(count_row_lst)]\n",
        "col_zero_index = [i for i, value in enumerate(count_col_lst) if value == np.max(count_col_lst)]\n",
        "\n",
        "choice = []\n",
        "choice.append(int(np.max(count_row_lst)))\n",
        "choice.append(int(np.max(count_col_lst)))\n",
        "choice = int(np.argmax(choice))\n",
        "np.max(count_row_lst),np.max(count_col_lst), choice"
      ],
      "metadata": {
        "colab": {
          "base_uri": "https://localhost:8080/"
        },
        "id": "jb6UsJMKv37S",
        "outputId": "adc01b5b-dd6e-4910-9be5-7964e8fcefbe"
      },
      "execution_count": 3172,
      "outputs": [
        {
          "output_type": "execute_result",
          "data": {
            "text/plain": [
              "(1, 1, 0)"
            ]
          },
          "metadata": {},
          "execution_count": 3172
        }
      ]
    },
    {
      "cell_type": "code",
      "source": [
        "count_row_lst, count_col_lst "
      ],
      "metadata": {
        "colab": {
          "base_uri": "https://localhost:8080/"
        },
        "id": "DKP2mzrVv5A6",
        "outputId": "83b66665-35b7-4af1-c366-8b1bba8c59e5"
      },
      "execution_count": 3173,
      "outputs": [
        {
          "output_type": "execute_result",
          "data": {
            "text/plain": [
              "([1], [1, 0, 0, 0])"
            ]
          },
          "metadata": {},
          "execution_count": 3173
        }
      ]
    },
    {
      "cell_type": "code",
      "source": [
        "choice"
      ],
      "metadata": {
        "colab": {
          "base_uri": "https://localhost:8080/"
        },
        "id": "6Wj0Nhzjv56M",
        "outputId": "4b4a1ca0-0091-4ea2-e02a-8166e78df9f9"
      },
      "execution_count": 3174,
      "outputs": [
        {
          "output_type": "execute_result",
          "data": {
            "text/plain": [
              "0"
            ]
          },
          "metadata": {},
          "execution_count": 3174
        }
      ]
    },
    {
      "cell_type": "code",
      "source": [
        "if(choice == 0):\n",
        "  result_step4 = result_step3.drop(row_zero_index[0], axis='columns')\n",
        "else:\n",
        "  result_step4 = result_step3.drop(columns=col_zero_index[0])\n"
      ],
      "metadata": {
        "id": "j8_JqgQNv6yX"
      },
      "execution_count": 3175,
      "outputs": []
    },
    {
      "cell_type": "code",
      "source": [
        "result_step4"
      ],
      "metadata": {
        "colab": {
          "base_uri": "https://localhost:8080/",
          "height": 157
        },
        "id": "BpNxWXxDwQS3",
        "outputId": "675fd13e-81f6-4371-d80a-68fd63d7a817"
      },
      "execution_count": 3176,
      "outputs": [
        {
          "output_type": "execute_result",
          "data": {
            "text/plain": [
              "Empty DataFrame\n",
              "Columns: []\n",
              "Index: [0, 1, 2, 3]"
            ],
            "text/html": [
              "\n",
              "  <div id=\"df-5aab6e5d-c454-480e-84c1-3e0d99b41d0c\">\n",
              "    <div class=\"colab-df-container\">\n",
              "      <div>\n",
              "<style scoped>\n",
              "    .dataframe tbody tr th:only-of-type {\n",
              "        vertical-align: middle;\n",
              "    }\n",
              "\n",
              "    .dataframe tbody tr th {\n",
              "        vertical-align: top;\n",
              "    }\n",
              "\n",
              "    .dataframe thead th {\n",
              "        text-align: right;\n",
              "    }\n",
              "</style>\n",
              "<table border=\"1\" class=\"dataframe\">\n",
              "  <thead>\n",
              "    <tr style=\"text-align: right;\">\n",
              "      <th></th>\n",
              "    </tr>\n",
              "  </thead>\n",
              "  <tbody>\n",
              "    <tr>\n",
              "      <th>0</th>\n",
              "    </tr>\n",
              "    <tr>\n",
              "      <th>1</th>\n",
              "    </tr>\n",
              "    <tr>\n",
              "      <th>2</th>\n",
              "    </tr>\n",
              "    <tr>\n",
              "      <th>3</th>\n",
              "    </tr>\n",
              "  </tbody>\n",
              "</table>\n",
              "</div>\n",
              "      <button class=\"colab-df-convert\" onclick=\"convertToInteractive('df-5aab6e5d-c454-480e-84c1-3e0d99b41d0c')\"\n",
              "              title=\"Convert this dataframe to an interactive table.\"\n",
              "              style=\"display:none;\">\n",
              "        \n",
              "  <svg xmlns=\"http://www.w3.org/2000/svg\" height=\"24px\"viewBox=\"0 0 24 24\"\n",
              "       width=\"24px\">\n",
              "    <path d=\"M0 0h24v24H0V0z\" fill=\"none\"/>\n",
              "    <path d=\"M18.56 5.44l.94 2.06.94-2.06 2.06-.94-2.06-.94-.94-2.06-.94 2.06-2.06.94zm-11 1L8.5 8.5l.94-2.06 2.06-.94-2.06-.94L8.5 2.5l-.94 2.06-2.06.94zm10 10l.94 2.06.94-2.06 2.06-.94-2.06-.94-.94-2.06-.94 2.06-2.06.94z\"/><path d=\"M17.41 7.96l-1.37-1.37c-.4-.4-.92-.59-1.43-.59-.52 0-1.04.2-1.43.59L10.3 9.45l-7.72 7.72c-.78.78-.78 2.05 0 2.83L4 21.41c.39.39.9.59 1.41.59.51 0 1.02-.2 1.41-.59l7.78-7.78 2.81-2.81c.8-.78.8-2.07 0-2.86zM5.41 20L4 18.59l7.72-7.72 1.47 1.35L5.41 20z\"/>\n",
              "  </svg>\n",
              "      </button>\n",
              "      \n",
              "  <style>\n",
              "    .colab-df-container {\n",
              "      display:flex;\n",
              "      flex-wrap:wrap;\n",
              "      gap: 12px;\n",
              "    }\n",
              "\n",
              "    .colab-df-convert {\n",
              "      background-color: #E8F0FE;\n",
              "      border: none;\n",
              "      border-radius: 50%;\n",
              "      cursor: pointer;\n",
              "      display: none;\n",
              "      fill: #1967D2;\n",
              "      height: 32px;\n",
              "      padding: 0 0 0 0;\n",
              "      width: 32px;\n",
              "    }\n",
              "\n",
              "    .colab-df-convert:hover {\n",
              "      background-color: #E2EBFA;\n",
              "      box-shadow: 0px 1px 2px rgba(60, 64, 67, 0.3), 0px 1px 3px 1px rgba(60, 64, 67, 0.15);\n",
              "      fill: #174EA6;\n",
              "    }\n",
              "\n",
              "    [theme=dark] .colab-df-convert {\n",
              "      background-color: #3B4455;\n",
              "      fill: #D2E3FC;\n",
              "    }\n",
              "\n",
              "    [theme=dark] .colab-df-convert:hover {\n",
              "      background-color: #434B5C;\n",
              "      box-shadow: 0px 1px 3px 1px rgba(0, 0, 0, 0.15);\n",
              "      filter: drop-shadow(0px 1px 2px rgba(0, 0, 0, 0.3));\n",
              "      fill: #FFFFFF;\n",
              "    }\n",
              "  </style>\n",
              "\n",
              "      <script>\n",
              "        const buttonEl =\n",
              "          document.querySelector('#df-5aab6e5d-c454-480e-84c1-3e0d99b41d0c button.colab-df-convert');\n",
              "        buttonEl.style.display =\n",
              "          google.colab.kernel.accessAllowed ? 'block' : 'none';\n",
              "\n",
              "        async function convertToInteractive(key) {\n",
              "          const element = document.querySelector('#df-5aab6e5d-c454-480e-84c1-3e0d99b41d0c');\n",
              "          const dataTable =\n",
              "            await google.colab.kernel.invokeFunction('convertToInteractive',\n",
              "                                                     [key], {});\n",
              "          if (!dataTable) return;\n",
              "\n",
              "          const docLinkHtml = 'Like what you see? Visit the ' +\n",
              "            '<a target=\"_blank\" href=https://colab.research.google.com/notebooks/data_table.ipynb>data table notebook</a>'\n",
              "            + ' to learn more about interactive tables.';\n",
              "          element.innerHTML = '';\n",
              "          dataTable['output_type'] = 'display_data';\n",
              "          await google.colab.output.renderOutput(dataTable, element);\n",
              "          const docLink = document.createElement('div');\n",
              "          docLink.innerHTML = docLinkHtml;\n",
              "          element.appendChild(docLink);\n",
              "        }\n",
              "      </script>\n",
              "    </div>\n",
              "  </div>\n",
              "  "
            ]
          },
          "metadata": {},
          "execution_count": 3176
        }
      ]
    },
    {
      "cell_type": "markdown",
      "source": [
        "# V2"
      ],
      "metadata": {
        "id": "QHIl8LR5w8G9"
      }
    },
    {
      "cell_type": "code",
      "source": [
        "pre_Data1 = pd.DataFrame()\n",
        "pre_Data1 = pre_Data.copy()\n",
        "del_row_lst = [] # 삭제한 행 목록\n",
        "del_col_lst = [] # 삭제한 열 목록\n",
        "row_cnt = 0 # 행에서 0의 갯수\n",
        "col_cnt = 0 # 열에서 0의 갯수\n",
        "cnt = 0 # For 루프 시행 횟수"
      ],
      "metadata": {
        "id": "v4kdDf_2M3rm"
      },
      "execution_count": 3177,
      "outputs": []
    },
    {
      "cell_type": "code",
      "source": [
        "pre_Data1"
      ],
      "metadata": {
        "colab": {
          "base_uri": "https://localhost:8080/",
          "height": 175
        },
        "id": "NSfiYN318oFy",
        "outputId": "208ab3ff-b146-44cb-e563-f7f2377f1f0f"
      },
      "execution_count": 3178,
      "outputs": [
        {
          "output_type": "execute_result",
          "data": {
            "text/plain": [
              "   0  1  2  3\n",
              "0  7  0  0  0\n",
              "1  1  0  7  4\n",
              "2  0  0  4  0\n",
              "3  0  3  8  1"
            ],
            "text/html": [
              "\n",
              "  <div id=\"df-955453a6-d9d6-4a56-b6fd-da81880d3da6\">\n",
              "    <div class=\"colab-df-container\">\n",
              "      <div>\n",
              "<style scoped>\n",
              "    .dataframe tbody tr th:only-of-type {\n",
              "        vertical-align: middle;\n",
              "    }\n",
              "\n",
              "    .dataframe tbody tr th {\n",
              "        vertical-align: top;\n",
              "    }\n",
              "\n",
              "    .dataframe thead th {\n",
              "        text-align: right;\n",
              "    }\n",
              "</style>\n",
              "<table border=\"1\" class=\"dataframe\">\n",
              "  <thead>\n",
              "    <tr style=\"text-align: right;\">\n",
              "      <th></th>\n",
              "      <th>0</th>\n",
              "      <th>1</th>\n",
              "      <th>2</th>\n",
              "      <th>3</th>\n",
              "    </tr>\n",
              "  </thead>\n",
              "  <tbody>\n",
              "    <tr>\n",
              "      <th>0</th>\n",
              "      <td>7</td>\n",
              "      <td>0</td>\n",
              "      <td>0</td>\n",
              "      <td>0</td>\n",
              "    </tr>\n",
              "    <tr>\n",
              "      <th>1</th>\n",
              "      <td>1</td>\n",
              "      <td>0</td>\n",
              "      <td>7</td>\n",
              "      <td>4</td>\n",
              "    </tr>\n",
              "    <tr>\n",
              "      <th>2</th>\n",
              "      <td>0</td>\n",
              "      <td>0</td>\n",
              "      <td>4</td>\n",
              "      <td>0</td>\n",
              "    </tr>\n",
              "    <tr>\n",
              "      <th>3</th>\n",
              "      <td>0</td>\n",
              "      <td>3</td>\n",
              "      <td>8</td>\n",
              "      <td>1</td>\n",
              "    </tr>\n",
              "  </tbody>\n",
              "</table>\n",
              "</div>\n",
              "      <button class=\"colab-df-convert\" onclick=\"convertToInteractive('df-955453a6-d9d6-4a56-b6fd-da81880d3da6')\"\n",
              "              title=\"Convert this dataframe to an interactive table.\"\n",
              "              style=\"display:none;\">\n",
              "        \n",
              "  <svg xmlns=\"http://www.w3.org/2000/svg\" height=\"24px\"viewBox=\"0 0 24 24\"\n",
              "       width=\"24px\">\n",
              "    <path d=\"M0 0h24v24H0V0z\" fill=\"none\"/>\n",
              "    <path d=\"M18.56 5.44l.94 2.06.94-2.06 2.06-.94-2.06-.94-.94-2.06-.94 2.06-2.06.94zm-11 1L8.5 8.5l.94-2.06 2.06-.94-2.06-.94L8.5 2.5l-.94 2.06-2.06.94zm10 10l.94 2.06.94-2.06 2.06-.94-2.06-.94-.94-2.06-.94 2.06-2.06.94z\"/><path d=\"M17.41 7.96l-1.37-1.37c-.4-.4-.92-.59-1.43-.59-.52 0-1.04.2-1.43.59L10.3 9.45l-7.72 7.72c-.78.78-.78 2.05 0 2.83L4 21.41c.39.39.9.59 1.41.59.51 0 1.02-.2 1.41-.59l7.78-7.78 2.81-2.81c.8-.78.8-2.07 0-2.86zM5.41 20L4 18.59l7.72-7.72 1.47 1.35L5.41 20z\"/>\n",
              "  </svg>\n",
              "      </button>\n",
              "      \n",
              "  <style>\n",
              "    .colab-df-container {\n",
              "      display:flex;\n",
              "      flex-wrap:wrap;\n",
              "      gap: 12px;\n",
              "    }\n",
              "\n",
              "    .colab-df-convert {\n",
              "      background-color: #E8F0FE;\n",
              "      border: none;\n",
              "      border-radius: 50%;\n",
              "      cursor: pointer;\n",
              "      display: none;\n",
              "      fill: #1967D2;\n",
              "      height: 32px;\n",
              "      padding: 0 0 0 0;\n",
              "      width: 32px;\n",
              "    }\n",
              "\n",
              "    .colab-df-convert:hover {\n",
              "      background-color: #E2EBFA;\n",
              "      box-shadow: 0px 1px 2px rgba(60, 64, 67, 0.3), 0px 1px 3px 1px rgba(60, 64, 67, 0.15);\n",
              "      fill: #174EA6;\n",
              "    }\n",
              "\n",
              "    [theme=dark] .colab-df-convert {\n",
              "      background-color: #3B4455;\n",
              "      fill: #D2E3FC;\n",
              "    }\n",
              "\n",
              "    [theme=dark] .colab-df-convert:hover {\n",
              "      background-color: #434B5C;\n",
              "      box-shadow: 0px 1px 3px 1px rgba(0, 0, 0, 0.15);\n",
              "      filter: drop-shadow(0px 1px 2px rgba(0, 0, 0, 0.3));\n",
              "      fill: #FFFFFF;\n",
              "    }\n",
              "  </style>\n",
              "\n",
              "      <script>\n",
              "        const buttonEl =\n",
              "          document.querySelector('#df-955453a6-d9d6-4a56-b6fd-da81880d3da6 button.colab-df-convert');\n",
              "        buttonEl.style.display =\n",
              "          google.colab.kernel.accessAllowed ? 'block' : 'none';\n",
              "\n",
              "        async function convertToInteractive(key) {\n",
              "          const element = document.querySelector('#df-955453a6-d9d6-4a56-b6fd-da81880d3da6');\n",
              "          const dataTable =\n",
              "            await google.colab.kernel.invokeFunction('convertToInteractive',\n",
              "                                                     [key], {});\n",
              "          if (!dataTable) return;\n",
              "\n",
              "          const docLinkHtml = 'Like what you see? Visit the ' +\n",
              "            '<a target=\"_blank\" href=https://colab.research.google.com/notebooks/data_table.ipynb>data table notebook</a>'\n",
              "            + ' to learn more about interactive tables.';\n",
              "          element.innerHTML = '';\n",
              "          dataTable['output_type'] = 'display_data';\n",
              "          await google.colab.output.renderOutput(dataTable, element);\n",
              "          const docLink = document.createElement('div');\n",
              "          docLink.innerHTML = docLinkHtml;\n",
              "          element.appendChild(docLink);\n",
              "        }\n",
              "      </script>\n",
              "    </div>\n",
              "  </div>\n",
              "  "
            ]
          },
          "metadata": {},
          "execution_count": 3178
        }
      ]
    },
    {
      "cell_type": "code",
      "source": [
        "pre_Data1.iloc[1][0] #행,열"
      ],
      "metadata": {
        "colab": {
          "base_uri": "https://localhost:8080/"
        },
        "id": "UbkDaFI98jKO",
        "outputId": "d2995596-71ca-45fd-a61e-49783cb06f6b"
      },
      "execution_count": 3179,
      "outputs": [
        {
          "output_type": "execute_result",
          "data": {
            "text/plain": [
              "1"
            ]
          },
          "metadata": {},
          "execution_count": 3179
        }
      ]
    },
    {
      "cell_type": "code",
      "source": [
        "len(pre_Data1.columns)"
      ],
      "metadata": {
        "colab": {
          "base_uri": "https://localhost:8080/"
        },
        "id": "ngmXPWlw9HUu",
        "outputId": "b6561204-b639-4fc8-ce08-ca4c525c608d"
      },
      "execution_count": 3180,
      "outputs": [
        {
          "output_type": "execute_result",
          "data": {
            "text/plain": [
              "4"
            ]
          },
          "metadata": {},
          "execution_count": 3180
        }
      ]
    },
    {
      "cell_type": "code",
      "source": [
        "# try: # n번의 시행중 시행횟수가 일치하지 않을 시 오류취급 for 루프 중단\n",
        "for d in range(n): # n matrix의 경우 n번 시행\n",
        "  print(\"---------------{}번째 시행---------------\".format(d))\n",
        "\n",
        "  #ㅡㅡㅡㅡㅡㅡㅡㅡㅡㅡㅡㅡㅡㅡㅡㅡㅡㅡㅡㅡㅡㅡㅡㅡㅡㅡㅡㅡㅡㅡㅡㅡㅡㅡㅡㅡㅡㅡㅡㅡㅡㅡㅡㅡㅡㅡㅡㅡㅡㅡㅡㅡㅡㅡㅡㅡㅡ\n",
        "  count_col = 0\n",
        "  count_col_lst = []\n",
        "  for i in range(len(pre_Data1.columns)):\n",
        "    for j in range(len(pre_Data1.index)):\n",
        "      if(pre_Data1.iloc[j][i] == 0):\n",
        "        count_col += 1\n",
        "\n",
        "    count_col_lst.append(int(count_col))\n",
        "    print('col의 0의 수 : {}'.format(count_col_lst))\n",
        "    count_col = 0\n",
        "  #ㅡㅡㅡㅡㅡㅡㅡㅡㅡㅡㅡㅡㅡㅡㅡㅡㅡㅡㅡㅡㅡㅡㅡㅡㅡㅡㅡㅡㅡㅡㅡㅡㅡㅡㅡㅡㅡㅡㅡㅡㅡㅡㅡㅡㅡㅡㅡㅡㅡㅡㅡㅡㅡㅡㅡㅡㅡ\n",
        "  count_row = 0 # col의 index별 0의갯수 초기화\n",
        "  count_row_lst = [] # 열 별 0의 갯수 저장\n",
        "  for i in range(len(pre_Data1.index)):\n",
        "    for j in range(len(pre_Data1.columns)): # 열과 행의 갯수 만큼 for 문 실행 (삭제하며 찾기 때문에 n이 아닌 len루프)\n",
        "      if(pre_Data1.iloc[i][j] == 0): \n",
        "        count_row += 1\n",
        "\n",
        "    count_row_lst.append(int(count_row))\n",
        "    print('row의 0의 수 : {}'.format(count_row_lst))\n",
        "    count_row = 0\n",
        "\n",
        "\n",
        "  #ㅡㅡㅡㅡㅡㅡㅡㅡㅡㅡㅡㅡㅡㅡㅡㅡㅡㅡㅡㅡㅡㅡㅡㅡㅡㅡㅡㅡㅡㅡㅡㅡㅡㅡㅡㅡㅡㅡㅡㅡㅡㅡㅡㅡㅡㅡㅡㅡㅡㅡㅡㅡㅡㅡㅡㅡㅡ\n",
        "\n",
        "  \n",
        "  # Zero 개수의 최대값 index를 저장하는 리스트\n",
        "  col_zero_index = [i for i, value in enumerate(count_col_lst) if value == np.max(count_col_lst)]\n",
        "  row_zero_index = [i for i, value in enumerate(count_row_lst) if value == np.max(count_row_lst)]\n",
        "\n",
        "  #ㅡㅡㅡㅡㅡㅡㅡㅡㅡㅡㅡㅡㅡㅡㅡㅡㅡㅡㅡㅡㅡㅡㅡㅡㅡㅡㅡㅡㅡㅡㅡㅡㅡㅡㅡㅡㅡㅡㅡㅡㅡㅡㅡㅡㅡㅡㅡㅡㅡㅡㅡㅡㅡㅡㅡㅡㅡ\n",
        "  # 행을 삭제할지 열을 삭제할지 결정\n",
        "  choice = []\n",
        "  choice.append(int(np.max(count_col_lst)))\n",
        "  choice.append(int(np.max(count_row_lst)))\n",
        "  print(choice)\n",
        "  choice = int(np.argmax(choice)) # 같은 숫자일 경우 행을 삭제\n",
        "  print('col의 0의 수 Max값 : {}'.format(np.max(count_col_lst)))\n",
        "  print('row의 0의 수 Max값 : {}'.format(np.max(count_row_lst)))\n",
        "  print('col의 0의 수 Max값 index : {}'.format(np.max(col_zero_index)))\n",
        "  print('row의 0의 수 Max값 index : {}'.format(np.max(row_zero_index)))\n",
        "  \n",
        "  print(pre_Data1)\n",
        "\n",
        "\n",
        "  if(choice == 0): #어떤 행 Or 열을 커버하는지 Print하기 위한 \n",
        "    choice_str = \"열\"\n",
        "  else:\n",
        "    choice_str = \"행\"\n",
        "  print('커버 할 행 또는 열 선택 : {0}'.format(choice_str))  # 단순 출력\n",
        "\n",
        "  if(choice == 0): # 행을 선택한 경우 삭제\n",
        "    del_col_lst.append(col_zero_index[0])\n",
        "    pre_Data1 = pre_Data1.drop(columns=col_zero_index[0])\n",
        "  else: #열을 선택한 경우\n",
        "    del_row_lst.append(row_zero_index[0])\n",
        "    pre_Data1 = pre_Data1.drop(row_zero_index[0], axis='columns')\n",
        "\n",
        "  pre_Data1= pd.DataFrame(np.array(pre_Data1)) #DataFrame형태로 재변환 (1열을 삭제할 경우 index가 0 2 3 으로 처리 --> for문에서 오류발생)\n",
        "  cnt += 1\n",
        "\n",
        "\n",
        "\n",
        "\n",
        "\n",
        "if(cnt != 4): # 커버하는 선의 수가 4개 이하인 경우 아래 셀 추가 실행\n",
        "  print(\"아래 항목을 실행하세요\")\n",
        "# except:\n",
        "#   print(\"Error\")"
      ],
      "metadata": {
        "id": "b0LIOVLK3_89",
        "outputId": "f59f23d7-7f61-43a3-9591-7609ef8a5c29",
        "colab": {
          "base_uri": "https://localhost:8080/"
        }
      },
      "execution_count": 3181,
      "outputs": [
        {
          "output_type": "stream",
          "name": "stdout",
          "text": [
            "---------------0번째 시행---------------\n",
            "col의 0의 수 : [2]\n",
            "col의 0의 수 : [2, 3]\n",
            "col의 0의 수 : [2, 3, 1]\n",
            "col의 0의 수 : [2, 3, 1, 2]\n",
            "row의 0의 수 : [3]\n",
            "row의 0의 수 : [3, 1]\n",
            "row의 0의 수 : [3, 1, 3]\n",
            "row의 0의 수 : [3, 1, 3, 1]\n",
            "[3, 3]\n",
            "col의 0의 수 Max값 : 3\n",
            "row의 0의 수 Max값 : 3\n",
            "col의 0의 수 Max값 index : 1\n",
            "row의 0의 수 Max값 index : 2\n",
            "   0  1  2  3\n",
            "0  7  0  0  0\n",
            "1  1  0  7  4\n",
            "2  0  0  4  0\n",
            "3  0  3  8  1\n",
            "커버 할 행 또는 열 선택 : 열\n",
            "---------------1번째 시행---------------\n",
            "col의 0의 수 : [2]\n",
            "col의 0의 수 : [2, 1]\n",
            "col의 0의 수 : [2, 1, 2]\n",
            "row의 0의 수 : [2]\n",
            "row의 0의 수 : [2, 0]\n",
            "row의 0의 수 : [2, 0, 2]\n",
            "row의 0의 수 : [2, 0, 2, 1]\n",
            "[2, 2]\n",
            "col의 0의 수 Max값 : 2\n",
            "row의 0의 수 Max값 : 2\n",
            "col의 0의 수 Max값 index : 2\n",
            "row의 0의 수 Max값 index : 2\n",
            "   0  1  2\n",
            "0  7  0  0\n",
            "1  1  7  4\n",
            "2  0  4  0\n",
            "3  0  8  1\n",
            "커버 할 행 또는 열 선택 : 열\n",
            "---------------2번째 시행---------------\n",
            "col의 0의 수 : [1]\n",
            "col의 0의 수 : [1, 2]\n",
            "row의 0의 수 : [2]\n",
            "row의 0의 수 : [2, 0]\n",
            "row의 0의 수 : [2, 0, 1]\n",
            "row의 0의 수 : [2, 0, 1, 0]\n",
            "[2, 2]\n",
            "col의 0의 수 Max값 : 2\n",
            "row의 0의 수 Max값 : 2\n",
            "col의 0의 수 Max값 index : 1\n",
            "row의 0의 수 Max값 index : 0\n",
            "   0  1\n",
            "0  0  0\n",
            "1  7  4\n",
            "2  4  0\n",
            "3  8  1\n",
            "커버 할 행 또는 열 선택 : 열\n",
            "---------------3번째 시행---------------\n",
            "col의 0의 수 : [1]\n",
            "row의 0의 수 : [1]\n",
            "row의 0의 수 : [1, 0]\n",
            "row의 0의 수 : [1, 0, 0]\n",
            "row의 0의 수 : [1, 0, 0, 0]\n",
            "[1, 1]\n",
            "col의 0의 수 Max값 : 1\n",
            "row의 0의 수 Max값 : 1\n",
            "col의 0의 수 Max값 index : 0\n",
            "row의 0의 수 Max값 index : 0\n",
            "   0\n",
            "0  0\n",
            "1  7\n",
            "2  4\n",
            "3  8\n",
            "커버 할 행 또는 열 선택 : 열\n"
          ]
        }
      ]
    },
    {
      "cell_type": "markdown",
      "source": [
        "### Cnt != 4"
      ],
      "metadata": {
        "id": "QSbneLFOsRy0"
      }
    },
    {
      "cell_type": "code",
      "source": [
        "Data_Array = np.array(pre_Data)"
      ],
      "metadata": {
        "id": "psqFgdfkbThb"
      },
      "execution_count": 3182,
      "outputs": []
    },
    {
      "cell_type": "code",
      "source": [
        "# ㅡㅡㅡㅡㅡㅡㅡㅡㅡㅡㅡㅡㅡㅡㅡㅡㅡㅡㅡㅡㅡㅡㅡㅡㅡㅡㅡㅡㅡㅡㅡㅡㅡㅡㅡㅡㅡㅡㅡㅡㅡㅡㅡㅡㅡㅡㅡㅡㅡㅡㅡㅡㅡㅡㅡㅡㅡ\n",
        " \n",
        "# 커버한 열 또는 행의 index를 저장하는 문장\n",
        "num = list(range(n))\n",
        "del_row_index = []\n",
        "del_col_index = []\n",
        "\n",
        "for i in range(len(del_col_lst)): \n",
        "  del_col_index.append(num[del_col_lst[i]])\n",
        "  del num[del_col_lst[i]]\n",
        "\n",
        "num = list(range(n))\n",
        "\n",
        "for i in range(len(del_row_lst)):\n",
        "  del_row_index.append(num[del_row_lst[i]])\n",
        "  del num[del_row_lst[i]]\n",
        "# ㅡㅡㅡㅡㅡㅡㅡㅡㅡㅡㅡㅡㅡㅡㅡㅡㅡㅡㅡㅡㅡㅡㅡㅡㅡㅡㅡㅡㅡㅡㅡㅡㅡㅡㅡㅡㅡㅡㅡㅡㅡㅡㅡㅡㅡㅡㅡㅡㅡㅡㅡㅡㅡㅡㅡㅡㅡ\n",
        "\n",
        "# ??\n",
        "\n",
        "# for i in range(len(del_row_index)):\n",
        "#   if(len(del_col_index) >= 1):\n",
        "#     for j in range(len(del_col_index)):\n",
        "#       if(pre_Data[del_row_index[i]][del_col_index[j]] == 0):\n",
        "#         pre_Data[del_row_index[i]][del_col_index[j]] += 1\n",
        "# pre_Data1 = pre_Data.copy()"
      ],
      "metadata": {
        "id": "g4-36M2_fB1B"
      },
      "execution_count": 3183,
      "outputs": []
    },
    {
      "cell_type": "code",
      "source": [
        "del_row_index, del_col_index\n"
      ],
      "metadata": {
        "colab": {
          "base_uri": "https://localhost:8080/"
        },
        "id": "5Dr4SVJYB03-",
        "outputId": "bcf9d67a-0570-41be-adb1-e52958c2882a"
      },
      "execution_count": 3184,
      "outputs": [
        {
          "output_type": "execute_result",
          "data": {
            "text/plain": [
              "([], [1, 0, 3, 2])"
            ]
          },
          "metadata": {},
          "execution_count": 3184
        }
      ]
    },
    {
      "cell_type": "code",
      "source": [
        "pre_Data"
      ],
      "metadata": {
        "colab": {
          "base_uri": "https://localhost:8080/",
          "height": 175
        },
        "id": "ssbs9nU1viTR",
        "outputId": "d30aa4ae-8ff0-423a-aaea-b3fffcdca68e"
      },
      "execution_count": 3185,
      "outputs": [
        {
          "output_type": "execute_result",
          "data": {
            "text/plain": [
              "   0  1  2  3\n",
              "0  7  0  0  0\n",
              "1  1  0  7  4\n",
              "2  0  0  4  0\n",
              "3  0  3  8  1"
            ],
            "text/html": [
              "\n",
              "  <div id=\"df-3d429c34-5445-46a1-9a8c-e765e0a4d0a4\">\n",
              "    <div class=\"colab-df-container\">\n",
              "      <div>\n",
              "<style scoped>\n",
              "    .dataframe tbody tr th:only-of-type {\n",
              "        vertical-align: middle;\n",
              "    }\n",
              "\n",
              "    .dataframe tbody tr th {\n",
              "        vertical-align: top;\n",
              "    }\n",
              "\n",
              "    .dataframe thead th {\n",
              "        text-align: right;\n",
              "    }\n",
              "</style>\n",
              "<table border=\"1\" class=\"dataframe\">\n",
              "  <thead>\n",
              "    <tr style=\"text-align: right;\">\n",
              "      <th></th>\n",
              "      <th>0</th>\n",
              "      <th>1</th>\n",
              "      <th>2</th>\n",
              "      <th>3</th>\n",
              "    </tr>\n",
              "  </thead>\n",
              "  <tbody>\n",
              "    <tr>\n",
              "      <th>0</th>\n",
              "      <td>7</td>\n",
              "      <td>0</td>\n",
              "      <td>0</td>\n",
              "      <td>0</td>\n",
              "    </tr>\n",
              "    <tr>\n",
              "      <th>1</th>\n",
              "      <td>1</td>\n",
              "      <td>0</td>\n",
              "      <td>7</td>\n",
              "      <td>4</td>\n",
              "    </tr>\n",
              "    <tr>\n",
              "      <th>2</th>\n",
              "      <td>0</td>\n",
              "      <td>0</td>\n",
              "      <td>4</td>\n",
              "      <td>0</td>\n",
              "    </tr>\n",
              "    <tr>\n",
              "      <th>3</th>\n",
              "      <td>0</td>\n",
              "      <td>3</td>\n",
              "      <td>8</td>\n",
              "      <td>1</td>\n",
              "    </tr>\n",
              "  </tbody>\n",
              "</table>\n",
              "</div>\n",
              "      <button class=\"colab-df-convert\" onclick=\"convertToInteractive('df-3d429c34-5445-46a1-9a8c-e765e0a4d0a4')\"\n",
              "              title=\"Convert this dataframe to an interactive table.\"\n",
              "              style=\"display:none;\">\n",
              "        \n",
              "  <svg xmlns=\"http://www.w3.org/2000/svg\" height=\"24px\"viewBox=\"0 0 24 24\"\n",
              "       width=\"24px\">\n",
              "    <path d=\"M0 0h24v24H0V0z\" fill=\"none\"/>\n",
              "    <path d=\"M18.56 5.44l.94 2.06.94-2.06 2.06-.94-2.06-.94-.94-2.06-.94 2.06-2.06.94zm-11 1L8.5 8.5l.94-2.06 2.06-.94-2.06-.94L8.5 2.5l-.94 2.06-2.06.94zm10 10l.94 2.06.94-2.06 2.06-.94-2.06-.94-.94-2.06-.94 2.06-2.06.94z\"/><path d=\"M17.41 7.96l-1.37-1.37c-.4-.4-.92-.59-1.43-.59-.52 0-1.04.2-1.43.59L10.3 9.45l-7.72 7.72c-.78.78-.78 2.05 0 2.83L4 21.41c.39.39.9.59 1.41.59.51 0 1.02-.2 1.41-.59l7.78-7.78 2.81-2.81c.8-.78.8-2.07 0-2.86zM5.41 20L4 18.59l7.72-7.72 1.47 1.35L5.41 20z\"/>\n",
              "  </svg>\n",
              "      </button>\n",
              "      \n",
              "  <style>\n",
              "    .colab-df-container {\n",
              "      display:flex;\n",
              "      flex-wrap:wrap;\n",
              "      gap: 12px;\n",
              "    }\n",
              "\n",
              "    .colab-df-convert {\n",
              "      background-color: #E8F0FE;\n",
              "      border: none;\n",
              "      border-radius: 50%;\n",
              "      cursor: pointer;\n",
              "      display: none;\n",
              "      fill: #1967D2;\n",
              "      height: 32px;\n",
              "      padding: 0 0 0 0;\n",
              "      width: 32px;\n",
              "    }\n",
              "\n",
              "    .colab-df-convert:hover {\n",
              "      background-color: #E2EBFA;\n",
              "      box-shadow: 0px 1px 2px rgba(60, 64, 67, 0.3), 0px 1px 3px 1px rgba(60, 64, 67, 0.15);\n",
              "      fill: #174EA6;\n",
              "    }\n",
              "\n",
              "    [theme=dark] .colab-df-convert {\n",
              "      background-color: #3B4455;\n",
              "      fill: #D2E3FC;\n",
              "    }\n",
              "\n",
              "    [theme=dark] .colab-df-convert:hover {\n",
              "      background-color: #434B5C;\n",
              "      box-shadow: 0px 1px 3px 1px rgba(0, 0, 0, 0.15);\n",
              "      filter: drop-shadow(0px 1px 2px rgba(0, 0, 0, 0.3));\n",
              "      fill: #FFFFFF;\n",
              "    }\n",
              "  </style>\n",
              "\n",
              "      <script>\n",
              "        const buttonEl =\n",
              "          document.querySelector('#df-3d429c34-5445-46a1-9a8c-e765e0a4d0a4 button.colab-df-convert');\n",
              "        buttonEl.style.display =\n",
              "          google.colab.kernel.accessAllowed ? 'block' : 'none';\n",
              "\n",
              "        async function convertToInteractive(key) {\n",
              "          const element = document.querySelector('#df-3d429c34-5445-46a1-9a8c-e765e0a4d0a4');\n",
              "          const dataTable =\n",
              "            await google.colab.kernel.invokeFunction('convertToInteractive',\n",
              "                                                     [key], {});\n",
              "          if (!dataTable) return;\n",
              "\n",
              "          const docLinkHtml = 'Like what you see? Visit the ' +\n",
              "            '<a target=\"_blank\" href=https://colab.research.google.com/notebooks/data_table.ipynb>data table notebook</a>'\n",
              "            + ' to learn more about interactive tables.';\n",
              "          element.innerHTML = '';\n",
              "          dataTable['output_type'] = 'display_data';\n",
              "          await google.colab.output.renderOutput(dataTable, element);\n",
              "          const docLink = document.createElement('div');\n",
              "          docLink.innerHTML = docLinkHtml;\n",
              "          element.appendChild(docLink);\n",
              "        }\n",
              "      </script>\n",
              "    </div>\n",
              "  </div>\n",
              "  "
            ]
          },
          "metadata": {},
          "execution_count": 3185
        }
      ]
    },
    {
      "cell_type": "code",
      "source": [
        "Data_Array"
      ],
      "metadata": {
        "colab": {
          "base_uri": "https://localhost:8080/"
        },
        "id": "reJ57ZSI5qvr",
        "outputId": "b0de5a36-9955-4762-9da5-918fd7bf1b6f"
      },
      "execution_count": 3186,
      "outputs": [
        {
          "output_type": "execute_result",
          "data": {
            "text/plain": [
              "array([[7, 0, 0, 0],\n",
              "       [1, 0, 7, 4],\n",
              "       [0, 0, 4, 0],\n",
              "       [0, 3, 8, 1]])"
            ]
          },
          "metadata": {},
          "execution_count": 3186
        }
      ]
    },
    {
      "cell_type": "markdown",
      "source": [
        "### 결과 뽑기칸\n"
      ],
      "metadata": {
        "id": "nDuiqmZKe-th"
      }
    },
    {
      "cell_type": "code",
      "source": [
        "if(cnt != 3): #Test용\n",
        "  num = list(range(n))\n",
        "  plus_row = list(set(num)-set(del_row_index))\n",
        "\n",
        "\n",
        "  Cross_matrix = np.random.randint(0, 1, size = (n, n))\n",
        "  double_Cross_matrix = np.random.randint(0, 1, size = (n, n))\n",
        "  Not_cov_matrix = np.random.randint(1, 2, size = (n, n))\n",
        "  for i in range(len(del_row_index)):\n",
        "    Not_cov_matrix[del_row_index[i]] = 0\n",
        "    for j in range(len(del_col_index)):\n",
        "      Cross_matrix[del_row_index[i]][del_col_index[j]] = 1\n",
        "      for k in range(len(plus_row)):\n",
        "        Not_cov_matrix[plus_row[k]][del_col_index[j]] = 0\n",
        "        double_Cross_matrix[plus_row[k]][del_col_index[j]] = 1"
      ],
      "metadata": {
        "id": "tvdj8qPV9_OT"
      },
      "execution_count": 3187,
      "outputs": []
    },
    {
      "cell_type": "code",
      "source": [
        "Not_cov_matrix"
      ],
      "metadata": {
        "colab": {
          "base_uri": "https://localhost:8080/"
        },
        "id": "bvjjyCq7q-NI",
        "outputId": "df906180-5fa0-4044-8a40-764c9de1ff05"
      },
      "execution_count": 3188,
      "outputs": [
        {
          "output_type": "execute_result",
          "data": {
            "text/plain": [
              "array([[1, 1, 1, 1],\n",
              "       [1, 1, 1, 1],\n",
              "       [1, 1, 1, 1],\n",
              "       [1, 1, 1, 1]])"
            ]
          },
          "metadata": {},
          "execution_count": 3188
        }
      ]
    },
    {
      "cell_type": "code",
      "source": [
        "Not_cov_matrix_val = np.multiply(Data_Array, Not_cov_matrix)\n",
        "min_val = np.min(Not_cov_matrix_val[Not_cov_matrix_val!=0])\n",
        "\n",
        "\n",
        "pre_Data2 = pd.DataFrame(Data_Array - min_val * Not_cov_matrix + min_val*Cross_matrix + min_val * double_Cross_matrix)"
      ],
      "metadata": {
        "id": "b5rBgnBiWVZO"
      },
      "execution_count": 3189,
      "outputs": []
    },
    {
      "cell_type": "code",
      "source": [
        "pre_Data"
      ],
      "metadata": {
        "colab": {
          "base_uri": "https://localhost:8080/",
          "height": 175
        },
        "id": "Vv8S6FauPPfI",
        "outputId": "0c4f81dc-ea11-4648-9ec6-56398644de6b"
      },
      "execution_count": 3190,
      "outputs": [
        {
          "output_type": "execute_result",
          "data": {
            "text/plain": [
              "   0  1  2  3\n",
              "0  7  0  0  0\n",
              "1  1  0  7  4\n",
              "2  0  0  4  0\n",
              "3  0  3  8  1"
            ],
            "text/html": [
              "\n",
              "  <div id=\"df-55c87dd0-01fb-4263-a989-d707ac35239c\">\n",
              "    <div class=\"colab-df-container\">\n",
              "      <div>\n",
              "<style scoped>\n",
              "    .dataframe tbody tr th:only-of-type {\n",
              "        vertical-align: middle;\n",
              "    }\n",
              "\n",
              "    .dataframe tbody tr th {\n",
              "        vertical-align: top;\n",
              "    }\n",
              "\n",
              "    .dataframe thead th {\n",
              "        text-align: right;\n",
              "    }\n",
              "</style>\n",
              "<table border=\"1\" class=\"dataframe\">\n",
              "  <thead>\n",
              "    <tr style=\"text-align: right;\">\n",
              "      <th></th>\n",
              "      <th>0</th>\n",
              "      <th>1</th>\n",
              "      <th>2</th>\n",
              "      <th>3</th>\n",
              "    </tr>\n",
              "  </thead>\n",
              "  <tbody>\n",
              "    <tr>\n",
              "      <th>0</th>\n",
              "      <td>7</td>\n",
              "      <td>0</td>\n",
              "      <td>0</td>\n",
              "      <td>0</td>\n",
              "    </tr>\n",
              "    <tr>\n",
              "      <th>1</th>\n",
              "      <td>1</td>\n",
              "      <td>0</td>\n",
              "      <td>7</td>\n",
              "      <td>4</td>\n",
              "    </tr>\n",
              "    <tr>\n",
              "      <th>2</th>\n",
              "      <td>0</td>\n",
              "      <td>0</td>\n",
              "      <td>4</td>\n",
              "      <td>0</td>\n",
              "    </tr>\n",
              "    <tr>\n",
              "      <th>3</th>\n",
              "      <td>0</td>\n",
              "      <td>3</td>\n",
              "      <td>8</td>\n",
              "      <td>1</td>\n",
              "    </tr>\n",
              "  </tbody>\n",
              "</table>\n",
              "</div>\n",
              "      <button class=\"colab-df-convert\" onclick=\"convertToInteractive('df-55c87dd0-01fb-4263-a989-d707ac35239c')\"\n",
              "              title=\"Convert this dataframe to an interactive table.\"\n",
              "              style=\"display:none;\">\n",
              "        \n",
              "  <svg xmlns=\"http://www.w3.org/2000/svg\" height=\"24px\"viewBox=\"0 0 24 24\"\n",
              "       width=\"24px\">\n",
              "    <path d=\"M0 0h24v24H0V0z\" fill=\"none\"/>\n",
              "    <path d=\"M18.56 5.44l.94 2.06.94-2.06 2.06-.94-2.06-.94-.94-2.06-.94 2.06-2.06.94zm-11 1L8.5 8.5l.94-2.06 2.06-.94-2.06-.94L8.5 2.5l-.94 2.06-2.06.94zm10 10l.94 2.06.94-2.06 2.06-.94-2.06-.94-.94-2.06-.94 2.06-2.06.94z\"/><path d=\"M17.41 7.96l-1.37-1.37c-.4-.4-.92-.59-1.43-.59-.52 0-1.04.2-1.43.59L10.3 9.45l-7.72 7.72c-.78.78-.78 2.05 0 2.83L4 21.41c.39.39.9.59 1.41.59.51 0 1.02-.2 1.41-.59l7.78-7.78 2.81-2.81c.8-.78.8-2.07 0-2.86zM5.41 20L4 18.59l7.72-7.72 1.47 1.35L5.41 20z\"/>\n",
              "  </svg>\n",
              "      </button>\n",
              "      \n",
              "  <style>\n",
              "    .colab-df-container {\n",
              "      display:flex;\n",
              "      flex-wrap:wrap;\n",
              "      gap: 12px;\n",
              "    }\n",
              "\n",
              "    .colab-df-convert {\n",
              "      background-color: #E8F0FE;\n",
              "      border: none;\n",
              "      border-radius: 50%;\n",
              "      cursor: pointer;\n",
              "      display: none;\n",
              "      fill: #1967D2;\n",
              "      height: 32px;\n",
              "      padding: 0 0 0 0;\n",
              "      width: 32px;\n",
              "    }\n",
              "\n",
              "    .colab-df-convert:hover {\n",
              "      background-color: #E2EBFA;\n",
              "      box-shadow: 0px 1px 2px rgba(60, 64, 67, 0.3), 0px 1px 3px 1px rgba(60, 64, 67, 0.15);\n",
              "      fill: #174EA6;\n",
              "    }\n",
              "\n",
              "    [theme=dark] .colab-df-convert {\n",
              "      background-color: #3B4455;\n",
              "      fill: #D2E3FC;\n",
              "    }\n",
              "\n",
              "    [theme=dark] .colab-df-convert:hover {\n",
              "      background-color: #434B5C;\n",
              "      box-shadow: 0px 1px 3px 1px rgba(0, 0, 0, 0.15);\n",
              "      filter: drop-shadow(0px 1px 2px rgba(0, 0, 0, 0.3));\n",
              "      fill: #FFFFFF;\n",
              "    }\n",
              "  </style>\n",
              "\n",
              "      <script>\n",
              "        const buttonEl =\n",
              "          document.querySelector('#df-55c87dd0-01fb-4263-a989-d707ac35239c button.colab-df-convert');\n",
              "        buttonEl.style.display =\n",
              "          google.colab.kernel.accessAllowed ? 'block' : 'none';\n",
              "\n",
              "        async function convertToInteractive(key) {\n",
              "          const element = document.querySelector('#df-55c87dd0-01fb-4263-a989-d707ac35239c');\n",
              "          const dataTable =\n",
              "            await google.colab.kernel.invokeFunction('convertToInteractive',\n",
              "                                                     [key], {});\n",
              "          if (!dataTable) return;\n",
              "\n",
              "          const docLinkHtml = 'Like what you see? Visit the ' +\n",
              "            '<a target=\"_blank\" href=https://colab.research.google.com/notebooks/data_table.ipynb>data table notebook</a>'\n",
              "            + ' to learn more about interactive tables.';\n",
              "          element.innerHTML = '';\n",
              "          dataTable['output_type'] = 'display_data';\n",
              "          await google.colab.output.renderOutput(dataTable, element);\n",
              "          const docLink = document.createElement('div');\n",
              "          docLink.innerHTML = docLinkHtml;\n",
              "          element.appendChild(docLink);\n",
              "        }\n",
              "      </script>\n",
              "    </div>\n",
              "  </div>\n",
              "  "
            ]
          },
          "metadata": {},
          "execution_count": 3190
        }
      ]
    },
    {
      "cell_type": "code",
      "source": [
        "Data_Array"
      ],
      "metadata": {
        "colab": {
          "base_uri": "https://localhost:8080/"
        },
        "id": "cnlTXAnhXt1f",
        "outputId": "38bd29f7-41d2-4da2-d4ac-f7851f43d7b5"
      },
      "execution_count": 3191,
      "outputs": [
        {
          "output_type": "execute_result",
          "data": {
            "text/plain": [
              "array([[7, 0, 0, 0],\n",
              "       [1, 0, 7, 4],\n",
              "       [0, 0, 4, 0],\n",
              "       [0, 3, 8, 1]])"
            ]
          },
          "metadata": {},
          "execution_count": 3191
        }
      ]
    },
    {
      "cell_type": "code",
      "source": [
        "count_col = 0\n",
        "count_col_lst = []\n",
        "for i in range(len(pre_Data.columns)):\n",
        "  for j in range(len(pre_Data.index)):\n",
        "    if(pre_Data.iloc[j][i] == 0):\n",
        "      count_col += 1\n",
        "\n",
        "  count_col_lst.append(int(count_col))\n",
        "  print('col의 0의 수 : {}'.format(count_col_lst))\n",
        "  count_col = 0\n",
        "#ㅡㅡㅡㅡㅡㅡㅡㅡㅡㅡㅡㅡㅡㅡㅡㅡㅡㅡㅡㅡㅡㅡㅡㅡㅡㅡㅡㅡㅡㅡㅡㅡㅡㅡㅡㅡㅡㅡㅡㅡㅡㅡㅡㅡㅡㅡㅡㅡㅡㅡㅡㅡㅡㅡㅡㅡㅡ\n",
        "count_row = 0 # col의 index별 0의갯수 초기화\n",
        "count_row_lst = [] # 열 별 0의 갯수 저장\n",
        "for i in range(len(pre_Data.index)):\n",
        "  for j in range(len(pre_Data.columns)): # 열과 행의 갯수 만큼 for 문 실행 (삭제하며 찾기 때문에 n이 아닌 len루프)\n",
        "    if(pre_Data.iloc[i][j] == 0): \n",
        "      count_row += 1\n",
        "\n",
        "  count_row_lst.append(int(count_row))\n",
        "  print('row의 0의 수 : {}'.format(count_row_lst))\n",
        "  count_row = 0\n"
      ],
      "metadata": {
        "colab": {
          "base_uri": "https://localhost:8080/"
        },
        "id": "mULeMO98PKM2",
        "outputId": "68fae610-950a-4278-c54b-fabcf58b9283"
      },
      "execution_count": 3192,
      "outputs": [
        {
          "output_type": "stream",
          "name": "stdout",
          "text": [
            "col의 0의 수 : [2]\n",
            "col의 0의 수 : [2, 3]\n",
            "col의 0의 수 : [2, 3, 1]\n",
            "col의 0의 수 : [2, 3, 1, 2]\n",
            "row의 0의 수 : [3]\n",
            "row의 0의 수 : [3, 1]\n",
            "row의 0의 수 : [3, 1, 3]\n",
            "row의 0의 수 : [3, 1, 3, 1]\n"
          ]
        }
      ]
    },
    {
      "cell_type": "code",
      "source": [
        "count_col_lst , count_row_lst"
      ],
      "metadata": {
        "colab": {
          "base_uri": "https://localhost:8080/"
        },
        "id": "-7Y3Q6-wPmGy",
        "outputId": "f420d410-3cab-4413-90b3-2feea13c9bb1"
      },
      "execution_count": 3193,
      "outputs": [
        {
          "output_type": "execute_result",
          "data": {
            "text/plain": [
              "([2, 3, 1, 2], [3, 1, 3, 1])"
            ]
          },
          "metadata": {},
          "execution_count": 3193
        }
      ]
    },
    {
      "cell_type": "code",
      "source": [
        "np.argmin(count_col_lst)"
      ],
      "metadata": {
        "colab": {
          "base_uri": "https://localhost:8080/"
        },
        "id": "gFaOwi_iPrWZ",
        "outputId": "7e244a38-1a37-44e1-fa55-4ee989127739"
      },
      "execution_count": 3194,
      "outputs": [
        {
          "output_type": "execute_result",
          "data": {
            "text/plain": [
              "2"
            ]
          },
          "metadata": {},
          "execution_count": 3194
        }
      ]
    },
    {
      "cell_type": "code",
      "source": [
        "result = np.zeros([n,n])\n",
        "result[np.argmin(count_col_lst),np.argmin(Data_Array[np.argmin(count_col_lst),:])] = 1\n"
      ],
      "metadata": {
        "id": "8sWFgTSCPOjV"
      },
      "execution_count": 3195,
      "outputs": []
    },
    {
      "cell_type": "code",
      "source": [
        "result"
      ],
      "metadata": {
        "colab": {
          "base_uri": "https://localhost:8080/"
        },
        "id": "bZ6HcXx_RivR",
        "outputId": "c28ebaba-c6df-4d53-c49d-d312830bb16c"
      },
      "execution_count": 3196,
      "outputs": [
        {
          "output_type": "execute_result",
          "data": {
            "text/plain": [
              "array([[0., 0., 0., 0.],\n",
              "       [0., 0., 0., 0.],\n",
              "       [1., 0., 0., 0.],\n",
              "       [0., 0., 0., 0.]])"
            ]
          },
          "metadata": {},
          "execution_count": 3196
        }
      ]
    },
    {
      "cell_type": "code",
      "source": [
        "col_zero_index = [i for i, value in enumerate(count_col_lst) if value == np.min(count_col_lst)]"
      ],
      "metadata": {
        "id": "_e99jkj4PzNb"
      },
      "execution_count": 3197,
      "outputs": []
    },
    {
      "cell_type": "markdown",
      "source": [
        "# 결과 뽑기 시각화"
      ],
      "metadata": {
        "id": "rYvdYXoaQ7wP"
      }
    },
    {
      "cell_type": "code",
      "source": [
        "DataArray = np.array(pre_Data)\n",
        "col = []\n",
        "for i in range(n):\n",
        "  count = 0\n",
        "  for j in range(n):\n",
        "    if(DataArray[j,i] == 0):\n",
        "      count +=1\n",
        "  col.append(count)\n",
        "\n",
        "row = []\n",
        "for i in range(n):\n",
        "  count = 0\n",
        "  for j in range(n):\n",
        "    if(DataArray[i,j] == 0):\n",
        "      count +=1\n",
        "  row.append(count)"
      ],
      "metadata": {
        "id": "cfZUXHGSQ7Pt"
      },
      "execution_count": 3199,
      "outputs": []
    },
    {
      "cell_type": "code",
      "source": [
        "DataArray1 = DataArray\n",
        "result = np.zeros([n,n])\n",
        "DataArray1"
      ],
      "metadata": {
        "id": "0HmMpvcmVMVr"
      },
      "execution_count": 3200,
      "outputs": []
    },
    {
      "cell_type": "code",
      "source": [
        "if(np.min(col) <= np.min(row)):\n",
        "  result[np.argmin(DataArray1[:,np.argmin(col)]),np.argmin(col)] = 1  # np.argmin(col) ==> 0~3열중 2열, np.argmin(DataArray1[:,np.argmin(col)])==> 2열중 0이 가장 작은 0행\n",
        "  # ==> 커버한 열과 행을 1로 대체 (0을 삭제)\n",
        "  DataArray1[np.argmin(DataArray1[:,np.argmin(col)]),:] = 1\n",
        "  DataArray1[:,np.argmin(col)] = 1\n",
        "else:\n",
        "  result[np.argmin(row), np.argmin(DataArray1[np.argmin(row),:])] = 1 # np.argmin(row) # 0~3행 중 1행, np.argmin(DataArray1[np.argmin(row),:]) # 1행중 1열\n",
        "\n",
        "  DataArray1[np.argmin(row),:] = 1 \n",
        "  DataArray1[:,np.argmin(DataArray1[np.argmin(row),:])] =1"
      ],
      "metadata": {
        "id": "tXLD5ydGTga2"
      },
      "execution_count": 3202,
      "outputs": []
    },
    {
      "cell_type": "code",
      "source": [
        "result"
      ],
      "metadata": {
        "colab": {
          "base_uri": "https://localhost:8080/"
        },
        "id": "TKMcodg4WRuh",
        "outputId": "2d35a467-9348-4849-c259-2570c73bd25a"
      },
      "execution_count": 3203,
      "outputs": [
        {
          "output_type": "execute_result",
          "data": {
            "text/plain": [
              "array([[0., 0., 1., 0.],\n",
              "       [0., 0., 0., 0.],\n",
              "       [0., 0., 0., 0.],\n",
              "       [0., 0., 0., 0.]])"
            ]
          },
          "metadata": {},
          "execution_count": 3203
        }
      ]
    },
    {
      "cell_type": "code",
      "source": [
        "col = []\n",
        "for i in range(n):\n",
        "  count = 0\n",
        "  for j in range(n):\n",
        "    if(DataArray1[j,i] == 0):\n",
        "      count +=1\n",
        "  col.append(count)\n",
        "  if(col[np.argmin(col)] == 0):\n",
        "    col[np.argmin(col)] = 100\n",
        "row = []\n",
        "for i in range(n):\n",
        "  count = 0\n",
        "  for j in range(n):\n",
        "    if(DataArray1[i,j] == 0):\n",
        "      count +=1\n",
        "  row.append(count)\n",
        "  if(row[np.argmin(row)] == 0):\n",
        "    row[np.argmin(row)] = 100"
      ],
      "metadata": {
        "id": "wilbH-pXa92N"
      },
      "execution_count": 3204,
      "outputs": []
    },
    {
      "cell_type": "code",
      "source": [
        "if(np.min(col) <= np.min(row)):\n",
        "  result[np.argmin(DataArray1[:,np.argmin(col)]),np.argmin(col)] = 1  # np.argmin(col) ==> 0~3열중 2열, np.argmin(DataArray1[:,np.argmin(col)])==> 2열중 0이 가장 작은 0행\n",
        "  # ==> 커버한 열과 행을 1로 대체 (0을 삭제)\n",
        "  DataArray1[np.argmin(DataArray1[:,np.argmin(col)]),:] = 1\n",
        "  DataArray1[:,np.argmin(col)] = 1\n",
        "else:\n",
        "  result[np.argmin(row), np.argmin(DataArray1[np.argmin(row),:])] = 1 # np.argmin(row) # 0~3행 중 1행, np.argmin(DataArray1[np.argmin(row),:]) # 1행중 1열\n",
        "\n",
        "  DataArray1[np.argmin(row),:] = 1 \n",
        "  DataArray1[:,np.argmin(DataArray1[np.argmin(row),:])] =1"
      ],
      "metadata": {
        "id": "1i2T-puRlG4o"
      },
      "execution_count": 3205,
      "outputs": []
    },
    {
      "cell_type": "code",
      "source": [
        "result"
      ],
      "metadata": {
        "colab": {
          "base_uri": "https://localhost:8080/"
        },
        "id": "4GhIoaZGhROD",
        "outputId": "a047d3b3-d6e1-4d8e-e304-be45b0537a59"
      },
      "execution_count": 3206,
      "outputs": [
        {
          "output_type": "execute_result",
          "data": {
            "text/plain": [
              "array([[0., 0., 1., 0.],\n",
              "       [0., 0., 0., 0.],\n",
              "       [0., 0., 0., 1.],\n",
              "       [0., 0., 0., 0.]])"
            ]
          },
          "metadata": {},
          "execution_count": 3206
        }
      ]
    },
    {
      "cell_type": "code",
      "source": [
        "col = []\n",
        "for i in range(n):\n",
        "  count = 0\n",
        "  for j in range(n):\n",
        "    if(DataArray1[j,i] == 0):\n",
        "      count +=1\n",
        "  col.append(count)\n",
        "  if(col[np.argmin(col)] == 0):\n",
        "    col[np.argmin(col)] = 100\n",
        "row = []\n",
        "for i in range(n):\n",
        "  count = 0\n",
        "  for j in range(n):\n",
        "    if(DataArray1[i,j] == 0):\n",
        "      count +=1\n",
        "  row.append(count)\n",
        "  if(row[np.argmin(row)] == 0):\n",
        "    row[np.argmin(row)] = 100"
      ],
      "metadata": {
        "id": "XQXJQXz7hnQe"
      },
      "execution_count": 3207,
      "outputs": []
    },
    {
      "cell_type": "code",
      "source": [
        "if(np.min(col) <= np.min(row)):\n",
        "  result[np.argmin(DataArray1[:,np.argmin(col)]),np.argmin(col)] = 1  # np.argmin(col) ==> 0~3열중 2열, np.argmin(DataArray1[:,np.argmin(col)])==> 2열중 0이 가장 작은 0행\n",
        "  # ==> 커버한 열과 행을 1로 대체 (0을 삭제)\n",
        "  DataArray1[np.argmin(DataArray1[:,np.argmin(col)]),:] = 1\n",
        "  DataArray1[:,np.argmin(col)] = 1\n",
        "else:\n",
        "  result[np.argmin(row), np.argmin(DataArray1[np.argmin(row),:])] = 1 # np.argmin(row) # 0~3행 중 1행, np.argmin(DataArray1[np.argmin(row),:]) # 1행중 1열\n",
        "\n",
        "  DataArray1[np.argmin(row),:] = 1 \n",
        "  DataArray1[:,np.argmin(DataArray1[np.argmin(row),:])] =1"
      ],
      "metadata": {
        "id": "XLBJQuU2hpll"
      },
      "execution_count": 3208,
      "outputs": []
    },
    {
      "cell_type": "code",
      "source": [
        "result"
      ],
      "metadata": {
        "colab": {
          "base_uri": "https://localhost:8080/"
        },
        "id": "H1hfwTxkhq_F",
        "outputId": "5fbeff3c-b58d-4683-e9cd-6d6b04b048d8"
      },
      "execution_count": 3209,
      "outputs": [
        {
          "output_type": "execute_result",
          "data": {
            "text/plain": [
              "array([[0., 0., 1., 0.],\n",
              "       [0., 0., 0., 0.],\n",
              "       [0., 0., 0., 1.],\n",
              "       [1., 0., 0., 0.]])"
            ]
          },
          "metadata": {},
          "execution_count": 3209
        }
      ]
    },
    {
      "cell_type": "code",
      "source": [
        "col = []\n",
        "for i in range(n):\n",
        "  count = 0\n",
        "  for j in range(n):\n",
        "    if(DataArray1[j,i] == 0):\n",
        "      count +=1\n",
        "  col.append(count)\n",
        "  if(col[np.argmin(col)] == 0):\n",
        "    col[np.argmin(col)] = 100\n",
        "row = []\n",
        "for i in range(n):\n",
        "  count = 0\n",
        "  for j in range(n):\n",
        "    if(DataArray1[i,j] == 0):\n",
        "      count +=1\n",
        "  row.append(count)\n",
        "  if(row[np.argmin(row)] == 0):\n",
        "    row[np.argmin(row)] = 100"
      ],
      "metadata": {
        "id": "VmTM7tJkhseV"
      },
      "execution_count": 3210,
      "outputs": []
    },
    {
      "cell_type": "code",
      "source": [
        "if(np.min(col) <= np.min(row)):\n",
        "  result[np.argmin(DataArray1[:,np.argmin(col)]),np.argmin(col)] = 1  # np.argmin(col) ==> 0~3열중 2열, np.argmin(DataArray1[:,np.argmin(col)])==> 2열중 0이 가장 작은 0행\n",
        "  # ==> 커버한 열과 행을 1로 대체 (0을 삭제)\n",
        "  DataArray1[np.argmin(DataArray1[:,np.argmin(col)]),:] = 1\n",
        "  DataArray1[:,np.argmin(col)] = 1\n",
        "else:\n",
        "  result[np.argmin(row), np.argmin(DataArray1[np.argmin(row),:])] = 1 # np.argmin(row) # 0~3행 중 1행, np.argmin(DataArray1[np.argmin(row),:]) # 1행중 1열\n",
        "\n",
        "  DataArray1[np.argmin(row),:] = 1 \n",
        "  DataArray1[:,np.argmin(DataArray1[np.argmin(row),:])] =1"
      ],
      "metadata": {
        "id": "WtuMKRfchugn"
      },
      "execution_count": 3211,
      "outputs": []
    },
    {
      "cell_type": "code",
      "source": [
        "result"
      ],
      "metadata": {
        "colab": {
          "base_uri": "https://localhost:8080/"
        },
        "id": "biI5IgoUhvAf",
        "outputId": "9a6c92ad-3b03-46f2-fc99-ee11299a2861"
      },
      "execution_count": 3212,
      "outputs": [
        {
          "output_type": "execute_result",
          "data": {
            "text/plain": [
              "array([[0., 0., 1., 0.],\n",
              "       [0., 1., 0., 0.],\n",
              "       [0., 0., 0., 1.],\n",
              "       [1., 0., 0., 0.]])"
            ]
          },
          "metadata": {},
          "execution_count": 3212
        }
      ]
    },
    {
      "cell_type": "code",
      "source": [
        "Total_Cost = np.multiply(c_m, result).sum()\n",
        "Total_Cost"
      ],
      "metadata": {
        "colab": {
          "base_uri": "https://localhost:8080/"
        },
        "id": "BkbHF4ltlxrW",
        "outputId": "f4d8a91e-36a4-4461-b273-24a2ca534de9"
      },
      "execution_count": 3224,
      "outputs": [
        {
          "output_type": "execute_result",
          "data": {
            "text/plain": [
              "19.0"
            ]
          },
          "metadata": {},
          "execution_count": 3224
        }
      ]
    },
    {
      "cell_type": "markdown",
      "source": [
        "# 결과 한번에 뽑기"
      ],
      "metadata": {
        "id": "URwIW4DHlQYd"
      }
    },
    {
      "cell_type": "code",
      "source": [
        "DataArray = np.array(pre_Data)\n",
        "col = []\n",
        "for i in range(n):\n",
        "  count = 0\n",
        "  for j in range(n):\n",
        "    if(DataArray[j,i] == 0):\n",
        "      count +=1\n",
        "  col.append(count)\n",
        "\n",
        "row = []\n",
        "for i in range(n):\n",
        "  count = 0\n",
        "  for j in range(n):\n",
        "    if(DataArray[i,j] == 0):\n",
        "      count +=1\n",
        "  row.append(count)"
      ],
      "metadata": {
        "id": "0_bGWYo8ld0Z"
      },
      "execution_count": null,
      "outputs": []
    },
    {
      "cell_type": "code",
      "source": [
        "DataArray1 = DataArray\n",
        "result = np.zeros([n,n])\n",
        "DataArray1"
      ],
      "metadata": {
        "id": "utkCb8N7lhO1"
      },
      "execution_count": null,
      "outputs": []
    },
    {
      "cell_type": "code",
      "source": [
        "if(np.min(col) <= np.min(row)):\n",
        "  result[np.argmin(DataArray1[:,np.argmin(col)]),np.argmin(col)] = 1  # np.argmin(col) ==> 0~3열중 2열, np.argmin(DataArray1[:,np.argmin(col)])==> 2열중 0이 가장 작은 0행\n",
        "  # ==> 커버한 열과 행을 1로 대체 (0을 삭제)\n",
        "  DataArray1[np.argmin(DataArray1[:,np.argmin(col)]),:] = 1\n",
        "  DataArray1[:,np.argmin(col)] = 1\n",
        "else:\n",
        "  result[np.argmin(row), np.argmin(DataArray1[np.argmin(row),:])] = 1 # np.argmin(row) # 0~3행 중 1행, np.argmin(DataArray1[np.argmin(row),:]) # 1행중 1열\n",
        "\n",
        "  DataArray1[np.argmin(row),:] = 1 \n",
        "  DataArray1[:,np.argmin(DataArray1[np.argmin(row),:])] =1"
      ],
      "metadata": {
        "id": "UgevfocTllNK"
      },
      "execution_count": null,
      "outputs": []
    },
    {
      "cell_type": "code",
      "source": [
        "for k in range(n-1):\n",
        "  col = []\n",
        "  for i in range(n):\n",
        "    count = 0\n",
        "    for j in range(n):\n",
        "      if(DataArray1[j,i] == 0):\n",
        "        count +=1\n",
        "    col.append(count)\n",
        "    if(col[np.argmin(col)] == 0):\n",
        "      col[np.argmin(col)] = 100\n",
        "  row = []\n",
        "  for i in range(n):\n",
        "    count = 0\n",
        "    for j in range(n):\n",
        "      if(DataArray1[i,j] == 0):\n",
        "        count +=1\n",
        "    row.append(count)\n",
        "    if(row[np.argmin(row)] == 0):\n",
        "      row[np.argmin(row)] = 100\n",
        "  if(np.min(col) <= np.min(row)):\n",
        "    result[np.argmin(DataArray1[:,np.argmin(col)]),np.argmin(col)] = 1  # np.argmin(col) ==> 0~3열중 2열, np.argmin(DataArray1[:,np.argmin(col)])==> 2열중 0이 가장 작은 0행\n",
        "    # ==> 커버한 열과 행을 1로 대체 (0을 삭제)\n",
        "    DataArray1[np.argmin(DataArray1[:,np.argmin(col)]),:] = 1\n",
        "    DataArray1[:,np.argmin(col)] = 1\n",
        "  else:\n",
        "    result[np.argmin(row), np.argmin(DataArray1[np.argmin(row),:])] = 1 # np.argmin(row) # 0~3행 중 1행, np.argmin(DataArray1[np.argmin(row),:]) # 1행중 1열\n",
        "\n",
        "    DataArray1[np.argmin(row),:] = 1 \n",
        "    DataArray1[:,np.argmin(DataArray1[np.argmin(row),:])] =1"
      ],
      "metadata": {
        "id": "7nwCEP7iglo8"
      },
      "execution_count": 3212,
      "outputs": []
    },
    {
      "cell_type": "code",
      "source": [
        ""
      ],
      "metadata": {
        "id": "guQBY3wwglmr"
      },
      "execution_count": 3212,
      "outputs": []
    },
    {
      "cell_type": "code",
      "source": [
        ""
      ],
      "metadata": {
        "id": "PxOb52d0glkW"
      },
      "execution_count": 3212,
      "outputs": []
    }
  ]
}